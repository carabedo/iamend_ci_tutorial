{
 "cells": [
  {
   "cell_type": "markdown",
   "metadata": {},
   "source": [
    "# Manual del Usuario.\n",
    "\n",
    "## Comandos basicos:\n",
    "\n",
    "* **import** [libreria] **as** [abreviacion] &nbsp; &nbsp; &nbsp;&nbsp;&nbsp; &nbsp; &nbsp; &nbsp;&nbsp;&nbsp;(importa librerias y le asigna una abreviacion)\n",
    "```python\n",
    "ej:\n",
    "import iamend_ci as ci\n",
    "import numpy as np\n",
    "```\n",
    "\n",
    "\n",
    "\n",
    "* **[abreviacion].[funcion]**(parametros) &nbsp; &nbsp; &nbsp;&nbsp;&nbsp; &nbsp; &nbsp; &nbsp;&nbsp;&nbsp; ejecuta la 'funcion' definida en una libreria.\n",
    "```python\n",
    "ej:\n",
    "np.array([1,1,1])\n",
    "```\n",
    "\n",
    "\n",
    "\n",
    "* [abreviacion].[funcion]**?** &nbsp; &nbsp; &nbsp;&nbsp;&nbsp; &nbsp; &nbsp; &nbsp;&nbsp;&nbsp; (muestra una ayuda rapida de la funcion, listado parametros,outputs,etc)\n",
    "```python\n",
    "ej:\n",
    "np.mean?\n",
    "```\n",
    "\n",
    "\n",
    "\n",
    "* **help**([objeto])  &nbsp; &nbsp; &nbsp;&nbsp;&nbsp; &nbsp; &nbsp; &nbsp;&nbsp;&nbsp; ayuda sobre el objeto, sea un modulo, funcion, variable, etc  \n",
    "```python\n",
    "ej:\n",
    "help(np.mean)\n",
    "```\n",
    "\n",
    "\n",
    "\n",
    "* **type**([objeto]) &nbsp; &nbsp; &nbsp;&nbsp;&nbsp; &nbsp; &nbsp; &nbsp;&nbsp;&nbsp; devuelve el tipo de objeto\n",
    "```python\n",
    "ej:\n",
    "type(np)\n",
    "```\n",
    "\n",
    "\n",
    "\n",
    "* modulo.**[TAB]**  &nbsp; &nbsp; &nbsp;&nbsp;&nbsp; &nbsp; &nbsp; &nbsp;&nbsp;&nbsp; si se apreta tab en la ventana de la terminal aparece un listado de objetos contenidos en el modulo (funciones, modulos, variables)\n",
    "\n",
    "![alt text](asf.png \"Logo Title Text 1\")\n",
    "\n",
    "\n",
    "\n",
    "\n",
    "* **%whos** &nbsp; &nbsp; &nbsp;&nbsp;&nbsp; &nbsp; &nbsp; funcion magica que lista los objetos definidos en la memoria, como el workspace del matlab\n",
    "\n",
    "\n",
    "\n",
    "## Librerias necesarias:\n",
    "\n",
    "* **iamend_ci**  (libreria con las funciones definidas para el calculo de impedancias)\n",
    "* **numpy** (libreria con funciones basicas para la manupulacion de vectores, matrices y operaciones)\n",
    "* **matplotlib** (libreria necesaria para realizar graficos)\n",
    "\n",
    "\n"
   ]
  },
  {
   "cell_type": "code",
   "execution_count": 5,
   "metadata": {},
   "outputs": [],
   "source": [
    "import iamend_ci as ci"
   ]
  },
  {
   "cell_type": "markdown",
   "metadata": {},
   "source": [
    "## Como ver las funciones disponibles en cada modulo\n"
   ]
  },
  {
   "cell_type": "code",
   "execution_count": 6,
   "metadata": {},
   "outputs": [
    {
     "name": "stdout",
     "output_type": "stream",
     "text": [
      "Help on package iamend_ci:\n",
      "\n",
      "NAME\n",
      "    iamend_ci\n",
      "\n",
      "PACKAGE CONTENTS\n",
      "    ax\n",
      "    bo\n",
      "    fit\n",
      "    plt\n",
      "    so\n",
      "    theo\n",
      "\n",
      "FILE\n",
      "    c:\\users\\fernando\\dropbox\\gitlab\\iamend_ci\\iamend_ci\\__init__.py\n",
      "\n",
      "\n"
     ]
    }
   ],
   "source": [
    "help(ci)"
   ]
  },
  {
   "cell_type": "code",
   "execution_count": 7,
   "metadata": {},
   "outputs": [
    {
     "name": "stdout",
     "output_type": "stream",
     "text": [
      "Help on module iamend_ci.theo in iamend_ci:\n",
      "\n",
      "NAME\n",
      "    iamend_ci.theo - Modulo con las funciones del theodolidus\n",
      "\n",
      "FUNCTIONS\n",
      "    dz2(f, bo, sigmas, d, mur1, mur2, lmax)\n",
      "        Calculo de impedancia en aire (3.50) im(dz) para dos layers\n",
      "    \n",
      "    dzD(f, bo, sigma, d, mur, lmax)\n",
      "        Calculo de impedancia en aire (3.50) im(dz) para una placa de espesor 'd'\n",
      "    \n",
      "    dzHF(f, bo, sigma, mur, lmax)\n",
      "        Calculo de impedancia en aire (3.52) im(dz) para una placa de espesor infinito\n",
      "    \n",
      "    jhf(r, z, I, *args)\n",
      "        Calculo de densidad corriente sobre una placa semi-infinita\n",
      "    \n",
      "    l0(bo, lmax)\n",
      "    \n",
      "    zo(f, bo, lmax)\n",
      "        Calculo de impedancia en aire (3.34) Zo para una bobina al aire\n",
      "\n",
      "FILE\n",
      "    c:\\users\\fernando\\dropbox\\gitlab\\iamend_ci\\iamend_ci\\theo.py\n",
      "\n",
      "\n"
     ]
    }
   ],
   "source": [
    "help(ci.theo)"
   ]
  },
  {
   "cell_type": "code",
   "execution_count": 8,
   "metadata": {},
   "outputs": [
    {
     "data": {
      "text/plain": [
       "\u001b[1;31mSignature:\u001b[0m \u001b[0mci\u001b[0m\u001b[1;33m.\u001b[0m\u001b[0mtheo\u001b[0m\u001b[1;33m.\u001b[0m\u001b[0mdzHF\u001b[0m\u001b[1;33m(\u001b[0m\u001b[0mf\u001b[0m\u001b[1;33m,\u001b[0m \u001b[0mbo\u001b[0m\u001b[1;33m,\u001b[0m \u001b[0msigma\u001b[0m\u001b[1;33m,\u001b[0m \u001b[0mmur\u001b[0m\u001b[1;33m,\u001b[0m \u001b[0mlmax\u001b[0m\u001b[1;33m)\u001b[0m\u001b[1;33m\u001b[0m\u001b[1;33m\u001b[0m\u001b[0m\n",
       "\u001b[1;31mDocstring:\u001b[0m Calculo de impedancia en aire (3.52) im(dz) para una placa de espesor infinito\n",
       "\u001b[1;31mFile:\u001b[0m      c:\\users\\fernando\\dropbox\\gitlab\\iamend_ci\\iamend_ci\\theo.py\n",
       "\u001b[1;31mType:\u001b[0m      function\n"
      ]
     },
     "metadata": {},
     "output_type": "display_data"
    }
   ],
   "source": [
    "ci.theo.dzHF?"
   ]
  },
  {
   "cell_type": "code",
   "execution_count": 9,
   "metadata": {},
   "outputs": [
    {
     "data": {
      "text/plain": [
       "\u001b[1;31mSignature:\u001b[0m \u001b[0mci\u001b[0m\u001b[1;33m.\u001b[0m\u001b[0mtheo\u001b[0m\u001b[1;33m.\u001b[0m\u001b[0mdzHF\u001b[0m\u001b[1;33m(\u001b[0m\u001b[0mf\u001b[0m\u001b[1;33m,\u001b[0m \u001b[0mbo\u001b[0m\u001b[1;33m,\u001b[0m \u001b[0msigma\u001b[0m\u001b[1;33m,\u001b[0m \u001b[0mmur\u001b[0m\u001b[1;33m,\u001b[0m \u001b[0mlmax\u001b[0m\u001b[1;33m)\u001b[0m\u001b[1;33m\u001b[0m\u001b[1;33m\u001b[0m\u001b[0m\n",
       "\u001b[1;31mSource:\u001b[0m   \n",
       "\u001b[1;32mdef\u001b[0m \u001b[0mdzHF\u001b[0m\u001b[1;33m(\u001b[0m\u001b[0mf\u001b[0m\u001b[1;33m,\u001b[0m\u001b[0mbo\u001b[0m\u001b[1;33m,\u001b[0m\u001b[0msigma\u001b[0m\u001b[1;33m,\u001b[0m\u001b[0mmur\u001b[0m\u001b[1;33m,\u001b[0m\u001b[0mlmax\u001b[0m\u001b[1;33m)\u001b[0m\u001b[1;33m:\u001b[0m\u001b[1;33m\n",
       "\u001b[0m    \u001b[1;34m\"\"\" Calculo de impedancia en aire (3.52) im(dz) para una placa de espesor infinito\"\"\"\u001b[0m\u001b[1;33m\n",
       "\u001b[0m    \u001b[0mdzhf\u001b[0m\u001b[1;33m=\u001b[0m\u001b[0mlist\u001b[0m\u001b[1;33m(\u001b[0m\u001b[1;33m)\u001b[0m\u001b[1;33m\n",
       "\u001b[0m    \u001b[0mmu0\u001b[0m\u001b[1;33m=\u001b[0m\u001b[1;36m4\u001b[0m\u001b[1;33m*\u001b[0m\u001b[1;36m3.14\u001b[0m\u001b[1;33m*\u001b[0m\u001b[1;36m1e-7\u001b[0m\u001b[1;33m;\u001b[0m\u001b[1;33m\n",
       "\u001b[0m    \u001b[0mr1\u001b[0m\u001b[1;33m=\u001b[0m\u001b[0mbo\u001b[0m\u001b[1;33m[\u001b[0m\u001b[1;36m0\u001b[0m\u001b[1;33m]\u001b[0m\u001b[1;33m;\u001b[0m\u001b[1;33m\n",
       "\u001b[0m    \u001b[0mr2\u001b[0m\u001b[1;33m=\u001b[0m\u001b[0mbo\u001b[0m\u001b[1;33m[\u001b[0m\u001b[1;36m1\u001b[0m\u001b[1;33m]\u001b[0m\u001b[1;33m;\u001b[0m\u001b[1;33m\n",
       "\u001b[0m    \u001b[0mdh\u001b[0m\u001b[1;33m=\u001b[0m\u001b[0mbo\u001b[0m\u001b[1;33m[\u001b[0m\u001b[1;36m2\u001b[0m\u001b[1;33m]\u001b[0m\u001b[1;33m;\u001b[0m\u001b[1;33m\n",
       "\u001b[0m    \u001b[0mN\u001b[0m\u001b[1;33m=\u001b[0m\u001b[0mbo\u001b[0m\u001b[1;33m[\u001b[0m\u001b[1;36m3\u001b[0m\u001b[1;33m]\u001b[0m\u001b[1;33m;\u001b[0m\u001b[1;33m\n",
       "\u001b[0m    \u001b[0mz1\u001b[0m\u001b[1;33m=\u001b[0m\u001b[0mbo\u001b[0m\u001b[1;33m[\u001b[0m\u001b[1;36m4\u001b[0m\u001b[1;33m]\u001b[0m\u001b[1;33m;\u001b[0m\u001b[1;33m\n",
       "\u001b[0m    \u001b[0ml0\u001b[0m\u001b[1;33m=\u001b[0m\u001b[0mbo\u001b[0m\u001b[1;33m[\u001b[0m\u001b[1;36m5\u001b[0m\u001b[1;33m]\u001b[0m\u001b[1;33m\n",
       "\u001b[0m    \u001b[0maint\u001b[0m\u001b[1;33m=\u001b[0m\u001b[1;33m(\u001b[0m\u001b[1;36m1j\u001b[0m\u001b[1;33m*\u001b[0m\u001b[0mnumpy\u001b[0m\u001b[1;33m.\u001b[0m\u001b[0mpi\u001b[0m\u001b[1;33m*\u001b[0m\u001b[1;33m(\u001b[0m\u001b[1;36m2\u001b[0m\u001b[1;33m*\u001b[0m\u001b[0mnumpy\u001b[0m\u001b[1;33m.\u001b[0m\u001b[0mpi\u001b[0m\u001b[1;33m*\u001b[0m\u001b[0mf\u001b[0m\u001b[1;33m)\u001b[0m\u001b[1;33m*\u001b[0m\u001b[0mmu0\u001b[0m\u001b[1;33m*\u001b[0m\u001b[0mN\u001b[0m\u001b[1;33m**\u001b[0m\u001b[1;36m2\u001b[0m\u001b[1;33m)\u001b[0m\u001b[1;33m/\u001b[0m\u001b[1;33m(\u001b[0m\u001b[1;33m(\u001b[0m\u001b[1;33m(\u001b[0m\u001b[0mr2\u001b[0m\u001b[1;33m-\u001b[0m\u001b[0mr1\u001b[0m\u001b[1;33m)\u001b[0m\u001b[1;33m*\u001b[0m\u001b[0mdh\u001b[0m\u001b[1;33m)\u001b[0m\u001b[1;33m**\u001b[0m\u001b[1;36m2\u001b[0m\u001b[1;33m)\u001b[0m\u001b[1;33m\n",
       "\u001b[0m    \u001b[1;32mfor\u001b[0m \u001b[0mi\u001b[0m \u001b[1;32min\u001b[0m \u001b[0mrange\u001b[0m\u001b[1;33m(\u001b[0m\u001b[1;36m0\u001b[0m\u001b[1;33m,\u001b[0m\u001b[0mlen\u001b[0m\u001b[1;33m(\u001b[0m\u001b[0mf\u001b[0m\u001b[1;33m)\u001b[0m\u001b[1;33m)\u001b[0m\u001b[1;33m:\u001b[0m\u001b[1;33m\n",
       "\u001b[0m        \u001b[0mdzhf\u001b[0m\u001b[1;33m.\u001b[0m\u001b[0mappend\u001b[0m\u001b[1;33m(\u001b[0m\u001b[0mcquad\u001b[0m\u001b[1;33m(\u001b[0m\u001b[1;32mlambda\u001b[0m \u001b[0mk\u001b[0m\u001b[1;33m:\u001b[0m \u001b[0msig\u001b[0m\u001b[1;33m(\u001b[0m\u001b[0mk\u001b[0m\u001b[1;33m,\u001b[0m\u001b[0msigma\u001b[0m\u001b[1;33m,\u001b[0m\u001b[0mf\u001b[0m\u001b[1;33m[\u001b[0m\u001b[0mi\u001b[0m\u001b[1;33m]\u001b[0m\u001b[1;33m,\u001b[0m\u001b[0mmur\u001b[0m\u001b[1;33m)\u001b[0m\u001b[1;33m*\u001b[0m\u001b[1;33m(\u001b[0m\u001b[0mji\u001b[0m\u001b[1;33m(\u001b[0m\u001b[0mk\u001b[0m\u001b[1;33m,\u001b[0m\u001b[0mr1\u001b[0m\u001b[1;33m,\u001b[0m\u001b[0mr2\u001b[0m\u001b[1;33m)\u001b[0m\u001b[1;33m*\u001b[0m\u001b[0mexpz\u001b[0m\u001b[1;33m(\u001b[0m\u001b[0mk\u001b[0m\u001b[1;33m,\u001b[0m\u001b[0mz1\u001b[0m\u001b[1;33m,\u001b[0m\u001b[0mz1\u001b[0m\u001b[1;33m+\u001b[0m\u001b[0mdh\u001b[0m\u001b[1;33m)\u001b[0m\u001b[1;33m)\u001b[0m\u001b[1;33m**\u001b[0m\u001b[1;36m2\u001b[0m\u001b[1;33m,\u001b[0m\u001b[1;36m0\u001b[0m\u001b[1;33m,\u001b[0m\u001b[0mlmax\u001b[0m\u001b[1;33m)\u001b[0m\u001b[1;33m)\u001b[0m\u001b[1;33m\n",
       "\u001b[0m    \u001b[1;32mreturn\u001b[0m \u001b[0maint\u001b[0m\u001b[1;33m*\u001b[0m\u001b[0mdzhf\u001b[0m\u001b[1;33m\u001b[0m\u001b[1;33m\u001b[0m\u001b[0m\n",
       "\u001b[1;31mFile:\u001b[0m      c:\\users\\fernando\\dropbox\\gitlab\\iamend_ci\\iamend_ci\\theo.py\n",
       "\u001b[1;31mType:\u001b[0m      function\n"
      ]
     },
     "metadata": {},
     "output_type": "display_data"
    }
   ],
   "source": [
    "ci.theo.dzHF??"
   ]
  },
  {
   "cell_type": "markdown",
   "metadata": {},
   "source": [
    "### Ejemplo de uso\n",
    "\n",
    "Cargamos datos del solartron con la funcion 'load' del submodulo 'so'  :"
   ]
  },
  {
   "cell_type": "code",
   "execution_count": 10,
   "metadata": {},
   "outputs": [
    {
     "data": {
      "text/plain": [
       "\u001b[1;31mSignature:\u001b[0m \u001b[0mci\u001b[0m\u001b[1;33m.\u001b[0m\u001b[0mso\u001b[0m\u001b[1;33m.\u001b[0m\u001b[0mload\u001b[0m\u001b[1;33m(\u001b[0m\u001b[0mpath\u001b[0m\u001b[1;33m=\u001b[0m\u001b[1;36m0\u001b[0m\u001b[1;33m)\u001b[0m\u001b[1;33m\u001b[0m\u001b[1;33m\u001b[0m\u001b[0m\n",
       "\u001b[1;31mDocstring:\u001b[0m\n",
       "carga archivos en la carpeta actual, todos deben pertenecer a un mismo experimento, mismas frecuencias y misma cantidad de repeticiones, se le puede asginar la direccion en disco de la carpeta a la variable path (tener cuidado con los //), si path=0 abre una ventana de windows para elegirla manualmente\n",
       "--------------------------------------------------------------------------------------\n",
       "devuelve una lista: \n",
       "    data[0] lista de los datos de cada archivo, cada indice es una matriz con los datos crudos de cada archivo\n",
       "    \n",
       "    data[1] lista con los nombres de los archivos\n",
       "    \n",
       "    \n",
       "    \n",
       "\u001b[1;31mFile:\u001b[0m      c:\\users\\fernando\\dropbox\\gitlab\\iamend_ci\\iamend_ci\\so.py\n",
       "\u001b[1;31mType:\u001b[0m      function\n"
      ]
     },
     "metadata": {},
     "output_type": "display_data"
    }
   ],
   "source": [
    "ci.so.load?"
   ]
  },
  {
   "cell_type": "code",
   "execution_count": 11,
   "metadata": {},
   "outputs": [
    {
     "name": "stdout",
     "output_type": "stream",
     "text": [
      "path=   C:/Users/fernando/Dropbox/GITLAB/iamend_ci/datos\n",
      "0 Exp316Aire1.csv\n",
      "1 Exp316M1.csv\n",
      "2 Exp316M2.csv\n",
      "3 Exp316M3.csv\n",
      "4 Exp316M4.csv\n",
      "5 Exp316M5.csv\n",
      "6 Exp316M6.csv\n",
      "7 Exp316M7.csv\n",
      "8 Exp316M8.csv\n",
      "9 Exp316M9.csv\n",
      "10 Exp316patron.csv\n"
     ]
    }
   ],
   "source": [
    "data=ci.so.load()"
   ]
  },
  {
   "cell_type": "markdown",
   "metadata": {},
   "source": [
    "cargo datos a la variable data"
   ]
  },
  {
   "cell_type": "code",
   "execution_count": 12,
   "metadata": {},
   "outputs": [
    {
     "data": {
      "text/plain": [
       "(6, 451)"
      ]
     },
     "execution_count": 12,
     "metadata": {},
     "output_type": "execute_result"
    }
   ],
   "source": [
    "# el output es una matriz para cada archivo, esta matriz es un objeto del modulo numpy,\n",
    "# los objetos vienen con funciones integradas\n",
    "# una de ellas es la funcion \"shape\" que informa el tamaño del array/matriz\n",
    "data[0][0].shape"
   ]
  },
  {
   "cell_type": "code",
   "execution_count": 13,
   "metadata": {},
   "outputs": [
    {
     "name": "stdout",
     "output_type": "stream",
     "text": [
      "Variable   Type      Data/Info\n",
      "------------------------------\n",
      "ci         module    <module 'iamend_ci' from <...>\\iamend_ci\\\\__init__.py'>\n",
      "data       list      n=2\n"
     ]
    }
   ],
   "source": [
    "%whos"
   ]
  },
  {
   "cell_type": "code",
   "execution_count": 14,
   "metadata": {},
   "outputs": [
    {
     "name": "stdout",
     "output_type": "stream",
     "text": [
      "Variable   Type       Data/Info\n",
      "-------------------------------\n",
      "aire       ndarray    6x451: 2706 elems, type `float64`, 21648 bytes\n",
      "ci         module     <module 'iamend_ci' from <...>\\iamend_ci\\\\__init__.py'>\n",
      "data       list       n=2\n"
     ]
    }
   ],
   "source": [
    "#puedo creer una variable que sea solo la matriz de los datos del primer archivo\n",
    "aire=data[0][0]\n",
    "# quiero ver como aparece en el workspace\n",
    "%whos"
   ]
  },
  {
   "cell_type": "code",
   "execution_count": 15,
   "metadata": {},
   "outputs": [
    {
     "data": {
      "text/plain": [
       "numpy.ndarray"
      ]
     },
     "execution_count": 15,
     "metadata": {},
     "output_type": "execute_result"
    }
   ],
   "source": [
    "# una manera de ver que funciones tiene disponible (ATRIBUTOS) un objeto, es primero ver que tipo de objeto es y \n",
    "# googlear o mirar el help()\n",
    "type(aire)"
   ]
  },
  {
   "cell_type": "markdown",
   "metadata": {},
   "source": [
    "## Correcion de datos \n",
    "\n",
    "Para corregir los datos, usamos la funcion 'CORR' que toma como input, la frecuencia, los parametros de la bobina y la matriz de las impedancias ( que incluyend las mediciones en aire y las muestras )"
   ]
  },
  {
   "cell_type": "code",
   "execution_count": 16,
   "metadata": {},
   "outputs": [],
   "source": [
    "f=ci.so.getf(data)\n",
    "bo=ci.bo.bobpp1\n",
    "datacorr=ci.so.corr(f,bo,data)"
   ]
  },
  {
   "cell_type": "markdown",
   "metadata": {},
   "source": [
    "esta funcion devuelve una lista de vectores con las impedancias complejas, se puede ver la parte real con .real y la parte imaginaria con .imag como con cualquier array complejo de numpy."
   ]
  },
  {
   "cell_type": "code",
   "execution_count": 17,
   "metadata": {},
   "outputs": [
    {
     "data": {
      "text/plain": [
       "(10, 41)"
      ]
     },
     "execution_count": 17,
     "metadata": {},
     "output_type": "execute_result"
    }
   ],
   "source": [
    "datacorr[0].shape"
   ]
  },
  {
   "cell_type": "code",
   "execution_count": 18,
   "metadata": {},
   "outputs": [
    {
     "data": {
      "text/plain": [
       "['Exp316M1.csv',\n",
       " 'Exp316M2.csv',\n",
       " 'Exp316M3.csv',\n",
       " 'Exp316M4.csv',\n",
       " 'Exp316M5.csv',\n",
       " 'Exp316M6.csv',\n",
       " 'Exp316M7.csv',\n",
       " 'Exp316M8.csv',\n",
       " 'Exp316M9.csv',\n",
       " 'Exp316patron.csv']"
      ]
     },
     "execution_count": 18,
     "metadata": {},
     "output_type": "execute_result"
    }
   ],
   "source": [
    "datacorr[1]"
   ]
  },
  {
   "cell_type": "code",
   "execution_count": 19,
   "metadata": {},
   "outputs": [
    {
     "data": {
      "text/plain": [
       "array([[ 8.54322200e-03,  6.67239028e-03,  5.03680738e-03,\n",
       "         3.59662771e-03,  2.30823422e-03,  1.36336055e-03,\n",
       "         3.83937947e-04, -6.84658950e-04, -1.61366318e-03,\n",
       "        -2.62495519e-03, -3.80371293e-03, -5.17001692e-03,\n",
       "        -6.92763775e-03, -8.85557758e-03, -1.12064939e-02,\n",
       "        -1.38294228e-02, -1.64378128e-02, -1.84102910e-02,\n",
       "        -1.88504353e-02, -1.66652079e-02, -1.24067007e-02,\n",
       "        -5.73394294e-03,  1.90798295e-03,  9.14267627e-03,\n",
       "         1.68260425e-02,  2.31108433e-02,  2.79799624e-02,\n",
       "         3.27942248e-02,  3.65955331e-02,  3.94713134e-02,\n",
       "         4.17766976e-02,  4.32244263e-02,  4.38880635e-02,\n",
       "         4.40095791e-02,  4.36489985e-02,  4.32609694e-02,\n",
       "         4.28718696e-02,  4.07776960e-02,  3.76169795e-02,\n",
       "         3.77585254e-02,  3.48353850e-02],\n",
       "       [ 8.68377752e-03,  6.59959602e-03,  5.04817678e-03,\n",
       "         3.58486250e-03,  2.41797636e-03,  1.38438036e-03,\n",
       "         4.39599616e-04, -5.65172729e-04, -1.48729648e-03,\n",
       "        -2.43326912e-03, -3.61892466e-03, -4.96844423e-03,\n",
       "        -6.64130939e-03, -8.57207731e-03, -1.08416939e-02,\n",
       "        -1.33796143e-02, -1.58185703e-02, -1.77002969e-02,\n",
       "        -1.79441663e-02, -1.57820811e-02, -1.15838241e-02,\n",
       "        -4.52478618e-03,  3.09977512e-03,  1.03423252e-02,\n",
       "         1.78487670e-02,  2.39587080e-02,  2.89887695e-02,\n",
       "         3.35349146e-02,  3.73390466e-02,  4.00728049e-02,\n",
       "         4.21100541e-02,  4.34459530e-02,  4.40201970e-02,\n",
       "         4.37577733e-02,  4.35560957e-02,  4.26500043e-02,\n",
       "         4.22905480e-02,  3.87871177e-02,  3.75781175e-02,\n",
       "         3.62240869e-02,  3.42758015e-02],\n",
       "       [ 1.01297172e-02,  8.01368076e-03,  6.08700394e-03,\n",
       "         4.45628497e-03,  3.11351425e-03,  2.02950507e-03,\n",
       "         9.80287860e-04, -2.12501811e-04, -1.09099736e-03,\n",
       "        -2.02746816e-03, -3.20444062e-03, -4.51667978e-03,\n",
       "        -6.18898407e-03, -7.92404324e-03, -1.00800249e-02,\n",
       "        -1.24425358e-02, -1.48530987e-02, -1.65201506e-02,\n",
       "        -1.65311533e-02, -1.43660685e-02, -9.99892410e-03,\n",
       "        -4.28903063e-03,  3.87076653e-03,  1.05089048e-02,\n",
       "         1.78656796e-02,  2.40595305e-02,  2.84537034e-02,\n",
       "         3.23660269e-02,  3.64742577e-02,  3.92928504e-02,\n",
       "         4.13247994e-02,  4.24102247e-02,  4.29567229e-02,\n",
       "         4.25554638e-02,  4.22268082e-02,  4.13721073e-02,\n",
       "         4.07758828e-02,  3.85820366e-02,  3.55157573e-02,\n",
       "         3.46962597e-02,  3.34680332e-02],\n",
       "       [ 1.24968114e-02,  9.62103689e-03,  7.64043839e-03,\n",
       "         5.82868493e-03,  4.41038571e-03,  3.13543727e-03,\n",
       "         2.10730000e-03,  1.06584737e-03,  2.74501532e-04,\n",
       "        -4.70369177e-04, -1.39260672e-03, -2.35685593e-03,\n",
       "        -3.51516232e-03, -4.63967713e-03, -6.00276833e-03,\n",
       "        -7.48454417e-03, -8.73945232e-03, -9.38802053e-03,\n",
       "        -8.78770665e-03, -6.18948775e-03, -2.28694421e-03,\n",
       "         3.52391368e-03,  1.03835474e-02,  1.65892149e-02,\n",
       "         2.25364884e-02,  2.73914909e-02,  3.14153071e-02,\n",
       "         3.35358139e-02,  3.66752338e-02,  3.77507974e-02,\n",
       "         3.87313843e-02,  3.88110077e-02,  3.81845624e-02,\n",
       "         3.73228440e-02,  3.61775400e-02,  3.48278714e-02,\n",
       "         3.44398963e-02,  2.98622212e-02,  2.87628720e-02,\n",
       "         2.85715614e-02,  2.71151453e-02],\n",
       "       [ 1.61411069e-02,  1.27775584e-02,  1.01184627e-02,\n",
       "         7.98137143e-03,  6.11345002e-03,  4.76225331e-03,\n",
       "         3.53208772e-03,  2.41704034e-03,  1.63104830e-03,\n",
       "         9.55247217e-04,  1.69234454e-04, -5.93498416e-04,\n",
       "        -1.42498004e-03, -2.11509424e-03, -2.93343988e-03,\n",
       "        -3.68868215e-03, -4.22480015e-03, -4.32378643e-03,\n",
       "        -3.16967459e-03, -4.82243555e-04,  3.29296728e-03,\n",
       "         8.14654757e-03,  1.41096302e-02,  1.90532794e-02,\n",
       "         2.44215556e-02,  2.77220275e-02,  3.12844684e-02,\n",
       "         3.23677742e-02,  3.36567112e-02,  3.43813931e-02,\n",
       "         3.48504536e-02,  3.48209475e-02,  3.42300575e-02,\n",
       "         3.32459273e-02,  3.22501657e-02,  3.08747482e-02,\n",
       "         3.11143654e-02,  2.72322369e-02,  2.53753305e-02,\n",
       "         2.58288660e-02,  2.42342048e-02],\n",
       "       [ 3.08827438e-02,  2.43963995e-02,  1.93236821e-02,\n",
       "         1.52315215e-02,  1.20200702e-02,  9.56658607e-03,\n",
       "         7.52236798e-03,  5.70748963e-03,  4.44068692e-03,\n",
       "         3.43392988e-03,  2.50521324e-03,  1.74464300e-03,\n",
       "         1.03064449e-03,  5.16154509e-04,  7.89002857e-05,\n",
       "        -1.93209719e-04, -1.77887529e-04,  5.40560577e-04,\n",
       "         1.90779058e-03,  4.69307533e-03,  8.12593934e-03,\n",
       "         1.24079258e-02,  1.72278746e-02,  2.13075557e-02,\n",
       "         2.50246923e-02,  2.79178933e-02,  2.88241673e-02,\n",
       "         3.00602734e-02,  3.16900396e-02,  3.20738050e-02,\n",
       "         3.19916966e-02,  3.14807580e-02,  3.07726050e-02,\n",
       "         2.98729712e-02,  2.87339835e-02,  2.74320123e-02,\n",
       "         2.77012753e-02,  2.48472775e-02,  2.26249596e-02,\n",
       "         2.28254269e-02,  2.25032451e-02],\n",
       "       [ 2.01454973e-02,  1.61127018e-02,  1.28982212e-02,\n",
       "         1.00669619e-02,  8.03386964e-03,  6.36113533e-03,\n",
       "         4.97064440e-03,  3.80297684e-03,  2.92686500e-03,\n",
       "         2.34385286e-03,  1.64626457e-03,  1.19149822e-03,\n",
       "         6.55884337e-04,  2.91003098e-04, -5.62838147e-06,\n",
       "        -1.22106703e-04,  5.07770072e-06,  7.80888409e-04,\n",
       "         2.32724980e-03,  5.03745041e-03,  8.37420822e-03,\n",
       "         1.28021654e-02,  1.72219145e-02,  2.08292079e-02,\n",
       "         2.46607564e-02,  2.76149935e-02,  2.93188764e-02,\n",
       "         3.02257474e-02,  3.11468268e-02,  3.15474945e-02,\n",
       "         3.13311120e-02,  3.09671663e-02,  3.02203958e-02,\n",
       "         2.93698957e-02,  2.82979309e-02,  2.68539907e-02,\n",
       "         2.72387963e-02,  2.39343811e-02,  2.27661988e-02,\n",
       "         2.22956930e-02,  2.19167081e-02],\n",
       "       [ 1.96339314e-02,  1.56085396e-02,  1.24797582e-02,\n",
       "         9.96238118e-03,  7.90922803e-03,  6.35317390e-03,\n",
       "         4.99958588e-03,  3.91656308e-03,  3.12605921e-03,\n",
       "         2.51089844e-03,  1.97809852e-03,  1.61382361e-03,\n",
       "         1.08202298e-03,  9.75665471e-04,  9.07134733e-04,\n",
       "         9.78738893e-04,  1.37357209e-03,  2.26816955e-03,\n",
       "         3.94981971e-03,  6.64749895e-03,  9.75824540e-03,\n",
       "         1.36149827e-02,  1.80117467e-02,  2.12803930e-02,\n",
       "         2.48036237e-02,  2.72951017e-02,  2.83591228e-02,\n",
       "         3.05206341e-02,  3.04106054e-02,  3.03576197e-02,\n",
       "         3.00147230e-02,  2.94558030e-02,  2.87232895e-02,\n",
       "         2.77276262e-02,  2.68320603e-02,  2.55275037e-02,\n",
       "         2.58174452e-02,  2.20540328e-02,  2.15452992e-02,\n",
       "         2.12698513e-02,  1.98523933e-02],\n",
       "       [ 2.36303363e-02,  1.88579084e-02,  1.49936856e-02,\n",
       "         1.18834534e-02,  9.43631893e-03,  7.57988102e-03,\n",
       "         6.01441118e-03,  4.71890211e-03,  3.73543139e-03,\n",
       "         3.03453941e-03,  2.40791665e-03,  1.95840989e-03,\n",
       "         1.41159440e-03,  1.32546329e-03,  1.23374379e-03,\n",
       "         1.33609169e-03,  1.80276354e-03,  2.79608057e-03,\n",
       "         4.41219244e-03,  7.15902948e-03,  1.05685722e-02,\n",
       "         1.44300148e-02,  1.84210990e-02,  2.16424203e-02,\n",
       "         2.49450078e-02,  2.75633648e-02,  2.88952711e-02,\n",
       "         2.91092012e-02,  3.03223925e-02,  3.04077562e-02,\n",
       "         3.02156042e-02,  2.97383357e-02,  2.86480743e-02,\n",
       "         2.77255119e-02,  2.68286754e-02,  2.58149672e-02,\n",
       "         2.64506890e-02,  2.29826175e-02,  2.17025936e-02,\n",
       "         2.18049085e-02,  2.10422351e-02],\n",
       "       [-4.69453328e-02, -3.70041729e-02, -2.92388153e-02,\n",
       "        -2.31475540e-02, -1.82861138e-02, -1.42748651e-02,\n",
       "        -1.11256640e-02, -8.77537045e-03, -6.62877347e-03,\n",
       "        -4.86392907e-03, -3.49665171e-03, -2.26254093e-03,\n",
       "        -1.14381873e-03,  5.19334459e-06,  1.28700325e-03,\n",
       "         2.89630146e-03,  5.01988590e-03,  7.92214015e-03,\n",
       "         1.17437557e-02,  1.60898588e-02,  2.04412200e-02,\n",
       "         2.45844399e-02,  2.80323059e-02,  2.95476016e-02,\n",
       "         3.18646591e-02,  3.20460089e-02,  3.20031570e-02,\n",
       "         3.17211372e-02,  2.95020733e-02,  2.86513027e-02,\n",
       "         2.71785823e-02,  2.56542151e-02,  2.38245311e-02,\n",
       "         2.20859402e-02,  2.06281654e-02,  1.91297736e-02,\n",
       "         1.96319336e-02,  1.55145987e-02,  1.48164916e-02,\n",
       "         1.59014282e-02,  1.44942841e-02]])"
      ]
     },
     "execution_count": 19,
     "metadata": {},
     "output_type": "execute_result"
    }
   ],
   "source": [
    "datacorr[0].real"
   ]
  },
  {
   "cell_type": "code",
   "execution_count": 20,
   "metadata": {},
   "outputs": [
    {
     "data": {
      "text/plain": [
       "array([[ 1.16187856e-02,  1.16214294e-02,  1.16485212e-02,\n",
       "         1.16103839e-02,  1.17386203e-02,  1.17345585e-02,\n",
       "         1.17587093e-02,  1.17517487e-02,  1.18280767e-02,\n",
       "         1.19332584e-02,  1.21340247e-02,  1.24313063e-02,\n",
       "         1.27820495e-02,  1.36819415e-02,  1.49797753e-02,\n",
       "         1.72126769e-02,  2.03949767e-02,  2.56024317e-02,\n",
       "         3.17539576e-02,  3.79882247e-02,  4.42897758e-02,\n",
       "         4.81436918e-02,  4.95013009e-02,  4.86378767e-02,\n",
       "         4.58910663e-02,  4.16468174e-02,  3.54367746e-02,\n",
       "         2.98135533e-02,  2.34842666e-02,  1.56244956e-02,\n",
       "         9.37944047e-03,  1.18107859e-03, -6.93960783e-03,\n",
       "        -1.39326664e-02, -2.17969852e-02, -2.83676617e-02,\n",
       "        -3.63615809e-02, -4.22837349e-02, -4.73318727e-02,\n",
       "        -5.31489081e-02, -5.70689825e-02],\n",
       "       [ 1.11853434e-02,  1.14119209e-02,  1.14011122e-02,\n",
       "         1.13669884e-02,  1.14648964e-02,  1.14391282e-02,\n",
       "         1.14943572e-02,  1.14782801e-02,  1.15523372e-02,\n",
       "         1.17105908e-02,  1.18736147e-02,  1.21688664e-02,\n",
       "         1.25548540e-02,  1.33781956e-02,  1.47099000e-02,\n",
       "         1.68603933e-02,  1.98846979e-02,  2.49682003e-02,\n",
       "         3.10139072e-02,  3.73498793e-02,  4.36473462e-02,\n",
       "         4.68079665e-02,  4.81117563e-02,  4.68678334e-02,\n",
       "         4.40566437e-02,  3.96022996e-02,  3.33501391e-02,\n",
       "         2.75822554e-02,  2.09517149e-02,  1.32740987e-02,\n",
       "         6.36977782e-03, -1.56589472e-03, -9.43077191e-03,\n",
       "        -1.66818282e-02, -2.48589543e-02, -3.15824236e-02,\n",
       "        -3.85994607e-02, -4.34818768e-02, -4.95125018e-02,\n",
       "        -5.43139161e-02, -5.79479747e-02],\n",
       "       [ 1.08293517e-02,  1.07670868e-02,  1.08260378e-02,\n",
       "         1.08047006e-02,  1.08836801e-02,  1.08538430e-02,\n",
       "         1.08876431e-02,  1.08295455e-02,  1.09476217e-02,\n",
       "         1.10905837e-02,  1.12409164e-02,  1.14860153e-02,\n",
       "         1.17374013e-02,  1.26629807e-02,  1.39081231e-02,\n",
       "         1.59071846e-02,  1.94238987e-02,  2.39115557e-02,\n",
       "         2.93321984e-02,  3.51642542e-02,  4.07351302e-02,\n",
       "         4.51770830e-02,  4.51298784e-02,  4.37749454e-02,\n",
       "         4.06067959e-02,  3.66581128e-02,  2.98488103e-02,\n",
       "         2.34864664e-02,  1.77528714e-02,  1.08549292e-02,\n",
       "         3.50842059e-03, -3.97738808e-03, -1.16778280e-02,\n",
       "        -1.89828605e-02, -2.66267360e-02, -3.34716944e-02,\n",
       "        -3.96445240e-02, -4.54074716e-02, -4.97255985e-02,\n",
       "        -5.43845579e-02, -5.83704583e-02],\n",
       "       [ 7.10325250e-03,  7.33461249e-03,  7.40556583e-03,\n",
       "         7.38097779e-03,  7.50703596e-03,  7.37654747e-03,\n",
       "         7.39833134e-03,  7.37767383e-03,  7.45034251e-03,\n",
       "         7.58070876e-03,  7.68367291e-03,  7.86701352e-03,\n",
       "         8.06342709e-03,  8.76703176e-03,  9.76823233e-03,\n",
       "         1.11557907e-02,  1.32933994e-02,  1.67362840e-02,\n",
       "         2.08632186e-02,  2.47630772e-02,  2.88857257e-02,\n",
       "         3.05891043e-02,  2.96025330e-02,  2.67576052e-02,\n",
       "         2.29612645e-02,  1.79490040e-02,  1.21646034e-02,\n",
       "         4.85176278e-03, -6.31047019e-04, -8.32298469e-03,\n",
       "        -1.48732799e-02, -2.16982806e-02, -2.85120657e-02,\n",
       "        -3.50717048e-02, -4.08702776e-02, -4.57985024e-02,\n",
       "        -5.22533573e-02, -5.51344149e-02, -5.93275752e-02,\n",
       "        -6.30814721e-02, -6.52513704e-02],\n",
       "       [ 4.93705598e-03,  4.90192625e-03,  4.96245796e-03,\n",
       "         4.93535128e-03,  4.93495357e-03,  4.91407794e-03,\n",
       "         4.92908890e-03,  4.89836744e-03,  4.96237045e-03,\n",
       "         5.08439184e-03,  5.16181970e-03,  5.25145973e-03,\n",
       "         5.38316932e-03,  5.93749253e-03,  6.58383446e-03,\n",
       "         7.59530571e-03,  9.11800995e-03,  1.18770945e-02,\n",
       "         1.44160305e-02,  1.68292658e-02,  1.90728940e-02,\n",
       "         1.98835987e-02,  1.76241209e-02,  1.44305331e-02,\n",
       "         1.09904665e-02,  4.98899204e-03,  3.31983126e-04,\n",
       "        -6.83422793e-03, -1.30196157e-02, -1.94237326e-02,\n",
       "        -2.51105114e-02, -3.08032040e-02, -3.72821752e-02,\n",
       "        -4.19809763e-02, -4.79490429e-02, -5.25437913e-02,\n",
       "        -5.74945334e-02, -6.05629803e-02, -6.37134583e-02,\n",
       "        -6.69559877e-02, -6.89812706e-02],\n",
       "       [ 3.50553591e-03,  3.47757495e-03,  3.50490738e-03,\n",
       "         3.47422142e-03,  3.50121925e-03,  3.49870591e-03,\n",
       "         3.53403280e-03,  3.48493257e-03,  3.53271357e-03,\n",
       "         3.60810639e-03,  3.68920213e-03,  3.78508176e-03,\n",
       "         3.89126279e-03,  4.24492438e-03,  4.81586812e-03,\n",
       "         5.51677907e-03,  6.54151808e-03,  7.84433229e-03,\n",
       "         9.82942680e-03,  1.07628242e-02,  1.16296153e-02,\n",
       "         1.09649081e-02,  8.02913428e-03,  4.51121563e-03,\n",
       "        -3.75477702e-05, -5.15139236e-03, -1.24851466e-02,\n",
       "        -1.82311144e-02, -2.24946184e-02, -2.80878840e-02,\n",
       "        -3.29811979e-02, -3.84151609e-02, -4.36501782e-02,\n",
       "        -4.84084565e-02, -5.36193014e-02, -5.71800496e-02,\n",
       "        -6.23114453e-02, -6.44532650e-02, -6.68504064e-02,\n",
       "        -6.95469298e-02, -7.07881047e-02],\n",
       "       [ 2.51191352e-03,  2.65156477e-03,  2.63989087e-03,\n",
       "         2.62671466e-03,  2.60662996e-03,  2.68036468e-03,\n",
       "         2.67148361e-03,  2.67112914e-03,  2.69631907e-03,\n",
       "         2.82090736e-03,  2.84360484e-03,  3.00750029e-03,\n",
       "         3.09477069e-03,  3.39043449e-03,  3.74778075e-03,\n",
       "         4.35135813e-03,  5.58775848e-03,  6.83072834e-03,\n",
       "         8.30399923e-03,  9.21111314e-03,  9.92153650e-03,\n",
       "         8.73038975e-03,  6.45366184e-03,  2.61688502e-03,\n",
       "        -1.99997779e-03, -6.74945036e-03, -1.28189149e-02,\n",
       "        -1.88612747e-02, -2.38656837e-02, -2.96375376e-02,\n",
       "        -3.43093800e-02, -3.94811348e-02, -4.43820153e-02,\n",
       "        -4.92382673e-02, -5.42923213e-02, -5.76808242e-02,\n",
       "        -6.23852445e-02, -6.45278621e-02, -6.75266591e-02,\n",
       "        -6.95393411e-02, -7.09974360e-02],\n",
       "       [ 1.82320442e-03,  1.76561252e-03,  1.81184432e-03,\n",
       "         1.77843017e-03,  1.82937154e-03,  1.83217975e-03,\n",
       "         1.84868776e-03,  1.83190829e-03,  1.86202173e-03,\n",
       "         1.91240878e-03,  1.99031650e-03,  2.14000716e-03,\n",
       "         1.99882410e-03,  2.39722292e-03,  2.84970317e-03,\n",
       "         3.37500946e-03,  3.84670933e-03,  5.05433193e-03,\n",
       "         6.04903651e-03,  6.53762207e-03,  6.96803675e-03,\n",
       "         5.88362021e-03,  2.84565571e-03, -9.26288507e-04,\n",
       "        -5.43262744e-03, -1.03926989e-02, -1.70277488e-02,\n",
       "        -2.02957116e-02, -2.66296405e-02, -3.25852912e-02,\n",
       "        -3.67614845e-02, -4.17971157e-02, -4.66171145e-02,\n",
       "        -5.12328174e-02, -5.55327379e-02, -5.86399100e-02,\n",
       "        -6.29535090e-02, -6.50742082e-02, -6.79549948e-02,\n",
       "        -6.99374582e-02, -7.10292388e-02],\n",
       "       [ 1.66269131e-03,  1.80423551e-03,  1.86922954e-03,\n",
       "         1.92303787e-03,  1.88240503e-03,  1.87528957e-03,\n",
       "         1.90617964e-03,  1.88703382e-03,  1.90398399e-03,\n",
       "         1.97199076e-03,  2.02843434e-03,  2.13489131e-03,\n",
       "         1.98745876e-03,  2.50037099e-03,  2.82985025e-03,\n",
       "         3.30901458e-03,  4.01524103e-03,  4.91241622e-03,\n",
       "         6.15614227e-03,  6.35210819e-03,  6.17927743e-03,\n",
       "         4.87409370e-03,  2.13973105e-03, -1.67290608e-03,\n",
       "        -6.40075407e-03, -1.12028014e-02, -1.73682765e-02,\n",
       "        -2.35686569e-02, -2.78669171e-02, -3.32619303e-02,\n",
       "        -3.80188321e-02, -4.25644822e-02, -4.74864798e-02,\n",
       "        -5.15638530e-02, -5.63431128e-02, -5.98733147e-02,\n",
       "        -6.42454436e-02, -6.63116976e-02, -6.88535476e-02,\n",
       "        -7.09761807e-02, -7.17686510e-02],\n",
       "       [-1.96059575e-03, -1.90646201e-03, -1.82269740e-03,\n",
       "        -1.89343755e-03, -1.88205667e-03, -1.92030677e-03,\n",
       "        -1.90929552e-03, -1.96527186e-03, -1.92760606e-03,\n",
       "        -1.86045542e-03, -1.82940126e-03, -1.75974318e-03,\n",
       "        -1.59828272e-03, -1.35795444e-03, -9.60275014e-04,\n",
       "        -5.05462368e-04, -8.45983534e-05,  3.95775642e-04,\n",
       "        -1.64600760e-04, -1.64483608e-03, -4.27832977e-03,\n",
       "        -8.53917237e-03, -1.43765904e-02, -2.06540597e-02,\n",
       "        -2.63473765e-02, -3.27717218e-02, -3.85712949e-02,\n",
       "        -4.32621215e-02, -5.03640437e-02, -5.41606072e-02,\n",
       "        -5.83620066e-02, -6.26011094e-02, -6.60604499e-02,\n",
       "        -6.99473485e-02, -7.32652944e-02, -7.51178263e-02,\n",
       "        -7.85458356e-02, -7.87190839e-02, -8.06968830e-02,\n",
       "        -8.24038166e-02, -8.27081840e-02]])"
      ]
     },
     "execution_count": 20,
     "metadata": {},
     "output_type": "execute_result"
    }
   ],
   "source": [
    "datacorr[0].imag"
   ]
  },
  {
   "cell_type": "markdown",
   "metadata": {},
   "source": [
    "### Grafico los datos\n",
    "\n",
    "en el modulo 'plts' hay varias funciones para dos librerias diferentes\n",
    "#### matplotlib, mas sencilla y rapida\n",
    "* **plts.i**(f,datacorr[n]):    \n",
    "    grafica im(dz) vs f  \n",
    "    \n",
    "#### plotly mas interactiva, mas pesada para la memoria, instalar esto:\n",
    "\n",
    "```bash\n",
    "conda install npm\n",
    "jupyter labextension install jupyterlab-plotly@4.9.0\n",
    "\n",
    "```\n",
    "\n",
    "* **iallraw**(data)"
   ]
  },
  {
   "cell_type": "code",
   "execution_count": 21,
   "metadata": {},
   "outputs": [
    {
     "data": {
      "image/png": "[encoded data removed]",
      "text/html": [
       "\n",
       "\n",
       "<style>\n",
       "\n",
       "</style>\n",
       "\n",
       "<div id=\"fig_el1279223817087091285847964126\"></div>\n",
       "<script>\n",
       "function mpld3_load_lib(url, callback){\n",
       "  var s = document.createElement('script');\n",
       "  s.src = url;\n",
       "  s.async = true;\n",
       "  s.onreadystatechange = s.onload = callback;\n",
       "  s.onerror = function(){console.warn(\"failed to load library \" + url);};\n",
       "  document.getElementsByTagName(\"head\")[0].appendChild(s);\n",
       "}\n",
       "\n",
       "if(typeof(mpld3) !== \"undefined\" && mpld3._mpld3IsLoaded){\n",
       "   // already loaded: just create the figure\n",
       "   !function(mpld3){\n",
       "       \n",
       "       mpld3.draw_figure(\"fig_el1279223817087091285847964126\", {\"width\": 432.0, \"height\": 288.0, \"axes\": [{\"bbox\": [0.125, 0.125, 0.775, 0.755], \"xlim\": [63.09573444801933, 1584893.1924611141], \"ylim\": [-0.06325096119911272, 0.05341474286659262], \"xdomain\": [63.09573444801933, 1584893.1924611141], \"ydomain\": [-0.06325096119911272, 0.05341474286659262], \"xscale\": \"log\", \"yscale\": \"linear\", \"axes\": [{\"position\": \"bottom\", \"nticks\": 9, \"tickvalues\": null, \"tickformat_formatter\": \"\", \"tickformat\": null, \"scale\": \"log\", \"fontsize\": 10.0, \"grid\": {\"gridOn\": true, \"color\": \"#B0B0B0\", \"dasharray\": \"none\", \"alpha\": 1.0}, \"visible\": true}, {\"position\": \"left\", \"nticks\": 8, \"tickvalues\": null, \"tickformat_formatter\": \"\", \"tickformat\": null, \"scale\": \"linear\", \"fontsize\": 10.0, \"grid\": {\"gridOn\": true, \"color\": \"#B0B0B0\", \"dasharray\": \"none\", \"alpha\": 1.0}, \"visible\": true}], \"axesbg\": \"#FFFFFF\", \"axesbgalpha\": null, \"zoomable\": true, \"id\": \"el127922381708666632\", \"lines\": [], \"paths\": [], \"markers\": [{\"data\": \"data01\", \"xindex\": 0, \"yindex\": 1, \"coordinates\": \"data\", \"id\": \"el127922381707434952pts\", \"facecolor\": \"none\", \"edgecolor\": \"#000000\", \"edgewidth\": 1.0, \"alpha\": 1, \"zorder\": 2, \"markerpath\": [[[0.0, 1.5], [0.39780465000000004, 1.5], [0.7793698061772802, 1.3419505373823626], [1.0606601717798214, 1.0606601717798214], [1.3419505373823626, 0.7793698061772802], [1.5, 0.39780465000000004], [1.5, 0.0], [1.5, -0.39780465000000004], [1.3419505373823626, -0.7793698061772802], [1.0606601717798214, -1.0606601717798214], [0.7793698061772802, -1.3419505373823626], [0.39780465000000004, -1.5], [0.0, -1.5], [-0.39780465000000004, -1.5], [-0.7793698061772802, -1.3419505373823626], [-1.0606601717798214, -1.0606601717798214], [-1.3419505373823626, -0.7793698061772802], [-1.5, -0.39780465000000004], [-1.5, 0.0], [-1.5, 0.39780465000000004], [-1.3419505373823626, 0.7793698061772802], [-1.0606601717798214, 1.0606601717798214], [-0.7793698061772802, 1.3419505373823626], [-0.39780465000000004, 1.5], [0.0, 1.5]], [\"M\", \"C\", \"C\", \"C\", \"C\", \"C\", \"C\", \"C\", \"C\", \"Z\"]]}], \"texts\": [{\"text\": \"Frecuencia [Hz]\", \"position\": [0.49999999999999994, -0.11405445180279619], \"coordinates\": \"axes\", \"h_anchor\": \"middle\", \"v_baseline\": \"hanging\", \"rotation\": -0.0, \"fontsize\": 10.0, \"color\": \"#000000\", \"alpha\": 1, \"zorder\": 3, \"id\": \"el127922381706197320\"}, {\"text\": \"$Im(\\\\Delta Z)/X_0$\", \"position\": [-0.12470131421744325, 0.4999999999999999], \"coordinates\": \"axes\", \"h_anchor\": \"middle\", \"v_baseline\": \"auto\", \"rotation\": -90.0, \"fontsize\": 10.0, \"color\": \"#000000\", \"alpha\": 1, \"zorder\": 3, \"id\": \"el127922381709011720\"}, {\"text\": \"Exp316M2.csv\", \"position\": [0.49999999999999994, 1.0275938189845473], \"coordinates\": \"axes\", \"h_anchor\": \"middle\", \"v_baseline\": \"auto\", \"rotation\": -0.0, \"fontsize\": 12.0, \"color\": \"#000000\", \"alpha\": 1, \"zorder\": 3, \"id\": \"el127922381708959944\"}], \"collections\": [], \"images\": [], \"sharex\": [], \"sharey\": []}], \"data\": {\"data01\": [[100.0, 0.011185343391134953], [125.8925, 0.011411920916477528], [158.4893, 0.011401112219077053], [199.5262, 0.011366988401137834], [251.1886, 0.01146489640156209], [316.2278, 0.0114391281546906], [398.1072, 0.011494357195395034], [501.1872, 0.011478280109004148], [630.9573, 0.011552337201276151], [794.3282, 0.01171059084916239], [1000.0, 0.011873614714096049], [1258.925, 0.012168866433892629], [1584.893, 0.012554853966725186], [1995.262, 0.013378195613167639], [2511.886, 0.014709900018296414], [3162.278, 0.016860393328774818], [3981.072, 0.019884697904158918], [5011.873, 0.024968200346449105], [6309.573, 0.031013907241247668], [7943.282, 0.03734987933345467], [10000.0, 0.04364734615572444], [12589.25, 0.04680796647888406], [15848.93, 0.04811175631815146], [19952.62, 0.04686783344555549], [25118.87, 0.04405664373883673], [31622.78, 0.03960229956311339], [39810.72, 0.033350139053479756], [50118.72, 0.027582255386495263], [63095.73, 0.020951714884971086], [79432.83, 0.013274098673679671], [100000.0, 0.006369777817680722], [125892.5, -0.0015658947167089855], [158489.3, -0.009430771909565846], [199526.2, -0.016681828227735843], [251188.6, -0.024858954254221684], [316227.8, -0.03158242359789484], [398107.2, -0.03859946066965334], [501187.3, -0.04348187676509438], [630957.3, -0.04951250180128782], [794328.3, -0.05431391614219719], [1000000.0, -0.05794797465067157]]}, \"id\": \"el127922381708709128\", \"plugins\": [{\"type\": \"reset\"}, {\"type\": \"zoom\", \"button\": true, \"enabled\": false}, {\"type\": \"boxzoom\", \"button\": true, \"enabled\": false}]});\n",
       "   }(mpld3);\n",
       "}else if(typeof define === \"function\" && define.amd){\n",
       "   // require.js is available: use it to load d3/mpld3\n",
       "   require.config({paths: {d3: \"https://d3js.org/d3.v5\"}});\n",
       "   require([\"d3\"], function(d3){\n",
       "      window.d3 = d3;\n",
       "      mpld3_load_lib(\"https://mpld3.github.io/js/mpld3.v0.5.1.js\", function(){\n",
       "         \n",
       "         mpld3.draw_figure(\"fig_el1279223817087091285847964126\", {\"width\": 432.0, \"height\": 288.0, \"axes\": [{\"bbox\": [0.125, 0.125, 0.775, 0.755], \"xlim\": [63.09573444801933, 1584893.1924611141], \"ylim\": [-0.06325096119911272, 0.05341474286659262], \"xdomain\": [63.09573444801933, 1584893.1924611141], \"ydomain\": [-0.06325096119911272, 0.05341474286659262], \"xscale\": \"log\", \"yscale\": \"linear\", \"axes\": [{\"position\": \"bottom\", \"nticks\": 9, \"tickvalues\": null, \"tickformat_formatter\": \"\", \"tickformat\": null, \"scale\": \"log\", \"fontsize\": 10.0, \"grid\": {\"gridOn\": true, \"color\": \"#B0B0B0\", \"dasharray\": \"none\", \"alpha\": 1.0}, \"visible\": true}, {\"position\": \"left\", \"nticks\": 8, \"tickvalues\": null, \"tickformat_formatter\": \"\", \"tickformat\": null, \"scale\": \"linear\", \"fontsize\": 10.0, \"grid\": {\"gridOn\": true, \"color\": \"#B0B0B0\", \"dasharray\": \"none\", \"alpha\": 1.0}, \"visible\": true}], \"axesbg\": \"#FFFFFF\", \"axesbgalpha\": null, \"zoomable\": true, \"id\": \"el127922381708666632\", \"lines\": [], \"paths\": [], \"markers\": [{\"data\": \"data01\", \"xindex\": 0, \"yindex\": 1, \"coordinates\": \"data\", \"id\": \"el127922381707434952pts\", \"facecolor\": \"none\", \"edgecolor\": \"#000000\", \"edgewidth\": 1.0, \"alpha\": 1, \"zorder\": 2, \"markerpath\": [[[0.0, 1.5], [0.39780465000000004, 1.5], [0.7793698061772802, 1.3419505373823626], [1.0606601717798214, 1.0606601717798214], [1.3419505373823626, 0.7793698061772802], [1.5, 0.39780465000000004], [1.5, 0.0], [1.5, -0.39780465000000004], [1.3419505373823626, -0.7793698061772802], [1.0606601717798214, -1.0606601717798214], [0.7793698061772802, -1.3419505373823626], [0.39780465000000004, -1.5], [0.0, -1.5], [-0.39780465000000004, -1.5], [-0.7793698061772802, -1.3419505373823626], [-1.0606601717798214, -1.0606601717798214], [-1.3419505373823626, -0.7793698061772802], [-1.5, -0.39780465000000004], [-1.5, 0.0], [-1.5, 0.39780465000000004], [-1.3419505373823626, 0.7793698061772802], [-1.0606601717798214, 1.0606601717798214], [-0.7793698061772802, 1.3419505373823626], [-0.39780465000000004, 1.5], [0.0, 1.5]], [\"M\", \"C\", \"C\", \"C\", \"C\", \"C\", \"C\", \"C\", \"C\", \"Z\"]]}], \"texts\": [{\"text\": \"Frecuencia [Hz]\", \"position\": [0.49999999999999994, -0.11405445180279619], \"coordinates\": \"axes\", \"h_anchor\": \"middle\", \"v_baseline\": \"hanging\", \"rotation\": -0.0, \"fontsize\": 10.0, \"color\": \"#000000\", \"alpha\": 1, \"zorder\": 3, \"id\": \"el127922381706197320\"}, {\"text\": \"$Im(\\\\Delta Z)/X_0$\", \"position\": [-0.12470131421744325, 0.4999999999999999], \"coordinates\": \"axes\", \"h_anchor\": \"middle\", \"v_baseline\": \"auto\", \"rotation\": -90.0, \"fontsize\": 10.0, \"color\": \"#000000\", \"alpha\": 1, \"zorder\": 3, \"id\": \"el127922381709011720\"}, {\"text\": \"Exp316M2.csv\", \"position\": [0.49999999999999994, 1.0275938189845473], \"coordinates\": \"axes\", \"h_anchor\": \"middle\", \"v_baseline\": \"auto\", \"rotation\": -0.0, \"fontsize\": 12.0, \"color\": \"#000000\", \"alpha\": 1, \"zorder\": 3, \"id\": \"el127922381708959944\"}], \"collections\": [], \"images\": [], \"sharex\": [], \"sharey\": []}], \"data\": {\"data01\": [[100.0, 0.011185343391134953], [125.8925, 0.011411920916477528], [158.4893, 0.011401112219077053], [199.5262, 0.011366988401137834], [251.1886, 0.01146489640156209], [316.2278, 0.0114391281546906], [398.1072, 0.011494357195395034], [501.1872, 0.011478280109004148], [630.9573, 0.011552337201276151], [794.3282, 0.01171059084916239], [1000.0, 0.011873614714096049], [1258.925, 0.012168866433892629], [1584.893, 0.012554853966725186], [1995.262, 0.013378195613167639], [2511.886, 0.014709900018296414], [3162.278, 0.016860393328774818], [3981.072, 0.019884697904158918], [5011.873, 0.024968200346449105], [6309.573, 0.031013907241247668], [7943.282, 0.03734987933345467], [10000.0, 0.04364734615572444], [12589.25, 0.04680796647888406], [15848.93, 0.04811175631815146], [19952.62, 0.04686783344555549], [25118.87, 0.04405664373883673], [31622.78, 0.03960229956311339], [39810.72, 0.033350139053479756], [50118.72, 0.027582255386495263], [63095.73, 0.020951714884971086], [79432.83, 0.013274098673679671], [100000.0, 0.006369777817680722], [125892.5, -0.0015658947167089855], [158489.3, -0.009430771909565846], [199526.2, -0.016681828227735843], [251188.6, -0.024858954254221684], [316227.8, -0.03158242359789484], [398107.2, -0.03859946066965334], [501187.3, -0.04348187676509438], [630957.3, -0.04951250180128782], [794328.3, -0.05431391614219719], [1000000.0, -0.05794797465067157]]}, \"id\": \"el127922381708709128\", \"plugins\": [{\"type\": \"reset\"}, {\"type\": \"zoom\", \"button\": true, \"enabled\": false}, {\"type\": \"boxzoom\", \"button\": true, \"enabled\": false}]});\n",
       "      });\n",
       "    });\n",
       "}else{\n",
       "    // require.js not available: dynamically load d3 & mpld3\n",
       "    mpld3_load_lib(\"https://d3js.org/d3.v5.js\", function(){\n",
       "         mpld3_load_lib(\"https://mpld3.github.io/js/mpld3.v0.5.1.js\", function(){\n",
       "                 \n",
       "                 mpld3.draw_figure(\"fig_el1279223817087091285847964126\", {\"width\": 432.0, \"height\": 288.0, \"axes\": [{\"bbox\": [0.125, 0.125, 0.775, 0.755], \"xlim\": [63.09573444801933, 1584893.1924611141], \"ylim\": [-0.06325096119911272, 0.05341474286659262], \"xdomain\": [63.09573444801933, 1584893.1924611141], \"ydomain\": [-0.06325096119911272, 0.05341474286659262], \"xscale\": \"log\", \"yscale\": \"linear\", \"axes\": [{\"position\": \"bottom\", \"nticks\": 9, \"tickvalues\": null, \"tickformat_formatter\": \"\", \"tickformat\": null, \"scale\": \"log\", \"fontsize\": 10.0, \"grid\": {\"gridOn\": true, \"color\": \"#B0B0B0\", \"dasharray\": \"none\", \"alpha\": 1.0}, \"visible\": true}, {\"position\": \"left\", \"nticks\": 8, \"tickvalues\": null, \"tickformat_formatter\": \"\", \"tickformat\": null, \"scale\": \"linear\", \"fontsize\": 10.0, \"grid\": {\"gridOn\": true, \"color\": \"#B0B0B0\", \"dasharray\": \"none\", \"alpha\": 1.0}, \"visible\": true}], \"axesbg\": \"#FFFFFF\", \"axesbgalpha\": null, \"zoomable\": true, \"id\": \"el127922381708666632\", \"lines\": [], \"paths\": [], \"markers\": [{\"data\": \"data01\", \"xindex\": 0, \"yindex\": 1, \"coordinates\": \"data\", \"id\": \"el127922381707434952pts\", \"facecolor\": \"none\", \"edgecolor\": \"#000000\", \"edgewidth\": 1.0, \"alpha\": 1, \"zorder\": 2, \"markerpath\": [[[0.0, 1.5], [0.39780465000000004, 1.5], [0.7793698061772802, 1.3419505373823626], [1.0606601717798214, 1.0606601717798214], [1.3419505373823626, 0.7793698061772802], [1.5, 0.39780465000000004], [1.5, 0.0], [1.5, -0.39780465000000004], [1.3419505373823626, -0.7793698061772802], [1.0606601717798214, -1.0606601717798214], [0.7793698061772802, -1.3419505373823626], [0.39780465000000004, -1.5], [0.0, -1.5], [-0.39780465000000004, -1.5], [-0.7793698061772802, -1.3419505373823626], [-1.0606601717798214, -1.0606601717798214], [-1.3419505373823626, -0.7793698061772802], [-1.5, -0.39780465000000004], [-1.5, 0.0], [-1.5, 0.39780465000000004], [-1.3419505373823626, 0.7793698061772802], [-1.0606601717798214, 1.0606601717798214], [-0.7793698061772802, 1.3419505373823626], [-0.39780465000000004, 1.5], [0.0, 1.5]], [\"M\", \"C\", \"C\", \"C\", \"C\", \"C\", \"C\", \"C\", \"C\", \"Z\"]]}], \"texts\": [{\"text\": \"Frecuencia [Hz]\", \"position\": [0.49999999999999994, -0.11405445180279619], \"coordinates\": \"axes\", \"h_anchor\": \"middle\", \"v_baseline\": \"hanging\", \"rotation\": -0.0, \"fontsize\": 10.0, \"color\": \"#000000\", \"alpha\": 1, \"zorder\": 3, \"id\": \"el127922381706197320\"}, {\"text\": \"$Im(\\\\Delta Z)/X_0$\", \"position\": [-0.12470131421744325, 0.4999999999999999], \"coordinates\": \"axes\", \"h_anchor\": \"middle\", \"v_baseline\": \"auto\", \"rotation\": -90.0, \"fontsize\": 10.0, \"color\": \"#000000\", \"alpha\": 1, \"zorder\": 3, \"id\": \"el127922381709011720\"}, {\"text\": \"Exp316M2.csv\", \"position\": [0.49999999999999994, 1.0275938189845473], \"coordinates\": \"axes\", \"h_anchor\": \"middle\", \"v_baseline\": \"auto\", \"rotation\": -0.0, \"fontsize\": 12.0, \"color\": \"#000000\", \"alpha\": 1, \"zorder\": 3, \"id\": \"el127922381708959944\"}], \"collections\": [], \"images\": [], \"sharex\": [], \"sharey\": []}], \"data\": {\"data01\": [[100.0, 0.011185343391134953], [125.8925, 0.011411920916477528], [158.4893, 0.011401112219077053], [199.5262, 0.011366988401137834], [251.1886, 0.01146489640156209], [316.2278, 0.0114391281546906], [398.1072, 0.011494357195395034], [501.1872, 0.011478280109004148], [630.9573, 0.011552337201276151], [794.3282, 0.01171059084916239], [1000.0, 0.011873614714096049], [1258.925, 0.012168866433892629], [1584.893, 0.012554853966725186], [1995.262, 0.013378195613167639], [2511.886, 0.014709900018296414], [3162.278, 0.016860393328774818], [3981.072, 0.019884697904158918], [5011.873, 0.024968200346449105], [6309.573, 0.031013907241247668], [7943.282, 0.03734987933345467], [10000.0, 0.04364734615572444], [12589.25, 0.04680796647888406], [15848.93, 0.04811175631815146], [19952.62, 0.04686783344555549], [25118.87, 0.04405664373883673], [31622.78, 0.03960229956311339], [39810.72, 0.033350139053479756], [50118.72, 0.027582255386495263], [63095.73, 0.020951714884971086], [79432.83, 0.013274098673679671], [100000.0, 0.006369777817680722], [125892.5, -0.0015658947167089855], [158489.3, -0.009430771909565846], [199526.2, -0.016681828227735843], [251188.6, -0.024858954254221684], [316227.8, -0.03158242359789484], [398107.2, -0.03859946066965334], [501187.3, -0.04348187676509438], [630957.3, -0.04951250180128782], [794328.3, -0.05431391614219719], [1000000.0, -0.05794797465067157]]}, \"id\": \"el127922381708709128\", \"plugins\": [{\"type\": \"reset\"}, {\"type\": \"zoom\", \"button\": true, \"enabled\": false}, {\"type\": \"boxzoom\", \"button\": true, \"enabled\": false}]});\n",
       "            })\n",
       "         });\n",
       "}\n",
       "</script>"
      ],
      "text/plain": [
       "<Figure size 432x288 with 1 Axes>"
      ]
     },
     "metadata": {
      "needs_background": "light"
     },
     "output_type": "display_data"
    }
   ],
   "source": [
    "ci.plt.im(f,datacorr,1)"
   ]
  },
  {
   "cell_type": "code",
   "execution_count": 22,
   "metadata": {},
   "outputs": [
    {
     "data": {
      "image/png": "[encoded data removed]",
      "text/html": [
       "\n",
       "\n",
       "<style>\n",
       "\n",
       "</style>\n",
       "\n",
       "<div id=\"fig_el1279223817794538322459727591\"></div>\n",
       "<script>\n",
       "function mpld3_load_lib(url, callback){\n",
       "  var s = document.createElement('script');\n",
       "  s.src = url;\n",
       "  s.async = true;\n",
       "  s.onreadystatechange = s.onload = callback;\n",
       "  s.onerror = function(){console.warn(\"failed to load library \" + url);};\n",
       "  document.getElementsByTagName(\"head\")[0].appendChild(s);\n",
       "}\n",
       "\n",
       "if(typeof(mpld3) !== \"undefined\" && mpld3._mpld3IsLoaded){\n",
       "   // already loaded: just create the figure\n",
       "   !function(mpld3){\n",
       "       \n",
       "       mpld3.draw_figure(\"fig_el1279223817794538322459727591\", {\"width\": 432.0, \"height\": 288.0, \"axes\": [{\"bbox\": [0.125, 0.125, 0.775, 0.755], \"xlim\": [63.09573444801933, 1584893.1924611141], \"ylim\": [-0.021042384485180823, 0.04711841513949512], \"xdomain\": [63.09573444801933, 1584893.1924611141], \"ydomain\": [-0.021042384485180823, 0.04711841513949512], \"xscale\": \"log\", \"yscale\": \"linear\", \"axes\": [{\"position\": \"bottom\", \"nticks\": 9, \"tickvalues\": null, \"tickformat_formatter\": \"\", \"tickformat\": null, \"scale\": \"log\", \"fontsize\": 10.0, \"grid\": {\"gridOn\": true, \"color\": \"#B0B0B0\", \"dasharray\": \"none\", \"alpha\": 1.0}, \"visible\": true}, {\"position\": \"left\", \"nticks\": 9, \"tickvalues\": null, \"tickformat_formatter\": \"\", \"tickformat\": null, \"scale\": \"linear\", \"fontsize\": 10.0, \"grid\": {\"gridOn\": true, \"color\": \"#B0B0B0\", \"dasharray\": \"none\", \"alpha\": 1.0}, \"visible\": true}], \"axesbg\": \"#FFFFFF\", \"axesbgalpha\": null, \"zoomable\": true, \"id\": \"el127922381779723528\", \"lines\": [], \"paths\": [], \"markers\": [{\"data\": \"data01\", \"xindex\": 0, \"yindex\": 1, \"coordinates\": \"data\", \"id\": \"el127922381779759048pts\", \"facecolor\": \"none\", \"edgecolor\": \"#000000\", \"edgewidth\": 1.0, \"alpha\": 1, \"zorder\": 2, \"markerpath\": [[[0.0, 1.5], [0.39780465000000004, 1.5], [0.7793698061772802, 1.3419505373823626], [1.0606601717798214, 1.0606601717798214], [1.3419505373823626, 0.7793698061772802], [1.5, 0.39780465000000004], [1.5, 0.0], [1.5, -0.39780465000000004], [1.3419505373823626, -0.7793698061772802], [1.0606601717798214, -1.0606601717798214], [0.7793698061772802, -1.3419505373823626], [0.39780465000000004, -1.5], [0.0, -1.5], [-0.39780465000000004, -1.5], [-0.7793698061772802, -1.3419505373823626], [-1.0606601717798214, -1.0606601717798214], [-1.3419505373823626, -0.7793698061772802], [-1.5, -0.39780465000000004], [-1.5, 0.0], [-1.5, 0.39780465000000004], [-1.3419505373823626, 0.7793698061772802], [-1.0606601717798214, 1.0606601717798214], [-0.7793698061772802, 1.3419505373823626], [-0.39780465000000004, 1.5], [0.0, 1.5]], [\"M\", \"C\", \"C\", \"C\", \"C\", \"C\", \"C\", \"C\", \"C\", \"Z\"]]}], \"texts\": [{\"text\": \"Frecuencia [Hz]\", \"position\": [0.49999999999999994, -0.11405445180279619], \"coordinates\": \"axes\", \"h_anchor\": \"middle\", \"v_baseline\": \"hanging\", \"rotation\": -0.0, \"fontsize\": 10.0, \"color\": \"#000000\", \"alpha\": 1, \"zorder\": 3, \"id\": \"el127922381779288328\"}, {\"text\": \"$Re(\\\\Delta Z)/X_0$\", \"position\": [-0.12470131421744325, 0.4999999999999999], \"coordinates\": \"axes\", \"h_anchor\": \"middle\", \"v_baseline\": \"auto\", \"rotation\": -90.0, \"fontsize\": 10.0, \"color\": \"#000000\", \"alpha\": 1, \"zorder\": 3, \"id\": \"el127922381673617544\"}, {\"text\": \"Exp316M2.csv\", \"position\": [0.49999999999999994, 1.0275938189845473], \"coordinates\": \"axes\", \"h_anchor\": \"middle\", \"v_baseline\": \"auto\", \"rotation\": -0.0, \"fontsize\": 12.0, \"color\": \"#000000\", \"alpha\": 1, \"zorder\": 3, \"id\": \"el127922381779131976\"}], \"collections\": [], \"images\": [], \"sharex\": [], \"sharey\": []}], \"data\": {\"data01\": [[100.0, 0.008683777524812001], [125.8925, 0.006599596019690577], [158.4893, 0.005048176784250395], [199.5262, 0.003584862498418655], [251.1886, 0.00241797635809447], [316.2278, 0.0013843803550551929], [398.1072, 0.00043959961623230763], [501.1872, -0.0005651727294417561], [630.9573, -0.0014872964775718505], [794.3282, -0.002433269117934334], [1000.0, -0.003618924662300828], [1258.925, -0.004968444229695879], [1584.893, -0.00664130939200618], [1995.262, -0.008572077305922899], [2511.886, -0.01084169393575047], [3162.278, -0.01337961428408424], [3981.072, -0.01581857025583692], [5011.873, -0.017700296873771636], [6309.573, -0.017944166320422825], [7943.282, -0.015782081143410363], [10000.0, -0.011583824069618871], [12589.25, -0.004524786181098351], [15848.93, 0.0030997751193130585], [19952.62, 0.010342325183290242], [25118.87, 0.017848766990426434], [31622.78, 0.023958708013005703], [39810.72, 0.02898876946524736], [50118.72, 0.03353491455060861], [63095.73, 0.037339046622084364], [79432.83, 0.040072804892646634], [100000.0, 0.04211005408766105], [125892.5, 0.04344595296661864], [158489.3, 0.04402019697473712], [199526.2, 0.04375777334447199], [251188.6, 0.04355609566741288], [316227.8, 0.04265000428715634], [398107.2, 0.0422905480252392], [501187.3, 0.038787117653579686], [630957.3, 0.03757811749811778], [794328.3, 0.036224086856657435], [1000000.0, 0.034275801472359854]]}, \"id\": \"el127922381779453832\", \"plugins\": [{\"type\": \"reset\"}, {\"type\": \"zoom\", \"button\": true, \"enabled\": false}, {\"type\": \"boxzoom\", \"button\": true, \"enabled\": false}]});\n",
       "   }(mpld3);\n",
       "}else if(typeof define === \"function\" && define.amd){\n",
       "   // require.js is available: use it to load d3/mpld3\n",
       "   require.config({paths: {d3: \"https://d3js.org/d3.v5\"}});\n",
       "   require([\"d3\"], function(d3){\n",
       "      window.d3 = d3;\n",
       "      mpld3_load_lib(\"https://mpld3.github.io/js/mpld3.v0.5.1.js\", function(){\n",
       "         \n",
       "         mpld3.draw_figure(\"fig_el1279223817794538322459727591\", {\"width\": 432.0, \"height\": 288.0, \"axes\": [{\"bbox\": [0.125, 0.125, 0.775, 0.755], \"xlim\": [63.09573444801933, 1584893.1924611141], \"ylim\": [-0.021042384485180823, 0.04711841513949512], \"xdomain\": [63.09573444801933, 1584893.1924611141], \"ydomain\": [-0.021042384485180823, 0.04711841513949512], \"xscale\": \"log\", \"yscale\": \"linear\", \"axes\": [{\"position\": \"bottom\", \"nticks\": 9, \"tickvalues\": null, \"tickformat_formatter\": \"\", \"tickformat\": null, \"scale\": \"log\", \"fontsize\": 10.0, \"grid\": {\"gridOn\": true, \"color\": \"#B0B0B0\", \"dasharray\": \"none\", \"alpha\": 1.0}, \"visible\": true}, {\"position\": \"left\", \"nticks\": 9, \"tickvalues\": null, \"tickformat_formatter\": \"\", \"tickformat\": null, \"scale\": \"linear\", \"fontsize\": 10.0, \"grid\": {\"gridOn\": true, \"color\": \"#B0B0B0\", \"dasharray\": \"none\", \"alpha\": 1.0}, \"visible\": true}], \"axesbg\": \"#FFFFFF\", \"axesbgalpha\": null, \"zoomable\": true, \"id\": \"el127922381779723528\", \"lines\": [], \"paths\": [], \"markers\": [{\"data\": \"data01\", \"xindex\": 0, \"yindex\": 1, \"coordinates\": \"data\", \"id\": \"el127922381779759048pts\", \"facecolor\": \"none\", \"edgecolor\": \"#000000\", \"edgewidth\": 1.0, \"alpha\": 1, \"zorder\": 2, \"markerpath\": [[[0.0, 1.5], [0.39780465000000004, 1.5], [0.7793698061772802, 1.3419505373823626], [1.0606601717798214, 1.0606601717798214], [1.3419505373823626, 0.7793698061772802], [1.5, 0.39780465000000004], [1.5, 0.0], [1.5, -0.39780465000000004], [1.3419505373823626, -0.7793698061772802], [1.0606601717798214, -1.0606601717798214], [0.7793698061772802, -1.3419505373823626], [0.39780465000000004, -1.5], [0.0, -1.5], [-0.39780465000000004, -1.5], [-0.7793698061772802, -1.3419505373823626], [-1.0606601717798214, -1.0606601717798214], [-1.3419505373823626, -0.7793698061772802], [-1.5, -0.39780465000000004], [-1.5, 0.0], [-1.5, 0.39780465000000004], [-1.3419505373823626, 0.7793698061772802], [-1.0606601717798214, 1.0606601717798214], [-0.7793698061772802, 1.3419505373823626], [-0.39780465000000004, 1.5], [0.0, 1.5]], [\"M\", \"C\", \"C\", \"C\", \"C\", \"C\", \"C\", \"C\", \"C\", \"Z\"]]}], \"texts\": [{\"text\": \"Frecuencia [Hz]\", \"position\": [0.49999999999999994, -0.11405445180279619], \"coordinates\": \"axes\", \"h_anchor\": \"middle\", \"v_baseline\": \"hanging\", \"rotation\": -0.0, \"fontsize\": 10.0, \"color\": \"#000000\", \"alpha\": 1, \"zorder\": 3, \"id\": \"el127922381779288328\"}, {\"text\": \"$Re(\\\\Delta Z)/X_0$\", \"position\": [-0.12470131421744325, 0.4999999999999999], \"coordinates\": \"axes\", \"h_anchor\": \"middle\", \"v_baseline\": \"auto\", \"rotation\": -90.0, \"fontsize\": 10.0, \"color\": \"#000000\", \"alpha\": 1, \"zorder\": 3, \"id\": \"el127922381673617544\"}, {\"text\": \"Exp316M2.csv\", \"position\": [0.49999999999999994, 1.0275938189845473], \"coordinates\": \"axes\", \"h_anchor\": \"middle\", \"v_baseline\": \"auto\", \"rotation\": -0.0, \"fontsize\": 12.0, \"color\": \"#000000\", \"alpha\": 1, \"zorder\": 3, \"id\": \"el127922381779131976\"}], \"collections\": [], \"images\": [], \"sharex\": [], \"sharey\": []}], \"data\": {\"data01\": [[100.0, 0.008683777524812001], [125.8925, 0.006599596019690577], [158.4893, 0.005048176784250395], [199.5262, 0.003584862498418655], [251.1886, 0.00241797635809447], [316.2278, 0.0013843803550551929], [398.1072, 0.00043959961623230763], [501.1872, -0.0005651727294417561], [630.9573, -0.0014872964775718505], [794.3282, -0.002433269117934334], [1000.0, -0.003618924662300828], [1258.925, -0.004968444229695879], [1584.893, -0.00664130939200618], [1995.262, -0.008572077305922899], [2511.886, -0.01084169393575047], [3162.278, -0.01337961428408424], [3981.072, -0.01581857025583692], [5011.873, -0.017700296873771636], [6309.573, -0.017944166320422825], [7943.282, -0.015782081143410363], [10000.0, -0.011583824069618871], [12589.25, -0.004524786181098351], [15848.93, 0.0030997751193130585], [19952.62, 0.010342325183290242], [25118.87, 0.017848766990426434], [31622.78, 0.023958708013005703], [39810.72, 0.02898876946524736], [50118.72, 0.03353491455060861], [63095.73, 0.037339046622084364], [79432.83, 0.040072804892646634], [100000.0, 0.04211005408766105], [125892.5, 0.04344595296661864], [158489.3, 0.04402019697473712], [199526.2, 0.04375777334447199], [251188.6, 0.04355609566741288], [316227.8, 0.04265000428715634], [398107.2, 0.0422905480252392], [501187.3, 0.038787117653579686], [630957.3, 0.03757811749811778], [794328.3, 0.036224086856657435], [1000000.0, 0.034275801472359854]]}, \"id\": \"el127922381779453832\", \"plugins\": [{\"type\": \"reset\"}, {\"type\": \"zoom\", \"button\": true, \"enabled\": false}, {\"type\": \"boxzoom\", \"button\": true, \"enabled\": false}]});\n",
       "      });\n",
       "    });\n",
       "}else{\n",
       "    // require.js not available: dynamically load d3 & mpld3\n",
       "    mpld3_load_lib(\"https://d3js.org/d3.v5.js\", function(){\n",
       "         mpld3_load_lib(\"https://mpld3.github.io/js/mpld3.v0.5.1.js\", function(){\n",
       "                 \n",
       "                 mpld3.draw_figure(\"fig_el1279223817794538322459727591\", {\"width\": 432.0, \"height\": 288.0, \"axes\": [{\"bbox\": [0.125, 0.125, 0.775, 0.755], \"xlim\": [63.09573444801933, 1584893.1924611141], \"ylim\": [-0.021042384485180823, 0.04711841513949512], \"xdomain\": [63.09573444801933, 1584893.1924611141], \"ydomain\": [-0.021042384485180823, 0.04711841513949512], \"xscale\": \"log\", \"yscale\": \"linear\", \"axes\": [{\"position\": \"bottom\", \"nticks\": 9, \"tickvalues\": null, \"tickformat_formatter\": \"\", \"tickformat\": null, \"scale\": \"log\", \"fontsize\": 10.0, \"grid\": {\"gridOn\": true, \"color\": \"#B0B0B0\", \"dasharray\": \"none\", \"alpha\": 1.0}, \"visible\": true}, {\"position\": \"left\", \"nticks\": 9, \"tickvalues\": null, \"tickformat_formatter\": \"\", \"tickformat\": null, \"scale\": \"linear\", \"fontsize\": 10.0, \"grid\": {\"gridOn\": true, \"color\": \"#B0B0B0\", \"dasharray\": \"none\", \"alpha\": 1.0}, \"visible\": true}], \"axesbg\": \"#FFFFFF\", \"axesbgalpha\": null, \"zoomable\": true, \"id\": \"el127922381779723528\", \"lines\": [], \"paths\": [], \"markers\": [{\"data\": \"data01\", \"xindex\": 0, \"yindex\": 1, \"coordinates\": \"data\", \"id\": \"el127922381779759048pts\", \"facecolor\": \"none\", \"edgecolor\": \"#000000\", \"edgewidth\": 1.0, \"alpha\": 1, \"zorder\": 2, \"markerpath\": [[[0.0, 1.5], [0.39780465000000004, 1.5], [0.7793698061772802, 1.3419505373823626], [1.0606601717798214, 1.0606601717798214], [1.3419505373823626, 0.7793698061772802], [1.5, 0.39780465000000004], [1.5, 0.0], [1.5, -0.39780465000000004], [1.3419505373823626, -0.7793698061772802], [1.0606601717798214, -1.0606601717798214], [0.7793698061772802, -1.3419505373823626], [0.39780465000000004, -1.5], [0.0, -1.5], [-0.39780465000000004, -1.5], [-0.7793698061772802, -1.3419505373823626], [-1.0606601717798214, -1.0606601717798214], [-1.3419505373823626, -0.7793698061772802], [-1.5, -0.39780465000000004], [-1.5, 0.0], [-1.5, 0.39780465000000004], [-1.3419505373823626, 0.7793698061772802], [-1.0606601717798214, 1.0606601717798214], [-0.7793698061772802, 1.3419505373823626], [-0.39780465000000004, 1.5], [0.0, 1.5]], [\"M\", \"C\", \"C\", \"C\", \"C\", \"C\", \"C\", \"C\", \"C\", \"Z\"]]}], \"texts\": [{\"text\": \"Frecuencia [Hz]\", \"position\": [0.49999999999999994, -0.11405445180279619], \"coordinates\": \"axes\", \"h_anchor\": \"middle\", \"v_baseline\": \"hanging\", \"rotation\": -0.0, \"fontsize\": 10.0, \"color\": \"#000000\", \"alpha\": 1, \"zorder\": 3, \"id\": \"el127922381779288328\"}, {\"text\": \"$Re(\\\\Delta Z)/X_0$\", \"position\": [-0.12470131421744325, 0.4999999999999999], \"coordinates\": \"axes\", \"h_anchor\": \"middle\", \"v_baseline\": \"auto\", \"rotation\": -90.0, \"fontsize\": 10.0, \"color\": \"#000000\", \"alpha\": 1, \"zorder\": 3, \"id\": \"el127922381673617544\"}, {\"text\": \"Exp316M2.csv\", \"position\": [0.49999999999999994, 1.0275938189845473], \"coordinates\": \"axes\", \"h_anchor\": \"middle\", \"v_baseline\": \"auto\", \"rotation\": -0.0, \"fontsize\": 12.0, \"color\": \"#000000\", \"alpha\": 1, \"zorder\": 3, \"id\": \"el127922381779131976\"}], \"collections\": [], \"images\": [], \"sharex\": [], \"sharey\": []}], \"data\": {\"data01\": [[100.0, 0.008683777524812001], [125.8925, 0.006599596019690577], [158.4893, 0.005048176784250395], [199.5262, 0.003584862498418655], [251.1886, 0.00241797635809447], [316.2278, 0.0013843803550551929], [398.1072, 0.00043959961623230763], [501.1872, -0.0005651727294417561], [630.9573, -0.0014872964775718505], [794.3282, -0.002433269117934334], [1000.0, -0.003618924662300828], [1258.925, -0.004968444229695879], [1584.893, -0.00664130939200618], [1995.262, -0.008572077305922899], [2511.886, -0.01084169393575047], [3162.278, -0.01337961428408424], [3981.072, -0.01581857025583692], [5011.873, -0.017700296873771636], [6309.573, -0.017944166320422825], [7943.282, -0.015782081143410363], [10000.0, -0.011583824069618871], [12589.25, -0.004524786181098351], [15848.93, 0.0030997751193130585], [19952.62, 0.010342325183290242], [25118.87, 0.017848766990426434], [31622.78, 0.023958708013005703], [39810.72, 0.02898876946524736], [50118.72, 0.03353491455060861], [63095.73, 0.037339046622084364], [79432.83, 0.040072804892646634], [100000.0, 0.04211005408766105], [125892.5, 0.04344595296661864], [158489.3, 0.04402019697473712], [199526.2, 0.04375777334447199], [251188.6, 0.04355609566741288], [316227.8, 0.04265000428715634], [398107.2, 0.0422905480252392], [501187.3, 0.038787117653579686], [630957.3, 0.03757811749811778], [794328.3, 0.036224086856657435], [1000000.0, 0.034275801472359854]]}, \"id\": \"el127922381779453832\", \"plugins\": [{\"type\": \"reset\"}, {\"type\": \"zoom\", \"button\": true, \"enabled\": false}, {\"type\": \"boxzoom\", \"button\": true, \"enabled\": false}]});\n",
       "            })\n",
       "         });\n",
       "}\n",
       "</script>"
      ],
      "text/plain": [
       "<Figure size 432x288 with 1 Axes>"
      ]
     },
     "metadata": {
      "needs_background": "light"
     },
     "output_type": "display_data"
    }
   ],
   "source": [
    "ci.plt.re(f,datacorr,1)"
   ]
  },
  {
   "cell_type": "code",
   "execution_count": 23,
   "metadata": {},
   "outputs": [
    {
     "data": {
      "application/vnd.plotly.v1+json": {
       "config": {
        "linkText": "Export to plot.ly",
        "plotlyServerURL": "https://plot.ly",
        "showLink": false
       },
       "data": [
        {
         "mode": "lines",
         "name": "Exp316M1.csv",
         "type": "scatter",
         "x": [
          100,
          125.8925,
          158.4893,
          199.5262,
          251.1886,
          316.2278,
          398.1072,
          501.1872,
          630.9573,
          794.3282,
          1000,
          1258.925,
          1584.893,
          1995.262,
          2511.886,
          3162.278,
          3981.072,
          5011.873,
          6309.573,
          7943.282,
          10000,
          12589.25,
          15848.93,
          19952.62,
          25118.87,
          31622.78,
          39810.72,
          50118.72,
          63095.73,
          79432.83,
          100000,
          125892.5,
          158489.3,
          199526.2,
          251188.6,
          316227.8,
          398107.2,
          501187.3,
          630957.3,
          794328.3,
          1000000
         ],
         "y": [
          0.01161878562281347,
          0.011621429395830909,
          0.011648521219919723,
          0.011610383903446054,
          0.011738620319055475,
          0.011734558503139668,
          0.011758709321623826,
          0.011751748671449604,
          0.01182807667170917,
          0.011933258412260802,
          0.01213402466094384,
          0.012431306292700242,
          0.012782049460135975,
          0.013681941467694508,
          0.014979775321349776,
          0.01721267693438928,
          0.02039497667480968,
          0.02560243171599654,
          0.03175395763907228,
          0.037988224704708,
          0.04428977581184761,
          0.04814369183558316,
          0.04950130092715805,
          0.04863787667197884,
          0.04589106629733454,
          0.04164681738965576,
          0.03543677458556116,
          0.02981355332573914,
          0.02348426660470995,
          0.015624495635727336,
          0.00937944046709004,
          0.0011810785906124187,
          -0.006939607825145463,
          -0.013932666396740819,
          -0.0217969852479471,
          -0.028367661658951958,
          -0.03636158094458392,
          -0.042283734937756536,
          -0.04733187269250585,
          -0.05314890809446293,
          -0.05706898247272464
         ]
        },
        {
         "mode": "lines",
         "name": "Exp316M2.csv",
         "type": "scatter",
         "x": [
          100,
          125.8925,
          158.4893,
          199.5262,
          251.1886,
          316.2278,
          398.1072,
          501.1872,
          630.9573,
          794.3282,
          1000,
          1258.925,
          1584.893,
          1995.262,
          2511.886,
          3162.278,
          3981.072,
          5011.873,
          6309.573,
          7943.282,
          10000,
          12589.25,
          15848.93,
          19952.62,
          25118.87,
          31622.78,
          39810.72,
          50118.72,
          63095.73,
          79432.83,
          100000,
          125892.5,
          158489.3,
          199526.2,
          251188.6,
          316227.8,
          398107.2,
          501187.3,
          630957.3,
          794328.3,
          1000000
         ],
         "y": [
          0.011185343391134953,
          0.011411920916477528,
          0.011401112219077053,
          0.011366988401137834,
          0.01146489640156209,
          0.0114391281546906,
          0.011494357195395034,
          0.011478280109004148,
          0.011552337201276151,
          0.01171059084916239,
          0.011873614714096049,
          0.012168866433892629,
          0.012554853966725186,
          0.013378195613167639,
          0.014709900018296414,
          0.016860393328774818,
          0.019884697904158918,
          0.024968200346449105,
          0.031013907241247668,
          0.03734987933345467,
          0.04364734615572444,
          0.04680796647888406,
          0.04811175631815146,
          0.04686783344555549,
          0.04405664373883673,
          0.03960229956311339,
          0.033350139053479756,
          0.027582255386495263,
          0.020951714884971086,
          0.013274098673679671,
          0.006369777817680722,
          -0.0015658947167089855,
          -0.009430771909565846,
          -0.016681828227735843,
          -0.024858954254221684,
          -0.03158242359789484,
          -0.03859946066965334,
          -0.04348187676509438,
          -0.04951250180128782,
          -0.05431391614219719,
          -0.05794797465067157
         ]
        },
        {
         "mode": "lines",
         "name": "Exp316M3.csv",
         "type": "scatter",
         "x": [
          100,
          125.8925,
          158.4893,
          199.5262,
          251.1886,
          316.2278,
          398.1072,
          501.1872,
          630.9573,
          794.3282,
          1000,
          1258.925,
          1584.893,
          1995.262,
          2511.886,
          3162.278,
          3981.072,
          5011.873,
          6309.573,
          7943.282,
          10000,
          12589.25,
          15848.93,
          19952.62,
          25118.87,
          31622.78,
          39810.72,
          50118.72,
          63095.73,
          79432.83,
          100000,
          125892.5,
          158489.3,
          199526.2,
          251188.6,
          316227.8,
          398107.2,
          501187.3,
          630957.3,
          794328.3,
          1000000
         ],
         "y": [
          0.010829351650498224,
          0.01076708679443164,
          0.010826037764788332,
          0.010804700645893232,
          0.01088368008519066,
          0.010853842962604207,
          0.010887643072363404,
          0.010829545490395479,
          0.01094762173161594,
          0.011090583723239088,
          0.01124091637754367,
          0.011486015265946392,
          0.011737401347776968,
          0.01266298074276647,
          0.01390812311137857,
          0.015907184641467002,
          0.01942389865439994,
          0.0239115557323044,
          0.029332198418847953,
          0.03516425424257113,
          0.04073513022424012,
          0.04517708300367564,
          0.04512987836388817,
          0.04377494537979263,
          0.04060679591665642,
          0.03665811278502534,
          0.02984881031833759,
          0.023486466362136957,
          0.017752871386442035,
          0.01085492917105142,
          0.003508420588896133,
          -0.003977388079723147,
          -0.011677827974890746,
          -0.018982860533588053,
          -0.026626736023569943,
          -0.033471694446374656,
          -0.039644524010811616,
          -0.04540747160861998,
          -0.04972559850072532,
          -0.054384557870573814,
          -0.05837045832651597
         ]
        },
        {
         "mode": "lines",
         "name": "Exp316M4.csv",
         "type": "scatter",
         "x": [
          100,
          125.8925,
          158.4893,
          199.5262,
          251.1886,
          316.2278,
          398.1072,
          501.1872,
          630.9573,
          794.3282,
          1000,
          1258.925,
          1584.893,
          1995.262,
          2511.886,
          3162.278,
          3981.072,
          5011.873,
          6309.573,
          7943.282,
          10000,
          12589.25,
          15848.93,
          19952.62,
          25118.87,
          31622.78,
          39810.72,
          50118.72,
          63095.73,
          79432.83,
          100000,
          125892.5,
          158489.3,
          199526.2,
          251188.6,
          316227.8,
          398107.2,
          501187.3,
          630957.3,
          794328.3,
          1000000
         ],
         "y": [
          0.007103252504327656,
          0.0073346124943905085,
          0.007405565829526443,
          0.007380977791524218,
          0.007507035962042551,
          0.007376547470639174,
          0.007398331338336154,
          0.0073776738332496615,
          0.007450342505399111,
          0.00758070875611657,
          0.007683672906353217,
          0.007867013517463115,
          0.008063427087012638,
          0.008767031759191022,
          0.009768232325425789,
          0.01115579066531056,
          0.01329339939625439,
          0.016736283961359556,
          0.020863218613642213,
          0.024763077245138865,
          0.028885725722547963,
          0.030589104337970175,
          0.02960253295524397,
          0.026757605156383417,
          0.022961264451542875,
          0.017949003967171022,
          0.01216460340089868,
          0.004851762784307149,
          -0.000631047018723669,
          -0.008322984691441373,
          -0.014873279918246916,
          -0.02169828056811306,
          -0.028512065712854556,
          -0.035071704834050345,
          -0.040870277563265923,
          -0.04579850244676505,
          -0.05225335731179998,
          -0.055134414852997624,
          -0.059327575198983136,
          -0.06308147206682625,
          -0.06525137041984076
         ]
        },
        {
         "mode": "lines",
         "name": "Exp316M5.csv",
         "type": "scatter",
         "x": [
          100,
          125.8925,
          158.4893,
          199.5262,
          251.1886,
          316.2278,
          398.1072,
          501.1872,
          630.9573,
          794.3282,
          1000,
          1258.925,
          1584.893,
          1995.262,
          2511.886,
          3162.278,
          3981.072,
          5011.873,
          6309.573,
          7943.282,
          10000,
          12589.25,
          15848.93,
          19952.62,
          25118.87,
          31622.78,
          39810.72,
          50118.72,
          63095.73,
          79432.83,
          100000,
          125892.5,
          158489.3,
          199526.2,
          251188.6,
          316227.8,
          398107.2,
          501187.3,
          630957.3,
          794328.3,
          1000000
         ],
         "y": [
          0.004937055976391844,
          0.004901926253816597,
          0.004962457958673171,
          0.004935351280440481,
          0.004934953568457709,
          0.004914077937776268,
          0.004929088898071071,
          0.0048983674382331935,
          0.004962370447649713,
          0.005084391839233673,
          0.005161819703952102,
          0.0052514597319547225,
          0.005383169316208984,
          0.005937492531178889,
          0.006583834458259209,
          0.007595305708036604,
          0.009118009949179563,
          0.011877094489327524,
          0.014416030491633532,
          0.01682926581052504,
          0.019072893954977976,
          0.01988359871689154,
          0.017624120930764493,
          0.014430533110488765,
          0.010990466458866822,
          0.004988992044563815,
          0.00033198312577884036,
          -0.006834227932781104,
          -0.013019615679568573,
          -0.019423732609546038,
          -0.02511051143777817,
          -0.03080320403659419,
          -0.03728217524760998,
          -0.041980976330384154,
          -0.04794904290868112,
          -0.05254379129082414,
          -0.05749453339176431,
          -0.06056298034661149,
          -0.0637134582607313,
          -0.0669559876595138,
          -0.06898127063615407
         ]
        },
        {
         "mode": "lines",
         "name": "Exp316M6.csv",
         "type": "scatter",
         "x": [
          100,
          125.8925,
          158.4893,
          199.5262,
          251.1886,
          316.2278,
          398.1072,
          501.1872,
          630.9573,
          794.3282,
          1000,
          1258.925,
          1584.893,
          1995.262,
          2511.886,
          3162.278,
          3981.072,
          5011.873,
          6309.573,
          7943.282,
          10000,
          12589.25,
          15848.93,
          19952.62,
          25118.87,
          31622.78,
          39810.72,
          50118.72,
          63095.73,
          79432.83,
          100000,
          125892.5,
          158489.3,
          199526.2,
          251188.6,
          316227.8,
          398107.2,
          501187.3,
          630957.3,
          794328.3,
          1000000
         ],
         "y": [
          0.0035055359084707467,
          0.0034775749515769797,
          0.0035049073822907076,
          0.003474221419502836,
          0.0035012192509094923,
          0.0034987059096744516,
          0.003534032799304332,
          0.0034849325683330894,
          0.0035327135678921173,
          0.003608106389727786,
          0.0036892021331474665,
          0.0037850817595190354,
          0.00389126279335704,
          0.004244924378476887,
          0.00481586811625352,
          0.005516779069942565,
          0.006541518079827615,
          0.007844332289370102,
          0.009829426797241182,
          0.010762824183183733,
          0.011629615268655758,
          0.010964908131289834,
          0.008029134277497628,
          0.004511215627804082,
          -3.754777024937639e-05,
          -0.005151392361248842,
          -0.012485146581409786,
          -0.018231114351653897,
          -0.02249461837374994,
          -0.028087884008387888,
          -0.03298119786817735,
          -0.038415160884243,
          -0.04365017819845306,
          -0.04840845649946924,
          -0.05361930143329908,
          -0.05718004961250308,
          -0.06231144527349256,
          -0.06445326495625774,
          -0.06685040639656792,
          -0.06954692980203124,
          -0.07078810466571223
         ]
        },
        {
         "mode": "lines",
         "name": "Exp316M7.csv",
         "type": "scatter",
         "x": [
          100,
          125.8925,
          158.4893,
          199.5262,
          251.1886,
          316.2278,
          398.1072,
          501.1872,
          630.9573,
          794.3282,
          1000,
          1258.925,
          1584.893,
          1995.262,
          2511.886,
          3162.278,
          3981.072,
          5011.873,
          6309.573,
          7943.282,
          10000,
          12589.25,
          15848.93,
          19952.62,
          25118.87,
          31622.78,
          39810.72,
          50118.72,
          63095.73,
          79432.83,
          100000,
          125892.5,
          158489.3,
          199526.2,
          251188.6,
          316227.8,
          398107.2,
          501187.3,
          630957.3,
          794328.3,
          1000000
         ],
         "y": [
          0.0025119135192728033,
          0.002651564766378822,
          0.0026398908733367924,
          0.002626714661954534,
          0.002606629956565208,
          0.0026803646842571156,
          0.0026714836132167167,
          0.0026711291434760474,
          0.0026963190656689546,
          0.0028209073559481686,
          0.0028436048437036673,
          0.00300750029125149,
          0.0030947706934988557,
          0.0033904344858279815,
          0.003747780750372638,
          0.004351358131078763,
          0.005587758477002938,
          0.006830728336510404,
          0.008303999234793432,
          0.009211113142667085,
          0.009921536498352767,
          0.008730389747246855,
          0.006453661839872608,
          0.002616885016035168,
          -0.001999977793131582,
          -0.006749450359076572,
          -0.012818914895622821,
          -0.018861274659209608,
          -0.023865683700878333,
          -0.029637537591751018,
          -0.034309380028455384,
          -0.03948113482175524,
          -0.04438201526918627,
          -0.04923826731082972,
          -0.05429232134248914,
          -0.057680824190337945,
          -0.06238524448836862,
          -0.0645278621054063,
          -0.06752665906944921,
          -0.06953934107891561,
          -0.0709974359585403
         ]
        },
        {
         "mode": "lines",
         "name": "Exp316M8.csv",
         "type": "scatter",
         "x": [
          100,
          125.8925,
          158.4893,
          199.5262,
          251.1886,
          316.2278,
          398.1072,
          501.1872,
          630.9573,
          794.3282,
          1000,
          1258.925,
          1584.893,
          1995.262,
          2511.886,
          3162.278,
          3981.072,
          5011.873,
          6309.573,
          7943.282,
          10000,
          12589.25,
          15848.93,
          19952.62,
          25118.87,
          31622.78,
          39810.72,
          50118.72,
          63095.73,
          79432.83,
          100000,
          125892.5,
          158489.3,
          199526.2,
          251188.6,
          316227.8,
          398107.2,
          501187.3,
          630957.3,
          794328.3,
          1000000
         ],
         "y": [
          0.0018232044155353175,
          0.00176561252359066,
          0.0018118443179649015,
          0.0017784301712902792,
          0.001829371544905599,
          0.0018321797475249887,
          0.0018486877625480851,
          0.0018319082894800909,
          0.001862021732423864,
          0.0019124087776043526,
          0.0019903164980459897,
          0.002140007160671948,
          0.001998824096841135,
          0.002397222916312713,
          0.0028497031686283846,
          0.0033750094576000373,
          0.003846709334026316,
          0.005054331930907657,
          0.006049036505190273,
          0.006537622068650375,
          0.0069680367493340205,
          0.005883620211052126,
          0.0028456557062661093,
          -0.0009262885065251722,
          -0.005432627438619219,
          -0.010392698870219354,
          -0.017027748764310315,
          -0.02029571161052998,
          -0.02662964051775477,
          -0.032585291162444116,
          -0.03676148450708767,
          -0.04179711567285812,
          -0.046617114523458625,
          -0.05123281740636811,
          -0.055532737918722264,
          -0.058639909962360806,
          -0.062953508993875,
          -0.0650742081964575,
          -0.06795499479134297,
          -0.06993745818187315,
          -0.07102923877137286
         ]
        },
        {
         "mode": "lines",
         "name": "Exp316M9.csv",
         "type": "scatter",
         "x": [
          100,
          125.8925,
          158.4893,
          199.5262,
          251.1886,
          316.2278,
          398.1072,
          501.1872,
          630.9573,
          794.3282,
          1000,
          1258.925,
          1584.893,
          1995.262,
          2511.886,
          3162.278,
          3981.072,
          5011.873,
          6309.573,
          7943.282,
          10000,
          12589.25,
          15848.93,
          19952.62,
          25118.87,
          31622.78,
          39810.72,
          50118.72,
          63095.73,
          79432.83,
          100000,
          125892.5,
          158489.3,
          199526.2,
          251188.6,
          316227.8,
          398107.2,
          501187.3,
          630957.3,
          794328.3,
          1000000
         ],
         "y": [
          0.0016626913080188095,
          0.0018042355105637748,
          0.0018692295380185152,
          0.0019230378679119858,
          0.0018824050344495133,
          0.0018752895683791745,
          0.0019061796360894511,
          0.001887033818349559,
          0.0019039839898028822,
          0.001971990755266484,
          0.002028434341636489,
          0.0021348913144074717,
          0.0019874587604478645,
          0.002500370994109898,
          0.0028298502469695473,
          0.003309014580868835,
          0.004015241028898425,
          0.004912416223123378,
          0.006156142265396102,
          0.006352108187593377,
          0.006179277427890172,
          0.004874093701347453,
          0.002139731053456287,
          -0.0016729060800946159,
          -0.006400754069912526,
          -0.011202801409973949,
          -0.01736827646620601,
          -0.023568656875817884,
          -0.027866917127253546,
          -0.033261930324629284,
          -0.038018832116070635,
          -0.042564482176166235,
          -0.04748647976705468,
          -0.051563853006263066,
          -0.05634311281520569,
          -0.059873314703081666,
          -0.06424544356007847,
          -0.06631169764330115,
          -0.06885354756449835,
          -0.07097618069896011,
          -0.07176865099758185
         ]
        },
        {
         "mode": "lines",
         "name": "Exp316patron.csv",
         "type": "scatter",
         "x": [
          100,
          125.8925,
          158.4893,
          199.5262,
          251.1886,
          316.2278,
          398.1072,
          501.1872,
          630.9573,
          794.3282,
          1000,
          1258.925,
          1584.893,
          1995.262,
          2511.886,
          3162.278,
          3981.072,
          5011.873,
          6309.573,
          7943.282,
          10000,
          12589.25,
          15848.93,
          19952.62,
          25118.87,
          31622.78,
          39810.72,
          50118.72,
          63095.73,
          79432.83,
          100000,
          125892.5,
          158489.3,
          199526.2,
          251188.6,
          316227.8,
          398107.2,
          501187.3,
          630957.3,
          794328.3,
          1000000
         ],
         "y": [
          -0.0019605957490396123,
          -0.0019064620130503198,
          -0.0018226974015339442,
          -0.0018934375474931057,
          -0.001882056668264763,
          -0.0019203067687173733,
          -0.0019092955245893577,
          -0.001965271857877723,
          -0.001927606056579775,
          -0.0018604554196218544,
          -0.0018294012590917403,
          -0.001759743182255404,
          -0.001598282718652291,
          -0.0013579544372393933,
          -0.0009602750136828175,
          -0.0005054623683109958,
          -8.459835344648434e-05,
          0.0003957756416021237,
          -0.00016460076032412104,
          -0.0016448360776357936,
          -0.004278329770811578,
          -0.008539172368831296,
          -0.014376590375384657,
          -0.020654059694966056,
          -0.026347376467815712,
          -0.032771721777501504,
          -0.03857129488814041,
          -0.04326212150587994,
          -0.050364043702198165,
          -0.05416060716971335,
          -0.05836200661626695,
          -0.06260110938277774,
          -0.06606044986437384,
          -0.06994734854119608,
          -0.07326529435125662,
          -0.0751178262716328,
          -0.07854583558414306,
          -0.0787190838885,
          -0.08069688300444529,
          -0.08240381660471231,
          -0.08270818401415278
         ]
        }
       ],
       "layout": {
        "autosize": true,
        "template": {
         "data": {
          "bar": [
           {
            "error_x": {
             "color": "#2a3f5f"
            },
            "error_y": {
             "color": "#2a3f5f"
            },
            "marker": {
             "line": {
              "color": "#E5ECF6",
              "width": 0.5
             }
            },
            "type": "bar"
           }
          ],
          "barpolar": [
           {
            "marker": {
             "line": {
              "color": "#E5ECF6",
              "width": 0.5
             }
            },
            "type": "barpolar"
           }
          ],
          "carpet": [
           {
            "aaxis": {
             "endlinecolor": "#2a3f5f",
             "gridcolor": "white",
             "linecolor": "white",
             "minorgridcolor": "white",
             "startlinecolor": "#2a3f5f"
            },
            "baxis": {
             "endlinecolor": "#2a3f5f",
             "gridcolor": "white",
             "linecolor": "white",
             "minorgridcolor": "white",
             "startlinecolor": "#2a3f5f"
            },
            "type": "carpet"
           }
          ],
          "choropleth": [
           {
            "colorbar": {
             "outlinewidth": 0,
             "ticks": ""
            },
            "type": "choropleth"
           }
          ],
          "contour": [
           {
            "colorbar": {
             "outlinewidth": 0,
             "ticks": ""
            },
            "colorscale": [
             [
              0,
              "#0d0887"
             ],
             [
              0.1111111111111111,
              "#46039f"
             ],
             [
              0.2222222222222222,
              "#7201a8"
             ],
             [
              0.3333333333333333,
              "#9c179e"
             ],
             [
              0.4444444444444444,
              "#bd3786"
             ],
             [
              0.5555555555555556,
              "#d8576b"
             ],
             [
              0.6666666666666666,
              "#ed7953"
             ],
             [
              0.7777777777777778,
              "#fb9f3a"
             ],
             [
              0.8888888888888888,
              "#fdca26"
             ],
             [
              1,
              "#f0f921"
             ]
            ],
            "type": "contour"
           }
          ],
          "contourcarpet": [
           {
            "colorbar": {
             "outlinewidth": 0,
             "ticks": ""
            },
            "type": "contourcarpet"
           }
          ],
          "heatmap": [
           {
            "colorbar": {
             "outlinewidth": 0,
             "ticks": ""
            },
            "colorscale": [
             [
              0,
              "#0d0887"
             ],
             [
              0.1111111111111111,
              "#46039f"
             ],
             [
              0.2222222222222222,
              "#7201a8"
             ],
             [
              0.3333333333333333,
              "#9c179e"
             ],
             [
              0.4444444444444444,
              "#bd3786"
             ],
             [
              0.5555555555555556,
              "#d8576b"
             ],
             [
              0.6666666666666666,
              "#ed7953"
             ],
             [
              0.7777777777777778,
              "#fb9f3a"
             ],
             [
              0.8888888888888888,
              "#fdca26"
             ],
             [
              1,
              "#f0f921"
             ]
            ],
            "type": "heatmap"
           }
          ],
          "heatmapgl": [
           {
            "colorbar": {
             "outlinewidth": 0,
             "ticks": ""
            },
            "colorscale": [
             [
              0,
              "#0d0887"
             ],
             [
              0.1111111111111111,
              "#46039f"
             ],
             [
              0.2222222222222222,
              "#7201a8"
             ],
             [
              0.3333333333333333,
              "#9c179e"
             ],
             [
              0.4444444444444444,
              "#bd3786"
             ],
             [
              0.5555555555555556,
              "#d8576b"
             ],
             [
              0.6666666666666666,
              "#ed7953"
             ],
             [
              0.7777777777777778,
              "#fb9f3a"
             ],
             [
              0.8888888888888888,
              "#fdca26"
             ],
             [
              1,
              "#f0f921"
             ]
            ],
            "type": "heatmapgl"
           }
          ],
          "histogram": [
           {
            "marker": {
             "colorbar": {
              "outlinewidth": 0,
              "ticks": ""
             }
            },
            "type": "histogram"
           }
          ],
          "histogram2d": [
           {
            "colorbar": {
             "outlinewidth": 0,
             "ticks": ""
            },
            "colorscale": [
             [
              0,
              "#0d0887"
             ],
             [
              0.1111111111111111,
              "#46039f"
             ],
             [
              0.2222222222222222,
              "#7201a8"
             ],
             [
              0.3333333333333333,
              "#9c179e"
             ],
             [
              0.4444444444444444,
              "#bd3786"
             ],
             [
              0.5555555555555556,
              "#d8576b"
             ],
             [
              0.6666666666666666,
              "#ed7953"
             ],
             [
              0.7777777777777778,
              "#fb9f3a"
             ],
             [
              0.8888888888888888,
              "#fdca26"
             ],
             [
              1,
              "#f0f921"
             ]
            ],
            "type": "histogram2d"
           }
          ],
          "histogram2dcontour": [
           {
            "colorbar": {
             "outlinewidth": 0,
             "ticks": ""
            },
            "colorscale": [
             [
              0,
              "#0d0887"
             ],
             [
              0.1111111111111111,
              "#46039f"
             ],
             [
              0.2222222222222222,
              "#7201a8"
             ],
             [
              0.3333333333333333,
              "#9c179e"
             ],
             [
              0.4444444444444444,
              "#bd3786"
             ],
             [
              0.5555555555555556,
              "#d8576b"
             ],
             [
              0.6666666666666666,
              "#ed7953"
             ],
             [
              0.7777777777777778,
              "#fb9f3a"
             ],
             [
              0.8888888888888888,
              "#fdca26"
             ],
             [
              1,
              "#f0f921"
             ]
            ],
            "type": "histogram2dcontour"
           }
          ],
          "mesh3d": [
           {
            "colorbar": {
             "outlinewidth": 0,
             "ticks": ""
            },
            "type": "mesh3d"
           }
          ],
          "parcoords": [
           {
            "line": {
             "colorbar": {
              "outlinewidth": 0,
              "ticks": ""
             }
            },
            "type": "parcoords"
           }
          ],
          "pie": [
           {
            "automargin": true,
            "type": "pie"
           }
          ],
          "scatter": [
           {
            "marker": {
             "colorbar": {
              "outlinewidth": 0,
              "ticks": ""
             }
            },
            "type": "scatter"
           }
          ],
          "scatter3d": [
           {
            "line": {
             "colorbar": {
              "outlinewidth": 0,
              "ticks": ""
             }
            },
            "marker": {
             "colorbar": {
              "outlinewidth": 0,
              "ticks": ""
             }
            },
            "type": "scatter3d"
           }
          ],
          "scattercarpet": [
           {
            "marker": {
             "colorbar": {
              "outlinewidth": 0,
              "ticks": ""
             }
            },
            "type": "scattercarpet"
           }
          ],
          "scattergeo": [
           {
            "marker": {
             "colorbar": {
              "outlinewidth": 0,
              "ticks": ""
             }
            },
            "type": "scattergeo"
           }
          ],
          "scattergl": [
           {
            "marker": {
             "colorbar": {
              "outlinewidth": 0,
              "ticks": ""
             }
            },
            "type": "scattergl"
           }
          ],
          "scattermapbox": [
           {
            "marker": {
             "colorbar": {
              "outlinewidth": 0,
              "ticks": ""
             }
            },
            "type": "scattermapbox"
           }
          ],
          "scatterpolar": [
           {
            "marker": {
             "colorbar": {
              "outlinewidth": 0,
              "ticks": ""
             }
            },
            "type": "scatterpolar"
           }
          ],
          "scatterpolargl": [
           {
            "marker": {
             "colorbar": {
              "outlinewidth": 0,
              "ticks": ""
             }
            },
            "type": "scatterpolargl"
           }
          ],
          "scatterternary": [
           {
            "marker": {
             "colorbar": {
              "outlinewidth": 0,
              "ticks": ""
             }
            },
            "type": "scatterternary"
           }
          ],
          "surface": [
           {
            "colorbar": {
             "outlinewidth": 0,
             "ticks": ""
            },
            "colorscale": [
             [
              0,
              "#0d0887"
             ],
             [
              0.1111111111111111,
              "#46039f"
             ],
             [
              0.2222222222222222,
              "#7201a8"
             ],
             [
              0.3333333333333333,
              "#9c179e"
             ],
             [
              0.4444444444444444,
              "#bd3786"
             ],
             [
              0.5555555555555556,
              "#d8576b"
             ],
             [
              0.6666666666666666,
              "#ed7953"
             ],
             [
              0.7777777777777778,
              "#fb9f3a"
             ],
             [
              0.8888888888888888,
              "#fdca26"
             ],
             [
              1,
              "#f0f921"
             ]
            ],
            "type": "surface"
           }
          ],
          "table": [
           {
            "cells": {
             "fill": {
              "color": "#EBF0F8"
             },
             "line": {
              "color": "white"
             }
            },
            "header": {
             "fill": {
              "color": "#C8D4E3"
             },
             "line": {
              "color": "white"
             }
            },
            "type": "table"
           }
          ]
         },
         "layout": {
          "annotationdefaults": {
           "arrowcolor": "#2a3f5f",
           "arrowhead": 0,
           "arrowwidth": 1
          },
          "coloraxis": {
           "colorbar": {
            "outlinewidth": 0,
            "ticks": ""
           }
          },
          "colorscale": {
           "diverging": [
            [
             0,
             "#8e0152"
            ],
            [
             0.1,
             "#c51b7d"
            ],
            [
             0.2,
             "#de77ae"
            ],
            [
             0.3,
             "#f1b6da"
            ],
            [
             0.4,
             "#fde0ef"
            ],
            [
             0.5,
             "#f7f7f7"
            ],
            [
             0.6,
             "#e6f5d0"
            ],
            [
             0.7,
             "#b8e186"
            ],
            [
             0.8,
             "#7fbc41"
            ],
            [
             0.9,
             "#4d9221"
            ],
            [
             1,
             "#276419"
            ]
           ],
           "sequential": [
            [
             0,
             "#0d0887"
            ],
            [
             0.1111111111111111,
             "#46039f"
            ],
            [
             0.2222222222222222,
             "#7201a8"
            ],
            [
             0.3333333333333333,
             "#9c179e"
            ],
            [
             0.4444444444444444,
             "#bd3786"
            ],
            [
             0.5555555555555556,
             "#d8576b"
            ],
            [
             0.6666666666666666,
             "#ed7953"
            ],
            [
             0.7777777777777778,
             "#fb9f3a"
            ],
            [
             0.8888888888888888,
             "#fdca26"
            ],
            [
             1,
             "#f0f921"
            ]
           ],
           "sequentialminus": [
            [
             0,
             "#0d0887"
            ],
            [
             0.1111111111111111,
             "#46039f"
            ],
            [
             0.2222222222222222,
             "#7201a8"
            ],
            [
             0.3333333333333333,
             "#9c179e"
            ],
            [
             0.4444444444444444,
             "#bd3786"
            ],
            [
             0.5555555555555556,
             "#d8576b"
            ],
            [
             0.6666666666666666,
             "#ed7953"
            ],
            [
             0.7777777777777778,
             "#fb9f3a"
            ],
            [
             0.8888888888888888,
             "#fdca26"
            ],
            [
             1,
             "#f0f921"
            ]
           ]
          },
          "colorway": [
           "#636efa",
           "#EF553B",
           "#00cc96",
           "#ab63fa",
           "#FFA15A",
           "#19d3f3",
           "#FF6692",
           "#B6E880",
           "#FF97FF",
           "#FECB52"
          ],
          "font": {
           "color": "#2a3f5f"
          },
          "geo": {
           "bgcolor": "white",
           "lakecolor": "white",
           "landcolor": "#E5ECF6",
           "showlakes": true,
           "showland": true,
           "subunitcolor": "white"
          },
          "hoverlabel": {
           "align": "left"
          },
          "hovermode": "closest",
          "mapbox": {
           "style": "light"
          },
          "paper_bgcolor": "white",
          "plot_bgcolor": "#E5ECF6",
          "polar": {
           "angularaxis": {
            "gridcolor": "white",
            "linecolor": "white",
            "ticks": ""
           },
           "bgcolor": "#E5ECF6",
           "radialaxis": {
            "gridcolor": "white",
            "linecolor": "white",
            "ticks": ""
           }
          },
          "scene": {
           "xaxis": {
            "backgroundcolor": "#E5ECF6",
            "gridcolor": "white",
            "gridwidth": 2,
            "linecolor": "white",
            "showbackground": true,
            "ticks": "",
            "zerolinecolor": "white"
           },
           "yaxis": {
            "backgroundcolor": "#E5ECF6",
            "gridcolor": "white",
            "gridwidth": 2,
            "linecolor": "white",
            "showbackground": true,
            "ticks": "",
            "zerolinecolor": "white"
           },
           "zaxis": {
            "backgroundcolor": "#E5ECF6",
            "gridcolor": "white",
            "gridwidth": 2,
            "linecolor": "white",
            "showbackground": true,
            "ticks": "",
            "zerolinecolor": "white"
           }
          },
          "shapedefaults": {
           "line": {
            "color": "#2a3f5f"
           }
          },
          "ternary": {
           "aaxis": {
            "gridcolor": "white",
            "linecolor": "white",
            "ticks": ""
           },
           "baxis": {
            "gridcolor": "white",
            "linecolor": "white",
            "ticks": ""
           },
           "bgcolor": "#E5ECF6",
           "caxis": {
            "gridcolor": "white",
            "linecolor": "white",
            "ticks": ""
           }
          },
          "title": {
           "x": 0.05
          },
          "xaxis": {
           "automargin": true,
           "gridcolor": "white",
           "linecolor": "white",
           "ticks": "",
           "title": {
            "standoff": 15
           },
           "zerolinecolor": "white",
           "zerolinewidth": 2
          },
          "yaxis": {
           "automargin": true,
           "gridcolor": "white",
           "linecolor": "white",
           "ticks": "",
           "title": {
            "standoff": 15
           },
           "zerolinecolor": "white",
           "zerolinewidth": 2
          }
         }
        },
        "title": {
         "text": ""
        },
        "xaxis": {
         "autorange": true,
         "range": [
          2,
          5.999999999999999
         ],
         "type": "log",
         "zeroline": false
        },
        "yaxis": {
         "autorange": true,
         "range": [
          -0.09005315539978116,
          0.05684627231278643
         ],
         "type": "linear",
         "zeroline": false
        }
       }
      },
      "image/png": "[encoded data removed]",
      "text/html": [
       "<div>                            <div id=\"efcf67cb-8e7b-45b8-b614-32a5e283f637\" class=\"plotly-graph-div\" style=\"height:525px; width:100%;\"></div>            <script type=\"text/javascript\">                require([\"plotly\"], function(Plotly) {                    window.PLOTLYENV=window.PLOTLYENV || {};                                    if (document.getElementById(\"efcf67cb-8e7b-45b8-b614-32a5e283f637\")) {                    Plotly.newPlot(                        \"efcf67cb-8e7b-45b8-b614-32a5e283f637\",                        [{\"mode\": \"lines\", \"name\": \"Exp316M1.csv\", \"type\": \"scatter\", \"x\": [100.0, 125.8925, 158.4893, 199.5262, 251.1886, 316.2278, 398.1072, 501.1872, 630.9573, 794.3282, 1000.0, 1258.925, 1584.893, 1995.262, 2511.886, 3162.278, 3981.072, 5011.873, 6309.573, 7943.282, 10000.0, 12589.25, 15848.93, 19952.62, 25118.87, 31622.78, 39810.72, 50118.72, 63095.73, 79432.83, 100000.0, 125892.5, 158489.3, 199526.2, 251188.6, 316227.8, 398107.2, 501187.3, 630957.3, 794328.3, 1000000.0], \"y\": [0.01161878562281347, 0.011621429395830909, 0.011648521219919723, 0.011610383903446054, 0.011738620319055475, 0.011734558503139668, 0.011758709321623826, 0.011751748671449604, 0.01182807667170917, 0.011933258412260802, 0.01213402466094384, 0.012431306292700242, 0.012782049460135975, 0.013681941467694508, 0.014979775321349776, 0.01721267693438928, 0.02039497667480968, 0.02560243171599654, 0.03175395763907228, 0.037988224704708, 0.04428977581184761, 0.04814369183558316, 0.04950130092715805, 0.04863787667197884, 0.04589106629733454, 0.04164681738965576, 0.03543677458556116, 0.02981355332573914, 0.02348426660470995, 0.015624495635727336, 0.00937944046709004, 0.0011810785906124187, -0.006939607825145463, -0.013932666396740819, -0.0217969852479471, -0.028367661658951958, -0.03636158094458392, -0.042283734937756536, -0.04733187269250585, -0.05314890809446293, -0.05706898247272464]}, {\"mode\": \"lines\", \"name\": \"Exp316M2.csv\", \"type\": \"scatter\", \"x\": [100.0, 125.8925, 158.4893, 199.5262, 251.1886, 316.2278, 398.1072, 501.1872, 630.9573, 794.3282, 1000.0, 1258.925, 1584.893, 1995.262, 2511.886, 3162.278, 3981.072, 5011.873, 6309.573, 7943.282, 10000.0, 12589.25, 15848.93, 19952.62, 25118.87, 31622.78, 39810.72, 50118.72, 63095.73, 79432.83, 100000.0, 125892.5, 158489.3, 199526.2, 251188.6, 316227.8, 398107.2, 501187.3, 630957.3, 794328.3, 1000000.0], \"y\": [0.011185343391134953, 0.011411920916477528, 0.011401112219077053, 0.011366988401137834, 0.01146489640156209, 0.0114391281546906, 0.011494357195395034, 0.011478280109004148, 0.011552337201276151, 0.01171059084916239, 0.011873614714096049, 0.012168866433892629, 0.012554853966725186, 0.013378195613167639, 0.014709900018296414, 0.016860393328774818, 0.019884697904158918, 0.024968200346449105, 0.031013907241247668, 0.03734987933345467, 0.04364734615572444, 0.04680796647888406, 0.04811175631815146, 0.04686783344555549, 0.04405664373883673, 0.03960229956311339, 0.033350139053479756, 0.027582255386495263, 0.020951714884971086, 0.013274098673679671, 0.006369777817680722, -0.0015658947167089855, -0.009430771909565846, -0.016681828227735843, -0.024858954254221684, -0.03158242359789484, -0.03859946066965334, -0.04348187676509438, -0.04951250180128782, -0.05431391614219719, -0.05794797465067157]}, {\"mode\": \"lines\", \"name\": \"Exp316M3.csv\", \"type\": \"scatter\", \"x\": [100.0, 125.8925, 158.4893, 199.5262, 251.1886, 316.2278, 398.1072, 501.1872, 630.9573, 794.3282, 1000.0, 1258.925, 1584.893, 1995.262, 2511.886, 3162.278, 3981.072, 5011.873, 6309.573, 7943.282, 10000.0, 12589.25, 15848.93, 19952.62, 25118.87, 31622.78, 39810.72, 50118.72, 63095.73, 79432.83, 100000.0, 125892.5, 158489.3, 199526.2, 251188.6, 316227.8, 398107.2, 501187.3, 630957.3, 794328.3, 1000000.0], \"y\": [0.010829351650498224, 0.01076708679443164, 0.010826037764788332, 0.010804700645893232, 0.01088368008519066, 0.010853842962604207, 0.010887643072363404, 0.010829545490395479, 0.01094762173161594, 0.011090583723239088, 0.01124091637754367, 0.011486015265946392, 0.011737401347776968, 0.01266298074276647, 0.01390812311137857, 0.015907184641467002, 0.01942389865439994, 0.0239115557323044, 0.029332198418847953, 0.03516425424257113, 0.04073513022424012, 0.04517708300367564, 0.04512987836388817, 0.04377494537979263, 0.04060679591665642, 0.03665811278502534, 0.02984881031833759, 0.023486466362136957, 0.017752871386442035, 0.01085492917105142, 0.003508420588896133, -0.003977388079723147, -0.011677827974890746, -0.018982860533588053, -0.026626736023569943, -0.033471694446374656, -0.039644524010811616, -0.04540747160861998, -0.04972559850072532, -0.054384557870573814, -0.05837045832651597]}, {\"mode\": \"lines\", \"name\": \"Exp316M4.csv\", \"type\": \"scatter\", \"x\": [100.0, 125.8925, 158.4893, 199.5262, 251.1886, 316.2278, 398.1072, 501.1872, 630.9573, 794.3282, 1000.0, 1258.925, 1584.893, 1995.262, 2511.886, 3162.278, 3981.072, 5011.873, 6309.573, 7943.282, 10000.0, 12589.25, 15848.93, 19952.62, 25118.87, 31622.78, 39810.72, 50118.72, 63095.73, 79432.83, 100000.0, 125892.5, 158489.3, 199526.2, 251188.6, 316227.8, 398107.2, 501187.3, 630957.3, 794328.3, 1000000.0], \"y\": [0.007103252504327656, 0.0073346124943905085, 0.007405565829526443, 0.007380977791524218, 0.007507035962042551, 0.007376547470639174, 0.007398331338336154, 0.0073776738332496615, 0.007450342505399111, 0.00758070875611657, 0.007683672906353217, 0.007867013517463115, 0.008063427087012638, 0.008767031759191022, 0.009768232325425789, 0.01115579066531056, 0.01329339939625439, 0.016736283961359556, 0.020863218613642213, 0.024763077245138865, 0.028885725722547963, 0.030589104337970175, 0.02960253295524397, 0.026757605156383417, 0.022961264451542875, 0.017949003967171022, 0.01216460340089868, 0.004851762784307149, -0.000631047018723669, -0.008322984691441373, -0.014873279918246916, -0.02169828056811306, -0.028512065712854556, -0.035071704834050345, -0.040870277563265923, -0.04579850244676505, -0.05225335731179998, -0.055134414852997624, -0.059327575198983136, -0.06308147206682625, -0.06525137041984076]}, {\"mode\": \"lines\", \"name\": \"Exp316M5.csv\", \"type\": \"scatter\", \"x\": [100.0, 125.8925, 158.4893, 199.5262, 251.1886, 316.2278, 398.1072, 501.1872, 630.9573, 794.3282, 1000.0, 1258.925, 1584.893, 1995.262, 2511.886, 3162.278, 3981.072, 5011.873, 6309.573, 7943.282, 10000.0, 12589.25, 15848.93, 19952.62, 25118.87, 31622.78, 39810.72, 50118.72, 63095.73, 79432.83, 100000.0, 125892.5, 158489.3, 199526.2, 251188.6, 316227.8, 398107.2, 501187.3, 630957.3, 794328.3, 1000000.0], \"y\": [0.004937055976391844, 0.004901926253816597, 0.004962457958673171, 0.004935351280440481, 0.004934953568457709, 0.004914077937776268, 0.004929088898071071, 0.0048983674382331935, 0.004962370447649713, 0.005084391839233673, 0.005161819703952102, 0.0052514597319547225, 0.005383169316208984, 0.005937492531178889, 0.006583834458259209, 0.007595305708036604, 0.009118009949179563, 0.011877094489327524, 0.014416030491633532, 0.01682926581052504, 0.019072893954977976, 0.01988359871689154, 0.017624120930764493, 0.014430533110488765, 0.010990466458866822, 0.004988992044563815, 0.00033198312577884036, -0.006834227932781104, -0.013019615679568573, -0.019423732609546038, -0.02511051143777817, -0.03080320403659419, -0.03728217524760998, -0.041980976330384154, -0.04794904290868112, -0.05254379129082414, -0.05749453339176431, -0.06056298034661149, -0.0637134582607313, -0.0669559876595138, -0.06898127063615407]}, {\"mode\": \"lines\", \"name\": \"Exp316M6.csv\", \"type\": \"scatter\", \"x\": [100.0, 125.8925, 158.4893, 199.5262, 251.1886, 316.2278, 398.1072, 501.1872, 630.9573, 794.3282, 1000.0, 1258.925, 1584.893, 1995.262, 2511.886, 3162.278, 3981.072, 5011.873, 6309.573, 7943.282, 10000.0, 12589.25, 15848.93, 19952.62, 25118.87, 31622.78, 39810.72, 50118.72, 63095.73, 79432.83, 100000.0, 125892.5, 158489.3, 199526.2, 251188.6, 316227.8, 398107.2, 501187.3, 630957.3, 794328.3, 1000000.0], \"y\": [0.0035055359084707467, 0.0034775749515769797, 0.0035049073822907076, 0.003474221419502836, 0.0035012192509094923, 0.0034987059096744516, 0.003534032799304332, 0.0034849325683330894, 0.0035327135678921173, 0.003608106389727786, 0.0036892021331474665, 0.0037850817595190354, 0.00389126279335704, 0.004244924378476887, 0.00481586811625352, 0.005516779069942565, 0.006541518079827615, 0.007844332289370102, 0.009829426797241182, 0.010762824183183733, 0.011629615268655758, 0.010964908131289834, 0.008029134277497628, 0.004511215627804082, -3.754777024937639e-05, -0.005151392361248842, -0.012485146581409786, -0.018231114351653897, -0.02249461837374994, -0.028087884008387888, -0.03298119786817735, -0.038415160884243, -0.04365017819845306, -0.04840845649946924, -0.05361930143329908, -0.05718004961250308, -0.06231144527349256, -0.06445326495625774, -0.06685040639656792, -0.06954692980203124, -0.07078810466571223]}, {\"mode\": \"lines\", \"name\": \"Exp316M7.csv\", \"type\": \"scatter\", \"x\": [100.0, 125.8925, 158.4893, 199.5262, 251.1886, 316.2278, 398.1072, 501.1872, 630.9573, 794.3282, 1000.0, 1258.925, 1584.893, 1995.262, 2511.886, 3162.278, 3981.072, 5011.873, 6309.573, 7943.282, 10000.0, 12589.25, 15848.93, 19952.62, 25118.87, 31622.78, 39810.72, 50118.72, 63095.73, 79432.83, 100000.0, 125892.5, 158489.3, 199526.2, 251188.6, 316227.8, 398107.2, 501187.3, 630957.3, 794328.3, 1000000.0], \"y\": [0.0025119135192728033, 0.002651564766378822, 0.0026398908733367924, 0.002626714661954534, 0.002606629956565208, 0.0026803646842571156, 0.0026714836132167167, 0.0026711291434760474, 0.0026963190656689546, 0.0028209073559481686, 0.0028436048437036673, 0.00300750029125149, 0.0030947706934988557, 0.0033904344858279815, 0.003747780750372638, 0.004351358131078763, 0.005587758477002938, 0.006830728336510404, 0.008303999234793432, 0.009211113142667085, 0.009921536498352767, 0.008730389747246855, 0.006453661839872608, 0.002616885016035168, -0.001999977793131582, -0.006749450359076572, -0.012818914895622821, -0.018861274659209608, -0.023865683700878333, -0.029637537591751018, -0.034309380028455384, -0.03948113482175524, -0.04438201526918627, -0.04923826731082972, -0.05429232134248914, -0.057680824190337945, -0.06238524448836862, -0.0645278621054063, -0.06752665906944921, -0.06953934107891561, -0.0709974359585403]}, {\"mode\": \"lines\", \"name\": \"Exp316M8.csv\", \"type\": \"scatter\", \"x\": [100.0, 125.8925, 158.4893, 199.5262, 251.1886, 316.2278, 398.1072, 501.1872, 630.9573, 794.3282, 1000.0, 1258.925, 1584.893, 1995.262, 2511.886, 3162.278, 3981.072, 5011.873, 6309.573, 7943.282, 10000.0, 12589.25, 15848.93, 19952.62, 25118.87, 31622.78, 39810.72, 50118.72, 63095.73, 79432.83, 100000.0, 125892.5, 158489.3, 199526.2, 251188.6, 316227.8, 398107.2, 501187.3, 630957.3, 794328.3, 1000000.0], \"y\": [0.0018232044155353175, 0.00176561252359066, 0.0018118443179649015, 0.0017784301712902792, 0.001829371544905599, 0.0018321797475249887, 0.0018486877625480851, 0.0018319082894800909, 0.001862021732423864, 0.0019124087776043526, 0.0019903164980459897, 0.002140007160671948, 0.001998824096841135, 0.002397222916312713, 0.0028497031686283846, 0.0033750094576000373, 0.003846709334026316, 0.005054331930907657, 0.006049036505190273, 0.006537622068650375, 0.0069680367493340205, 0.005883620211052126, 0.0028456557062661093, -0.0009262885065251722, -0.005432627438619219, -0.010392698870219354, -0.017027748764310315, -0.02029571161052998, -0.02662964051775477, -0.032585291162444116, -0.03676148450708767, -0.04179711567285812, -0.046617114523458625, -0.05123281740636811, -0.055532737918722264, -0.058639909962360806, -0.062953508993875, -0.0650742081964575, -0.06795499479134297, -0.06993745818187315, -0.07102923877137286]}, {\"mode\": \"lines\", \"name\": \"Exp316M9.csv\", \"type\": \"scatter\", \"x\": [100.0, 125.8925, 158.4893, 199.5262, 251.1886, 316.2278, 398.1072, 501.1872, 630.9573, 794.3282, 1000.0, 1258.925, 1584.893, 1995.262, 2511.886, 3162.278, 3981.072, 5011.873, 6309.573, 7943.282, 10000.0, 12589.25, 15848.93, 19952.62, 25118.87, 31622.78, 39810.72, 50118.72, 63095.73, 79432.83, 100000.0, 125892.5, 158489.3, 199526.2, 251188.6, 316227.8, 398107.2, 501187.3, 630957.3, 794328.3, 1000000.0], \"y\": [0.0016626913080188095, 0.0018042355105637748, 0.0018692295380185152, 0.0019230378679119858, 0.0018824050344495133, 0.0018752895683791745, 0.0019061796360894511, 0.001887033818349559, 0.0019039839898028822, 0.001971990755266484, 0.002028434341636489, 0.0021348913144074717, 0.0019874587604478645, 0.002500370994109898, 0.0028298502469695473, 0.003309014580868835, 0.004015241028898425, 0.004912416223123378, 0.006156142265396102, 0.006352108187593377, 0.006179277427890172, 0.004874093701347453, 0.002139731053456287, -0.0016729060800946159, -0.006400754069912526, -0.011202801409973949, -0.01736827646620601, -0.023568656875817884, -0.027866917127253546, -0.033261930324629284, -0.038018832116070635, -0.042564482176166235, -0.04748647976705468, -0.051563853006263066, -0.05634311281520569, -0.059873314703081666, -0.06424544356007847, -0.06631169764330115, -0.06885354756449835, -0.07097618069896011, -0.07176865099758185]}, {\"mode\": \"lines\", \"name\": \"Exp316patron.csv\", \"type\": \"scatter\", \"x\": [100.0, 125.8925, 158.4893, 199.5262, 251.1886, 316.2278, 398.1072, 501.1872, 630.9573, 794.3282, 1000.0, 1258.925, 1584.893, 1995.262, 2511.886, 3162.278, 3981.072, 5011.873, 6309.573, 7943.282, 10000.0, 12589.25, 15848.93, 19952.62, 25118.87, 31622.78, 39810.72, 50118.72, 63095.73, 79432.83, 100000.0, 125892.5, 158489.3, 199526.2, 251188.6, 316227.8, 398107.2, 501187.3, 630957.3, 794328.3, 1000000.0], \"y\": [-0.0019605957490396123, -0.0019064620130503198, -0.0018226974015339442, -0.0018934375474931057, -0.001882056668264763, -0.0019203067687173733, -0.0019092955245893577, -0.001965271857877723, -0.001927606056579775, -0.0018604554196218544, -0.0018294012590917403, -0.001759743182255404, -0.001598282718652291, -0.0013579544372393933, -0.0009602750136828175, -0.0005054623683109958, -8.459835344648434e-05, 0.0003957756416021237, -0.00016460076032412104, -0.0016448360776357936, -0.004278329770811578, -0.008539172368831296, -0.014376590375384657, -0.020654059694966056, -0.026347376467815712, -0.032771721777501504, -0.03857129488814041, -0.04326212150587994, -0.050364043702198165, -0.05416060716971335, -0.05836200661626695, -0.06260110938277774, -0.06606044986437384, -0.06994734854119608, -0.07326529435125662, -0.0751178262716328, -0.07854583558414306, -0.0787190838885, -0.08069688300444529, -0.08240381660471231, -0.08270818401415278]}],                        {\"template\": {\"data\": {\"bar\": [{\"error_x\": {\"color\": \"#2a3f5f\"}, \"error_y\": {\"color\": \"#2a3f5f\"}, \"marker\": {\"line\": {\"color\": \"#E5ECF6\", \"width\": 0.5}}, \"type\": \"bar\"}], \"barpolar\": [{\"marker\": {\"line\": {\"color\": \"#E5ECF6\", \"width\": 0.5}}, \"type\": \"barpolar\"}], \"carpet\": [{\"aaxis\": {\"endlinecolor\": \"#2a3f5f\", \"gridcolor\": \"white\", \"linecolor\": \"white\", \"minorgridcolor\": \"white\", \"startlinecolor\": \"#2a3f5f\"}, \"baxis\": {\"endlinecolor\": \"#2a3f5f\", \"gridcolor\": \"white\", \"linecolor\": \"white\", \"minorgridcolor\": \"white\", \"startlinecolor\": \"#2a3f5f\"}, \"type\": \"carpet\"}], \"choropleth\": [{\"colorbar\": {\"outlinewidth\": 0, \"ticks\": \"\"}, \"type\": \"choropleth\"}], \"contour\": [{\"colorbar\": {\"outlinewidth\": 0, \"ticks\": \"\"}, \"colorscale\": [[0.0, \"#0d0887\"], [0.1111111111111111, \"#46039f\"], [0.2222222222222222, \"#7201a8\"], [0.3333333333333333, \"#9c179e\"], [0.4444444444444444, \"#bd3786\"], [0.5555555555555556, \"#d8576b\"], [0.6666666666666666, \"#ed7953\"], [0.7777777777777778, \"#fb9f3a\"], [0.8888888888888888, \"#fdca26\"], [1.0, \"#f0f921\"]], \"type\": \"contour\"}], \"contourcarpet\": [{\"colorbar\": {\"outlinewidth\": 0, \"ticks\": \"\"}, \"type\": \"contourcarpet\"}], \"heatmap\": [{\"colorbar\": {\"outlinewidth\": 0, \"ticks\": \"\"}, \"colorscale\": [[0.0, \"#0d0887\"], [0.1111111111111111, \"#46039f\"], [0.2222222222222222, \"#7201a8\"], [0.3333333333333333, \"#9c179e\"], [0.4444444444444444, \"#bd3786\"], [0.5555555555555556, \"#d8576b\"], [0.6666666666666666, \"#ed7953\"], [0.7777777777777778, \"#fb9f3a\"], [0.8888888888888888, \"#fdca26\"], [1.0, \"#f0f921\"]], \"type\": \"heatmap\"}], \"heatmapgl\": [{\"colorbar\": {\"outlinewidth\": 0, \"ticks\": \"\"}, \"colorscale\": [[0.0, \"#0d0887\"], [0.1111111111111111, \"#46039f\"], [0.2222222222222222, \"#7201a8\"], [0.3333333333333333, \"#9c179e\"], [0.4444444444444444, \"#bd3786\"], [0.5555555555555556, \"#d8576b\"], [0.6666666666666666, \"#ed7953\"], [0.7777777777777778, \"#fb9f3a\"], [0.8888888888888888, \"#fdca26\"], [1.0, \"#f0f921\"]], \"type\": \"heatmapgl\"}], \"histogram\": [{\"marker\": {\"colorbar\": {\"outlinewidth\": 0, \"ticks\": \"\"}}, \"type\": \"histogram\"}], \"histogram2d\": [{\"colorbar\": {\"outlinewidth\": 0, \"ticks\": \"\"}, \"colorscale\": [[0.0, \"#0d0887\"], [0.1111111111111111, \"#46039f\"], [0.2222222222222222, \"#7201a8\"], [0.3333333333333333, \"#9c179e\"], [0.4444444444444444, \"#bd3786\"], [0.5555555555555556, \"#d8576b\"], [0.6666666666666666, \"#ed7953\"], [0.7777777777777778, \"#fb9f3a\"], [0.8888888888888888, \"#fdca26\"], [1.0, \"#f0f921\"]], \"type\": \"histogram2d\"}], \"histogram2dcontour\": [{\"colorbar\": {\"outlinewidth\": 0, \"ticks\": \"\"}, \"colorscale\": [[0.0, \"#0d0887\"], [0.1111111111111111, \"#46039f\"], [0.2222222222222222, \"#7201a8\"], [0.3333333333333333, \"#9c179e\"], [0.4444444444444444, \"#bd3786\"], [0.5555555555555556, \"#d8576b\"], [0.6666666666666666, \"#ed7953\"], [0.7777777777777778, \"#fb9f3a\"], [0.8888888888888888, \"#fdca26\"], [1.0, \"#f0f921\"]], \"type\": \"histogram2dcontour\"}], \"mesh3d\": [{\"colorbar\": {\"outlinewidth\": 0, \"ticks\": \"\"}, \"type\": \"mesh3d\"}], \"parcoords\": [{\"line\": {\"colorbar\": {\"outlinewidth\": 0, \"ticks\": \"\"}}, \"type\": \"parcoords\"}], \"pie\": [{\"automargin\": true, \"type\": \"pie\"}], \"scatter\": [{\"marker\": {\"colorbar\": {\"outlinewidth\": 0, \"ticks\": \"\"}}, \"type\": \"scatter\"}], \"scatter3d\": [{\"line\": {\"colorbar\": {\"outlinewidth\": 0, \"ticks\": \"\"}}, \"marker\": {\"colorbar\": {\"outlinewidth\": 0, \"ticks\": \"\"}}, \"type\": \"scatter3d\"}], \"scattercarpet\": [{\"marker\": {\"colorbar\": {\"outlinewidth\": 0, \"ticks\": \"\"}}, \"type\": \"scattercarpet\"}], \"scattergeo\": [{\"marker\": {\"colorbar\": {\"outlinewidth\": 0, \"ticks\": \"\"}}, \"type\": \"scattergeo\"}], \"scattergl\": [{\"marker\": {\"colorbar\": {\"outlinewidth\": 0, \"ticks\": \"\"}}, \"type\": \"scattergl\"}], \"scattermapbox\": [{\"marker\": {\"colorbar\": {\"outlinewidth\": 0, \"ticks\": \"\"}}, \"type\": \"scattermapbox\"}], \"scatterpolar\": [{\"marker\": {\"colorbar\": {\"outlinewidth\": 0, \"ticks\": \"\"}}, \"type\": \"scatterpolar\"}], \"scatterpolargl\": [{\"marker\": {\"colorbar\": {\"outlinewidth\": 0, \"ticks\": \"\"}}, \"type\": \"scatterpolargl\"}], \"scatterternary\": [{\"marker\": {\"colorbar\": {\"outlinewidth\": 0, \"ticks\": \"\"}}, \"type\": \"scatterternary\"}], \"surface\": [{\"colorbar\": {\"outlinewidth\": 0, \"ticks\": \"\"}, \"colorscale\": [[0.0, \"#0d0887\"], [0.1111111111111111, \"#46039f\"], [0.2222222222222222, \"#7201a8\"], [0.3333333333333333, \"#9c179e\"], [0.4444444444444444, \"#bd3786\"], [0.5555555555555556, \"#d8576b\"], [0.6666666666666666, \"#ed7953\"], [0.7777777777777778, \"#fb9f3a\"], [0.8888888888888888, \"#fdca26\"], [1.0, \"#f0f921\"]], \"type\": \"surface\"}], \"table\": [{\"cells\": {\"fill\": {\"color\": \"#EBF0F8\"}, \"line\": {\"color\": \"white\"}}, \"header\": {\"fill\": {\"color\": \"#C8D4E3\"}, \"line\": {\"color\": \"white\"}}, \"type\": \"table\"}]}, \"layout\": {\"annotationdefaults\": {\"arrowcolor\": \"#2a3f5f\", \"arrowhead\": 0, \"arrowwidth\": 1}, \"coloraxis\": {\"colorbar\": {\"outlinewidth\": 0, \"ticks\": \"\"}}, \"colorscale\": {\"diverging\": [[0, \"#8e0152\"], [0.1, \"#c51b7d\"], [0.2, \"#de77ae\"], [0.3, \"#f1b6da\"], [0.4, \"#fde0ef\"], [0.5, \"#f7f7f7\"], [0.6, \"#e6f5d0\"], [0.7, \"#b8e186\"], [0.8, \"#7fbc41\"], [0.9, \"#4d9221\"], [1, \"#276419\"]], \"sequential\": [[0.0, \"#0d0887\"], [0.1111111111111111, \"#46039f\"], [0.2222222222222222, \"#7201a8\"], [0.3333333333333333, \"#9c179e\"], [0.4444444444444444, \"#bd3786\"], [0.5555555555555556, \"#d8576b\"], [0.6666666666666666, \"#ed7953\"], [0.7777777777777778, \"#fb9f3a\"], [0.8888888888888888, \"#fdca26\"], [1.0, \"#f0f921\"]], \"sequentialminus\": [[0.0, \"#0d0887\"], [0.1111111111111111, \"#46039f\"], [0.2222222222222222, \"#7201a8\"], [0.3333333333333333, \"#9c179e\"], [0.4444444444444444, \"#bd3786\"], [0.5555555555555556, \"#d8576b\"], [0.6666666666666666, \"#ed7953\"], [0.7777777777777778, \"#fb9f3a\"], [0.8888888888888888, \"#fdca26\"], [1.0, \"#f0f921\"]]}, \"colorway\": [\"#636efa\", \"#EF553B\", \"#00cc96\", \"#ab63fa\", \"#FFA15A\", \"#19d3f3\", \"#FF6692\", \"#B6E880\", \"#FF97FF\", \"#FECB52\"], \"font\": {\"color\": \"#2a3f5f\"}, \"geo\": {\"bgcolor\": \"white\", \"lakecolor\": \"white\", \"landcolor\": \"#E5ECF6\", \"showlakes\": true, \"showland\": true, \"subunitcolor\": \"white\"}, \"hoverlabel\": {\"align\": \"left\"}, \"hovermode\": \"closest\", \"mapbox\": {\"style\": \"light\"}, \"paper_bgcolor\": \"white\", \"plot_bgcolor\": \"#E5ECF6\", \"polar\": {\"angularaxis\": {\"gridcolor\": \"white\", \"linecolor\": \"white\", \"ticks\": \"\"}, \"bgcolor\": \"#E5ECF6\", \"radialaxis\": {\"gridcolor\": \"white\", \"linecolor\": \"white\", \"ticks\": \"\"}}, \"scene\": {\"xaxis\": {\"backgroundcolor\": \"#E5ECF6\", \"gridcolor\": \"white\", \"gridwidth\": 2, \"linecolor\": \"white\", \"showbackground\": true, \"ticks\": \"\", \"zerolinecolor\": \"white\"}, \"yaxis\": {\"backgroundcolor\": \"#E5ECF6\", \"gridcolor\": \"white\", \"gridwidth\": 2, \"linecolor\": \"white\", \"showbackground\": true, \"ticks\": \"\", \"zerolinecolor\": \"white\"}, \"zaxis\": {\"backgroundcolor\": \"#E5ECF6\", \"gridcolor\": \"white\", \"gridwidth\": 2, \"linecolor\": \"white\", \"showbackground\": true, \"ticks\": \"\", \"zerolinecolor\": \"white\"}}, \"shapedefaults\": {\"line\": {\"color\": \"#2a3f5f\"}}, \"ternary\": {\"aaxis\": {\"gridcolor\": \"white\", \"linecolor\": \"white\", \"ticks\": \"\"}, \"baxis\": {\"gridcolor\": \"white\", \"linecolor\": \"white\", \"ticks\": \"\"}, \"bgcolor\": \"#E5ECF6\", \"caxis\": {\"gridcolor\": \"white\", \"linecolor\": \"white\", \"ticks\": \"\"}}, \"title\": {\"x\": 0.05}, \"xaxis\": {\"automargin\": true, \"gridcolor\": \"white\", \"linecolor\": \"white\", \"ticks\": \"\", \"title\": {\"standoff\": 15}, \"zerolinecolor\": \"white\", \"zerolinewidth\": 2}, \"yaxis\": {\"automargin\": true, \"gridcolor\": \"white\", \"linecolor\": \"white\", \"ticks\": \"\", \"title\": {\"standoff\": 15}, \"zerolinecolor\": \"white\", \"zerolinewidth\": 2}}}, \"title\": {\"text\": \"\"}, \"xaxis\": {\"autorange\": true, \"type\": \"log\", \"zeroline\": false}, \"yaxis\": {\"autorange\": true, \"type\": \"linear\", \"zeroline\": false}},                        {\"responsive\": true}                    ).then(function(){\n",
       "                            \n",
       "var gd = document.getElementById('efcf67cb-8e7b-45b8-b614-32a5e283f637');\n",
       "var x = new MutationObserver(function (mutations, observer) {{\n",
       "        var display = window.getComputedStyle(gd).display;\n",
       "        if (!display || display === 'none') {{\n",
       "            console.log([gd, 'removed!']);\n",
       "            Plotly.purge(gd);\n",
       "            observer.disconnect();\n",
       "        }}\n",
       "}});\n",
       "\n",
       "// Listen for the removal of the full notebook cells\n",
       "var notebookContainer = gd.closest('#notebook-container');\n",
       "if (notebookContainer) {{\n",
       "    x.observe(notebookContainer, {childList: true});\n",
       "}}\n",
       "\n",
       "// Listen for the clearing of the current output cell\n",
       "var outputEl = gd.closest('.output');\n",
       "if (outputEl) {{\n",
       "    x.observe(outputEl, {childList: true});\n",
       "}}\n",
       "\n",
       "                        })                };                });            </script>        </div>"
      ]
     },
     "metadata": {},
     "output_type": "display_data"
    }
   ],
   "source": [
    "a=ci.plt.semilog(f,datacorr)"
   ]
  }
 ],
 "metadata": {
  "kernelspec": {
   "display_name": "Python 3",
   "language": "python",
   "name": "python3"
  },
  "language_info": {
   "codemirror_mode": {
    "name": "ipython",
    "version": 3
   },
   "file_extension": ".py",
   "mimetype": "text/x-python",
   "name": "python",
   "nbconvert_exporter": "python",
   "pygments_lexer": "ipython3",
   "version": "3.7.4"
  }
 },
 "nbformat": 4,
 "nbformat_minor": 4
}
