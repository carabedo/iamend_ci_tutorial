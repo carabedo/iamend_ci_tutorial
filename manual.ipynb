{
 "cells": [
  {
   "cell_type": "markdown",
   "metadata": {},
   "source": [
    "# Manual del Usuario.\n",
    "\n",
    "## Comandos basicos:\n",
    "\n",
    "* **import** [libreria] **as** [abreviacion] &nbsp; &nbsp; &nbsp;&nbsp;&nbsp; &nbsp; &nbsp; &nbsp;&nbsp;&nbsp;(importa librerias y le asigna una abreviacion)\n",
    "```python\n",
    "ej:\n",
    "import cnea as cn\n",
    "import numpy as np\n",
    "```\n",
    "\n",
    "\n",
    "\n",
    "* **[abreviacion].[funcion]**(parametros) &nbsp; &nbsp; &nbsp;&nbsp;&nbsp; &nbsp; &nbsp; &nbsp;&nbsp;&nbsp; ejecuta la 'funcion' definida en una libreria.\n",
    "```python\n",
    "ej:\n",
    "np.array([1,1,1])\n",
    "```\n",
    "\n",
    "\n",
    "\n",
    "* [abreviacion].[funcion]**?** &nbsp; &nbsp; &nbsp;&nbsp;&nbsp; &nbsp; &nbsp; &nbsp;&nbsp;&nbsp; (muestra una ayuda rapida de la funcion, listado parametros,outputs,etc)\n",
    "```python\n",
    "ej:\n",
    "np.mean?\n",
    "```\n",
    "\n",
    "\n",
    "\n",
    "* **help**([objeto])  &nbsp; &nbsp; &nbsp;&nbsp;&nbsp; &nbsp; &nbsp; &nbsp;&nbsp;&nbsp; ayuda sobre el objeto, sea un modulo, funcion, variable, etc  \n",
    "```python\n",
    "ej:\n",
    "help(np.mean)\n",
    "```\n",
    "\n",
    "\n",
    "\n",
    "* **type**([objeto]) &nbsp; &nbsp; &nbsp;&nbsp;&nbsp; &nbsp; &nbsp; &nbsp;&nbsp;&nbsp; devuelve el tipo de objeto\n",
    "```python\n",
    "ej:\n",
    "type(np)\n",
    "```\n",
    "\n",
    "\n",
    "\n",
    "* modulo.**[TAB]**  &nbsp; &nbsp; &nbsp;&nbsp;&nbsp; &nbsp; &nbsp; &nbsp;&nbsp;&nbsp; si se apreta tab en la ventana de la terminal aparece un listado de objetos contenidos en el modulo (funciones, modulos, variables)\n",
    "\n",
    "![alt text](asf.png \"Logo Title Text 1\")\n",
    "\n",
    "\n",
    "\n",
    "\n",
    "* **%whos** &nbsp; &nbsp; &nbsp;&nbsp;&nbsp; &nbsp; &nbsp; funcion magica que lista los objetos definidos en la memoria, como el workspace del matlab\n",
    "\n",
    "\n",
    "\n",
    "## Librerias necesarias:\n",
    "\n",
    "* **cnea**  (libreria con las funciones definidas para el calculo de impedancias)\n",
    "* **numpy** (libreria con funciones basicas para la manupulacion de vectores, matrices y operaciones)\n",
    "* **matplotlib** (libreria necesaria para realizar graficos)\n",
    "\n",
    "\n"
   ]
  },
  {
   "cell_type": "code",
   "execution_count": 1,
   "metadata": {},
   "outputs": [
    {
     "data": {
      "text/html": [
       "        <script type=\"text/javascript\">\n",
       "        window.PlotlyConfig = {MathJaxConfig: 'local'};\n",
       "        if (window.MathJax) {MathJax.Hub.Config({SVG: {font: \"STIX-Web\"}});}\n",
       "        if (typeof require !== 'undefined') {\n",
       "        require.undef(\"plotly\");\n",
       "        requirejs.config({\n",
       "            paths: {\n",
       "                'plotly': ['https://cdn.plot.ly/plotly-latest.min']\n",
       "            }\n",
       "        });\n",
       "        require(['plotly'], function(Plotly) {\n",
       "            window._Plotly = Plotly;\n",
       "        });\n",
       "        }\n",
       "        </script>\n",
       "        "
      ]
     },
     "metadata": {},
     "output_type": "display_data"
    },
    {
     "data": {
      "text/html": [
       "        <script type=\"text/javascript\">\n",
       "        window.PlotlyConfig = {MathJaxConfig: 'local'};\n",
       "        if (window.MathJax) {MathJax.Hub.Config({SVG: {font: \"STIX-Web\"}});}\n",
       "        if (typeof require !== 'undefined') {\n",
       "        require.undef(\"plotly\");\n",
       "        requirejs.config({\n",
       "            paths: {\n",
       "                'plotly': ['https://cdn.plot.ly/plotly-latest.min']\n",
       "            }\n",
       "        });\n",
       "        require(['plotly'], function(Plotly) {\n",
       "            window._Plotly = Plotly;\n",
       "        });\n",
       "        }\n",
       "        </script>\n",
       "        "
      ]
     },
     "metadata": {},
     "output_type": "display_data"
    },
    {
     "data": {
      "text/html": [
       "        <script type=\"text/javascript\">\n",
       "        window.PlotlyConfig = {MathJaxConfig: 'local'};\n",
       "        if (window.MathJax) {MathJax.Hub.Config({SVG: {font: \"STIX-Web\"}});}\n",
       "        if (typeof require !== 'undefined') {\n",
       "        require.undef(\"plotly\");\n",
       "        requirejs.config({\n",
       "            paths: {\n",
       "                'plotly': ['https://cdn.plot.ly/plotly-latest.min']\n",
       "            }\n",
       "        });\n",
       "        require(['plotly'], function(Plotly) {\n",
       "            window._Plotly = Plotly;\n",
       "        });\n",
       "        }\n",
       "        </script>\n",
       "        "
      ]
     },
     "metadata": {},
     "output_type": "display_data"
    }
   ],
   "source": [
    "import cnea as cn"
   ]
  },
  {
   "cell_type": "markdown",
   "metadata": {},
   "source": [
    "## Como ver las funciones disponibles en cada modulo\n"
   ]
  },
  {
   "cell_type": "code",
   "execution_count": 2,
   "metadata": {},
   "outputs": [
    {
     "name": "stdout",
     "output_type": "stream",
     "text": [
      "Help on package cnea:\n",
      "\n",
      "NAME\n",
      "    cnea\n",
      "\n",
      "PACKAGE CONTENTS\n",
      "    ax\n",
      "    bo\n",
      "    fit\n",
      "    plt\n",
      "    so\n",
      "    theo\n",
      "\n",
      "FILE\n",
      "    c:\\users\\fernando\\dropbox\\gitlab\\tesis2\\dztheo\\cnea\\__init__.py\n",
      "\n",
      "\n"
     ]
    }
   ],
   "source": [
    "help(cn)"
   ]
  },
  {
   "cell_type": "code",
   "execution_count": 3,
   "metadata": {},
   "outputs": [
    {
     "name": "stdout",
     "output_type": "stream",
     "text": [
      "Help on module cnea.theo in cnea:\n",
      "\n",
      "NAME\n",
      "    cnea.theo - Modulo con las funciones del theodolidus\n",
      "\n",
      "FUNCTIONS\n",
      "    dz2(f, bo, sigmas, d, mur1, mur2, lmax)\n",
      "        Calculo de impedancia en aire (3.50) im(dz) para dos layers\n",
      "    \n",
      "    dzD(f, bo, sigma, d, mur, lmax)\n",
      "        Calculo de impedancia en aire (3.50) im(dz) para una placa de espesor 'd'\n",
      "    \n",
      "    dzHF(f, bo, sigma, mur, lmax)\n",
      "        Calculo de impedancia en aire (3.52) im(dz) para una placa de espesor infinito\n",
      "    \n",
      "    jhf(r, z, I, *args)\n",
      "        Calculo de densidad corriente sobre una placa semi-infinita\n",
      "    \n",
      "    l0(bo, lmax)\n",
      "    \n",
      "    zo(f, bo, lmax)\n",
      "        Calculo de impedancia en aire (3.34) Zo para una bobina al aire\n",
      "\n",
      "FILE\n",
      "    c:\\users\\fernando\\dropbox\\gitlab\\tesis2\\dztheo\\cnea\\theo.py\n",
      "\n",
      "\n"
     ]
    }
   ],
   "source": [
    "help(cn.theo)"
   ]
  },
  {
   "cell_type": "code",
   "execution_count": 4,
   "metadata": {},
   "outputs": [
    {
     "data": {
      "text/plain": [
       "\u001b[1;31mSignature:\u001b[0m \u001b[0mcn\u001b[0m\u001b[1;33m.\u001b[0m\u001b[0mtheo\u001b[0m\u001b[1;33m.\u001b[0m\u001b[0mdzHF\u001b[0m\u001b[1;33m(\u001b[0m\u001b[0mf\u001b[0m\u001b[1;33m,\u001b[0m \u001b[0mbo\u001b[0m\u001b[1;33m,\u001b[0m \u001b[0msigma\u001b[0m\u001b[1;33m,\u001b[0m \u001b[0mmur\u001b[0m\u001b[1;33m,\u001b[0m \u001b[0mlmax\u001b[0m\u001b[1;33m)\u001b[0m\u001b[1;33m\u001b[0m\u001b[1;33m\u001b[0m\u001b[0m\n",
       "\u001b[1;31mDocstring:\u001b[0m Calculo de impedancia en aire (3.52) im(dz) para una placa de espesor infinito\n",
       "\u001b[1;31mFile:\u001b[0m      c:\\users\\fernando\\dropbox\\gitlab\\tesis2\\dztheo\\cnea\\theo.py\n",
       "\u001b[1;31mType:\u001b[0m      function\n"
      ]
     },
     "metadata": {},
     "output_type": "display_data"
    }
   ],
   "source": [
    "cn.theo.dzHF?"
   ]
  },
  {
   "cell_type": "code",
   "execution_count": 5,
   "metadata": {},
   "outputs": [
    {
     "data": {
      "text/plain": [
       "\u001b[1;31mSignature:\u001b[0m \u001b[0mcn\u001b[0m\u001b[1;33m.\u001b[0m\u001b[0mtheo\u001b[0m\u001b[1;33m.\u001b[0m\u001b[0mdzHF\u001b[0m\u001b[1;33m(\u001b[0m\u001b[0mf\u001b[0m\u001b[1;33m,\u001b[0m \u001b[0mbo\u001b[0m\u001b[1;33m,\u001b[0m \u001b[0msigma\u001b[0m\u001b[1;33m,\u001b[0m \u001b[0mmur\u001b[0m\u001b[1;33m,\u001b[0m \u001b[0mlmax\u001b[0m\u001b[1;33m)\u001b[0m\u001b[1;33m\u001b[0m\u001b[1;33m\u001b[0m\u001b[0m\n",
       "\u001b[1;31mSource:\u001b[0m   \n",
       "\u001b[1;32mdef\u001b[0m \u001b[0mdzHF\u001b[0m\u001b[1;33m(\u001b[0m\u001b[0mf\u001b[0m\u001b[1;33m,\u001b[0m\u001b[0mbo\u001b[0m\u001b[1;33m,\u001b[0m\u001b[0msigma\u001b[0m\u001b[1;33m,\u001b[0m\u001b[0mmur\u001b[0m\u001b[1;33m,\u001b[0m\u001b[0mlmax\u001b[0m\u001b[1;33m)\u001b[0m\u001b[1;33m:\u001b[0m\u001b[1;33m\n",
       "\u001b[0m    \u001b[1;34m\"\"\" Calculo de impedancia en aire (3.52) im(dz) para una placa de espesor infinito\"\"\"\u001b[0m\u001b[1;33m\n",
       "\u001b[0m    \u001b[0mdzhf\u001b[0m\u001b[1;33m=\u001b[0m\u001b[0mlist\u001b[0m\u001b[1;33m(\u001b[0m\u001b[1;33m)\u001b[0m\u001b[1;33m\n",
       "\u001b[0m    \u001b[0mmu0\u001b[0m\u001b[1;33m=\u001b[0m\u001b[1;36m4\u001b[0m\u001b[1;33m*\u001b[0m\u001b[1;36m3.14\u001b[0m\u001b[1;33m*\u001b[0m\u001b[1;36m1e-7\u001b[0m\u001b[1;33m;\u001b[0m\u001b[1;33m\n",
       "\u001b[0m    \u001b[0mr1\u001b[0m\u001b[1;33m=\u001b[0m\u001b[0mbo\u001b[0m\u001b[1;33m[\u001b[0m\u001b[1;36m0\u001b[0m\u001b[1;33m]\u001b[0m\u001b[1;33m;\u001b[0m\u001b[1;33m\n",
       "\u001b[0m    \u001b[0mr2\u001b[0m\u001b[1;33m=\u001b[0m\u001b[0mbo\u001b[0m\u001b[1;33m[\u001b[0m\u001b[1;36m1\u001b[0m\u001b[1;33m]\u001b[0m\u001b[1;33m;\u001b[0m\u001b[1;33m\n",
       "\u001b[0m    \u001b[0mdh\u001b[0m\u001b[1;33m=\u001b[0m\u001b[0mbo\u001b[0m\u001b[1;33m[\u001b[0m\u001b[1;36m2\u001b[0m\u001b[1;33m]\u001b[0m\u001b[1;33m;\u001b[0m\u001b[1;33m\n",
       "\u001b[0m    \u001b[0mN\u001b[0m\u001b[1;33m=\u001b[0m\u001b[0mbo\u001b[0m\u001b[1;33m[\u001b[0m\u001b[1;36m3\u001b[0m\u001b[1;33m]\u001b[0m\u001b[1;33m;\u001b[0m\u001b[1;33m\n",
       "\u001b[0m    \u001b[0mz1\u001b[0m\u001b[1;33m=\u001b[0m\u001b[0mbo\u001b[0m\u001b[1;33m[\u001b[0m\u001b[1;36m4\u001b[0m\u001b[1;33m]\u001b[0m\u001b[1;33m;\u001b[0m\u001b[1;33m\n",
       "\u001b[0m    \u001b[0ml0\u001b[0m\u001b[1;33m=\u001b[0m\u001b[0mbo\u001b[0m\u001b[1;33m[\u001b[0m\u001b[1;36m5\u001b[0m\u001b[1;33m]\u001b[0m\u001b[1;33m\n",
       "\u001b[0m    \u001b[0maint\u001b[0m\u001b[1;33m=\u001b[0m\u001b[1;33m(\u001b[0m\u001b[1;36m1j\u001b[0m\u001b[1;33m*\u001b[0m\u001b[0mnumpy\u001b[0m\u001b[1;33m.\u001b[0m\u001b[0mpi\u001b[0m\u001b[1;33m*\u001b[0m\u001b[1;33m(\u001b[0m\u001b[1;36m2\u001b[0m\u001b[1;33m*\u001b[0m\u001b[0mnumpy\u001b[0m\u001b[1;33m.\u001b[0m\u001b[0mpi\u001b[0m\u001b[1;33m*\u001b[0m\u001b[0mf\u001b[0m\u001b[1;33m)\u001b[0m\u001b[1;33m*\u001b[0m\u001b[0mmu0\u001b[0m\u001b[1;33m*\u001b[0m\u001b[0mN\u001b[0m\u001b[1;33m**\u001b[0m\u001b[1;36m2\u001b[0m\u001b[1;33m)\u001b[0m\u001b[1;33m/\u001b[0m\u001b[1;33m(\u001b[0m\u001b[1;33m(\u001b[0m\u001b[1;33m(\u001b[0m\u001b[0mr2\u001b[0m\u001b[1;33m-\u001b[0m\u001b[0mr1\u001b[0m\u001b[1;33m)\u001b[0m\u001b[1;33m*\u001b[0m\u001b[0mdh\u001b[0m\u001b[1;33m)\u001b[0m\u001b[1;33m**\u001b[0m\u001b[1;36m2\u001b[0m\u001b[1;33m)\u001b[0m\u001b[1;33m\n",
       "\u001b[0m    \u001b[1;32mfor\u001b[0m \u001b[0mi\u001b[0m \u001b[1;32min\u001b[0m \u001b[0mrange\u001b[0m\u001b[1;33m(\u001b[0m\u001b[1;36m0\u001b[0m\u001b[1;33m,\u001b[0m\u001b[0mlen\u001b[0m\u001b[1;33m(\u001b[0m\u001b[0mf\u001b[0m\u001b[1;33m)\u001b[0m\u001b[1;33m)\u001b[0m\u001b[1;33m:\u001b[0m\u001b[1;33m\n",
       "\u001b[0m        \u001b[0mdzhf\u001b[0m\u001b[1;33m.\u001b[0m\u001b[0mappend\u001b[0m\u001b[1;33m(\u001b[0m\u001b[0mcquad\u001b[0m\u001b[1;33m(\u001b[0m\u001b[1;32mlambda\u001b[0m \u001b[0mk\u001b[0m\u001b[1;33m:\u001b[0m \u001b[0msig\u001b[0m\u001b[1;33m(\u001b[0m\u001b[0mk\u001b[0m\u001b[1;33m,\u001b[0m\u001b[0msigma\u001b[0m\u001b[1;33m,\u001b[0m\u001b[0mf\u001b[0m\u001b[1;33m[\u001b[0m\u001b[0mi\u001b[0m\u001b[1;33m]\u001b[0m\u001b[1;33m,\u001b[0m\u001b[0mmur\u001b[0m\u001b[1;33m)\u001b[0m\u001b[1;33m*\u001b[0m\u001b[1;33m(\u001b[0m\u001b[0mji\u001b[0m\u001b[1;33m(\u001b[0m\u001b[0mk\u001b[0m\u001b[1;33m,\u001b[0m\u001b[0mr1\u001b[0m\u001b[1;33m,\u001b[0m\u001b[0mr2\u001b[0m\u001b[1;33m)\u001b[0m\u001b[1;33m*\u001b[0m\u001b[0mexpz\u001b[0m\u001b[1;33m(\u001b[0m\u001b[0mk\u001b[0m\u001b[1;33m,\u001b[0m\u001b[0mz1\u001b[0m\u001b[1;33m,\u001b[0m\u001b[0mz1\u001b[0m\u001b[1;33m+\u001b[0m\u001b[0mdh\u001b[0m\u001b[1;33m)\u001b[0m\u001b[1;33m)\u001b[0m\u001b[1;33m**\u001b[0m\u001b[1;36m2\u001b[0m\u001b[1;33m,\u001b[0m\u001b[1;36m0\u001b[0m\u001b[1;33m,\u001b[0m\u001b[0mlmax\u001b[0m\u001b[1;33m)\u001b[0m\u001b[1;33m)\u001b[0m\u001b[1;33m\n",
       "\u001b[0m    \u001b[1;32mreturn\u001b[0m \u001b[0maint\u001b[0m\u001b[1;33m*\u001b[0m\u001b[0mdzhf\u001b[0m\u001b[1;33m\u001b[0m\u001b[1;33m\u001b[0m\u001b[0m\n",
       "\u001b[1;31mFile:\u001b[0m      c:\\users\\fernando\\dropbox\\gitlab\\tesis2\\dztheo\\cnea\\theo.py\n",
       "\u001b[1;31mType:\u001b[0m      function\n"
      ]
     },
     "metadata": {},
     "output_type": "display_data"
    }
   ],
   "source": [
    "cn.theo.dzHF??"
   ]
  },
  {
   "cell_type": "markdown",
   "metadata": {},
   "source": [
    "### Ejemplo de uso\n",
    "\n",
    "Cargamos datos del solartron con la funcion 'load' del submodulo 'so'  :"
   ]
  },
  {
   "cell_type": "code",
   "execution_count": 6,
   "metadata": {},
   "outputs": [
    {
     "data": {
      "text/plain": [
       "\u001b[1;31mSignature:\u001b[0m \u001b[0mcn\u001b[0m\u001b[1;33m.\u001b[0m\u001b[0mso\u001b[0m\u001b[1;33m.\u001b[0m\u001b[0mload\u001b[0m\u001b[1;33m(\u001b[0m\u001b[0mpath\u001b[0m\u001b[1;33m=\u001b[0m\u001b[1;36m0\u001b[0m\u001b[1;33m)\u001b[0m\u001b[1;33m\u001b[0m\u001b[1;33m\u001b[0m\u001b[0m\n",
       "\u001b[1;31mDocstring:\u001b[0m\n",
       "carga archivos en la carpeta actual, todos deben pertenecer a un mismo experimento, mismas frecuencias y misma cantidad de repeticiones, se le puede asginar la direccion en disco de la carpeta a la variable path (tener cuidado con los //), si path=0 abre una ventana de windows para elegirla manualmente\n",
       "--------------------------------------------------------------------------------------\n",
       "devuelve una lista: \n",
       "    data[0] lista de los datos de cada archivo, cada indice es una matriz con los datos crudos de cada archivo\n",
       "    \n",
       "    data[1] lista con los nombres de los archivos\n",
       "    \n",
       "    \n",
       "    \n",
       "\u001b[1;31mFile:\u001b[0m      c:\\users\\fernando\\dropbox\\gitlab\\tesis2\\dztheo\\cnea\\so.py\n",
       "\u001b[1;31mType:\u001b[0m      function\n"
      ]
     },
     "metadata": {},
     "output_type": "display_data"
    }
   ],
   "source": [
    "cn.so.load?"
   ]
  },
  {
   "cell_type": "code",
   "execution_count": 7,
   "metadata": {},
   "outputs": [
    {
     "name": "stdout",
     "output_type": "stream",
     "text": [
      "path=   C:/Users/fernando/tesis/labs/impedancias/pp1/enero 18\n",
      "0 EXP00.csv\n",
      "1 EXP3948.csv\n",
      "2 EXPm316p2.csv\n"
     ]
    }
   ],
   "source": [
    "data=cn.so.load()"
   ]
  },
  {
   "cell_type": "markdown",
   "metadata": {},
   "source": [
    "cargo datos a la variable data"
   ]
  },
  {
   "cell_type": "code",
   "execution_count": 8,
   "metadata": {},
   "outputs": [
    {
     "data": {
      "text/plain": [
       "(6, 451)"
      ]
     },
     "execution_count": 8,
     "metadata": {},
     "output_type": "execute_result"
    }
   ],
   "source": [
    "# el output es una matriz para cada archivo, esta matriz es un objeto del modulo numpy,\n",
    "# los objetos vienen con funciones integradas\n",
    "# una de ellas es la funcion \"shape\" que informa el tamaño del array/matriz\n",
    "data[0][0].shape"
   ]
  },
  {
   "cell_type": "code",
   "execution_count": 9,
   "metadata": {},
   "outputs": [
    {
     "name": "stdout",
     "output_type": "stream",
     "text": [
      "Variable   Type      Data/Info\n",
      "------------------------------\n",
      "cn         module    <module 'cnea' from 'C:\\\\<...>theo\\\\cnea\\\\__init__.py'>\n",
      "data       list      n=2\n"
     ]
    }
   ],
   "source": [
    "%whos"
   ]
  },
  {
   "cell_type": "code",
   "execution_count": 10,
   "metadata": {},
   "outputs": [
    {
     "name": "stdout",
     "output_type": "stream",
     "text": [
      "Variable   Type       Data/Info\n",
      "-------------------------------\n",
      "aire       ndarray    6x451: 2706 elems, type `float64`, 21648 bytes\n",
      "cn         module     <module 'cnea' from 'C:\\\\<...>theo\\\\cnea\\\\__init__.py'>\n",
      "data       list       n=2\n"
     ]
    }
   ],
   "source": [
    "#puedo creer una variable que sea solo la matriz de los datos del primer archivo\n",
    "aire=data[0][0]\n",
    "# quiero ver como aparece en el workspace\n",
    "%whos"
   ]
  },
  {
   "cell_type": "code",
   "execution_count": 11,
   "metadata": {},
   "outputs": [
    {
     "data": {
      "text/plain": [
       "numpy.ndarray"
      ]
     },
     "execution_count": 11,
     "metadata": {},
     "output_type": "execute_result"
    }
   ],
   "source": [
    "# una manera de ver que funciones tiene disponible (ATRIBUTOS) un objeto, es primero ver que tipo de objeto es y \n",
    "# googlear o mirar el help()\n",
    "type(aire)"
   ]
  },
  {
   "cell_type": "markdown",
   "metadata": {},
   "source": [
    "## Correcion de datos \n",
    "\n",
    "Para corregir los datos, usamos la funcion 'CORR' que toma como input, la frecuencia, los parametros de la bobina y la matriz de las impedancias ( que incluyend las mediciones en aire y las muestras )"
   ]
  },
  {
   "cell_type": "code",
   "execution_count": 14,
   "metadata": {},
   "outputs": [],
   "source": [
    "f=cn.so.getf(data)\n",
    "bo=cn.bo.bobpp1\n",
    "datacorr=cn.so.corr(f,bo,data)"
   ]
  },
  {
   "cell_type": "markdown",
   "metadata": {},
   "source": [
    "esta funcion devuelve una lista de vectores con las impedancias complejas, se puede ver la parte real con .real y la parte imaginaria con .imag como con cualquier array complejo de numpy."
   ]
  },
  {
   "cell_type": "code",
   "execution_count": 15,
   "metadata": {},
   "outputs": [
    {
     "data": {
      "text/plain": [
       "(2, 41)"
      ]
     },
     "execution_count": 15,
     "metadata": {},
     "output_type": "execute_result"
    }
   ],
   "source": [
    "datacorr[0].shape"
   ]
  },
  {
   "cell_type": "code",
   "execution_count": 16,
   "metadata": {},
   "outputs": [
    {
     "data": {
      "text/plain": [
       "['EXP3948.csv', 'EXPm316p2.csv']"
      ]
     },
     "execution_count": 16,
     "metadata": {},
     "output_type": "execute_result"
    }
   ],
   "source": [
    "datacorr[1]"
   ]
  },
  {
   "cell_type": "code",
   "execution_count": 17,
   "metadata": {},
   "outputs": [
    {
     "data": {
      "text/plain": [
       "array([[-0.08739299, -0.07768611, -0.0680787 , -0.05998935, -0.05303884,\n",
       "        -0.04641606, -0.04083909, -0.03555711, -0.03075903, -0.02656591,\n",
       "        -0.02240902, -0.0188109 , -0.01552346, -0.01245793, -0.00973139,\n",
       "        -0.00697939, -0.00437818, -0.00213391,  0.00019685,  0.00221423,\n",
       "         0.00412818,  0.00600631,  0.00761211,  0.0092089 ,  0.01068522,\n",
       "         0.01213377,  0.01353784,  0.01479804,  0.01617645,  0.01734659,\n",
       "         0.01847628,  0.01962493,  0.02073028,  0.02162879,  0.02258196,\n",
       "         0.02333705,  0.02386795,  0.02464691,  0.02516234,  0.02557067,\n",
       "         0.02607445],\n",
       "       [-0.04588972, -0.04091661, -0.03609577, -0.03155848, -0.02774376,\n",
       "        -0.02472542, -0.02182827, -0.01936992, -0.01708441, -0.0151089 ,\n",
       "        -0.01291938, -0.01139699, -0.00994632, -0.00835718, -0.00720895,\n",
       "        -0.0059324 , -0.00457806, -0.00350123, -0.00237458, -0.00136174,\n",
       "        -0.00033498,  0.00074401,  0.00179192,  0.0027698 ,  0.00390297,\n",
       "         0.0049319 ,  0.00620259,  0.00742972,  0.00883273,  0.0102109 ,\n",
       "         0.01171719,  0.01333131,  0.01514275,  0.01692505,  0.01874131,\n",
       "         0.02059127,  0.02250766,  0.02434802,  0.02638371,  0.02826596,\n",
       "         0.03022814]])"
      ]
     },
     "execution_count": 17,
     "metadata": {},
     "output_type": "execute_result"
    }
   ],
   "source": [
    "datacorr[0].real"
   ]
  },
  {
   "cell_type": "code",
   "execution_count": 18,
   "metadata": {},
   "outputs": [
    {
     "data": {
      "text/plain": [
       "array([[ 0.00014495, -0.00026052, -0.0001387 , -0.00020437, -0.0003001 ,\n",
       "        -0.00031442, -0.00050782, -0.00061665, -0.00058394, -0.0008332 ,\n",
       "        -0.00100605, -0.00121061, -0.00162977, -0.00197152, -0.00251036,\n",
       "        -0.00296442, -0.00350975, -0.0041988 , -0.00488363, -0.00569346,\n",
       "        -0.00661265, -0.00764577, -0.00866058, -0.00977009, -0.01108464,\n",
       "        -0.01201414, -0.01338772, -0.01508929, -0.01628373, -0.01782653,\n",
       "        -0.01987909, -0.02169268, -0.0234633 , -0.0248831 , -0.02711702,\n",
       "        -0.0289103 , -0.03032108, -0.03316622, -0.03545249, -0.03750003,\n",
       "        -0.04032702],\n",
       "       [ 0.06276164,  0.06248607,  0.06255505,  0.06256132,  0.06261545,\n",
       "         0.0624344 ,  0.06240979,  0.06255773,  0.06247324,  0.06243662,\n",
       "         0.0624799 ,  0.06247494,  0.06244162,  0.06245441,  0.0623525 ,\n",
       "         0.06237405,  0.06239356,  0.0623376 ,  0.06229522,  0.06222539,\n",
       "         0.06225279,  0.06208373,  0.06208138,  0.06213982,  0.0617804 ,\n",
       "         0.06174882,  0.06156445,  0.06130236,  0.06079584,  0.06049454,\n",
       "         0.05989026,  0.0590161 ,  0.0581988 ,  0.05771951,  0.05607074,\n",
       "         0.05534541,  0.05392126,  0.05251254,  0.0498994 ,  0.04766546,\n",
       "         0.04469251]])"
      ]
     },
     "execution_count": 18,
     "metadata": {},
     "output_type": "execute_result"
    }
   ],
   "source": [
    "datacorr[0].imag"
   ]
  },
  {
   "cell_type": "markdown",
   "metadata": {},
   "source": [
    "### Grafico los datos\n",
    "\n",
    "en el modulo 'plts' hay varias funciones para dos librerias diferentes\n",
    "#### matplotlib, mas sencilla y rapida\n",
    "* **plts.i**(f,datacorr[n]):    \n",
    "    grafica im(dz) vs f  \n",
    "    \n",
    "#### plotly mas interactiva, mas pesada para la memoria, instalar esto:\n",
    "\n",
    "```bash\n",
    "conda install npm\n",
    "jupyter labextension install jupyterlab-plotly@4.9.0\n",
    "\n",
    "```\n",
    "\n",
    "* **iallraw**(data)"
   ]
  },
  {
   "cell_type": "code",
   "execution_count": 19,
   "metadata": {},
   "outputs": [
    {
     "data": {
      "image/png": "[encoded data removed]",
      "text/html": [
       "\n",
       "\n",
       "<style>\n",
       "\n",
       "</style>\n",
       "\n",
       "<div id=\"fig_el811217569918229849225091837\"></div>\n",
       "<script>\n",
       "function mpld3_load_lib(url, callback){\n",
       "  var s = document.createElement('script');\n",
       "  s.src = url;\n",
       "  s.async = true;\n",
       "  s.onreadystatechange = s.onload = callback;\n",
       "  s.onerror = function(){console.warn(\"failed to load library \" + url);};\n",
       "  document.getElementsByTagName(\"head\")[0].appendChild(s);\n",
       "}\n",
       "\n",
       "if(typeof(mpld3) !== \"undefined\" && mpld3._mpld3IsLoaded){\n",
       "   // already loaded: just create the figure\n",
       "   !function(mpld3){\n",
       "       \n",
       "       mpld3.draw_figure(\"fig_el811217569918229849225091837\", {\"width\": 432.0, \"height\": 288.0, \"axes\": [{\"bbox\": [0.125, 0.125, 0.775, 0.755], \"xlim\": [79.43282347242814, 12589.254117941662], \"ylim\": [0.04378905287966919, 0.06366509612852238], \"xdomain\": [79.43282347242814, 12589.254117941662], \"ydomain\": [0.04378905287966919, 0.06366509612852238], \"xscale\": \"log\", \"yscale\": \"linear\", \"axes\": [{\"position\": \"bottom\", \"nticks\": 7, \"tickvalues\": null, \"tickformat_formatter\": \"\", \"tickformat\": null, \"scale\": \"log\", \"fontsize\": 10.0, \"grid\": {\"gridOn\": true, \"color\": \"#B0B0B0\", \"dasharray\": \"none\", \"alpha\": 1.0}, \"visible\": true}, {\"position\": \"left\", \"nticks\": 10, \"tickvalues\": null, \"tickformat_formatter\": \"\", \"tickformat\": null, \"scale\": \"linear\", \"fontsize\": 10.0, \"grid\": {\"gridOn\": true, \"color\": \"#B0B0B0\", \"dasharray\": \"none\", \"alpha\": 1.0}, \"visible\": true}], \"axesbg\": \"#FFFFFF\", \"axesbgalpha\": null, \"zoomable\": true, \"id\": \"el81121756963759816\", \"lines\": [], \"paths\": [], \"markers\": [{\"data\": \"data01\", \"xindex\": 0, \"yindex\": 1, \"coordinates\": \"data\", \"id\": \"el81121756969771848pts\", \"facecolor\": \"none\", \"edgecolor\": \"#000000\", \"edgewidth\": 1.0, \"alpha\": 1, \"zorder\": 2, \"markerpath\": [[[0.0, 1.5], [0.39780465000000004, 1.5], [0.7793698061772802, 1.3419505373823626], [1.0606601717798214, 1.0606601717798214], [1.3419505373823626, 0.7793698061772802], [1.5, 0.39780465000000004], [1.5, 0.0], [1.5, -0.39780465000000004], [1.3419505373823626, -0.7793698061772802], [1.0606601717798214, -1.0606601717798214], [0.7793698061772802, -1.3419505373823626], [0.39780465000000004, -1.5], [0.0, -1.5], [-0.39780465000000004, -1.5], [-0.7793698061772802, -1.3419505373823626], [-1.0606601717798214, -1.0606601717798214], [-1.3419505373823626, -0.7793698061772802], [-1.5, -0.39780465000000004], [-1.5, 0.0], [-1.5, 0.39780465000000004], [-1.3419505373823626, 0.7793698061772802], [-1.0606601717798214, 1.0606601717798214], [-0.7793698061772802, 1.3419505373823626], [-0.39780465000000004, 1.5], [0.0, 1.5]], [\"M\", \"C\", \"C\", \"C\", \"C\", \"C\", \"C\", \"C\", \"C\", \"Z\"]]}], \"texts\": [{\"text\": \"Frecuencia [Hz]\", \"position\": [0.49999999999999994, -0.11405445180279619], \"coordinates\": \"axes\", \"h_anchor\": \"middle\", \"v_baseline\": \"hanging\", \"rotation\": -0.0, \"fontsize\": 10.0, \"color\": \"#000000\", \"alpha\": 1, \"zorder\": 3, \"id\": \"el81121756991828808\"}, {\"text\": \"$Im(\\\\Delta Z)/X_0$\", \"position\": [-0.13702210274790919, 0.4999999999999999], \"coordinates\": \"axes\", \"h_anchor\": \"middle\", \"v_baseline\": \"auto\", \"rotation\": -90.0, \"fontsize\": 10.0, \"color\": \"#000000\", \"alpha\": 1, \"zorder\": 3, \"id\": \"el81121756991837768\"}, {\"text\": \"EXPm316p2.csv\", \"position\": [0.49999999999999994, 1.0275938189845473], \"coordinates\": \"axes\", \"h_anchor\": \"middle\", \"v_baseline\": \"auto\", \"rotation\": -0.0, \"fontsize\": 12.0, \"color\": \"#000000\", \"alpha\": 1, \"zorder\": 3, \"id\": \"el81121756991801736\"}], \"collections\": [], \"images\": [], \"sharex\": [], \"sharey\": []}], \"data\": {\"data01\": [[100.0, 0.06276163961721087], [112.2018, 0.06248606764052867], [125.8925, 0.06255505143269122], [141.2538, 0.06256131650733711], [158.4893, 0.06261544707273119], [177.8279, 0.06243440291606183], [199.5262, 0.06240979384316189], [223.8721, 0.06255772634753583], [251.1886, 0.06247324263579385], [281.8383, 0.06243662077746175], [316.2278, 0.06247989979662419], [354.8134, 0.062474937115787554], [398.1072, 0.062441618179967066], [446.6836, 0.06245441028271509], [501.1872, 0.0623525030526907], [562.3413, 0.06237405076654591], [630.9573, 0.062393556064882165], [707.9458, 0.06233759565585196], [794.3282, 0.06229522192168161], [891.2509, 0.06222539034948211], [1000.0, 0.06225279123070427], [1122.018, 0.062083727464054723], [1258.925, 0.06208138099292963], [1412.538, 0.06213981893859125], [1584.893, 0.06178040448612229], [1778.28, 0.061748819616395514], [1995.262, 0.06156445236516425], [2238.721, 0.061302364689190446], [2511.886, 0.06079584096389266], [2818.383, 0.060494538814418665], [3162.278, 0.0598902618734139], [3548.134, 0.0590161036161631], [3981.072, 0.058198804337360015], [4466.836, 0.057719513704869496], [5011.873, 0.05607073852917739], [5623.413, 0.05534540749547495], [6309.573, 0.053921260505865556], [7079.458, 0.052512543941843626], [7943.282, 0.04989940271832495], [8912.509, 0.04766546262147931], [10000.0, 0.0446925093909807]]}, \"id\": \"el81121756991822984\", \"plugins\": [{\"type\": \"reset\"}, {\"type\": \"zoom\", \"button\": true, \"enabled\": false}, {\"type\": \"boxzoom\", \"button\": true, \"enabled\": false}]});\n",
       "   }(mpld3);\n",
       "}else if(typeof define === \"function\" && define.amd){\n",
       "   // require.js is available: use it to load d3/mpld3\n",
       "   require.config({paths: {d3: \"https://d3js.org/d3.v5\"}});\n",
       "   require([\"d3\"], function(d3){\n",
       "      window.d3 = d3;\n",
       "      mpld3_load_lib(\"https://mpld3.github.io/js/mpld3.v0.5.1.js\", function(){\n",
       "         \n",
       "         mpld3.draw_figure(\"fig_el811217569918229849225091837\", {\"width\": 432.0, \"height\": 288.0, \"axes\": [{\"bbox\": [0.125, 0.125, 0.775, 0.755], \"xlim\": [79.43282347242814, 12589.254117941662], \"ylim\": [0.04378905287966919, 0.06366509612852238], \"xdomain\": [79.43282347242814, 12589.254117941662], \"ydomain\": [0.04378905287966919, 0.06366509612852238], \"xscale\": \"log\", \"yscale\": \"linear\", \"axes\": [{\"position\": \"bottom\", \"nticks\": 7, \"tickvalues\": null, \"tickformat_formatter\": \"\", \"tickformat\": null, \"scale\": \"log\", \"fontsize\": 10.0, \"grid\": {\"gridOn\": true, \"color\": \"#B0B0B0\", \"dasharray\": \"none\", \"alpha\": 1.0}, \"visible\": true}, {\"position\": \"left\", \"nticks\": 10, \"tickvalues\": null, \"tickformat_formatter\": \"\", \"tickformat\": null, \"scale\": \"linear\", \"fontsize\": 10.0, \"grid\": {\"gridOn\": true, \"color\": \"#B0B0B0\", \"dasharray\": \"none\", \"alpha\": 1.0}, \"visible\": true}], \"axesbg\": \"#FFFFFF\", \"axesbgalpha\": null, \"zoomable\": true, \"id\": \"el81121756963759816\", \"lines\": [], \"paths\": [], \"markers\": [{\"data\": \"data01\", \"xindex\": 0, \"yindex\": 1, \"coordinates\": \"data\", \"id\": \"el81121756969771848pts\", \"facecolor\": \"none\", \"edgecolor\": \"#000000\", \"edgewidth\": 1.0, \"alpha\": 1, \"zorder\": 2, \"markerpath\": [[[0.0, 1.5], [0.39780465000000004, 1.5], [0.7793698061772802, 1.3419505373823626], [1.0606601717798214, 1.0606601717798214], [1.3419505373823626, 0.7793698061772802], [1.5, 0.39780465000000004], [1.5, 0.0], [1.5, -0.39780465000000004], [1.3419505373823626, -0.7793698061772802], [1.0606601717798214, -1.0606601717798214], [0.7793698061772802, -1.3419505373823626], [0.39780465000000004, -1.5], [0.0, -1.5], [-0.39780465000000004, -1.5], [-0.7793698061772802, -1.3419505373823626], [-1.0606601717798214, -1.0606601717798214], [-1.3419505373823626, -0.7793698061772802], [-1.5, -0.39780465000000004], [-1.5, 0.0], [-1.5, 0.39780465000000004], [-1.3419505373823626, 0.7793698061772802], [-1.0606601717798214, 1.0606601717798214], [-0.7793698061772802, 1.3419505373823626], [-0.39780465000000004, 1.5], [0.0, 1.5]], [\"M\", \"C\", \"C\", \"C\", \"C\", \"C\", \"C\", \"C\", \"C\", \"Z\"]]}], \"texts\": [{\"text\": \"Frecuencia [Hz]\", \"position\": [0.49999999999999994, -0.11405445180279619], \"coordinates\": \"axes\", \"h_anchor\": \"middle\", \"v_baseline\": \"hanging\", \"rotation\": -0.0, \"fontsize\": 10.0, \"color\": \"#000000\", \"alpha\": 1, \"zorder\": 3, \"id\": \"el81121756991828808\"}, {\"text\": \"$Im(\\\\Delta Z)/X_0$\", \"position\": [-0.13702210274790919, 0.4999999999999999], \"coordinates\": \"axes\", \"h_anchor\": \"middle\", \"v_baseline\": \"auto\", \"rotation\": -90.0, \"fontsize\": 10.0, \"color\": \"#000000\", \"alpha\": 1, \"zorder\": 3, \"id\": \"el81121756991837768\"}, {\"text\": \"EXPm316p2.csv\", \"position\": [0.49999999999999994, 1.0275938189845473], \"coordinates\": \"axes\", \"h_anchor\": \"middle\", \"v_baseline\": \"auto\", \"rotation\": -0.0, \"fontsize\": 12.0, \"color\": \"#000000\", \"alpha\": 1, \"zorder\": 3, \"id\": \"el81121756991801736\"}], \"collections\": [], \"images\": [], \"sharex\": [], \"sharey\": []}], \"data\": {\"data01\": [[100.0, 0.06276163961721087], [112.2018, 0.06248606764052867], [125.8925, 0.06255505143269122], [141.2538, 0.06256131650733711], [158.4893, 0.06261544707273119], [177.8279, 0.06243440291606183], [199.5262, 0.06240979384316189], [223.8721, 0.06255772634753583], [251.1886, 0.06247324263579385], [281.8383, 0.06243662077746175], [316.2278, 0.06247989979662419], [354.8134, 0.062474937115787554], [398.1072, 0.062441618179967066], [446.6836, 0.06245441028271509], [501.1872, 0.0623525030526907], [562.3413, 0.06237405076654591], [630.9573, 0.062393556064882165], [707.9458, 0.06233759565585196], [794.3282, 0.06229522192168161], [891.2509, 0.06222539034948211], [1000.0, 0.06225279123070427], [1122.018, 0.062083727464054723], [1258.925, 0.06208138099292963], [1412.538, 0.06213981893859125], [1584.893, 0.06178040448612229], [1778.28, 0.061748819616395514], [1995.262, 0.06156445236516425], [2238.721, 0.061302364689190446], [2511.886, 0.06079584096389266], [2818.383, 0.060494538814418665], [3162.278, 0.0598902618734139], [3548.134, 0.0590161036161631], [3981.072, 0.058198804337360015], [4466.836, 0.057719513704869496], [5011.873, 0.05607073852917739], [5623.413, 0.05534540749547495], [6309.573, 0.053921260505865556], [7079.458, 0.052512543941843626], [7943.282, 0.04989940271832495], [8912.509, 0.04766546262147931], [10000.0, 0.0446925093909807]]}, \"id\": \"el81121756991822984\", \"plugins\": [{\"type\": \"reset\"}, {\"type\": \"zoom\", \"button\": true, \"enabled\": false}, {\"type\": \"boxzoom\", \"button\": true, \"enabled\": false}]});\n",
       "      });\n",
       "    });\n",
       "}else{\n",
       "    // require.js not available: dynamically load d3 & mpld3\n",
       "    mpld3_load_lib(\"https://d3js.org/d3.v5.js\", function(){\n",
       "         mpld3_load_lib(\"https://mpld3.github.io/js/mpld3.v0.5.1.js\", function(){\n",
       "                 \n",
       "                 mpld3.draw_figure(\"fig_el811217569918229849225091837\", {\"width\": 432.0, \"height\": 288.0, \"axes\": [{\"bbox\": [0.125, 0.125, 0.775, 0.755], \"xlim\": [79.43282347242814, 12589.254117941662], \"ylim\": [0.04378905287966919, 0.06366509612852238], \"xdomain\": [79.43282347242814, 12589.254117941662], \"ydomain\": [0.04378905287966919, 0.06366509612852238], \"xscale\": \"log\", \"yscale\": \"linear\", \"axes\": [{\"position\": \"bottom\", \"nticks\": 7, \"tickvalues\": null, \"tickformat_formatter\": \"\", \"tickformat\": null, \"scale\": \"log\", \"fontsize\": 10.0, \"grid\": {\"gridOn\": true, \"color\": \"#B0B0B0\", \"dasharray\": \"none\", \"alpha\": 1.0}, \"visible\": true}, {\"position\": \"left\", \"nticks\": 10, \"tickvalues\": null, \"tickformat_formatter\": \"\", \"tickformat\": null, \"scale\": \"linear\", \"fontsize\": 10.0, \"grid\": {\"gridOn\": true, \"color\": \"#B0B0B0\", \"dasharray\": \"none\", \"alpha\": 1.0}, \"visible\": true}], \"axesbg\": \"#FFFFFF\", \"axesbgalpha\": null, \"zoomable\": true, \"id\": \"el81121756963759816\", \"lines\": [], \"paths\": [], \"markers\": [{\"data\": \"data01\", \"xindex\": 0, \"yindex\": 1, \"coordinates\": \"data\", \"id\": \"el81121756969771848pts\", \"facecolor\": \"none\", \"edgecolor\": \"#000000\", \"edgewidth\": 1.0, \"alpha\": 1, \"zorder\": 2, \"markerpath\": [[[0.0, 1.5], [0.39780465000000004, 1.5], [0.7793698061772802, 1.3419505373823626], [1.0606601717798214, 1.0606601717798214], [1.3419505373823626, 0.7793698061772802], [1.5, 0.39780465000000004], [1.5, 0.0], [1.5, -0.39780465000000004], [1.3419505373823626, -0.7793698061772802], [1.0606601717798214, -1.0606601717798214], [0.7793698061772802, -1.3419505373823626], [0.39780465000000004, -1.5], [0.0, -1.5], [-0.39780465000000004, -1.5], [-0.7793698061772802, -1.3419505373823626], [-1.0606601717798214, -1.0606601717798214], [-1.3419505373823626, -0.7793698061772802], [-1.5, -0.39780465000000004], [-1.5, 0.0], [-1.5, 0.39780465000000004], [-1.3419505373823626, 0.7793698061772802], [-1.0606601717798214, 1.0606601717798214], [-0.7793698061772802, 1.3419505373823626], [-0.39780465000000004, 1.5], [0.0, 1.5]], [\"M\", \"C\", \"C\", \"C\", \"C\", \"C\", \"C\", \"C\", \"C\", \"Z\"]]}], \"texts\": [{\"text\": \"Frecuencia [Hz]\", \"position\": [0.49999999999999994, -0.11405445180279619], \"coordinates\": \"axes\", \"h_anchor\": \"middle\", \"v_baseline\": \"hanging\", \"rotation\": -0.0, \"fontsize\": 10.0, \"color\": \"#000000\", \"alpha\": 1, \"zorder\": 3, \"id\": \"el81121756991828808\"}, {\"text\": \"$Im(\\\\Delta Z)/X_0$\", \"position\": [-0.13702210274790919, 0.4999999999999999], \"coordinates\": \"axes\", \"h_anchor\": \"middle\", \"v_baseline\": \"auto\", \"rotation\": -90.0, \"fontsize\": 10.0, \"color\": \"#000000\", \"alpha\": 1, \"zorder\": 3, \"id\": \"el81121756991837768\"}, {\"text\": \"EXPm316p2.csv\", \"position\": [0.49999999999999994, 1.0275938189845473], \"coordinates\": \"axes\", \"h_anchor\": \"middle\", \"v_baseline\": \"auto\", \"rotation\": -0.0, \"fontsize\": 12.0, \"color\": \"#000000\", \"alpha\": 1, \"zorder\": 3, \"id\": \"el81121756991801736\"}], \"collections\": [], \"images\": [], \"sharex\": [], \"sharey\": []}], \"data\": {\"data01\": [[100.0, 0.06276163961721087], [112.2018, 0.06248606764052867], [125.8925, 0.06255505143269122], [141.2538, 0.06256131650733711], [158.4893, 0.06261544707273119], [177.8279, 0.06243440291606183], [199.5262, 0.06240979384316189], [223.8721, 0.06255772634753583], [251.1886, 0.06247324263579385], [281.8383, 0.06243662077746175], [316.2278, 0.06247989979662419], [354.8134, 0.062474937115787554], [398.1072, 0.062441618179967066], [446.6836, 0.06245441028271509], [501.1872, 0.0623525030526907], [562.3413, 0.06237405076654591], [630.9573, 0.062393556064882165], [707.9458, 0.06233759565585196], [794.3282, 0.06229522192168161], [891.2509, 0.06222539034948211], [1000.0, 0.06225279123070427], [1122.018, 0.062083727464054723], [1258.925, 0.06208138099292963], [1412.538, 0.06213981893859125], [1584.893, 0.06178040448612229], [1778.28, 0.061748819616395514], [1995.262, 0.06156445236516425], [2238.721, 0.061302364689190446], [2511.886, 0.06079584096389266], [2818.383, 0.060494538814418665], [3162.278, 0.0598902618734139], [3548.134, 0.0590161036161631], [3981.072, 0.058198804337360015], [4466.836, 0.057719513704869496], [5011.873, 0.05607073852917739], [5623.413, 0.05534540749547495], [6309.573, 0.053921260505865556], [7079.458, 0.052512543941843626], [7943.282, 0.04989940271832495], [8912.509, 0.04766546262147931], [10000.0, 0.0446925093909807]]}, \"id\": \"el81121756991822984\", \"plugins\": [{\"type\": \"reset\"}, {\"type\": \"zoom\", \"button\": true, \"enabled\": false}, {\"type\": \"boxzoom\", \"button\": true, \"enabled\": false}]});\n",
       "            })\n",
       "         });\n",
       "}\n",
       "</script>"
      ],
      "text/plain": [
       "<Figure size 432x288 with 1 Axes>"
      ]
     },
     "metadata": {
      "needs_background": "light"
     },
     "output_type": "display_data"
    }
   ],
   "source": [
    "cn.plt.im(f,datacorr,1)"
   ]
  },
  {
   "cell_type": "code",
   "execution_count": 20,
   "metadata": {},
   "outputs": [
    {
     "data": {
      "image/png": "[encoded data removed]",
      "text/html": [
       "\n",
       "\n",
       "<style>\n",
       "\n",
       "</style>\n",
       "\n",
       "<div id=\"fig_el811217569651415129843771503\"></div>\n",
       "<script>\n",
       "function mpld3_load_lib(url, callback){\n",
       "  var s = document.createElement('script');\n",
       "  s.src = url;\n",
       "  s.async = true;\n",
       "  s.onreadystatechange = s.onload = callback;\n",
       "  s.onerror = function(){console.warn(\"failed to load library \" + url);};\n",
       "  document.getElementsByTagName(\"head\")[0].appendChild(s);\n",
       "}\n",
       "\n",
       "if(typeof(mpld3) !== \"undefined\" && mpld3._mpld3IsLoaded){\n",
       "   // already loaded: just create the figure\n",
       "   !function(mpld3){\n",
       "       \n",
       "       mpld3.draw_figure(\"fig_el811217569651415129843771503\", {\"width\": 432.0, \"height\": 288.0, \"axes\": [{\"bbox\": [0.125, 0.125, 0.775, 0.755], \"xlim\": [79.43282347242814, 12589.254117941662], \"ylim\": [-0.04969560885625155, 0.03403402847387955], \"xdomain\": [79.43282347242814, 12589.254117941662], \"ydomain\": [-0.04969560885625155, 0.03403402847387955], \"xscale\": \"log\", \"yscale\": \"linear\", \"axes\": [{\"position\": \"bottom\", \"nticks\": 7, \"tickvalues\": null, \"tickformat_formatter\": \"\", \"tickformat\": null, \"scale\": \"log\", \"fontsize\": 10.0, \"grid\": {\"gridOn\": true, \"color\": \"#B0B0B0\", \"dasharray\": \"none\", \"alpha\": 1.0}, \"visible\": true}, {\"position\": \"left\", \"nticks\": 10, \"tickvalues\": null, \"tickformat_formatter\": \"\", \"tickformat\": null, \"scale\": \"linear\", \"fontsize\": 10.0, \"grid\": {\"gridOn\": true, \"color\": \"#B0B0B0\", \"dasharray\": \"none\", \"alpha\": 1.0}, \"visible\": true}], \"axesbg\": \"#FFFFFF\", \"axesbgalpha\": null, \"zoomable\": true, \"id\": \"el81121757038884808\", \"lines\": [], \"paths\": [], \"markers\": [{\"data\": \"data01\", \"xindex\": 0, \"yindex\": 1, \"coordinates\": \"data\", \"id\": \"el81121757039285320pts\", \"facecolor\": \"none\", \"edgecolor\": \"#000000\", \"edgewidth\": 1.0, \"alpha\": 1, \"zorder\": 2, \"markerpath\": [[[0.0, 1.5], [0.39780465000000004, 1.5], [0.7793698061772802, 1.3419505373823626], [1.0606601717798214, 1.0606601717798214], [1.3419505373823626, 0.7793698061772802], [1.5, 0.39780465000000004], [1.5, 0.0], [1.5, -0.39780465000000004], [1.3419505373823626, -0.7793698061772802], [1.0606601717798214, -1.0606601717798214], [0.7793698061772802, -1.3419505373823626], [0.39780465000000004, -1.5], [0.0, -1.5], [-0.39780465000000004, -1.5], [-0.7793698061772802, -1.3419505373823626], [-1.0606601717798214, -1.0606601717798214], [-1.3419505373823626, -0.7793698061772802], [-1.5, -0.39780465000000004], [-1.5, 0.0], [-1.5, 0.39780465000000004], [-1.3419505373823626, 0.7793698061772802], [-1.0606601717798214, 1.0606601717798214], [-0.7793698061772802, 1.3419505373823626], [-0.39780465000000004, 1.5], [0.0, 1.5]], [\"M\", \"C\", \"C\", \"C\", \"C\", \"C\", \"C\", \"C\", \"C\", \"Z\"]]}], \"texts\": [{\"text\": \"Frecuencia [Hz]\", \"position\": [0.49999999999999994, -0.11405445180279619], \"coordinates\": \"axes\", \"h_anchor\": \"middle\", \"v_baseline\": \"hanging\", \"rotation\": -0.0, \"fontsize\": 10.0, \"color\": \"#000000\", \"alpha\": 1, \"zorder\": 3, \"id\": \"el81121756969761480\"}, {\"text\": \"$Re(\\\\Delta Z)/X_0$\", \"position\": [-0.12395459976105137, 0.4999999999999999], \"coordinates\": \"axes\", \"h_anchor\": \"middle\", \"v_baseline\": \"auto\", \"rotation\": -90.0, \"fontsize\": 10.0, \"color\": \"#000000\", \"alpha\": 1, \"zorder\": 3, \"id\": \"el81121756969775048\"}, {\"text\": \"EXPm316p2.csv\", \"position\": [0.49999999999999994, 1.0275938189845473], \"coordinates\": \"axes\", \"h_anchor\": \"middle\", \"v_baseline\": \"auto\", \"rotation\": -0.0, \"fontsize\": 12.0, \"color\": \"#000000\", \"alpha\": 1, \"zorder\": 3, \"id\": \"el81121757039174088\"}], \"collections\": [], \"images\": [], \"sharex\": [], \"sharey\": []}], \"data\": {\"data01\": [[100.0, -0.0458897162503365], [112.2018, -0.04091660663147846], [125.8925, -0.03609576962815604], [141.2538, -0.03155848483942676], [158.4893, -0.027743759098751732], [177.8279, -0.02472542407818203], [199.5262, -0.021828266311488743], [223.8721, -0.019369918289899153], [251.1886, -0.01708441246013764], [281.8383, -0.015108901100760335], [316.2278, -0.012919378794015073], [354.8134, -0.011396988985269932], [398.1072, -0.009946317698364338], [446.6836, -0.00835717823425051], [501.1872, -0.0072089453568071555], [562.3413, -0.00593240136628764], [630.9573, -0.004578062975188526], [707.9458, -0.003501234911206871], [794.3282, -0.0023745755357406917], [891.2509, -0.0013617416064464738], [1000.0, -0.00033498233769362203], [1122.018, 0.0007440102366561013], [1258.925, 0.0017919177015249664], [1412.538, 0.002769801254728158], [1584.893, 0.003902970761360792], [1778.28, 0.004931902532088231], [1995.262, 0.0062025940967057845], [2238.721, 0.007429722107590775], [2511.886, 0.008832728649488917], [2818.383, 0.0102108991148294], [3162.278, 0.011717190052011545], [3548.134, 0.013331306201714643], [3981.072, 0.015142748576045598], [4466.836, 0.016925047180744494], [5011.873, 0.018741310149380123], [5623.413, 0.02059126933585221], [6309.573, 0.02250766021089785], [7079.458, 0.02434801777029886], [7943.282, 0.026383713894961722], [8912.509, 0.028265961069813352], [10000.0, 0.030228135867964495]]}, \"id\": \"el81121756965141512\", \"plugins\": [{\"type\": \"reset\"}, {\"type\": \"zoom\", \"button\": true, \"enabled\": false}, {\"type\": \"boxzoom\", \"button\": true, \"enabled\": false}]});\n",
       "   }(mpld3);\n",
       "}else if(typeof define === \"function\" && define.amd){\n",
       "   // require.js is available: use it to load d3/mpld3\n",
       "   require.config({paths: {d3: \"https://d3js.org/d3.v5\"}});\n",
       "   require([\"d3\"], function(d3){\n",
       "      window.d3 = d3;\n",
       "      mpld3_load_lib(\"https://mpld3.github.io/js/mpld3.v0.5.1.js\", function(){\n",
       "         \n",
       "         mpld3.draw_figure(\"fig_el811217569651415129843771503\", {\"width\": 432.0, \"height\": 288.0, \"axes\": [{\"bbox\": [0.125, 0.125, 0.775, 0.755], \"xlim\": [79.43282347242814, 12589.254117941662], \"ylim\": [-0.04969560885625155, 0.03403402847387955], \"xdomain\": [79.43282347242814, 12589.254117941662], \"ydomain\": [-0.04969560885625155, 0.03403402847387955], \"xscale\": \"log\", \"yscale\": \"linear\", \"axes\": [{\"position\": \"bottom\", \"nticks\": 7, \"tickvalues\": null, \"tickformat_formatter\": \"\", \"tickformat\": null, \"scale\": \"log\", \"fontsize\": 10.0, \"grid\": {\"gridOn\": true, \"color\": \"#B0B0B0\", \"dasharray\": \"none\", \"alpha\": 1.0}, \"visible\": true}, {\"position\": \"left\", \"nticks\": 10, \"tickvalues\": null, \"tickformat_formatter\": \"\", \"tickformat\": null, \"scale\": \"linear\", \"fontsize\": 10.0, \"grid\": {\"gridOn\": true, \"color\": \"#B0B0B0\", \"dasharray\": \"none\", \"alpha\": 1.0}, \"visible\": true}], \"axesbg\": \"#FFFFFF\", \"axesbgalpha\": null, \"zoomable\": true, \"id\": \"el81121757038884808\", \"lines\": [], \"paths\": [], \"markers\": [{\"data\": \"data01\", \"xindex\": 0, \"yindex\": 1, \"coordinates\": \"data\", \"id\": \"el81121757039285320pts\", \"facecolor\": \"none\", \"edgecolor\": \"#000000\", \"edgewidth\": 1.0, \"alpha\": 1, \"zorder\": 2, \"markerpath\": [[[0.0, 1.5], [0.39780465000000004, 1.5], [0.7793698061772802, 1.3419505373823626], [1.0606601717798214, 1.0606601717798214], [1.3419505373823626, 0.7793698061772802], [1.5, 0.39780465000000004], [1.5, 0.0], [1.5, -0.39780465000000004], [1.3419505373823626, -0.7793698061772802], [1.0606601717798214, -1.0606601717798214], [0.7793698061772802, -1.3419505373823626], [0.39780465000000004, -1.5], [0.0, -1.5], [-0.39780465000000004, -1.5], [-0.7793698061772802, -1.3419505373823626], [-1.0606601717798214, -1.0606601717798214], [-1.3419505373823626, -0.7793698061772802], [-1.5, -0.39780465000000004], [-1.5, 0.0], [-1.5, 0.39780465000000004], [-1.3419505373823626, 0.7793698061772802], [-1.0606601717798214, 1.0606601717798214], [-0.7793698061772802, 1.3419505373823626], [-0.39780465000000004, 1.5], [0.0, 1.5]], [\"M\", \"C\", \"C\", \"C\", \"C\", \"C\", \"C\", \"C\", \"C\", \"Z\"]]}], \"texts\": [{\"text\": \"Frecuencia [Hz]\", \"position\": [0.49999999999999994, -0.11405445180279619], \"coordinates\": \"axes\", \"h_anchor\": \"middle\", \"v_baseline\": \"hanging\", \"rotation\": -0.0, \"fontsize\": 10.0, \"color\": \"#000000\", \"alpha\": 1, \"zorder\": 3, \"id\": \"el81121756969761480\"}, {\"text\": \"$Re(\\\\Delta Z)/X_0$\", \"position\": [-0.12395459976105137, 0.4999999999999999], \"coordinates\": \"axes\", \"h_anchor\": \"middle\", \"v_baseline\": \"auto\", \"rotation\": -90.0, \"fontsize\": 10.0, \"color\": \"#000000\", \"alpha\": 1, \"zorder\": 3, \"id\": \"el81121756969775048\"}, {\"text\": \"EXPm316p2.csv\", \"position\": [0.49999999999999994, 1.0275938189845473], \"coordinates\": \"axes\", \"h_anchor\": \"middle\", \"v_baseline\": \"auto\", \"rotation\": -0.0, \"fontsize\": 12.0, \"color\": \"#000000\", \"alpha\": 1, \"zorder\": 3, \"id\": \"el81121757039174088\"}], \"collections\": [], \"images\": [], \"sharex\": [], \"sharey\": []}], \"data\": {\"data01\": [[100.0, -0.0458897162503365], [112.2018, -0.04091660663147846], [125.8925, -0.03609576962815604], [141.2538, -0.03155848483942676], [158.4893, -0.027743759098751732], [177.8279, -0.02472542407818203], [199.5262, -0.021828266311488743], [223.8721, -0.019369918289899153], [251.1886, -0.01708441246013764], [281.8383, -0.015108901100760335], [316.2278, -0.012919378794015073], [354.8134, -0.011396988985269932], [398.1072, -0.009946317698364338], [446.6836, -0.00835717823425051], [501.1872, -0.0072089453568071555], [562.3413, -0.00593240136628764], [630.9573, -0.004578062975188526], [707.9458, -0.003501234911206871], [794.3282, -0.0023745755357406917], [891.2509, -0.0013617416064464738], [1000.0, -0.00033498233769362203], [1122.018, 0.0007440102366561013], [1258.925, 0.0017919177015249664], [1412.538, 0.002769801254728158], [1584.893, 0.003902970761360792], [1778.28, 0.004931902532088231], [1995.262, 0.0062025940967057845], [2238.721, 0.007429722107590775], [2511.886, 0.008832728649488917], [2818.383, 0.0102108991148294], [3162.278, 0.011717190052011545], [3548.134, 0.013331306201714643], [3981.072, 0.015142748576045598], [4466.836, 0.016925047180744494], [5011.873, 0.018741310149380123], [5623.413, 0.02059126933585221], [6309.573, 0.02250766021089785], [7079.458, 0.02434801777029886], [7943.282, 0.026383713894961722], [8912.509, 0.028265961069813352], [10000.0, 0.030228135867964495]]}, \"id\": \"el81121756965141512\", \"plugins\": [{\"type\": \"reset\"}, {\"type\": \"zoom\", \"button\": true, \"enabled\": false}, {\"type\": \"boxzoom\", \"button\": true, \"enabled\": false}]});\n",
       "      });\n",
       "    });\n",
       "}else{\n",
       "    // require.js not available: dynamically load d3 & mpld3\n",
       "    mpld3_load_lib(\"https://d3js.org/d3.v5.js\", function(){\n",
       "         mpld3_load_lib(\"https://mpld3.github.io/js/mpld3.v0.5.1.js\", function(){\n",
       "                 \n",
       "                 mpld3.draw_figure(\"fig_el811217569651415129843771503\", {\"width\": 432.0, \"height\": 288.0, \"axes\": [{\"bbox\": [0.125, 0.125, 0.775, 0.755], \"xlim\": [79.43282347242814, 12589.254117941662], \"ylim\": [-0.04969560885625155, 0.03403402847387955], \"xdomain\": [79.43282347242814, 12589.254117941662], \"ydomain\": [-0.04969560885625155, 0.03403402847387955], \"xscale\": \"log\", \"yscale\": \"linear\", \"axes\": [{\"position\": \"bottom\", \"nticks\": 7, \"tickvalues\": null, \"tickformat_formatter\": \"\", \"tickformat\": null, \"scale\": \"log\", \"fontsize\": 10.0, \"grid\": {\"gridOn\": true, \"color\": \"#B0B0B0\", \"dasharray\": \"none\", \"alpha\": 1.0}, \"visible\": true}, {\"position\": \"left\", \"nticks\": 10, \"tickvalues\": null, \"tickformat_formatter\": \"\", \"tickformat\": null, \"scale\": \"linear\", \"fontsize\": 10.0, \"grid\": {\"gridOn\": true, \"color\": \"#B0B0B0\", \"dasharray\": \"none\", \"alpha\": 1.0}, \"visible\": true}], \"axesbg\": \"#FFFFFF\", \"axesbgalpha\": null, \"zoomable\": true, \"id\": \"el81121757038884808\", \"lines\": [], \"paths\": [], \"markers\": [{\"data\": \"data01\", \"xindex\": 0, \"yindex\": 1, \"coordinates\": \"data\", \"id\": \"el81121757039285320pts\", \"facecolor\": \"none\", \"edgecolor\": \"#000000\", \"edgewidth\": 1.0, \"alpha\": 1, \"zorder\": 2, \"markerpath\": [[[0.0, 1.5], [0.39780465000000004, 1.5], [0.7793698061772802, 1.3419505373823626], [1.0606601717798214, 1.0606601717798214], [1.3419505373823626, 0.7793698061772802], [1.5, 0.39780465000000004], [1.5, 0.0], [1.5, -0.39780465000000004], [1.3419505373823626, -0.7793698061772802], [1.0606601717798214, -1.0606601717798214], [0.7793698061772802, -1.3419505373823626], [0.39780465000000004, -1.5], [0.0, -1.5], [-0.39780465000000004, -1.5], [-0.7793698061772802, -1.3419505373823626], [-1.0606601717798214, -1.0606601717798214], [-1.3419505373823626, -0.7793698061772802], [-1.5, -0.39780465000000004], [-1.5, 0.0], [-1.5, 0.39780465000000004], [-1.3419505373823626, 0.7793698061772802], [-1.0606601717798214, 1.0606601717798214], [-0.7793698061772802, 1.3419505373823626], [-0.39780465000000004, 1.5], [0.0, 1.5]], [\"M\", \"C\", \"C\", \"C\", \"C\", \"C\", \"C\", \"C\", \"C\", \"Z\"]]}], \"texts\": [{\"text\": \"Frecuencia [Hz]\", \"position\": [0.49999999999999994, -0.11405445180279619], \"coordinates\": \"axes\", \"h_anchor\": \"middle\", \"v_baseline\": \"hanging\", \"rotation\": -0.0, \"fontsize\": 10.0, \"color\": \"#000000\", \"alpha\": 1, \"zorder\": 3, \"id\": \"el81121756969761480\"}, {\"text\": \"$Re(\\\\Delta Z)/X_0$\", \"position\": [-0.12395459976105137, 0.4999999999999999], \"coordinates\": \"axes\", \"h_anchor\": \"middle\", \"v_baseline\": \"auto\", \"rotation\": -90.0, \"fontsize\": 10.0, \"color\": \"#000000\", \"alpha\": 1, \"zorder\": 3, \"id\": \"el81121756969775048\"}, {\"text\": \"EXPm316p2.csv\", \"position\": [0.49999999999999994, 1.0275938189845473], \"coordinates\": \"axes\", \"h_anchor\": \"middle\", \"v_baseline\": \"auto\", \"rotation\": -0.0, \"fontsize\": 12.0, \"color\": \"#000000\", \"alpha\": 1, \"zorder\": 3, \"id\": \"el81121757039174088\"}], \"collections\": [], \"images\": [], \"sharex\": [], \"sharey\": []}], \"data\": {\"data01\": [[100.0, -0.0458897162503365], [112.2018, -0.04091660663147846], [125.8925, -0.03609576962815604], [141.2538, -0.03155848483942676], [158.4893, -0.027743759098751732], [177.8279, -0.02472542407818203], [199.5262, -0.021828266311488743], [223.8721, -0.019369918289899153], [251.1886, -0.01708441246013764], [281.8383, -0.015108901100760335], [316.2278, -0.012919378794015073], [354.8134, -0.011396988985269932], [398.1072, -0.009946317698364338], [446.6836, -0.00835717823425051], [501.1872, -0.0072089453568071555], [562.3413, -0.00593240136628764], [630.9573, -0.004578062975188526], [707.9458, -0.003501234911206871], [794.3282, -0.0023745755357406917], [891.2509, -0.0013617416064464738], [1000.0, -0.00033498233769362203], [1122.018, 0.0007440102366561013], [1258.925, 0.0017919177015249664], [1412.538, 0.002769801254728158], [1584.893, 0.003902970761360792], [1778.28, 0.004931902532088231], [1995.262, 0.0062025940967057845], [2238.721, 0.007429722107590775], [2511.886, 0.008832728649488917], [2818.383, 0.0102108991148294], [3162.278, 0.011717190052011545], [3548.134, 0.013331306201714643], [3981.072, 0.015142748576045598], [4466.836, 0.016925047180744494], [5011.873, 0.018741310149380123], [5623.413, 0.02059126933585221], [6309.573, 0.02250766021089785], [7079.458, 0.02434801777029886], [7943.282, 0.026383713894961722], [8912.509, 0.028265961069813352], [10000.0, 0.030228135867964495]]}, \"id\": \"el81121756965141512\", \"plugins\": [{\"type\": \"reset\"}, {\"type\": \"zoom\", \"button\": true, \"enabled\": false}, {\"type\": \"boxzoom\", \"button\": true, \"enabled\": false}]});\n",
       "            })\n",
       "         });\n",
       "}\n",
       "</script>"
      ],
      "text/plain": [
       "<Figure size 432x288 with 1 Axes>"
      ]
     },
     "metadata": {
      "needs_background": "light"
     },
     "output_type": "display_data"
    }
   ],
   "source": [
    "cn.plt.re(f,datacorr,1)"
   ]
  },
  {
   "cell_type": "code",
   "execution_count": 21,
   "metadata": {},
   "outputs": [
    {
     "data": {
      "application/vnd.plotly.v1+json": {
       "config": {
        "linkText": "Export to plot.ly",
        "plotlyServerURL": "https://plot.ly",
        "showLink": false
       },
       "data": [
        {
         "mode": "lines",
         "name": "EXP3948.csv",
         "type": "scatter",
         "visible": true,
         "x": [
          100,
          112.2018,
          125.8925,
          141.2538,
          158.4893,
          177.8279,
          199.5262,
          223.8721,
          251.1886,
          281.8383,
          316.2278,
          354.8134,
          398.1072,
          446.6836,
          501.1872,
          562.3413,
          630.9573,
          707.9458,
          794.3282,
          891.2509,
          1000,
          1122.018,
          1258.925,
          1412.538,
          1584.893,
          1778.28,
          1995.262,
          2238.721,
          2511.886,
          2818.383,
          3162.278,
          3548.134,
          3981.072,
          4466.836,
          5011.873,
          5623.413,
          6309.573,
          7079.458,
          7943.282,
          8912.509,
          10000
         ],
         "y": [
          0.00014494579286578925,
          -0.0002605158903870883,
          -0.0001386967859180973,
          -0.00020437052723866996,
          -0.000300099275025469,
          -0.0003144192021370464,
          -0.0005078194259591506,
          -0.000616653874787156,
          -0.0005839404833533462,
          -0.0008331973653345268,
          -0.0010060526576340934,
          -0.0012106050324608927,
          -0.0016297682544060123,
          -0.001971522582396318,
          -0.002510364827512958,
          -0.002964424187765629,
          -0.0035097451154327145,
          -0.004198798107709528,
          -0.004883630496595764,
          -0.005693463215646624,
          -0.006612649690593853,
          -0.007645770249430018,
          -0.008660576779894626,
          -0.009770091228560212,
          -0.011084640529576653,
          -0.012014138278158573,
          -0.013387724538576217,
          -0.015089290780357823,
          -0.016283729788487845,
          -0.01782652553588754,
          -0.019879085743262203,
          -0.021692684396015134,
          -0.02346330273878143,
          -0.024883104907395613,
          -0.027117016637469613,
          -0.028910302165158372,
          -0.030321076959780424,
          -0.03316621888458813,
          -0.03545248998638194,
          -0.037500034025257756,
          -0.040327015134123616
         ]
        },
        {
         "mode": "lines",
         "name": "EXPm316p2.csv",
         "type": "scatter",
         "x": [
          100,
          112.2018,
          125.8925,
          141.2538,
          158.4893,
          177.8279,
          199.5262,
          223.8721,
          251.1886,
          281.8383,
          316.2278,
          354.8134,
          398.1072,
          446.6836,
          501.1872,
          562.3413,
          630.9573,
          707.9458,
          794.3282,
          891.2509,
          1000,
          1122.018,
          1258.925,
          1412.538,
          1584.893,
          1778.28,
          1995.262,
          2238.721,
          2511.886,
          2818.383,
          3162.278,
          3548.134,
          3981.072,
          4466.836,
          5011.873,
          5623.413,
          6309.573,
          7079.458,
          7943.282,
          8912.509,
          10000
         ],
         "y": [
          0.06276163961721087,
          0.06248606764052867,
          0.06255505143269122,
          0.06256131650733711,
          0.06261544707273119,
          0.06243440291606183,
          0.06240979384316189,
          0.06255772634753583,
          0.06247324263579385,
          0.06243662077746175,
          0.06247989979662419,
          0.062474937115787554,
          0.062441618179967066,
          0.06245441028271509,
          0.0623525030526907,
          0.06237405076654591,
          0.062393556064882165,
          0.06233759565585196,
          0.06229522192168161,
          0.06222539034948211,
          0.06225279123070427,
          0.062083727464054723,
          0.06208138099292963,
          0.06213981893859125,
          0.06178040448612229,
          0.061748819616395514,
          0.06156445236516425,
          0.061302364689190446,
          0.06079584096389266,
          0.060494538814418665,
          0.0598902618734139,
          0.0590161036161631,
          0.058198804337360015,
          0.057719513704869496,
          0.05607073852917739,
          0.05534540749547495,
          0.053921260505865556,
          0.052512543941843626,
          0.04989940271832495,
          0.04766546262147931,
          0.0446925093909807
         ]
        }
       ],
       "layout": {
        "autosize": true,
        "template": {
         "data": {
          "bar": [
           {
            "error_x": {
             "color": "#2a3f5f"
            },
            "error_y": {
             "color": "#2a3f5f"
            },
            "marker": {
             "line": {
              "color": "#E5ECF6",
              "width": 0.5
             }
            },
            "type": "bar"
           }
          ],
          "barpolar": [
           {
            "marker": {
             "line": {
              "color": "#E5ECF6",
              "width": 0.5
             }
            },
            "type": "barpolar"
           }
          ],
          "carpet": [
           {
            "aaxis": {
             "endlinecolor": "#2a3f5f",
             "gridcolor": "white",
             "linecolor": "white",
             "minorgridcolor": "white",
             "startlinecolor": "#2a3f5f"
            },
            "baxis": {
             "endlinecolor": "#2a3f5f",
             "gridcolor": "white",
             "linecolor": "white",
             "minorgridcolor": "white",
             "startlinecolor": "#2a3f5f"
            },
            "type": "carpet"
           }
          ],
          "choropleth": [
           {
            "colorbar": {
             "outlinewidth": 0,
             "ticks": ""
            },
            "type": "choropleth"
           }
          ],
          "contour": [
           {
            "colorbar": {
             "outlinewidth": 0,
             "ticks": ""
            },
            "colorscale": [
             [
              0,
              "#0d0887"
             ],
             [
              0.1111111111111111,
              "#46039f"
             ],
             [
              0.2222222222222222,
              "#7201a8"
             ],
             [
              0.3333333333333333,
              "#9c179e"
             ],
             [
              0.4444444444444444,
              "#bd3786"
             ],
             [
              0.5555555555555556,
              "#d8576b"
             ],
             [
              0.6666666666666666,
              "#ed7953"
             ],
             [
              0.7777777777777778,
              "#fb9f3a"
             ],
             [
              0.8888888888888888,
              "#fdca26"
             ],
             [
              1,
              "#f0f921"
             ]
            ],
            "type": "contour"
           }
          ],
          "contourcarpet": [
           {
            "colorbar": {
             "outlinewidth": 0,
             "ticks": ""
            },
            "type": "contourcarpet"
           }
          ],
          "heatmap": [
           {
            "colorbar": {
             "outlinewidth": 0,
             "ticks": ""
            },
            "colorscale": [
             [
              0,
              "#0d0887"
             ],
             [
              0.1111111111111111,
              "#46039f"
             ],
             [
              0.2222222222222222,
              "#7201a8"
             ],
             [
              0.3333333333333333,
              "#9c179e"
             ],
             [
              0.4444444444444444,
              "#bd3786"
             ],
             [
              0.5555555555555556,
              "#d8576b"
             ],
             [
              0.6666666666666666,
              "#ed7953"
             ],
             [
              0.7777777777777778,
              "#fb9f3a"
             ],
             [
              0.8888888888888888,
              "#fdca26"
             ],
             [
              1,
              "#f0f921"
             ]
            ],
            "type": "heatmap"
           }
          ],
          "heatmapgl": [
           {
            "colorbar": {
             "outlinewidth": 0,
             "ticks": ""
            },
            "colorscale": [
             [
              0,
              "#0d0887"
             ],
             [
              0.1111111111111111,
              "#46039f"
             ],
             [
              0.2222222222222222,
              "#7201a8"
             ],
             [
              0.3333333333333333,
              "#9c179e"
             ],
             [
              0.4444444444444444,
              "#bd3786"
             ],
             [
              0.5555555555555556,
              "#d8576b"
             ],
             [
              0.6666666666666666,
              "#ed7953"
             ],
             [
              0.7777777777777778,
              "#fb9f3a"
             ],
             [
              0.8888888888888888,
              "#fdca26"
             ],
             [
              1,
              "#f0f921"
             ]
            ],
            "type": "heatmapgl"
           }
          ],
          "histogram": [
           {
            "marker": {
             "colorbar": {
              "outlinewidth": 0,
              "ticks": ""
             }
            },
            "type": "histogram"
           }
          ],
          "histogram2d": [
           {
            "colorbar": {
             "outlinewidth": 0,
             "ticks": ""
            },
            "colorscale": [
             [
              0,
              "#0d0887"
             ],
             [
              0.1111111111111111,
              "#46039f"
             ],
             [
              0.2222222222222222,
              "#7201a8"
             ],
             [
              0.3333333333333333,
              "#9c179e"
             ],
             [
              0.4444444444444444,
              "#bd3786"
             ],
             [
              0.5555555555555556,
              "#d8576b"
             ],
             [
              0.6666666666666666,
              "#ed7953"
             ],
             [
              0.7777777777777778,
              "#fb9f3a"
             ],
             [
              0.8888888888888888,
              "#fdca26"
             ],
             [
              1,
              "#f0f921"
             ]
            ],
            "type": "histogram2d"
           }
          ],
          "histogram2dcontour": [
           {
            "colorbar": {
             "outlinewidth": 0,
             "ticks": ""
            },
            "colorscale": [
             [
              0,
              "#0d0887"
             ],
             [
              0.1111111111111111,
              "#46039f"
             ],
             [
              0.2222222222222222,
              "#7201a8"
             ],
             [
              0.3333333333333333,
              "#9c179e"
             ],
             [
              0.4444444444444444,
              "#bd3786"
             ],
             [
              0.5555555555555556,
              "#d8576b"
             ],
             [
              0.6666666666666666,
              "#ed7953"
             ],
             [
              0.7777777777777778,
              "#fb9f3a"
             ],
             [
              0.8888888888888888,
              "#fdca26"
             ],
             [
              1,
              "#f0f921"
             ]
            ],
            "type": "histogram2dcontour"
           }
          ],
          "mesh3d": [
           {
            "colorbar": {
             "outlinewidth": 0,
             "ticks": ""
            },
            "type": "mesh3d"
           }
          ],
          "parcoords": [
           {
            "line": {
             "colorbar": {
              "outlinewidth": 0,
              "ticks": ""
             }
            },
            "type": "parcoords"
           }
          ],
          "pie": [
           {
            "automargin": true,
            "type": "pie"
           }
          ],
          "scatter": [
           {
            "marker": {
             "colorbar": {
              "outlinewidth": 0,
              "ticks": ""
             }
            },
            "type": "scatter"
           }
          ],
          "scatter3d": [
           {
            "line": {
             "colorbar": {
              "outlinewidth": 0,
              "ticks": ""
             }
            },
            "marker": {
             "colorbar": {
              "outlinewidth": 0,
              "ticks": ""
             }
            },
            "type": "scatter3d"
           }
          ],
          "scattercarpet": [
           {
            "marker": {
             "colorbar": {
              "outlinewidth": 0,
              "ticks": ""
             }
            },
            "type": "scattercarpet"
           }
          ],
          "scattergeo": [
           {
            "marker": {
             "colorbar": {
              "outlinewidth": 0,
              "ticks": ""
             }
            },
            "type": "scattergeo"
           }
          ],
          "scattergl": [
           {
            "marker": {
             "colorbar": {
              "outlinewidth": 0,
              "ticks": ""
             }
            },
            "type": "scattergl"
           }
          ],
          "scattermapbox": [
           {
            "marker": {
             "colorbar": {
              "outlinewidth": 0,
              "ticks": ""
             }
            },
            "type": "scattermapbox"
           }
          ],
          "scatterpolar": [
           {
            "marker": {
             "colorbar": {
              "outlinewidth": 0,
              "ticks": ""
             }
            },
            "type": "scatterpolar"
           }
          ],
          "scatterpolargl": [
           {
            "marker": {
             "colorbar": {
              "outlinewidth": 0,
              "ticks": ""
             }
            },
            "type": "scatterpolargl"
           }
          ],
          "scatterternary": [
           {
            "marker": {
             "colorbar": {
              "outlinewidth": 0,
              "ticks": ""
             }
            },
            "type": "scatterternary"
           }
          ],
          "surface": [
           {
            "colorbar": {
             "outlinewidth": 0,
             "ticks": ""
            },
            "colorscale": [
             [
              0,
              "#0d0887"
             ],
             [
              0.1111111111111111,
              "#46039f"
             ],
             [
              0.2222222222222222,
              "#7201a8"
             ],
             [
              0.3333333333333333,
              "#9c179e"
             ],
             [
              0.4444444444444444,
              "#bd3786"
             ],
             [
              0.5555555555555556,
              "#d8576b"
             ],
             [
              0.6666666666666666,
              "#ed7953"
             ],
             [
              0.7777777777777778,
              "#fb9f3a"
             ],
             [
              0.8888888888888888,
              "#fdca26"
             ],
             [
              1,
              "#f0f921"
             ]
            ],
            "type": "surface"
           }
          ],
          "table": [
           {
            "cells": {
             "fill": {
              "color": "#EBF0F8"
             },
             "line": {
              "color": "white"
             }
            },
            "header": {
             "fill": {
              "color": "#C8D4E3"
             },
             "line": {
              "color": "white"
             }
            },
            "type": "table"
           }
          ]
         },
         "layout": {
          "annotationdefaults": {
           "arrowcolor": "#2a3f5f",
           "arrowhead": 0,
           "arrowwidth": 1
          },
          "coloraxis": {
           "colorbar": {
            "outlinewidth": 0,
            "ticks": ""
           }
          },
          "colorscale": {
           "diverging": [
            [
             0,
             "#8e0152"
            ],
            [
             0.1,
             "#c51b7d"
            ],
            [
             0.2,
             "#de77ae"
            ],
            [
             0.3,
             "#f1b6da"
            ],
            [
             0.4,
             "#fde0ef"
            ],
            [
             0.5,
             "#f7f7f7"
            ],
            [
             0.6,
             "#e6f5d0"
            ],
            [
             0.7,
             "#b8e186"
            ],
            [
             0.8,
             "#7fbc41"
            ],
            [
             0.9,
             "#4d9221"
            ],
            [
             1,
             "#276419"
            ]
           ],
           "sequential": [
            [
             0,
             "#0d0887"
            ],
            [
             0.1111111111111111,
             "#46039f"
            ],
            [
             0.2222222222222222,
             "#7201a8"
            ],
            [
             0.3333333333333333,
             "#9c179e"
            ],
            [
             0.4444444444444444,
             "#bd3786"
            ],
            [
             0.5555555555555556,
             "#d8576b"
            ],
            [
             0.6666666666666666,
             "#ed7953"
            ],
            [
             0.7777777777777778,
             "#fb9f3a"
            ],
            [
             0.8888888888888888,
             "#fdca26"
            ],
            [
             1,
             "#f0f921"
            ]
           ],
           "sequentialminus": [
            [
             0,
             "#0d0887"
            ],
            [
             0.1111111111111111,
             "#46039f"
            ],
            [
             0.2222222222222222,
             "#7201a8"
            ],
            [
             0.3333333333333333,
             "#9c179e"
            ],
            [
             0.4444444444444444,
             "#bd3786"
            ],
            [
             0.5555555555555556,
             "#d8576b"
            ],
            [
             0.6666666666666666,
             "#ed7953"
            ],
            [
             0.7777777777777778,
             "#fb9f3a"
            ],
            [
             0.8888888888888888,
             "#fdca26"
            ],
            [
             1,
             "#f0f921"
            ]
           ]
          },
          "colorway": [
           "#636efa",
           "#EF553B",
           "#00cc96",
           "#ab63fa",
           "#FFA15A",
           "#19d3f3",
           "#FF6692",
           "#B6E880",
           "#FF97FF",
           "#FECB52"
          ],
          "font": {
           "color": "#2a3f5f"
          },
          "geo": {
           "bgcolor": "white",
           "lakecolor": "white",
           "landcolor": "#E5ECF6",
           "showlakes": true,
           "showland": true,
           "subunitcolor": "white"
          },
          "hoverlabel": {
           "align": "left"
          },
          "hovermode": "closest",
          "mapbox": {
           "style": "light"
          },
          "paper_bgcolor": "white",
          "plot_bgcolor": "#E5ECF6",
          "polar": {
           "angularaxis": {
            "gridcolor": "white",
            "linecolor": "white",
            "ticks": ""
           },
           "bgcolor": "#E5ECF6",
           "radialaxis": {
            "gridcolor": "white",
            "linecolor": "white",
            "ticks": ""
           }
          },
          "scene": {
           "xaxis": {
            "backgroundcolor": "#E5ECF6",
            "gridcolor": "white",
            "gridwidth": 2,
            "linecolor": "white",
            "showbackground": true,
            "ticks": "",
            "zerolinecolor": "white"
           },
           "yaxis": {
            "backgroundcolor": "#E5ECF6",
            "gridcolor": "white",
            "gridwidth": 2,
            "linecolor": "white",
            "showbackground": true,
            "ticks": "",
            "zerolinecolor": "white"
           },
           "zaxis": {
            "backgroundcolor": "#E5ECF6",
            "gridcolor": "white",
            "gridwidth": 2,
            "linecolor": "white",
            "showbackground": true,
            "ticks": "",
            "zerolinecolor": "white"
           }
          },
          "shapedefaults": {
           "line": {
            "color": "#2a3f5f"
           }
          },
          "ternary": {
           "aaxis": {
            "gridcolor": "white",
            "linecolor": "white",
            "ticks": ""
           },
           "baxis": {
            "gridcolor": "white",
            "linecolor": "white",
            "ticks": ""
           },
           "bgcolor": "#E5ECF6",
           "caxis": {
            "gridcolor": "white",
            "linecolor": "white",
            "ticks": ""
           }
          },
          "title": {
           "x": 0.05
          },
          "xaxis": {
           "automargin": true,
           "gridcolor": "white",
           "linecolor": "white",
           "ticks": "",
           "title": {
            "standoff": 15
           },
           "zerolinecolor": "white",
           "zerolinewidth": 2
          },
          "yaxis": {
           "automargin": true,
           "gridcolor": "white",
           "linecolor": "white",
           "ticks": "",
           "title": {
            "standoff": 15
           },
           "zerolinecolor": "white",
           "zerolinewidth": 2
          }
         }
        },
        "title": {
         "text": ""
        },
        "xaxis": {
         "autorange": true,
         "range": [
          2,
          4
         ],
         "type": "log",
         "zeroline": false
        },
        "yaxis": {
         "autorange": true,
         "range": [
          -0.04605416262030886,
          0.06848878710339612
         ],
         "type": "linear",
         "zeroline": false
        }
       }
      },
      "image/png": "[encoded data removed]",
      "text/html": [
       "<div>\n",
       "        \n",
       "        \n",
       "            <div id=\"43374a0c-0d84-4878-ae18-b2925d7329a4\" class=\"plotly-graph-div\" style=\"height:525px; width:100%;\"></div>\n",
       "            <script type=\"text/javascript\">\n",
       "                require([\"plotly\"], function(Plotly) {\n",
       "                    window.PLOTLYENV=window.PLOTLYENV || {};\n",
       "                    \n",
       "                if (document.getElementById(\"43374a0c-0d84-4878-ae18-b2925d7329a4\")) {\n",
       "                    Plotly.newPlot(\n",
       "                        '43374a0c-0d84-4878-ae18-b2925d7329a4',\n",
       "                        [{\"mode\": \"lines\", \"name\": \"EXP3948.csv\", \"type\": \"scatter\", \"x\": [100.0, 112.2018, 125.8925, 141.2538, 158.4893, 177.8279, 199.5262, 223.8721, 251.1886, 281.8383, 316.2278, 354.8134, 398.1072, 446.6836, 501.1872, 562.3413, 630.9573, 707.9458, 794.3282, 891.2509, 1000.0, 1122.018, 1258.925, 1412.538, 1584.893, 1778.28, 1995.262, 2238.721, 2511.886, 2818.383, 3162.278, 3548.134, 3981.072, 4466.836, 5011.873, 5623.413, 6309.573, 7079.458, 7943.282, 8912.509, 10000.0], \"y\": [0.00014494579286578925, -0.0002605158903870883, -0.0001386967859180973, -0.00020437052723866996, -0.000300099275025469, -0.0003144192021370464, -0.0005078194259591506, -0.000616653874787156, -0.0005839404833533462, -0.0008331973653345268, -0.0010060526576340934, -0.0012106050324608927, -0.0016297682544060123, -0.001971522582396318, -0.002510364827512958, -0.002964424187765629, -0.0035097451154327145, -0.004198798107709528, -0.004883630496595764, -0.005693463215646624, -0.006612649690593853, -0.007645770249430018, -0.008660576779894626, -0.009770091228560212, -0.011084640529576653, -0.012014138278158573, -0.013387724538576217, -0.015089290780357823, -0.016283729788487845, -0.01782652553588754, -0.019879085743262203, -0.021692684396015134, -0.02346330273878143, -0.024883104907395613, -0.027117016637469613, -0.028910302165158372, -0.030321076959780424, -0.03316621888458813, -0.03545248998638194, -0.037500034025257756, -0.040327015134123616]}, {\"mode\": \"lines\", \"name\": \"EXPm316p2.csv\", \"type\": \"scatter\", \"x\": [100.0, 112.2018, 125.8925, 141.2538, 158.4893, 177.8279, 199.5262, 223.8721, 251.1886, 281.8383, 316.2278, 354.8134, 398.1072, 446.6836, 501.1872, 562.3413, 630.9573, 707.9458, 794.3282, 891.2509, 1000.0, 1122.018, 1258.925, 1412.538, 1584.893, 1778.28, 1995.262, 2238.721, 2511.886, 2818.383, 3162.278, 3548.134, 3981.072, 4466.836, 5011.873, 5623.413, 6309.573, 7079.458, 7943.282, 8912.509, 10000.0], \"y\": [0.06276163961721087, 0.06248606764052867, 0.06255505143269122, 0.06256131650733711, 0.06261544707273119, 0.06243440291606183, 0.06240979384316189, 0.06255772634753583, 0.06247324263579385, 0.06243662077746175, 0.06247989979662419, 0.062474937115787554, 0.062441618179967066, 0.06245441028271509, 0.0623525030526907, 0.06237405076654591, 0.062393556064882165, 0.06233759565585196, 0.06229522192168161, 0.06222539034948211, 0.06225279123070427, 0.062083727464054723, 0.06208138099292963, 0.06213981893859125, 0.06178040448612229, 0.061748819616395514, 0.06156445236516425, 0.061302364689190446, 0.06079584096389266, 0.060494538814418665, 0.0598902618734139, 0.0590161036161631, 0.058198804337360015, 0.057719513704869496, 0.05607073852917739, 0.05534540749547495, 0.053921260505865556, 0.052512543941843626, 0.04989940271832495, 0.04766546262147931, 0.0446925093909807]}],\n",
       "                        {\"template\": {\"data\": {\"bar\": [{\"error_x\": {\"color\": \"#2a3f5f\"}, \"error_y\": {\"color\": \"#2a3f5f\"}, \"marker\": {\"line\": {\"color\": \"#E5ECF6\", \"width\": 0.5}}, \"type\": \"bar\"}], \"barpolar\": [{\"marker\": {\"line\": {\"color\": \"#E5ECF6\", \"width\": 0.5}}, \"type\": \"barpolar\"}], \"carpet\": [{\"aaxis\": {\"endlinecolor\": \"#2a3f5f\", \"gridcolor\": \"white\", \"linecolor\": \"white\", \"minorgridcolor\": \"white\", \"startlinecolor\": \"#2a3f5f\"}, \"baxis\": {\"endlinecolor\": \"#2a3f5f\", \"gridcolor\": \"white\", \"linecolor\": \"white\", \"minorgridcolor\": \"white\", \"startlinecolor\": \"#2a3f5f\"}, \"type\": \"carpet\"}], \"choropleth\": [{\"colorbar\": {\"outlinewidth\": 0, \"ticks\": \"\"}, \"type\": \"choropleth\"}], \"contour\": [{\"colorbar\": {\"outlinewidth\": 0, \"ticks\": \"\"}, \"colorscale\": [[0.0, \"#0d0887\"], [0.1111111111111111, \"#46039f\"], [0.2222222222222222, \"#7201a8\"], [0.3333333333333333, \"#9c179e\"], [0.4444444444444444, \"#bd3786\"], [0.5555555555555556, \"#d8576b\"], [0.6666666666666666, \"#ed7953\"], [0.7777777777777778, \"#fb9f3a\"], [0.8888888888888888, \"#fdca26\"], [1.0, \"#f0f921\"]], \"type\": \"contour\"}], \"contourcarpet\": [{\"colorbar\": {\"outlinewidth\": 0, \"ticks\": \"\"}, \"type\": \"contourcarpet\"}], \"heatmap\": [{\"colorbar\": {\"outlinewidth\": 0, \"ticks\": \"\"}, \"colorscale\": [[0.0, \"#0d0887\"], [0.1111111111111111, \"#46039f\"], [0.2222222222222222, \"#7201a8\"], [0.3333333333333333, \"#9c179e\"], [0.4444444444444444, \"#bd3786\"], [0.5555555555555556, \"#d8576b\"], [0.6666666666666666, \"#ed7953\"], [0.7777777777777778, \"#fb9f3a\"], [0.8888888888888888, \"#fdca26\"], [1.0, \"#f0f921\"]], \"type\": \"heatmap\"}], \"heatmapgl\": [{\"colorbar\": {\"outlinewidth\": 0, \"ticks\": \"\"}, \"colorscale\": [[0.0, \"#0d0887\"], [0.1111111111111111, \"#46039f\"], [0.2222222222222222, \"#7201a8\"], [0.3333333333333333, \"#9c179e\"], [0.4444444444444444, \"#bd3786\"], [0.5555555555555556, \"#d8576b\"], [0.6666666666666666, \"#ed7953\"], [0.7777777777777778, \"#fb9f3a\"], [0.8888888888888888, \"#fdca26\"], [1.0, \"#f0f921\"]], \"type\": \"heatmapgl\"}], \"histogram\": [{\"marker\": {\"colorbar\": {\"outlinewidth\": 0, \"ticks\": \"\"}}, \"type\": \"histogram\"}], \"histogram2d\": [{\"colorbar\": {\"outlinewidth\": 0, \"ticks\": \"\"}, \"colorscale\": [[0.0, \"#0d0887\"], [0.1111111111111111, \"#46039f\"], [0.2222222222222222, \"#7201a8\"], [0.3333333333333333, \"#9c179e\"], [0.4444444444444444, \"#bd3786\"], [0.5555555555555556, \"#d8576b\"], [0.6666666666666666, \"#ed7953\"], [0.7777777777777778, \"#fb9f3a\"], [0.8888888888888888, \"#fdca26\"], [1.0, \"#f0f921\"]], \"type\": \"histogram2d\"}], \"histogram2dcontour\": [{\"colorbar\": {\"outlinewidth\": 0, \"ticks\": \"\"}, \"colorscale\": [[0.0, \"#0d0887\"], [0.1111111111111111, \"#46039f\"], [0.2222222222222222, \"#7201a8\"], [0.3333333333333333, \"#9c179e\"], [0.4444444444444444, \"#bd3786\"], [0.5555555555555556, \"#d8576b\"], [0.6666666666666666, \"#ed7953\"], [0.7777777777777778, \"#fb9f3a\"], [0.8888888888888888, \"#fdca26\"], [1.0, \"#f0f921\"]], \"type\": \"histogram2dcontour\"}], \"mesh3d\": [{\"colorbar\": {\"outlinewidth\": 0, \"ticks\": \"\"}, \"type\": \"mesh3d\"}], \"parcoords\": [{\"line\": {\"colorbar\": {\"outlinewidth\": 0, \"ticks\": \"\"}}, \"type\": \"parcoords\"}], \"pie\": [{\"automargin\": true, \"type\": \"pie\"}], \"scatter\": [{\"marker\": {\"colorbar\": {\"outlinewidth\": 0, \"ticks\": \"\"}}, \"type\": \"scatter\"}], \"scatter3d\": [{\"line\": {\"colorbar\": {\"outlinewidth\": 0, \"ticks\": \"\"}}, \"marker\": {\"colorbar\": {\"outlinewidth\": 0, \"ticks\": \"\"}}, \"type\": \"scatter3d\"}], \"scattercarpet\": [{\"marker\": {\"colorbar\": {\"outlinewidth\": 0, \"ticks\": \"\"}}, \"type\": \"scattercarpet\"}], \"scattergeo\": [{\"marker\": {\"colorbar\": {\"outlinewidth\": 0, \"ticks\": \"\"}}, \"type\": \"scattergeo\"}], \"scattergl\": [{\"marker\": {\"colorbar\": {\"outlinewidth\": 0, \"ticks\": \"\"}}, \"type\": \"scattergl\"}], \"scattermapbox\": [{\"marker\": {\"colorbar\": {\"outlinewidth\": 0, \"ticks\": \"\"}}, \"type\": \"scattermapbox\"}], \"scatterpolar\": [{\"marker\": {\"colorbar\": {\"outlinewidth\": 0, \"ticks\": \"\"}}, \"type\": \"scatterpolar\"}], \"scatterpolargl\": [{\"marker\": {\"colorbar\": {\"outlinewidth\": 0, \"ticks\": \"\"}}, \"type\": \"scatterpolargl\"}], \"scatterternary\": [{\"marker\": {\"colorbar\": {\"outlinewidth\": 0, \"ticks\": \"\"}}, \"type\": \"scatterternary\"}], \"surface\": [{\"colorbar\": {\"outlinewidth\": 0, \"ticks\": \"\"}, \"colorscale\": [[0.0, \"#0d0887\"], [0.1111111111111111, \"#46039f\"], [0.2222222222222222, \"#7201a8\"], [0.3333333333333333, \"#9c179e\"], [0.4444444444444444, \"#bd3786\"], [0.5555555555555556, \"#d8576b\"], [0.6666666666666666, \"#ed7953\"], [0.7777777777777778, \"#fb9f3a\"], [0.8888888888888888, \"#fdca26\"], [1.0, \"#f0f921\"]], \"type\": \"surface\"}], \"table\": [{\"cells\": {\"fill\": {\"color\": \"#EBF0F8\"}, \"line\": {\"color\": \"white\"}}, \"header\": {\"fill\": {\"color\": \"#C8D4E3\"}, \"line\": {\"color\": \"white\"}}, \"type\": \"table\"}]}, \"layout\": {\"annotationdefaults\": {\"arrowcolor\": \"#2a3f5f\", \"arrowhead\": 0, \"arrowwidth\": 1}, \"coloraxis\": {\"colorbar\": {\"outlinewidth\": 0, \"ticks\": \"\"}}, \"colorscale\": {\"diverging\": [[0, \"#8e0152\"], [0.1, \"#c51b7d\"], [0.2, \"#de77ae\"], [0.3, \"#f1b6da\"], [0.4, \"#fde0ef\"], [0.5, \"#f7f7f7\"], [0.6, \"#e6f5d0\"], [0.7, \"#b8e186\"], [0.8, \"#7fbc41\"], [0.9, \"#4d9221\"], [1, \"#276419\"]], \"sequential\": [[0.0, \"#0d0887\"], [0.1111111111111111, \"#46039f\"], [0.2222222222222222, \"#7201a8\"], [0.3333333333333333, \"#9c179e\"], [0.4444444444444444, \"#bd3786\"], [0.5555555555555556, \"#d8576b\"], [0.6666666666666666, \"#ed7953\"], [0.7777777777777778, \"#fb9f3a\"], [0.8888888888888888, \"#fdca26\"], [1.0, \"#f0f921\"]], \"sequentialminus\": [[0.0, \"#0d0887\"], [0.1111111111111111, \"#46039f\"], [0.2222222222222222, \"#7201a8\"], [0.3333333333333333, \"#9c179e\"], [0.4444444444444444, \"#bd3786\"], [0.5555555555555556, \"#d8576b\"], [0.6666666666666666, \"#ed7953\"], [0.7777777777777778, \"#fb9f3a\"], [0.8888888888888888, \"#fdca26\"], [1.0, \"#f0f921\"]]}, \"colorway\": [\"#636efa\", \"#EF553B\", \"#00cc96\", \"#ab63fa\", \"#FFA15A\", \"#19d3f3\", \"#FF6692\", \"#B6E880\", \"#FF97FF\", \"#FECB52\"], \"font\": {\"color\": \"#2a3f5f\"}, \"geo\": {\"bgcolor\": \"white\", \"lakecolor\": \"white\", \"landcolor\": \"#E5ECF6\", \"showlakes\": true, \"showland\": true, \"subunitcolor\": \"white\"}, \"hoverlabel\": {\"align\": \"left\"}, \"hovermode\": \"closest\", \"mapbox\": {\"style\": \"light\"}, \"paper_bgcolor\": \"white\", \"plot_bgcolor\": \"#E5ECF6\", \"polar\": {\"angularaxis\": {\"gridcolor\": \"white\", \"linecolor\": \"white\", \"ticks\": \"\"}, \"bgcolor\": \"#E5ECF6\", \"radialaxis\": {\"gridcolor\": \"white\", \"linecolor\": \"white\", \"ticks\": \"\"}}, \"scene\": {\"xaxis\": {\"backgroundcolor\": \"#E5ECF6\", \"gridcolor\": \"white\", \"gridwidth\": 2, \"linecolor\": \"white\", \"showbackground\": true, \"ticks\": \"\", \"zerolinecolor\": \"white\"}, \"yaxis\": {\"backgroundcolor\": \"#E5ECF6\", \"gridcolor\": \"white\", \"gridwidth\": 2, \"linecolor\": \"white\", \"showbackground\": true, \"ticks\": \"\", \"zerolinecolor\": \"white\"}, \"zaxis\": {\"backgroundcolor\": \"#E5ECF6\", \"gridcolor\": \"white\", \"gridwidth\": 2, \"linecolor\": \"white\", \"showbackground\": true, \"ticks\": \"\", \"zerolinecolor\": \"white\"}}, \"shapedefaults\": {\"line\": {\"color\": \"#2a3f5f\"}}, \"ternary\": {\"aaxis\": {\"gridcolor\": \"white\", \"linecolor\": \"white\", \"ticks\": \"\"}, \"baxis\": {\"gridcolor\": \"white\", \"linecolor\": \"white\", \"ticks\": \"\"}, \"bgcolor\": \"#E5ECF6\", \"caxis\": {\"gridcolor\": \"white\", \"linecolor\": \"white\", \"ticks\": \"\"}}, \"title\": {\"x\": 0.05}, \"xaxis\": {\"automargin\": true, \"gridcolor\": \"white\", \"linecolor\": \"white\", \"ticks\": \"\", \"title\": {\"standoff\": 15}, \"zerolinecolor\": \"white\", \"zerolinewidth\": 2}, \"yaxis\": {\"automargin\": true, \"gridcolor\": \"white\", \"linecolor\": \"white\", \"ticks\": \"\", \"title\": {\"standoff\": 15}, \"zerolinecolor\": \"white\", \"zerolinewidth\": 2}}}, \"title\": {\"text\": \"\"}, \"xaxis\": {\"autorange\": true, \"type\": \"log\", \"zeroline\": false}, \"yaxis\": {\"autorange\": true, \"type\": \"linear\", \"zeroline\": false}},\n",
       "                        {\"responsive\": true}\n",
       "                    ).then(function(){\n",
       "                            \n",
       "var gd = document.getElementById('43374a0c-0d84-4878-ae18-b2925d7329a4');\n",
       "var x = new MutationObserver(function (mutations, observer) {{\n",
       "        var display = window.getComputedStyle(gd).display;\n",
       "        if (!display || display === 'none') {{\n",
       "            console.log([gd, 'removed!']);\n",
       "            Plotly.purge(gd);\n",
       "            observer.disconnect();\n",
       "        }}\n",
       "}});\n",
       "\n",
       "// Listen for the removal of the full notebook cells\n",
       "var notebookContainer = gd.closest('#notebook-container');\n",
       "if (notebookContainer) {{\n",
       "    x.observe(notebookContainer, {childList: true});\n",
       "}}\n",
       "\n",
       "// Listen for the clearing of the current output cell\n",
       "var outputEl = gd.closest('.output');\n",
       "if (outputEl) {{\n",
       "    x.observe(outputEl, {childList: true});\n",
       "}}\n",
       "\n",
       "                        })\n",
       "                };\n",
       "                });\n",
       "            </script>\n",
       "        </div>"
      ]
     },
     "metadata": {},
     "output_type": "display_data"
    }
   ],
   "source": [
    "a=cn.plt.semilog(f,datacorr)"
   ]
  }
 ],
 "metadata": {
  "kernelspec": {
   "display_name": "Python 3",
   "language": "python",
   "name": "python3"
  },
  "language_info": {
   "codemirror_mode": {
    "name": "ipython",
    "version": 3
   },
   "file_extension": ".py",
   "mimetype": "text/x-python",
   "name": "python",
   "nbconvert_exporter": "python",
   "pygments_lexer": "ipython3",
   "version": "3.7.4"
  }
 },
 "nbformat": 4,
 "nbformat_minor": 4
}
