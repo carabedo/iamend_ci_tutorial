{
 "cells": [
  {
   "cell_type": "code",
   "execution_count": 3,
   "metadata": {},
   "outputs": [
    {
     "data": {
      "text/html": [
       "        <script type=\"text/javascript\">\n",
       "        window.PlotlyConfig = {MathJaxConfig: 'local'};\n",
       "        if (window.MathJax) {MathJax.Hub.Config({SVG: {font: \"STIX-Web\"}});}\n",
       "        if (typeof require !== 'undefined') {\n",
       "        require.undef(\"plotly\");\n",
       "        requirejs.config({\n",
       "            paths: {\n",
       "                'plotly': ['https://cdn.plot.ly/plotly-latest.min']\n",
       "            }\n",
       "        });\n",
       "        require(['plotly'], function(Plotly) {\n",
       "            window._Plotly = Plotly;\n",
       "        });\n",
       "        }\n",
       "        </script>\n",
       "        "
      ]
     },
     "metadata": {},
     "output_type": "display_data"
    },
    {
     "data": {
      "text/html": [
       "        <script type=\"text/javascript\">\n",
       "        window.PlotlyConfig = {MathJaxConfig: 'local'};\n",
       "        if (window.MathJax) {MathJax.Hub.Config({SVG: {font: \"STIX-Web\"}});}\n",
       "        if (typeof require !== 'undefined') {\n",
       "        require.undef(\"plotly\");\n",
       "        requirejs.config({\n",
       "            paths: {\n",
       "                'plotly': ['https://cdn.plot.ly/plotly-latest.min']\n",
       "            }\n",
       "        });\n",
       "        require(['plotly'], function(Plotly) {\n",
       "            window._Plotly = Plotly;\n",
       "        });\n",
       "        }\n",
       "        </script>\n",
       "        "
      ]
     },
     "metadata": {},
     "output_type": "display_data"
    },
    {
     "data": {
      "text/html": [
       "        <script type=\"text/javascript\">\n",
       "        window.PlotlyConfig = {MathJaxConfig: 'local'};\n",
       "        if (window.MathJax) {MathJax.Hub.Config({SVG: {font: \"STIX-Web\"}});}\n",
       "        if (typeof require !== 'undefined') {\n",
       "        require.undef(\"plotly\");\n",
       "        requirejs.config({\n",
       "            paths: {\n",
       "                'plotly': ['https://cdn.plot.ly/plotly-latest.min']\n",
       "            }\n",
       "        });\n",
       "        require(['plotly'], function(Plotly) {\n",
       "            window._Plotly = Plotly;\n",
       "        });\n",
       "        }\n",
       "        </script>\n",
       "        "
      ]
     },
     "metadata": {},
     "output_type": "display_data"
    },
    {
     "name": "stdout",
     "output_type": "stream",
     "text": [
      "C:/Users/fernando/tesis/labs/impedancias/pp1/enero 18\n",
      "0 EXP00.csv\n",
      "1 EXP3948.csv\n",
      "2 EXPm316p2.csv\n"
     ]
    }
   ],
   "source": [
    "import cnea as cn\n",
    "data=cn.so.load('C:/Users/fernando/tesis/labs/impedancias/pp1/enero 18')\n",
    "f=cn.so.getf(data)\n",
    "bo=cn.bo.bobpp1\n",
    "datacorr=cn.so.corr(f,bo,data)"
   ]
  },
  {
   "cell_type": "code",
   "execution_count": 2,
   "metadata": {},
   "outputs": [
    {
     "data": {
      "image/png": "[encoded data removed]",
      "text/html": [
       "\n",
       "\n",
       "<style>\n",
       "\n",
       "</style>\n",
       "\n",
       "<div id=\"fig_el972822009872890962588924213\"></div>\n",
       "<script>\n",
       "function mpld3_load_lib(url, callback){\n",
       "  var s = document.createElement('script');\n",
       "  s.src = url;\n",
       "  s.async = true;\n",
       "  s.onreadystatechange = s.onload = callback;\n",
       "  s.onerror = function(){console.warn(\"failed to load library \" + url);};\n",
       "  document.getElementsByTagName(\"head\")[0].appendChild(s);\n",
       "}\n",
       "\n",
       "if(typeof(mpld3) !== \"undefined\" && mpld3._mpld3IsLoaded){\n",
       "   // already loaded: just create the figure\n",
       "   !function(mpld3){\n",
       "       \n",
       "       mpld3.draw_figure(\"fig_el972822009872890962588924213\", {\"width\": 432.0, \"height\": 288.0, \"axes\": [{\"bbox\": [0.125, 0.125, 0.775, 0.755], \"xlim\": [79.43282347242814, 12589.254117941662], \"ylim\": [0.04378905287966919, 0.06366509612852238], \"xdomain\": [79.43282347242814, 12589.254117941662], \"ydomain\": [0.04378905287966919, 0.06366509612852238], \"xscale\": \"log\", \"yscale\": \"linear\", \"axes\": [{\"position\": \"bottom\", \"nticks\": 7, \"tickvalues\": null, \"tickformat_formatter\": \"\", \"tickformat\": null, \"scale\": \"log\", \"fontsize\": 10.0, \"grid\": {\"gridOn\": true, \"color\": \"#B0B0B0\", \"dasharray\": \"none\", \"alpha\": 1.0}, \"visible\": true}, {\"position\": \"left\", \"nticks\": 10, \"tickvalues\": null, \"tickformat_formatter\": \"\", \"tickformat\": null, \"scale\": \"linear\", \"fontsize\": 10.0, \"grid\": {\"gridOn\": true, \"color\": \"#B0B0B0\", \"dasharray\": \"none\", \"alpha\": 1.0}, \"visible\": true}], \"axesbg\": \"#FFFFFF\", \"axesbgalpha\": null, \"zoomable\": true, \"id\": \"el97282200978565320\", \"lines\": [], \"paths\": [], \"markers\": [{\"data\": \"data01\", \"xindex\": 0, \"yindex\": 1, \"coordinates\": \"data\", \"id\": \"el97282200986076104pts\", \"facecolor\": \"none\", \"edgecolor\": \"#000000\", \"edgewidth\": 1.0, \"alpha\": 1, \"zorder\": 2, \"markerpath\": [[[0.0, 1.5], [0.39780465000000004, 1.5], [0.7793698061772802, 1.3419505373823626], [1.0606601717798214, 1.0606601717798214], [1.3419505373823626, 0.7793698061772802], [1.5, 0.39780465000000004], [1.5, 0.0], [1.5, -0.39780465000000004], [1.3419505373823626, -0.7793698061772802], [1.0606601717798214, -1.0606601717798214], [0.7793698061772802, -1.3419505373823626], [0.39780465000000004, -1.5], [0.0, -1.5], [-0.39780465000000004, -1.5], [-0.7793698061772802, -1.3419505373823626], [-1.0606601717798214, -1.0606601717798214], [-1.3419505373823626, -0.7793698061772802], [-1.5, -0.39780465000000004], [-1.5, 0.0], [-1.5, 0.39780465000000004], [-1.3419505373823626, 0.7793698061772802], [-1.0606601717798214, 1.0606601717798214], [-0.7793698061772802, 1.3419505373823626], [-0.39780465000000004, 1.5], [0.0, 1.5]], [\"M\", \"C\", \"C\", \"C\", \"C\", \"C\", \"C\", \"C\", \"C\", \"Z\"]]}], \"texts\": [{\"text\": \"Frecuencia [Hz]\", \"position\": [0.49999999999999994, -0.11405445180279619], \"coordinates\": \"axes\", \"h_anchor\": \"middle\", \"v_baseline\": \"hanging\", \"rotation\": -0.0, \"fontsize\": 10.0, \"color\": \"#000000\", \"alpha\": 1, \"zorder\": 3, \"id\": \"el97282200986307464\"}, {\"text\": \"$Im(\\\\Delta Z)/X_0$\", \"position\": [-0.13702210274790919, 0.4999999999999999], \"coordinates\": \"axes\", \"h_anchor\": \"middle\", \"v_baseline\": \"auto\", \"rotation\": -90.0, \"fontsize\": 10.0, \"color\": \"#000000\", \"alpha\": 1, \"zorder\": 3, \"id\": \"el97282200988655432\"}, {\"text\": \"EXPm316p2.csv\", \"position\": [0.49999999999999994, 1.0275938189845473], \"coordinates\": \"axes\", \"h_anchor\": \"middle\", \"v_baseline\": \"auto\", \"rotation\": -0.0, \"fontsize\": 12.0, \"color\": \"#000000\", \"alpha\": 1, \"zorder\": 3, \"id\": \"el97282200988975560\"}], \"collections\": [], \"images\": [], \"sharex\": [], \"sharey\": []}], \"data\": {\"data01\": [[100.0, 0.06276163961721087], [112.2018, 0.06248606764052867], [125.8925, 0.06255505143269122], [141.2538, 0.06256131650733711], [158.4893, 0.06261544707273119], [177.8279, 0.06243440291606183], [199.5262, 0.06240979384316189], [223.8721, 0.06255772634753583], [251.1886, 0.06247324263579385], [281.8383, 0.06243662077746175], [316.2278, 0.06247989979662419], [354.8134, 0.062474937115787554], [398.1072, 0.062441618179967066], [446.6836, 0.06245441028271509], [501.1872, 0.0623525030526907], [562.3413, 0.06237405076654591], [630.9573, 0.062393556064882165], [707.9458, 0.06233759565585196], [794.3282, 0.06229522192168161], [891.2509, 0.06222539034948211], [1000.0, 0.06225279123070427], [1122.018, 0.062083727464054723], [1258.925, 0.06208138099292963], [1412.538, 0.06213981893859125], [1584.893, 0.06178040448612229], [1778.28, 0.061748819616395514], [1995.262, 0.06156445236516425], [2238.721, 0.061302364689190446], [2511.886, 0.06079584096389266], [2818.383, 0.060494538814418665], [3162.278, 0.0598902618734139], [3548.134, 0.0590161036161631], [3981.072, 0.058198804337360015], [4466.836, 0.057719513704869496], [5011.873, 0.05607073852917739], [5623.413, 0.05534540749547495], [6309.573, 0.053921260505865556], [7079.458, 0.052512543941843626], [7943.282, 0.04989940271832495], [8912.509, 0.04766546262147931], [10000.0, 0.0446925093909807]]}, \"id\": \"el97282200987289096\", \"plugins\": [{\"type\": \"reset\"}, {\"type\": \"zoom\", \"button\": true, \"enabled\": false}, {\"type\": \"boxzoom\", \"button\": true, \"enabled\": false}]});\n",
       "   }(mpld3);\n",
       "}else if(typeof define === \"function\" && define.amd){\n",
       "   // require.js is available: use it to load d3/mpld3\n",
       "   require.config({paths: {d3: \"https://d3js.org/d3.v5\"}});\n",
       "   require([\"d3\"], function(d3){\n",
       "      window.d3 = d3;\n",
       "      mpld3_load_lib(\"https://mpld3.github.io/js/mpld3.v0.5.1.js\", function(){\n",
       "         \n",
       "         mpld3.draw_figure(\"fig_el972822009872890962588924213\", {\"width\": 432.0, \"height\": 288.0, \"axes\": [{\"bbox\": [0.125, 0.125, 0.775, 0.755], \"xlim\": [79.43282347242814, 12589.254117941662], \"ylim\": [0.04378905287966919, 0.06366509612852238], \"xdomain\": [79.43282347242814, 12589.254117941662], \"ydomain\": [0.04378905287966919, 0.06366509612852238], \"xscale\": \"log\", \"yscale\": \"linear\", \"axes\": [{\"position\": \"bottom\", \"nticks\": 7, \"tickvalues\": null, \"tickformat_formatter\": \"\", \"tickformat\": null, \"scale\": \"log\", \"fontsize\": 10.0, \"grid\": {\"gridOn\": true, \"color\": \"#B0B0B0\", \"dasharray\": \"none\", \"alpha\": 1.0}, \"visible\": true}, {\"position\": \"left\", \"nticks\": 10, \"tickvalues\": null, \"tickformat_formatter\": \"\", \"tickformat\": null, \"scale\": \"linear\", \"fontsize\": 10.0, \"grid\": {\"gridOn\": true, \"color\": \"#B0B0B0\", \"dasharray\": \"none\", \"alpha\": 1.0}, \"visible\": true}], \"axesbg\": \"#FFFFFF\", \"axesbgalpha\": null, \"zoomable\": true, \"id\": \"el97282200978565320\", \"lines\": [], \"paths\": [], \"markers\": [{\"data\": \"data01\", \"xindex\": 0, \"yindex\": 1, \"coordinates\": \"data\", \"id\": \"el97282200986076104pts\", \"facecolor\": \"none\", \"edgecolor\": \"#000000\", \"edgewidth\": 1.0, \"alpha\": 1, \"zorder\": 2, \"markerpath\": [[[0.0, 1.5], [0.39780465000000004, 1.5], [0.7793698061772802, 1.3419505373823626], [1.0606601717798214, 1.0606601717798214], [1.3419505373823626, 0.7793698061772802], [1.5, 0.39780465000000004], [1.5, 0.0], [1.5, -0.39780465000000004], [1.3419505373823626, -0.7793698061772802], [1.0606601717798214, -1.0606601717798214], [0.7793698061772802, -1.3419505373823626], [0.39780465000000004, -1.5], [0.0, -1.5], [-0.39780465000000004, -1.5], [-0.7793698061772802, -1.3419505373823626], [-1.0606601717798214, -1.0606601717798214], [-1.3419505373823626, -0.7793698061772802], [-1.5, -0.39780465000000004], [-1.5, 0.0], [-1.5, 0.39780465000000004], [-1.3419505373823626, 0.7793698061772802], [-1.0606601717798214, 1.0606601717798214], [-0.7793698061772802, 1.3419505373823626], [-0.39780465000000004, 1.5], [0.0, 1.5]], [\"M\", \"C\", \"C\", \"C\", \"C\", \"C\", \"C\", \"C\", \"C\", \"Z\"]]}], \"texts\": [{\"text\": \"Frecuencia [Hz]\", \"position\": [0.49999999999999994, -0.11405445180279619], \"coordinates\": \"axes\", \"h_anchor\": \"middle\", \"v_baseline\": \"hanging\", \"rotation\": -0.0, \"fontsize\": 10.0, \"color\": \"#000000\", \"alpha\": 1, \"zorder\": 3, \"id\": \"el97282200986307464\"}, {\"text\": \"$Im(\\\\Delta Z)/X_0$\", \"position\": [-0.13702210274790919, 0.4999999999999999], \"coordinates\": \"axes\", \"h_anchor\": \"middle\", \"v_baseline\": \"auto\", \"rotation\": -90.0, \"fontsize\": 10.0, \"color\": \"#000000\", \"alpha\": 1, \"zorder\": 3, \"id\": \"el97282200988655432\"}, {\"text\": \"EXPm316p2.csv\", \"position\": [0.49999999999999994, 1.0275938189845473], \"coordinates\": \"axes\", \"h_anchor\": \"middle\", \"v_baseline\": \"auto\", \"rotation\": -0.0, \"fontsize\": 12.0, \"color\": \"#000000\", \"alpha\": 1, \"zorder\": 3, \"id\": \"el97282200988975560\"}], \"collections\": [], \"images\": [], \"sharex\": [], \"sharey\": []}], \"data\": {\"data01\": [[100.0, 0.06276163961721087], [112.2018, 0.06248606764052867], [125.8925, 0.06255505143269122], [141.2538, 0.06256131650733711], [158.4893, 0.06261544707273119], [177.8279, 0.06243440291606183], [199.5262, 0.06240979384316189], [223.8721, 0.06255772634753583], [251.1886, 0.06247324263579385], [281.8383, 0.06243662077746175], [316.2278, 0.06247989979662419], [354.8134, 0.062474937115787554], [398.1072, 0.062441618179967066], [446.6836, 0.06245441028271509], [501.1872, 0.0623525030526907], [562.3413, 0.06237405076654591], [630.9573, 0.062393556064882165], [707.9458, 0.06233759565585196], [794.3282, 0.06229522192168161], [891.2509, 0.06222539034948211], [1000.0, 0.06225279123070427], [1122.018, 0.062083727464054723], [1258.925, 0.06208138099292963], [1412.538, 0.06213981893859125], [1584.893, 0.06178040448612229], [1778.28, 0.061748819616395514], [1995.262, 0.06156445236516425], [2238.721, 0.061302364689190446], [2511.886, 0.06079584096389266], [2818.383, 0.060494538814418665], [3162.278, 0.0598902618734139], [3548.134, 0.0590161036161631], [3981.072, 0.058198804337360015], [4466.836, 0.057719513704869496], [5011.873, 0.05607073852917739], [5623.413, 0.05534540749547495], [6309.573, 0.053921260505865556], [7079.458, 0.052512543941843626], [7943.282, 0.04989940271832495], [8912.509, 0.04766546262147931], [10000.0, 0.0446925093909807]]}, \"id\": \"el97282200987289096\", \"plugins\": [{\"type\": \"reset\"}, {\"type\": \"zoom\", \"button\": true, \"enabled\": false}, {\"type\": \"boxzoom\", \"button\": true, \"enabled\": false}]});\n",
       "      });\n",
       "    });\n",
       "}else{\n",
       "    // require.js not available: dynamically load d3 & mpld3\n",
       "    mpld3_load_lib(\"https://d3js.org/d3.v5.js\", function(){\n",
       "         mpld3_load_lib(\"https://mpld3.github.io/js/mpld3.v0.5.1.js\", function(){\n",
       "                 \n",
       "                 mpld3.draw_figure(\"fig_el972822009872890962588924213\", {\"width\": 432.0, \"height\": 288.0, \"axes\": [{\"bbox\": [0.125, 0.125, 0.775, 0.755], \"xlim\": [79.43282347242814, 12589.254117941662], \"ylim\": [0.04378905287966919, 0.06366509612852238], \"xdomain\": [79.43282347242814, 12589.254117941662], \"ydomain\": [0.04378905287966919, 0.06366509612852238], \"xscale\": \"log\", \"yscale\": \"linear\", \"axes\": [{\"position\": \"bottom\", \"nticks\": 7, \"tickvalues\": null, \"tickformat_formatter\": \"\", \"tickformat\": null, \"scale\": \"log\", \"fontsize\": 10.0, \"grid\": {\"gridOn\": true, \"color\": \"#B0B0B0\", \"dasharray\": \"none\", \"alpha\": 1.0}, \"visible\": true}, {\"position\": \"left\", \"nticks\": 10, \"tickvalues\": null, \"tickformat_formatter\": \"\", \"tickformat\": null, \"scale\": \"linear\", \"fontsize\": 10.0, \"grid\": {\"gridOn\": true, \"color\": \"#B0B0B0\", \"dasharray\": \"none\", \"alpha\": 1.0}, \"visible\": true}], \"axesbg\": \"#FFFFFF\", \"axesbgalpha\": null, \"zoomable\": true, \"id\": \"el97282200978565320\", \"lines\": [], \"paths\": [], \"markers\": [{\"data\": \"data01\", \"xindex\": 0, \"yindex\": 1, \"coordinates\": \"data\", \"id\": \"el97282200986076104pts\", \"facecolor\": \"none\", \"edgecolor\": \"#000000\", \"edgewidth\": 1.0, \"alpha\": 1, \"zorder\": 2, \"markerpath\": [[[0.0, 1.5], [0.39780465000000004, 1.5], [0.7793698061772802, 1.3419505373823626], [1.0606601717798214, 1.0606601717798214], [1.3419505373823626, 0.7793698061772802], [1.5, 0.39780465000000004], [1.5, 0.0], [1.5, -0.39780465000000004], [1.3419505373823626, -0.7793698061772802], [1.0606601717798214, -1.0606601717798214], [0.7793698061772802, -1.3419505373823626], [0.39780465000000004, -1.5], [0.0, -1.5], [-0.39780465000000004, -1.5], [-0.7793698061772802, -1.3419505373823626], [-1.0606601717798214, -1.0606601717798214], [-1.3419505373823626, -0.7793698061772802], [-1.5, -0.39780465000000004], [-1.5, 0.0], [-1.5, 0.39780465000000004], [-1.3419505373823626, 0.7793698061772802], [-1.0606601717798214, 1.0606601717798214], [-0.7793698061772802, 1.3419505373823626], [-0.39780465000000004, 1.5], [0.0, 1.5]], [\"M\", \"C\", \"C\", \"C\", \"C\", \"C\", \"C\", \"C\", \"C\", \"Z\"]]}], \"texts\": [{\"text\": \"Frecuencia [Hz]\", \"position\": [0.49999999999999994, -0.11405445180279619], \"coordinates\": \"axes\", \"h_anchor\": \"middle\", \"v_baseline\": \"hanging\", \"rotation\": -0.0, \"fontsize\": 10.0, \"color\": \"#000000\", \"alpha\": 1, \"zorder\": 3, \"id\": \"el97282200986307464\"}, {\"text\": \"$Im(\\\\Delta Z)/X_0$\", \"position\": [-0.13702210274790919, 0.4999999999999999], \"coordinates\": \"axes\", \"h_anchor\": \"middle\", \"v_baseline\": \"auto\", \"rotation\": -90.0, \"fontsize\": 10.0, \"color\": \"#000000\", \"alpha\": 1, \"zorder\": 3, \"id\": \"el97282200988655432\"}, {\"text\": \"EXPm316p2.csv\", \"position\": [0.49999999999999994, 1.0275938189845473], \"coordinates\": \"axes\", \"h_anchor\": \"middle\", \"v_baseline\": \"auto\", \"rotation\": -0.0, \"fontsize\": 12.0, \"color\": \"#000000\", \"alpha\": 1, \"zorder\": 3, \"id\": \"el97282200988975560\"}], \"collections\": [], \"images\": [], \"sharex\": [], \"sharey\": []}], \"data\": {\"data01\": [[100.0, 0.06276163961721087], [112.2018, 0.06248606764052867], [125.8925, 0.06255505143269122], [141.2538, 0.06256131650733711], [158.4893, 0.06261544707273119], [177.8279, 0.06243440291606183], [199.5262, 0.06240979384316189], [223.8721, 0.06255772634753583], [251.1886, 0.06247324263579385], [281.8383, 0.06243662077746175], [316.2278, 0.06247989979662419], [354.8134, 0.062474937115787554], [398.1072, 0.062441618179967066], [446.6836, 0.06245441028271509], [501.1872, 0.0623525030526907], [562.3413, 0.06237405076654591], [630.9573, 0.062393556064882165], [707.9458, 0.06233759565585196], [794.3282, 0.06229522192168161], [891.2509, 0.06222539034948211], [1000.0, 0.06225279123070427], [1122.018, 0.062083727464054723], [1258.925, 0.06208138099292963], [1412.538, 0.06213981893859125], [1584.893, 0.06178040448612229], [1778.28, 0.061748819616395514], [1995.262, 0.06156445236516425], [2238.721, 0.061302364689190446], [2511.886, 0.06079584096389266], [2818.383, 0.060494538814418665], [3162.278, 0.0598902618734139], [3548.134, 0.0590161036161631], [3981.072, 0.058198804337360015], [4466.836, 0.057719513704869496], [5011.873, 0.05607073852917739], [5623.413, 0.05534540749547495], [6309.573, 0.053921260505865556], [7079.458, 0.052512543941843626], [7943.282, 0.04989940271832495], [8912.509, 0.04766546262147931], [10000.0, 0.0446925093909807]]}, \"id\": \"el97282200987289096\", \"plugins\": [{\"type\": \"reset\"}, {\"type\": \"zoom\", \"button\": true, \"enabled\": false}, {\"type\": \"boxzoom\", \"button\": true, \"enabled\": false}]});\n",
       "            })\n",
       "         });\n",
       "}\n",
       "</script>"
      ],
      "text/plain": [
       "<Figure size 432x288 with 1 Axes>"
      ]
     },
     "metadata": {
      "needs_background": "light"
     },
     "output_type": "display_data"
    }
   ],
   "source": [
    "cn.plt.im(f,datacorr,1)"
   ]
  },
  {
   "cell_type": "code",
   "execution_count": 3,
   "metadata": {},
   "outputs": [
    {
     "data": {
      "image/png": "[encoded data removed]",
      "text/html": [
       "\n",
       "\n",
       "<style>\n",
       "\n",
       "</style>\n",
       "\n",
       "<div id=\"fig_el972822009881842644217792861\"></div>\n",
       "<script>\n",
       "function mpld3_load_lib(url, callback){\n",
       "  var s = document.createElement('script');\n",
       "  s.src = url;\n",
       "  s.async = true;\n",
       "  s.onreadystatechange = s.onload = callback;\n",
       "  s.onerror = function(){console.warn(\"failed to load library \" + url);};\n",
       "  document.getElementsByTagName(\"head\")[0].appendChild(s);\n",
       "}\n",
       "\n",
       "if(typeof(mpld3) !== \"undefined\" && mpld3._mpld3IsLoaded){\n",
       "   // already loaded: just create the figure\n",
       "   !function(mpld3){\n",
       "       \n",
       "       mpld3.draw_figure(\"fig_el972822009881842644217792861\", {\"width\": 432.0, \"height\": 288.0, \"axes\": [{\"bbox\": [0.125, 0.125, 0.775, 0.755], \"xlim\": [79.43282347242814, 12589.254117941662], \"ylim\": [-0.04969560885625155, 0.03403402847387955], \"xdomain\": [79.43282347242814, 12589.254117941662], \"ydomain\": [-0.04969560885625155, 0.03403402847387955], \"xscale\": \"log\", \"yscale\": \"linear\", \"axes\": [{\"position\": \"bottom\", \"nticks\": 7, \"tickvalues\": null, \"tickformat_formatter\": \"\", \"tickformat\": null, \"scale\": \"log\", \"fontsize\": 10.0, \"grid\": {\"gridOn\": true, \"color\": \"#B0B0B0\", \"dasharray\": \"none\", \"alpha\": 1.0}, \"visible\": true}, {\"position\": \"left\", \"nticks\": 10, \"tickvalues\": null, \"tickformat_formatter\": \"\", \"tickformat\": null, \"scale\": \"linear\", \"fontsize\": 10.0, \"grid\": {\"gridOn\": true, \"color\": \"#B0B0B0\", \"dasharray\": \"none\", \"alpha\": 1.0}, \"visible\": true}], \"axesbg\": \"#FFFFFF\", \"axesbgalpha\": null, \"zoomable\": true, \"id\": \"el97282200993171144\", \"lines\": [], \"paths\": [], \"markers\": [{\"data\": \"data01\", \"xindex\": 0, \"yindex\": 1, \"coordinates\": \"data\", \"id\": \"el97282200992693896pts\", \"facecolor\": \"none\", \"edgecolor\": \"#000000\", \"edgewidth\": 1.0, \"alpha\": 1, \"zorder\": 2, \"markerpath\": [[[0.0, 1.5], [0.39780465000000004, 1.5], [0.7793698061772802, 1.3419505373823626], [1.0606601717798214, 1.0606601717798214], [1.3419505373823626, 0.7793698061772802], [1.5, 0.39780465000000004], [1.5, 0.0], [1.5, -0.39780465000000004], [1.3419505373823626, -0.7793698061772802], [1.0606601717798214, -1.0606601717798214], [0.7793698061772802, -1.3419505373823626], [0.39780465000000004, -1.5], [0.0, -1.5], [-0.39780465000000004, -1.5], [-0.7793698061772802, -1.3419505373823626], [-1.0606601717798214, -1.0606601717798214], [-1.3419505373823626, -0.7793698061772802], [-1.5, -0.39780465000000004], [-1.5, 0.0], [-1.5, 0.39780465000000004], [-1.3419505373823626, 0.7793698061772802], [-1.0606601717798214, 1.0606601717798214], [-0.7793698061772802, 1.3419505373823626], [-0.39780465000000004, 1.5], [0.0, 1.5]], [\"M\", \"C\", \"C\", \"C\", \"C\", \"C\", \"C\", \"C\", \"C\", \"Z\"]]}], \"texts\": [{\"text\": \"Frecuencia [Hz]\", \"position\": [0.49999999999999994, -0.11405445180279619], \"coordinates\": \"axes\", \"h_anchor\": \"middle\", \"v_baseline\": \"hanging\", \"rotation\": -0.0, \"fontsize\": 10.0, \"color\": \"#000000\", \"alpha\": 1, \"zorder\": 3, \"id\": \"el97282200993027208\"}, {\"text\": \"$Re(\\\\Delta Z)/X_0$\", \"position\": [-0.12395459976105137, 0.4999999999999999], \"coordinates\": \"axes\", \"h_anchor\": \"middle\", \"v_baseline\": \"auto\", \"rotation\": -90.0, \"fontsize\": 10.0, \"color\": \"#000000\", \"alpha\": 1, \"zorder\": 3, \"id\": \"el97282200993674760\"}, {\"text\": \"EXPm316p2.csv\", \"position\": [0.49999999999999994, 1.0275938189845473], \"coordinates\": \"axes\", \"h_anchor\": \"middle\", \"v_baseline\": \"auto\", \"rotation\": -0.0, \"fontsize\": 12.0, \"color\": \"#000000\", \"alpha\": 1, \"zorder\": 3, \"id\": \"el97282200993220296\"}], \"collections\": [], \"images\": [], \"sharex\": [], \"sharey\": []}], \"data\": {\"data01\": [[100.0, -0.0458897162503365], [112.2018, -0.04091660663147846], [125.8925, -0.03609576962815604], [141.2538, -0.03155848483942676], [158.4893, -0.027743759098751732], [177.8279, -0.02472542407818203], [199.5262, -0.021828266311488743], [223.8721, -0.019369918289899153], [251.1886, -0.01708441246013764], [281.8383, -0.015108901100760335], [316.2278, -0.012919378794015073], [354.8134, -0.011396988985269932], [398.1072, -0.009946317698364338], [446.6836, -0.00835717823425051], [501.1872, -0.0072089453568071555], [562.3413, -0.00593240136628764], [630.9573, -0.004578062975188526], [707.9458, -0.003501234911206871], [794.3282, -0.0023745755357406917], [891.2509, -0.0013617416064464738], [1000.0, -0.00033498233769362203], [1122.018, 0.0007440102366561013], [1258.925, 0.0017919177015249664], [1412.538, 0.002769801254728158], [1584.893, 0.003902970761360792], [1778.28, 0.004931902532088231], [1995.262, 0.0062025940967057845], [2238.721, 0.007429722107590775], [2511.886, 0.008832728649488917], [2818.383, 0.0102108991148294], [3162.278, 0.011717190052011545], [3548.134, 0.013331306201714643], [3981.072, 0.015142748576045598], [4466.836, 0.016925047180744494], [5011.873, 0.018741310149380123], [5623.413, 0.02059126933585221], [6309.573, 0.02250766021089785], [7079.458, 0.02434801777029886], [7943.282, 0.026383713894961722], [8912.509, 0.028265961069813352], [10000.0, 0.030228135867964495]]}, \"id\": \"el97282200988184264\", \"plugins\": [{\"type\": \"reset\"}, {\"type\": \"zoom\", \"button\": true, \"enabled\": false}, {\"type\": \"boxzoom\", \"button\": true, \"enabled\": false}]});\n",
       "   }(mpld3);\n",
       "}else if(typeof define === \"function\" && define.amd){\n",
       "   // require.js is available: use it to load d3/mpld3\n",
       "   require.config({paths: {d3: \"https://d3js.org/d3.v5\"}});\n",
       "   require([\"d3\"], function(d3){\n",
       "      window.d3 = d3;\n",
       "      mpld3_load_lib(\"https://mpld3.github.io/js/mpld3.v0.5.1.js\", function(){\n",
       "         \n",
       "         mpld3.draw_figure(\"fig_el972822009881842644217792861\", {\"width\": 432.0, \"height\": 288.0, \"axes\": [{\"bbox\": [0.125, 0.125, 0.775, 0.755], \"xlim\": [79.43282347242814, 12589.254117941662], \"ylim\": [-0.04969560885625155, 0.03403402847387955], \"xdomain\": [79.43282347242814, 12589.254117941662], \"ydomain\": [-0.04969560885625155, 0.03403402847387955], \"xscale\": \"log\", \"yscale\": \"linear\", \"axes\": [{\"position\": \"bottom\", \"nticks\": 7, \"tickvalues\": null, \"tickformat_formatter\": \"\", \"tickformat\": null, \"scale\": \"log\", \"fontsize\": 10.0, \"grid\": {\"gridOn\": true, \"color\": \"#B0B0B0\", \"dasharray\": \"none\", \"alpha\": 1.0}, \"visible\": true}, {\"position\": \"left\", \"nticks\": 10, \"tickvalues\": null, \"tickformat_formatter\": \"\", \"tickformat\": null, \"scale\": \"linear\", \"fontsize\": 10.0, \"grid\": {\"gridOn\": true, \"color\": \"#B0B0B0\", \"dasharray\": \"none\", \"alpha\": 1.0}, \"visible\": true}], \"axesbg\": \"#FFFFFF\", \"axesbgalpha\": null, \"zoomable\": true, \"id\": \"el97282200993171144\", \"lines\": [], \"paths\": [], \"markers\": [{\"data\": \"data01\", \"xindex\": 0, \"yindex\": 1, \"coordinates\": \"data\", \"id\": \"el97282200992693896pts\", \"facecolor\": \"none\", \"edgecolor\": \"#000000\", \"edgewidth\": 1.0, \"alpha\": 1, \"zorder\": 2, \"markerpath\": [[[0.0, 1.5], [0.39780465000000004, 1.5], [0.7793698061772802, 1.3419505373823626], [1.0606601717798214, 1.0606601717798214], [1.3419505373823626, 0.7793698061772802], [1.5, 0.39780465000000004], [1.5, 0.0], [1.5, -0.39780465000000004], [1.3419505373823626, -0.7793698061772802], [1.0606601717798214, -1.0606601717798214], [0.7793698061772802, -1.3419505373823626], [0.39780465000000004, -1.5], [0.0, -1.5], [-0.39780465000000004, -1.5], [-0.7793698061772802, -1.3419505373823626], [-1.0606601717798214, -1.0606601717798214], [-1.3419505373823626, -0.7793698061772802], [-1.5, -0.39780465000000004], [-1.5, 0.0], [-1.5, 0.39780465000000004], [-1.3419505373823626, 0.7793698061772802], [-1.0606601717798214, 1.0606601717798214], [-0.7793698061772802, 1.3419505373823626], [-0.39780465000000004, 1.5], [0.0, 1.5]], [\"M\", \"C\", \"C\", \"C\", \"C\", \"C\", \"C\", \"C\", \"C\", \"Z\"]]}], \"texts\": [{\"text\": \"Frecuencia [Hz]\", \"position\": [0.49999999999999994, -0.11405445180279619], \"coordinates\": \"axes\", \"h_anchor\": \"middle\", \"v_baseline\": \"hanging\", \"rotation\": -0.0, \"fontsize\": 10.0, \"color\": \"#000000\", \"alpha\": 1, \"zorder\": 3, \"id\": \"el97282200993027208\"}, {\"text\": \"$Re(\\\\Delta Z)/X_0$\", \"position\": [-0.12395459976105137, 0.4999999999999999], \"coordinates\": \"axes\", \"h_anchor\": \"middle\", \"v_baseline\": \"auto\", \"rotation\": -90.0, \"fontsize\": 10.0, \"color\": \"#000000\", \"alpha\": 1, \"zorder\": 3, \"id\": \"el97282200993674760\"}, {\"text\": \"EXPm316p2.csv\", \"position\": [0.49999999999999994, 1.0275938189845473], \"coordinates\": \"axes\", \"h_anchor\": \"middle\", \"v_baseline\": \"auto\", \"rotation\": -0.0, \"fontsize\": 12.0, \"color\": \"#000000\", \"alpha\": 1, \"zorder\": 3, \"id\": \"el97282200993220296\"}], \"collections\": [], \"images\": [], \"sharex\": [], \"sharey\": []}], \"data\": {\"data01\": [[100.0, -0.0458897162503365], [112.2018, -0.04091660663147846], [125.8925, -0.03609576962815604], [141.2538, -0.03155848483942676], [158.4893, -0.027743759098751732], [177.8279, -0.02472542407818203], [199.5262, -0.021828266311488743], [223.8721, -0.019369918289899153], [251.1886, -0.01708441246013764], [281.8383, -0.015108901100760335], [316.2278, -0.012919378794015073], [354.8134, -0.011396988985269932], [398.1072, -0.009946317698364338], [446.6836, -0.00835717823425051], [501.1872, -0.0072089453568071555], [562.3413, -0.00593240136628764], [630.9573, -0.004578062975188526], [707.9458, -0.003501234911206871], [794.3282, -0.0023745755357406917], [891.2509, -0.0013617416064464738], [1000.0, -0.00033498233769362203], [1122.018, 0.0007440102366561013], [1258.925, 0.0017919177015249664], [1412.538, 0.002769801254728158], [1584.893, 0.003902970761360792], [1778.28, 0.004931902532088231], [1995.262, 0.0062025940967057845], [2238.721, 0.007429722107590775], [2511.886, 0.008832728649488917], [2818.383, 0.0102108991148294], [3162.278, 0.011717190052011545], [3548.134, 0.013331306201714643], [3981.072, 0.015142748576045598], [4466.836, 0.016925047180744494], [5011.873, 0.018741310149380123], [5623.413, 0.02059126933585221], [6309.573, 0.02250766021089785], [7079.458, 0.02434801777029886], [7943.282, 0.026383713894961722], [8912.509, 0.028265961069813352], [10000.0, 0.030228135867964495]]}, \"id\": \"el97282200988184264\", \"plugins\": [{\"type\": \"reset\"}, {\"type\": \"zoom\", \"button\": true, \"enabled\": false}, {\"type\": \"boxzoom\", \"button\": true, \"enabled\": false}]});\n",
       "      });\n",
       "    });\n",
       "}else{\n",
       "    // require.js not available: dynamically load d3 & mpld3\n",
       "    mpld3_load_lib(\"https://d3js.org/d3.v5.js\", function(){\n",
       "         mpld3_load_lib(\"https://mpld3.github.io/js/mpld3.v0.5.1.js\", function(){\n",
       "                 \n",
       "                 mpld3.draw_figure(\"fig_el972822009881842644217792861\", {\"width\": 432.0, \"height\": 288.0, \"axes\": [{\"bbox\": [0.125, 0.125, 0.775, 0.755], \"xlim\": [79.43282347242814, 12589.254117941662], \"ylim\": [-0.04969560885625155, 0.03403402847387955], \"xdomain\": [79.43282347242814, 12589.254117941662], \"ydomain\": [-0.04969560885625155, 0.03403402847387955], \"xscale\": \"log\", \"yscale\": \"linear\", \"axes\": [{\"position\": \"bottom\", \"nticks\": 7, \"tickvalues\": null, \"tickformat_formatter\": \"\", \"tickformat\": null, \"scale\": \"log\", \"fontsize\": 10.0, \"grid\": {\"gridOn\": true, \"color\": \"#B0B0B0\", \"dasharray\": \"none\", \"alpha\": 1.0}, \"visible\": true}, {\"position\": \"left\", \"nticks\": 10, \"tickvalues\": null, \"tickformat_formatter\": \"\", \"tickformat\": null, \"scale\": \"linear\", \"fontsize\": 10.0, \"grid\": {\"gridOn\": true, \"color\": \"#B0B0B0\", \"dasharray\": \"none\", \"alpha\": 1.0}, \"visible\": true}], \"axesbg\": \"#FFFFFF\", \"axesbgalpha\": null, \"zoomable\": true, \"id\": \"el97282200993171144\", \"lines\": [], \"paths\": [], \"markers\": [{\"data\": \"data01\", \"xindex\": 0, \"yindex\": 1, \"coordinates\": \"data\", \"id\": \"el97282200992693896pts\", \"facecolor\": \"none\", \"edgecolor\": \"#000000\", \"edgewidth\": 1.0, \"alpha\": 1, \"zorder\": 2, \"markerpath\": [[[0.0, 1.5], [0.39780465000000004, 1.5], [0.7793698061772802, 1.3419505373823626], [1.0606601717798214, 1.0606601717798214], [1.3419505373823626, 0.7793698061772802], [1.5, 0.39780465000000004], [1.5, 0.0], [1.5, -0.39780465000000004], [1.3419505373823626, -0.7793698061772802], [1.0606601717798214, -1.0606601717798214], [0.7793698061772802, -1.3419505373823626], [0.39780465000000004, -1.5], [0.0, -1.5], [-0.39780465000000004, -1.5], [-0.7793698061772802, -1.3419505373823626], [-1.0606601717798214, -1.0606601717798214], [-1.3419505373823626, -0.7793698061772802], [-1.5, -0.39780465000000004], [-1.5, 0.0], [-1.5, 0.39780465000000004], [-1.3419505373823626, 0.7793698061772802], [-1.0606601717798214, 1.0606601717798214], [-0.7793698061772802, 1.3419505373823626], [-0.39780465000000004, 1.5], [0.0, 1.5]], [\"M\", \"C\", \"C\", \"C\", \"C\", \"C\", \"C\", \"C\", \"C\", \"Z\"]]}], \"texts\": [{\"text\": \"Frecuencia [Hz]\", \"position\": [0.49999999999999994, -0.11405445180279619], \"coordinates\": \"axes\", \"h_anchor\": \"middle\", \"v_baseline\": \"hanging\", \"rotation\": -0.0, \"fontsize\": 10.0, \"color\": \"#000000\", \"alpha\": 1, \"zorder\": 3, \"id\": \"el97282200993027208\"}, {\"text\": \"$Re(\\\\Delta Z)/X_0$\", \"position\": [-0.12395459976105137, 0.4999999999999999], \"coordinates\": \"axes\", \"h_anchor\": \"middle\", \"v_baseline\": \"auto\", \"rotation\": -90.0, \"fontsize\": 10.0, \"color\": \"#000000\", \"alpha\": 1, \"zorder\": 3, \"id\": \"el97282200993674760\"}, {\"text\": \"EXPm316p2.csv\", \"position\": [0.49999999999999994, 1.0275938189845473], \"coordinates\": \"axes\", \"h_anchor\": \"middle\", \"v_baseline\": \"auto\", \"rotation\": -0.0, \"fontsize\": 12.0, \"color\": \"#000000\", \"alpha\": 1, \"zorder\": 3, \"id\": \"el97282200993220296\"}], \"collections\": [], \"images\": [], \"sharex\": [], \"sharey\": []}], \"data\": {\"data01\": [[100.0, -0.0458897162503365], [112.2018, -0.04091660663147846], [125.8925, -0.03609576962815604], [141.2538, -0.03155848483942676], [158.4893, -0.027743759098751732], [177.8279, -0.02472542407818203], [199.5262, -0.021828266311488743], [223.8721, -0.019369918289899153], [251.1886, -0.01708441246013764], [281.8383, -0.015108901100760335], [316.2278, -0.012919378794015073], [354.8134, -0.011396988985269932], [398.1072, -0.009946317698364338], [446.6836, -0.00835717823425051], [501.1872, -0.0072089453568071555], [562.3413, -0.00593240136628764], [630.9573, -0.004578062975188526], [707.9458, -0.003501234911206871], [794.3282, -0.0023745755357406917], [891.2509, -0.0013617416064464738], [1000.0, -0.00033498233769362203], [1122.018, 0.0007440102366561013], [1258.925, 0.0017919177015249664], [1412.538, 0.002769801254728158], [1584.893, 0.003902970761360792], [1778.28, 0.004931902532088231], [1995.262, 0.0062025940967057845], [2238.721, 0.007429722107590775], [2511.886, 0.008832728649488917], [2818.383, 0.0102108991148294], [3162.278, 0.011717190052011545], [3548.134, 0.013331306201714643], [3981.072, 0.015142748576045598], [4466.836, 0.016925047180744494], [5011.873, 0.018741310149380123], [5623.413, 0.02059126933585221], [6309.573, 0.02250766021089785], [7079.458, 0.02434801777029886], [7943.282, 0.026383713894961722], [8912.509, 0.028265961069813352], [10000.0, 0.030228135867964495]]}, \"id\": \"el97282200988184264\", \"plugins\": [{\"type\": \"reset\"}, {\"type\": \"zoom\", \"button\": true, \"enabled\": false}, {\"type\": \"boxzoom\", \"button\": true, \"enabled\": false}]});\n",
       "            })\n",
       "         });\n",
       "}\n",
       "</script>"
      ],
      "text/plain": [
       "<Figure size 432x288 with 1 Axes>"
      ]
     },
     "metadata": {
      "needs_background": "light"
     },
     "output_type": "display_data"
    }
   ],
   "source": [
    "cn.plt.re(f,datacorr,1)"
   ]
  },
  {
   "cell_type": "code",
   "execution_count": 4,
   "metadata": {},
   "outputs": [
    {
     "data": {
      "application/vnd.plotly.v1+json": {
       "config": {
        "linkText": "Export to plot.ly",
        "plotlyServerURL": "https://plot.ly",
        "showLink": false
       },
       "data": [
        {
         "mode": "lines",
         "name": "EXP3948.csv",
         "type": "scatter",
         "x": [
          100,
          112.2018,
          125.8925,
          141.2538,
          158.4893,
          177.8279,
          199.5262,
          223.8721,
          251.1886,
          281.8383,
          316.2278,
          354.8134,
          398.1072,
          446.6836,
          501.1872,
          562.3413,
          630.9573,
          707.9458,
          794.3282,
          891.2509,
          1000,
          1122.018,
          1258.925,
          1412.538,
          1584.893,
          1778.28,
          1995.262,
          2238.721,
          2511.886,
          2818.383,
          3162.278,
          3548.134,
          3981.072,
          4466.836,
          5011.873,
          5623.413,
          6309.573,
          7079.458,
          7943.282,
          8912.509,
          10000
         ],
         "y": [
          0.00014494579286578925,
          -0.0002605158903870883,
          -0.0001386967859180973,
          -0.00020437052723866996,
          -0.000300099275025469,
          -0.0003144192021370464,
          -0.0005078194259591506,
          -0.000616653874787156,
          -0.0005839404833533462,
          -0.0008331973653345268,
          -0.0010060526576340934,
          -0.0012106050324608927,
          -0.0016297682544060123,
          -0.001971522582396318,
          -0.002510364827512958,
          -0.002964424187765629,
          -0.0035097451154327145,
          -0.004198798107709528,
          -0.004883630496595764,
          -0.005693463215646624,
          -0.006612649690593853,
          -0.007645770249430018,
          -0.008660576779894626,
          -0.009770091228560212,
          -0.011084640529576653,
          -0.012014138278158573,
          -0.013387724538576217,
          -0.015089290780357823,
          -0.016283729788487845,
          -0.01782652553588754,
          -0.019879085743262203,
          -0.021692684396015134,
          -0.02346330273878143,
          -0.024883104907395613,
          -0.027117016637469613,
          -0.028910302165158372,
          -0.030321076959780424,
          -0.03316621888458813,
          -0.03545248998638194,
          -0.037500034025257756,
          -0.040327015134123616
         ]
        },
        {
         "mode": "lines",
         "name": "EXPm316p2.csv",
         "type": "scatter",
         "x": [
          100,
          112.2018,
          125.8925,
          141.2538,
          158.4893,
          177.8279,
          199.5262,
          223.8721,
          251.1886,
          281.8383,
          316.2278,
          354.8134,
          398.1072,
          446.6836,
          501.1872,
          562.3413,
          630.9573,
          707.9458,
          794.3282,
          891.2509,
          1000,
          1122.018,
          1258.925,
          1412.538,
          1584.893,
          1778.28,
          1995.262,
          2238.721,
          2511.886,
          2818.383,
          3162.278,
          3548.134,
          3981.072,
          4466.836,
          5011.873,
          5623.413,
          6309.573,
          7079.458,
          7943.282,
          8912.509,
          10000
         ],
         "y": [
          0.06276163961721087,
          0.06248606764052867,
          0.06255505143269122,
          0.06256131650733711,
          0.06261544707273119,
          0.06243440291606183,
          0.06240979384316189,
          0.06255772634753583,
          0.06247324263579385,
          0.06243662077746175,
          0.06247989979662419,
          0.062474937115787554,
          0.062441618179967066,
          0.06245441028271509,
          0.0623525030526907,
          0.06237405076654591,
          0.062393556064882165,
          0.06233759565585196,
          0.06229522192168161,
          0.06222539034948211,
          0.06225279123070427,
          0.062083727464054723,
          0.06208138099292963,
          0.06213981893859125,
          0.06178040448612229,
          0.061748819616395514,
          0.06156445236516425,
          0.061302364689190446,
          0.06079584096389266,
          0.060494538814418665,
          0.0598902618734139,
          0.0590161036161631,
          0.058198804337360015,
          0.057719513704869496,
          0.05607073852917739,
          0.05534540749547495,
          0.053921260505865556,
          0.052512543941843626,
          0.04989940271832495,
          0.04766546262147931,
          0.0446925093909807
         ]
        }
       ],
       "layout": {
        "autosize": true,
        "template": {
         "data": {
          "bar": [
           {
            "error_x": {
             "color": "#2a3f5f"
            },
            "error_y": {
             "color": "#2a3f5f"
            },
            "marker": {
             "line": {
              "color": "#E5ECF6",
              "width": 0.5
             }
            },
            "type": "bar"
           }
          ],
          "barpolar": [
           {
            "marker": {
             "line": {
              "color": "#E5ECF6",
              "width": 0.5
             }
            },
            "type": "barpolar"
           }
          ],
          "carpet": [
           {
            "aaxis": {
             "endlinecolor": "#2a3f5f",
             "gridcolor": "white",
             "linecolor": "white",
             "minorgridcolor": "white",
             "startlinecolor": "#2a3f5f"
            },
            "baxis": {
             "endlinecolor": "#2a3f5f",
             "gridcolor": "white",
             "linecolor": "white",
             "minorgridcolor": "white",
             "startlinecolor": "#2a3f5f"
            },
            "type": "carpet"
           }
          ],
          "choropleth": [
           {
            "colorbar": {
             "outlinewidth": 0,
             "ticks": ""
            },
            "type": "choropleth"
           }
          ],
          "contour": [
           {
            "colorbar": {
             "outlinewidth": 0,
             "ticks": ""
            },
            "colorscale": [
             [
              0,
              "#0d0887"
             ],
             [
              0.1111111111111111,
              "#46039f"
             ],
             [
              0.2222222222222222,
              "#7201a8"
             ],
             [
              0.3333333333333333,
              "#9c179e"
             ],
             [
              0.4444444444444444,
              "#bd3786"
             ],
             [
              0.5555555555555556,
              "#d8576b"
             ],
             [
              0.6666666666666666,
              "#ed7953"
             ],
             [
              0.7777777777777778,
              "#fb9f3a"
             ],
             [
              0.8888888888888888,
              "#fdca26"
             ],
             [
              1,
              "#f0f921"
             ]
            ],
            "type": "contour"
           }
          ],
          "contourcarpet": [
           {
            "colorbar": {
             "outlinewidth": 0,
             "ticks": ""
            },
            "type": "contourcarpet"
           }
          ],
          "heatmap": [
           {
            "colorbar": {
             "outlinewidth": 0,
             "ticks": ""
            },
            "colorscale": [
             [
              0,
              "#0d0887"
             ],
             [
              0.1111111111111111,
              "#46039f"
             ],
             [
              0.2222222222222222,
              "#7201a8"
             ],
             [
              0.3333333333333333,
              "#9c179e"
             ],
             [
              0.4444444444444444,
              "#bd3786"
             ],
             [
              0.5555555555555556,
              "#d8576b"
             ],
             [
              0.6666666666666666,
              "#ed7953"
             ],
             [
              0.7777777777777778,
              "#fb9f3a"
             ],
             [
              0.8888888888888888,
              "#fdca26"
             ],
             [
              1,
              "#f0f921"
             ]
            ],
            "type": "heatmap"
           }
          ],
          "heatmapgl": [
           {
            "colorbar": {
             "outlinewidth": 0,
             "ticks": ""
            },
            "colorscale": [
             [
              0,
              "#0d0887"
             ],
             [
              0.1111111111111111,
              "#46039f"
             ],
             [
              0.2222222222222222,
              "#7201a8"
             ],
             [
              0.3333333333333333,
              "#9c179e"
             ],
             [
              0.4444444444444444,
              "#bd3786"
             ],
             [
              0.5555555555555556,
              "#d8576b"
             ],
             [
              0.6666666666666666,
              "#ed7953"
             ],
             [
              0.7777777777777778,
              "#fb9f3a"
             ],
             [
              0.8888888888888888,
              "#fdca26"
             ],
             [
              1,
              "#f0f921"
             ]
            ],
            "type": "heatmapgl"
           }
          ],
          "histogram": [
           {
            "marker": {
             "colorbar": {
              "outlinewidth": 0,
              "ticks": ""
             }
            },
            "type": "histogram"
           }
          ],
          "histogram2d": [
           {
            "colorbar": {
             "outlinewidth": 0,
             "ticks": ""
            },
            "colorscale": [
             [
              0,
              "#0d0887"
             ],
             [
              0.1111111111111111,
              "#46039f"
             ],
             [
              0.2222222222222222,
              "#7201a8"
             ],
             [
              0.3333333333333333,
              "#9c179e"
             ],
             [
              0.4444444444444444,
              "#bd3786"
             ],
             [
              0.5555555555555556,
              "#d8576b"
             ],
             [
              0.6666666666666666,
              "#ed7953"
             ],
             [
              0.7777777777777778,
              "#fb9f3a"
             ],
             [
              0.8888888888888888,
              "#fdca26"
             ],
             [
              1,
              "#f0f921"
             ]
            ],
            "type": "histogram2d"
           }
          ],
          "histogram2dcontour": [
           {
            "colorbar": {
             "outlinewidth": 0,
             "ticks": ""
            },
            "colorscale": [
             [
              0,
              "#0d0887"
             ],
             [
              0.1111111111111111,
              "#46039f"
             ],
             [
              0.2222222222222222,
              "#7201a8"
             ],
             [
              0.3333333333333333,
              "#9c179e"
             ],
             [
              0.4444444444444444,
              "#bd3786"
             ],
             [
              0.5555555555555556,
              "#d8576b"
             ],
             [
              0.6666666666666666,
              "#ed7953"
             ],
             [
              0.7777777777777778,
              "#fb9f3a"
             ],
             [
              0.8888888888888888,
              "#fdca26"
             ],
             [
              1,
              "#f0f921"
             ]
            ],
            "type": "histogram2dcontour"
           }
          ],
          "mesh3d": [
           {
            "colorbar": {
             "outlinewidth": 0,
             "ticks": ""
            },
            "type": "mesh3d"
           }
          ],
          "parcoords": [
           {
            "line": {
             "colorbar": {
              "outlinewidth": 0,
              "ticks": ""
             }
            },
            "type": "parcoords"
           }
          ],
          "pie": [
           {
            "automargin": true,
            "type": "pie"
           }
          ],
          "scatter": [
           {
            "marker": {
             "colorbar": {
              "outlinewidth": 0,
              "ticks": ""
             }
            },
            "type": "scatter"
           }
          ],
          "scatter3d": [
           {
            "line": {
             "colorbar": {
              "outlinewidth": 0,
              "ticks": ""
             }
            },
            "marker": {
             "colorbar": {
              "outlinewidth": 0,
              "ticks": ""
             }
            },
            "type": "scatter3d"
           }
          ],
          "scattercarpet": [
           {
            "marker": {
             "colorbar": {
              "outlinewidth": 0,
              "ticks": ""
             }
            },
            "type": "scattercarpet"
           }
          ],
          "scattergeo": [
           {
            "marker": {
             "colorbar": {
              "outlinewidth": 0,
              "ticks": ""
             }
            },
            "type": "scattergeo"
           }
          ],
          "scattergl": [
           {
            "marker": {
             "colorbar": {
              "outlinewidth": 0,
              "ticks": ""
             }
            },
            "type": "scattergl"
           }
          ],
          "scattermapbox": [
           {
            "marker": {
             "colorbar": {
              "outlinewidth": 0,
              "ticks": ""
             }
            },
            "type": "scattermapbox"
           }
          ],
          "scatterpolar": [
           {
            "marker": {
             "colorbar": {
              "outlinewidth": 0,
              "ticks": ""
             }
            },
            "type": "scatterpolar"
           }
          ],
          "scatterpolargl": [
           {
            "marker": {
             "colorbar": {
              "outlinewidth": 0,
              "ticks": ""
             }
            },
            "type": "scatterpolargl"
           }
          ],
          "scatterternary": [
           {
            "marker": {
             "colorbar": {
              "outlinewidth": 0,
              "ticks": ""
             }
            },
            "type": "scatterternary"
           }
          ],
          "surface": [
           {
            "colorbar": {
             "outlinewidth": 0,
             "ticks": ""
            },
            "colorscale": [
             [
              0,
              "#0d0887"
             ],
             [
              0.1111111111111111,
              "#46039f"
             ],
             [
              0.2222222222222222,
              "#7201a8"
             ],
             [
              0.3333333333333333,
              "#9c179e"
             ],
             [
              0.4444444444444444,
              "#bd3786"
             ],
             [
              0.5555555555555556,
              "#d8576b"
             ],
             [
              0.6666666666666666,
              "#ed7953"
             ],
             [
              0.7777777777777778,
              "#fb9f3a"
             ],
             [
              0.8888888888888888,
              "#fdca26"
             ],
             [
              1,
              "#f0f921"
             ]
            ],
            "type": "surface"
           }
          ],
          "table": [
           {
            "cells": {
             "fill": {
              "color": "#EBF0F8"
             },
             "line": {
              "color": "white"
             }
            },
            "header": {
             "fill": {
              "color": "#C8D4E3"
             },
             "line": {
              "color": "white"
             }
            },
            "type": "table"
           }
          ]
         },
         "layout": {
          "annotationdefaults": {
           "arrowcolor": "#2a3f5f",
           "arrowhead": 0,
           "arrowwidth": 1
          },
          "coloraxis": {
           "colorbar": {
            "outlinewidth": 0,
            "ticks": ""
           }
          },
          "colorscale": {
           "diverging": [
            [
             0,
             "#8e0152"
            ],
            [
             0.1,
             "#c51b7d"
            ],
            [
             0.2,
             "#de77ae"
            ],
            [
             0.3,
             "#f1b6da"
            ],
            [
             0.4,
             "#fde0ef"
            ],
            [
             0.5,
             "#f7f7f7"
            ],
            [
             0.6,
             "#e6f5d0"
            ],
            [
             0.7,
             "#b8e186"
            ],
            [
             0.8,
             "#7fbc41"
            ],
            [
             0.9,
             "#4d9221"
            ],
            [
             1,
             "#276419"
            ]
           ],
           "sequential": [
            [
             0,
             "#0d0887"
            ],
            [
             0.1111111111111111,
             "#46039f"
            ],
            [
             0.2222222222222222,
             "#7201a8"
            ],
            [
             0.3333333333333333,
             "#9c179e"
            ],
            [
             0.4444444444444444,
             "#bd3786"
            ],
            [
             0.5555555555555556,
             "#d8576b"
            ],
            [
             0.6666666666666666,
             "#ed7953"
            ],
            [
             0.7777777777777778,
             "#fb9f3a"
            ],
            [
             0.8888888888888888,
             "#fdca26"
            ],
            [
             1,
             "#f0f921"
            ]
           ],
           "sequentialminus": [
            [
             0,
             "#0d0887"
            ],
            [
             0.1111111111111111,
             "#46039f"
            ],
            [
             0.2222222222222222,
             "#7201a8"
            ],
            [
             0.3333333333333333,
             "#9c179e"
            ],
            [
             0.4444444444444444,
             "#bd3786"
            ],
            [
             0.5555555555555556,
             "#d8576b"
            ],
            [
             0.6666666666666666,
             "#ed7953"
            ],
            [
             0.7777777777777778,
             "#fb9f3a"
            ],
            [
             0.8888888888888888,
             "#fdca26"
            ],
            [
             1,
             "#f0f921"
            ]
           ]
          },
          "colorway": [
           "#636efa",
           "#EF553B",
           "#00cc96",
           "#ab63fa",
           "#FFA15A",
           "#19d3f3",
           "#FF6692",
           "#B6E880",
           "#FF97FF",
           "#FECB52"
          ],
          "font": {
           "color": "#2a3f5f"
          },
          "geo": {
           "bgcolor": "white",
           "lakecolor": "white",
           "landcolor": "#E5ECF6",
           "showlakes": true,
           "showland": true,
           "subunitcolor": "white"
          },
          "hoverlabel": {
           "align": "left"
          },
          "hovermode": "closest",
          "mapbox": {
           "style": "light"
          },
          "paper_bgcolor": "white",
          "plot_bgcolor": "#E5ECF6",
          "polar": {
           "angularaxis": {
            "gridcolor": "white",
            "linecolor": "white",
            "ticks": ""
           },
           "bgcolor": "#E5ECF6",
           "radialaxis": {
            "gridcolor": "white",
            "linecolor": "white",
            "ticks": ""
           }
          },
          "scene": {
           "xaxis": {
            "backgroundcolor": "#E5ECF6",
            "gridcolor": "white",
            "gridwidth": 2,
            "linecolor": "white",
            "showbackground": true,
            "ticks": "",
            "zerolinecolor": "white"
           },
           "yaxis": {
            "backgroundcolor": "#E5ECF6",
            "gridcolor": "white",
            "gridwidth": 2,
            "linecolor": "white",
            "showbackground": true,
            "ticks": "",
            "zerolinecolor": "white"
           },
           "zaxis": {
            "backgroundcolor": "#E5ECF6",
            "gridcolor": "white",
            "gridwidth": 2,
            "linecolor": "white",
            "showbackground": true,
            "ticks": "",
            "zerolinecolor": "white"
           }
          },
          "shapedefaults": {
           "line": {
            "color": "#2a3f5f"
           }
          },
          "ternary": {
           "aaxis": {
            "gridcolor": "white",
            "linecolor": "white",
            "ticks": ""
           },
           "baxis": {
            "gridcolor": "white",
            "linecolor": "white",
            "ticks": ""
           },
           "bgcolor": "#E5ECF6",
           "caxis": {
            "gridcolor": "white",
            "linecolor": "white",
            "ticks": ""
           }
          },
          "title": {
           "x": 0.05
          },
          "xaxis": {
           "automargin": true,
           "gridcolor": "white",
           "linecolor": "white",
           "ticks": "",
           "title": {
            "standoff": 15
           },
           "zerolinecolor": "white",
           "zerolinewidth": 2
          },
          "yaxis": {
           "automargin": true,
           "gridcolor": "white",
           "linecolor": "white",
           "ticks": "",
           "title": {
            "standoff": 15
           },
           "zerolinecolor": "white",
           "zerolinewidth": 2
          }
         }
        },
        "title": {
         "text": ""
        },
        "xaxis": {
         "autorange": true,
         "range": [
          2,
          4
         ],
         "type": "log",
         "zeroline": false
        },
        "yaxis": {
         "autorange": true,
         "range": [
          -0.04605416262030886,
          0.06848878710339612
         ],
         "type": "linear",
         "zeroline": false
        }
       }
      },
      "image/png": "[encoded data removed]",
      "text/html": [
       "<div>\n",
       "        \n",
       "        \n",
       "            <div id=\"4a0eb766-5c48-4a58-9ddd-ea952fc41259\" class=\"plotly-graph-div\" style=\"height:525px; width:100%;\"></div>\n",
       "            <script type=\"text/javascript\">\n",
       "                require([\"plotly\"], function(Plotly) {\n",
       "                    window.PLOTLYENV=window.PLOTLYENV || {};\n",
       "                    \n",
       "                if (document.getElementById(\"4a0eb766-5c48-4a58-9ddd-ea952fc41259\")) {\n",
       "                    Plotly.newPlot(\n",
       "                        '4a0eb766-5c48-4a58-9ddd-ea952fc41259',\n",
       "                        [{\"mode\": \"lines\", \"name\": \"EXP3948.csv\", \"type\": \"scatter\", \"x\": [100.0, 112.2018, 125.8925, 141.2538, 158.4893, 177.8279, 199.5262, 223.8721, 251.1886, 281.8383, 316.2278, 354.8134, 398.1072, 446.6836, 501.1872, 562.3413, 630.9573, 707.9458, 794.3282, 891.2509, 1000.0, 1122.018, 1258.925, 1412.538, 1584.893, 1778.28, 1995.262, 2238.721, 2511.886, 2818.383, 3162.278, 3548.134, 3981.072, 4466.836, 5011.873, 5623.413, 6309.573, 7079.458, 7943.282, 8912.509, 10000.0], \"y\": [0.00014494579286578925, -0.0002605158903870883, -0.0001386967859180973, -0.00020437052723866996, -0.000300099275025469, -0.0003144192021370464, -0.0005078194259591506, -0.000616653874787156, -0.0005839404833533462, -0.0008331973653345268, -0.0010060526576340934, -0.0012106050324608927, -0.0016297682544060123, -0.001971522582396318, -0.002510364827512958, -0.002964424187765629, -0.0035097451154327145, -0.004198798107709528, -0.004883630496595764, -0.005693463215646624, -0.006612649690593853, -0.007645770249430018, -0.008660576779894626, -0.009770091228560212, -0.011084640529576653, -0.012014138278158573, -0.013387724538576217, -0.015089290780357823, -0.016283729788487845, -0.01782652553588754, -0.019879085743262203, -0.021692684396015134, -0.02346330273878143, -0.024883104907395613, -0.027117016637469613, -0.028910302165158372, -0.030321076959780424, -0.03316621888458813, -0.03545248998638194, -0.037500034025257756, -0.040327015134123616]}, {\"mode\": \"lines\", \"name\": \"EXPm316p2.csv\", \"type\": \"scatter\", \"x\": [100.0, 112.2018, 125.8925, 141.2538, 158.4893, 177.8279, 199.5262, 223.8721, 251.1886, 281.8383, 316.2278, 354.8134, 398.1072, 446.6836, 501.1872, 562.3413, 630.9573, 707.9458, 794.3282, 891.2509, 1000.0, 1122.018, 1258.925, 1412.538, 1584.893, 1778.28, 1995.262, 2238.721, 2511.886, 2818.383, 3162.278, 3548.134, 3981.072, 4466.836, 5011.873, 5623.413, 6309.573, 7079.458, 7943.282, 8912.509, 10000.0], \"y\": [0.06276163961721087, 0.06248606764052867, 0.06255505143269122, 0.06256131650733711, 0.06261544707273119, 0.06243440291606183, 0.06240979384316189, 0.06255772634753583, 0.06247324263579385, 0.06243662077746175, 0.06247989979662419, 0.062474937115787554, 0.062441618179967066, 0.06245441028271509, 0.0623525030526907, 0.06237405076654591, 0.062393556064882165, 0.06233759565585196, 0.06229522192168161, 0.06222539034948211, 0.06225279123070427, 0.062083727464054723, 0.06208138099292963, 0.06213981893859125, 0.06178040448612229, 0.061748819616395514, 0.06156445236516425, 0.061302364689190446, 0.06079584096389266, 0.060494538814418665, 0.0598902618734139, 0.0590161036161631, 0.058198804337360015, 0.057719513704869496, 0.05607073852917739, 0.05534540749547495, 0.053921260505865556, 0.052512543941843626, 0.04989940271832495, 0.04766546262147931, 0.0446925093909807]}],\n",
       "                        {\"template\": {\"data\": {\"bar\": [{\"error_x\": {\"color\": \"#2a3f5f\"}, \"error_y\": {\"color\": \"#2a3f5f\"}, \"marker\": {\"line\": {\"color\": \"#E5ECF6\", \"width\": 0.5}}, \"type\": \"bar\"}], \"barpolar\": [{\"marker\": {\"line\": {\"color\": \"#E5ECF6\", \"width\": 0.5}}, \"type\": \"barpolar\"}], \"carpet\": [{\"aaxis\": {\"endlinecolor\": \"#2a3f5f\", \"gridcolor\": \"white\", \"linecolor\": \"white\", \"minorgridcolor\": \"white\", \"startlinecolor\": \"#2a3f5f\"}, \"baxis\": {\"endlinecolor\": \"#2a3f5f\", \"gridcolor\": \"white\", \"linecolor\": \"white\", \"minorgridcolor\": \"white\", \"startlinecolor\": \"#2a3f5f\"}, \"type\": \"carpet\"}], \"choropleth\": [{\"colorbar\": {\"outlinewidth\": 0, \"ticks\": \"\"}, \"type\": \"choropleth\"}], \"contour\": [{\"colorbar\": {\"outlinewidth\": 0, \"ticks\": \"\"}, \"colorscale\": [[0.0, \"#0d0887\"], [0.1111111111111111, \"#46039f\"], [0.2222222222222222, \"#7201a8\"], [0.3333333333333333, \"#9c179e\"], [0.4444444444444444, \"#bd3786\"], [0.5555555555555556, \"#d8576b\"], [0.6666666666666666, \"#ed7953\"], [0.7777777777777778, \"#fb9f3a\"], [0.8888888888888888, \"#fdca26\"], [1.0, \"#f0f921\"]], \"type\": \"contour\"}], \"contourcarpet\": [{\"colorbar\": {\"outlinewidth\": 0, \"ticks\": \"\"}, \"type\": \"contourcarpet\"}], \"heatmap\": [{\"colorbar\": {\"outlinewidth\": 0, \"ticks\": \"\"}, \"colorscale\": [[0.0, \"#0d0887\"], [0.1111111111111111, \"#46039f\"], [0.2222222222222222, \"#7201a8\"], [0.3333333333333333, \"#9c179e\"], [0.4444444444444444, \"#bd3786\"], [0.5555555555555556, \"#d8576b\"], [0.6666666666666666, \"#ed7953\"], [0.7777777777777778, \"#fb9f3a\"], [0.8888888888888888, \"#fdca26\"], [1.0, \"#f0f921\"]], \"type\": \"heatmap\"}], \"heatmapgl\": [{\"colorbar\": {\"outlinewidth\": 0, \"ticks\": \"\"}, \"colorscale\": [[0.0, \"#0d0887\"], [0.1111111111111111, \"#46039f\"], [0.2222222222222222, \"#7201a8\"], [0.3333333333333333, \"#9c179e\"], [0.4444444444444444, \"#bd3786\"], [0.5555555555555556, \"#d8576b\"], [0.6666666666666666, \"#ed7953\"], [0.7777777777777778, \"#fb9f3a\"], [0.8888888888888888, \"#fdca26\"], [1.0, \"#f0f921\"]], \"type\": \"heatmapgl\"}], \"histogram\": [{\"marker\": {\"colorbar\": {\"outlinewidth\": 0, \"ticks\": \"\"}}, \"type\": \"histogram\"}], \"histogram2d\": [{\"colorbar\": {\"outlinewidth\": 0, \"ticks\": \"\"}, \"colorscale\": [[0.0, \"#0d0887\"], [0.1111111111111111, \"#46039f\"], [0.2222222222222222, \"#7201a8\"], [0.3333333333333333, \"#9c179e\"], [0.4444444444444444, \"#bd3786\"], [0.5555555555555556, \"#d8576b\"], [0.6666666666666666, \"#ed7953\"], [0.7777777777777778, \"#fb9f3a\"], [0.8888888888888888, \"#fdca26\"], [1.0, \"#f0f921\"]], \"type\": \"histogram2d\"}], \"histogram2dcontour\": [{\"colorbar\": {\"outlinewidth\": 0, \"ticks\": \"\"}, \"colorscale\": [[0.0, \"#0d0887\"], [0.1111111111111111, \"#46039f\"], [0.2222222222222222, \"#7201a8\"], [0.3333333333333333, \"#9c179e\"], [0.4444444444444444, \"#bd3786\"], [0.5555555555555556, \"#d8576b\"], [0.6666666666666666, \"#ed7953\"], [0.7777777777777778, \"#fb9f3a\"], [0.8888888888888888, \"#fdca26\"], [1.0, \"#f0f921\"]], \"type\": \"histogram2dcontour\"}], \"mesh3d\": [{\"colorbar\": {\"outlinewidth\": 0, \"ticks\": \"\"}, \"type\": \"mesh3d\"}], \"parcoords\": [{\"line\": {\"colorbar\": {\"outlinewidth\": 0, \"ticks\": \"\"}}, \"type\": \"parcoords\"}], \"pie\": [{\"automargin\": true, \"type\": \"pie\"}], \"scatter\": [{\"marker\": {\"colorbar\": {\"outlinewidth\": 0, \"ticks\": \"\"}}, \"type\": \"scatter\"}], \"scatter3d\": [{\"line\": {\"colorbar\": {\"outlinewidth\": 0, \"ticks\": \"\"}}, \"marker\": {\"colorbar\": {\"outlinewidth\": 0, \"ticks\": \"\"}}, \"type\": \"scatter3d\"}], \"scattercarpet\": [{\"marker\": {\"colorbar\": {\"outlinewidth\": 0, \"ticks\": \"\"}}, \"type\": \"scattercarpet\"}], \"scattergeo\": [{\"marker\": {\"colorbar\": {\"outlinewidth\": 0, \"ticks\": \"\"}}, \"type\": \"scattergeo\"}], \"scattergl\": [{\"marker\": {\"colorbar\": {\"outlinewidth\": 0, \"ticks\": \"\"}}, \"type\": \"scattergl\"}], \"scattermapbox\": [{\"marker\": {\"colorbar\": {\"outlinewidth\": 0, \"ticks\": \"\"}}, \"type\": \"scattermapbox\"}], \"scatterpolar\": [{\"marker\": {\"colorbar\": {\"outlinewidth\": 0, \"ticks\": \"\"}}, \"type\": \"scatterpolar\"}], \"scatterpolargl\": [{\"marker\": {\"colorbar\": {\"outlinewidth\": 0, \"ticks\": \"\"}}, \"type\": \"scatterpolargl\"}], \"scatterternary\": [{\"marker\": {\"colorbar\": {\"outlinewidth\": 0, \"ticks\": \"\"}}, \"type\": \"scatterternary\"}], \"surface\": [{\"colorbar\": {\"outlinewidth\": 0, \"ticks\": \"\"}, \"colorscale\": [[0.0, \"#0d0887\"], [0.1111111111111111, \"#46039f\"], [0.2222222222222222, \"#7201a8\"], [0.3333333333333333, \"#9c179e\"], [0.4444444444444444, \"#bd3786\"], [0.5555555555555556, \"#d8576b\"], [0.6666666666666666, \"#ed7953\"], [0.7777777777777778, \"#fb9f3a\"], [0.8888888888888888, \"#fdca26\"], [1.0, \"#f0f921\"]], \"type\": \"surface\"}], \"table\": [{\"cells\": {\"fill\": {\"color\": \"#EBF0F8\"}, \"line\": {\"color\": \"white\"}}, \"header\": {\"fill\": {\"color\": \"#C8D4E3\"}, \"line\": {\"color\": \"white\"}}, \"type\": \"table\"}]}, \"layout\": {\"annotationdefaults\": {\"arrowcolor\": \"#2a3f5f\", \"arrowhead\": 0, \"arrowwidth\": 1}, \"coloraxis\": {\"colorbar\": {\"outlinewidth\": 0, \"ticks\": \"\"}}, \"colorscale\": {\"diverging\": [[0, \"#8e0152\"], [0.1, \"#c51b7d\"], [0.2, \"#de77ae\"], [0.3, \"#f1b6da\"], [0.4, \"#fde0ef\"], [0.5, \"#f7f7f7\"], [0.6, \"#e6f5d0\"], [0.7, \"#b8e186\"], [0.8, \"#7fbc41\"], [0.9, \"#4d9221\"], [1, \"#276419\"]], \"sequential\": [[0.0, \"#0d0887\"], [0.1111111111111111, \"#46039f\"], [0.2222222222222222, \"#7201a8\"], [0.3333333333333333, \"#9c179e\"], [0.4444444444444444, \"#bd3786\"], [0.5555555555555556, \"#d8576b\"], [0.6666666666666666, \"#ed7953\"], [0.7777777777777778, \"#fb9f3a\"], [0.8888888888888888, \"#fdca26\"], [1.0, \"#f0f921\"]], \"sequentialminus\": [[0.0, \"#0d0887\"], [0.1111111111111111, \"#46039f\"], [0.2222222222222222, \"#7201a8\"], [0.3333333333333333, \"#9c179e\"], [0.4444444444444444, \"#bd3786\"], [0.5555555555555556, \"#d8576b\"], [0.6666666666666666, \"#ed7953\"], [0.7777777777777778, \"#fb9f3a\"], [0.8888888888888888, \"#fdca26\"], [1.0, \"#f0f921\"]]}, \"colorway\": [\"#636efa\", \"#EF553B\", \"#00cc96\", \"#ab63fa\", \"#FFA15A\", \"#19d3f3\", \"#FF6692\", \"#B6E880\", \"#FF97FF\", \"#FECB52\"], \"font\": {\"color\": \"#2a3f5f\"}, \"geo\": {\"bgcolor\": \"white\", \"lakecolor\": \"white\", \"landcolor\": \"#E5ECF6\", \"showlakes\": true, \"showland\": true, \"subunitcolor\": \"white\"}, \"hoverlabel\": {\"align\": \"left\"}, \"hovermode\": \"closest\", \"mapbox\": {\"style\": \"light\"}, \"paper_bgcolor\": \"white\", \"plot_bgcolor\": \"#E5ECF6\", \"polar\": {\"angularaxis\": {\"gridcolor\": \"white\", \"linecolor\": \"white\", \"ticks\": \"\"}, \"bgcolor\": \"#E5ECF6\", \"radialaxis\": {\"gridcolor\": \"white\", \"linecolor\": \"white\", \"ticks\": \"\"}}, \"scene\": {\"xaxis\": {\"backgroundcolor\": \"#E5ECF6\", \"gridcolor\": \"white\", \"gridwidth\": 2, \"linecolor\": \"white\", \"showbackground\": true, \"ticks\": \"\", \"zerolinecolor\": \"white\"}, \"yaxis\": {\"backgroundcolor\": \"#E5ECF6\", \"gridcolor\": \"white\", \"gridwidth\": 2, \"linecolor\": \"white\", \"showbackground\": true, \"ticks\": \"\", \"zerolinecolor\": \"white\"}, \"zaxis\": {\"backgroundcolor\": \"#E5ECF6\", \"gridcolor\": \"white\", \"gridwidth\": 2, \"linecolor\": \"white\", \"showbackground\": true, \"ticks\": \"\", \"zerolinecolor\": \"white\"}}, \"shapedefaults\": {\"line\": {\"color\": \"#2a3f5f\"}}, \"ternary\": {\"aaxis\": {\"gridcolor\": \"white\", \"linecolor\": \"white\", \"ticks\": \"\"}, \"baxis\": {\"gridcolor\": \"white\", \"linecolor\": \"white\", \"ticks\": \"\"}, \"bgcolor\": \"#E5ECF6\", \"caxis\": {\"gridcolor\": \"white\", \"linecolor\": \"white\", \"ticks\": \"\"}}, \"title\": {\"x\": 0.05}, \"xaxis\": {\"automargin\": true, \"gridcolor\": \"white\", \"linecolor\": \"white\", \"ticks\": \"\", \"title\": {\"standoff\": 15}, \"zerolinecolor\": \"white\", \"zerolinewidth\": 2}, \"yaxis\": {\"automargin\": true, \"gridcolor\": \"white\", \"linecolor\": \"white\", \"ticks\": \"\", \"title\": {\"standoff\": 15}, \"zerolinecolor\": \"white\", \"zerolinewidth\": 2}}}, \"title\": {\"text\": \"\"}, \"xaxis\": {\"autorange\": true, \"type\": \"log\", \"zeroline\": false}, \"yaxis\": {\"autorange\": true, \"type\": \"linear\", \"zeroline\": false}},\n",
       "                        {\"responsive\": true}\n",
       "                    ).then(function(){\n",
       "                            \n",
       "var gd = document.getElementById('4a0eb766-5c48-4a58-9ddd-ea952fc41259');\n",
       "var x = new MutationObserver(function (mutations, observer) {{\n",
       "        var display = window.getComputedStyle(gd).display;\n",
       "        if (!display || display === 'none') {{\n",
       "            console.log([gd, 'removed!']);\n",
       "            Plotly.purge(gd);\n",
       "            observer.disconnect();\n",
       "        }}\n",
       "}});\n",
       "\n",
       "// Listen for the removal of the full notebook cells\n",
       "var notebookContainer = gd.closest('#notebook-container');\n",
       "if (notebookContainer) {{\n",
       "    x.observe(notebookContainer, {childList: true});\n",
       "}}\n",
       "\n",
       "// Listen for the clearing of the current output cell\n",
       "var outputEl = gd.closest('.output');\n",
       "if (outputEl) {{\n",
       "    x.observe(outputEl, {childList: true});\n",
       "}}\n",
       "\n",
       "                        })\n",
       "                };\n",
       "                });\n",
       "            </script>\n",
       "        </div>"
      ]
     },
     "metadata": {},
     "output_type": "display_data"
    }
   ],
   "source": [
    "cn.plt.ims(f,datacorr)"
   ]
  },
  {
   "cell_type": "code",
   "execution_count": 5,
   "metadata": {},
   "outputs": [
    {
     "data": {
      "application/vnd.plotly.v1+json": {
       "config": {
        "linkText": "Export to plot.ly",
        "plotlyServerURL": "https://plot.ly",
        "showLink": false
       },
       "data": [
        {
         "mode": "lines",
         "name": "EXP3948.csv",
         "type": "scatter",
         "x": [
          100,
          112.2018,
          125.8925,
          141.2538,
          158.4893,
          177.8279,
          199.5262,
          223.8721,
          251.1886,
          281.8383,
          316.2278,
          354.8134,
          398.1072,
          446.6836,
          501.1872,
          562.3413,
          630.9573,
          707.9458,
          794.3282,
          891.2509,
          1000,
          1122.018,
          1258.925,
          1412.538,
          1584.893,
          1778.28,
          1995.262,
          2238.721,
          2511.886,
          2818.383,
          3162.278,
          3548.134,
          3981.072,
          4466.836,
          5011.873,
          5623.413,
          6309.573,
          7079.458,
          7943.282,
          8912.509,
          10000
         ],
         "y": [
          -0.0873929864156157,
          -0.07768610515144767,
          -0.06807870184220562,
          -0.059989352698555085,
          -0.05303884023442523,
          -0.04641606237213519,
          -0.04083909045670285,
          -0.03555711339626566,
          -0.030759032641162733,
          -0.026565908923517713,
          -0.02240902382904482,
          -0.018810901025568125,
          -0.015523460058172409,
          -0.01245793205945276,
          -0.00973138519635474,
          -0.006979393101422578,
          -0.00437817794535758,
          -0.0021339087443965014,
          0.00019685467528900312,
          0.002214228969011235,
          0.004128180447190324,
          0.006006306256970039,
          0.007612106244862381,
          0.009208901177446214,
          0.01068521790428731,
          0.012133767782592314,
          0.013537843354914989,
          0.014798036127540538,
          0.016176452919449868,
          0.017346589466452164,
          0.0184762762577153,
          0.01962492696021979,
          0.0207302843704523,
          0.021628786169562784,
          0.022581961736849548,
          0.023337045540674974,
          0.023867954582300448,
          0.024646910156403464,
          0.025162344519695803,
          0.025570673409331,
          0.026074448617219765
         ]
        },
        {
         "mode": "lines",
         "name": "EXPm316p2.csv",
         "type": "scatter",
         "x": [
          100,
          112.2018,
          125.8925,
          141.2538,
          158.4893,
          177.8279,
          199.5262,
          223.8721,
          251.1886,
          281.8383,
          316.2278,
          354.8134,
          398.1072,
          446.6836,
          501.1872,
          562.3413,
          630.9573,
          707.9458,
          794.3282,
          891.2509,
          1000,
          1122.018,
          1258.925,
          1412.538,
          1584.893,
          1778.28,
          1995.262,
          2238.721,
          2511.886,
          2818.383,
          3162.278,
          3548.134,
          3981.072,
          4466.836,
          5011.873,
          5623.413,
          6309.573,
          7079.458,
          7943.282,
          8912.509,
          10000
         ],
         "y": [
          -0.0458897162503365,
          -0.04091660663147846,
          -0.03609576962815604,
          -0.03155848483942676,
          -0.027743759098751732,
          -0.02472542407818203,
          -0.021828266311488743,
          -0.019369918289899153,
          -0.01708441246013764,
          -0.015108901100760335,
          -0.012919378794015073,
          -0.011396988985269932,
          -0.009946317698364338,
          -0.00835717823425051,
          -0.0072089453568071555,
          -0.00593240136628764,
          -0.004578062975188526,
          -0.003501234911206871,
          -0.0023745755357406917,
          -0.0013617416064464738,
          -0.00033498233769362203,
          0.0007440102366561013,
          0.0017919177015249664,
          0.002769801254728158,
          0.003902970761360792,
          0.004931902532088231,
          0.0062025940967057845,
          0.007429722107590775,
          0.008832728649488917,
          0.0102108991148294,
          0.011717190052011545,
          0.013331306201714643,
          0.015142748576045598,
          0.016925047180744494,
          0.018741310149380123,
          0.02059126933585221,
          0.02250766021089785,
          0.02434801777029886,
          0.026383713894961722,
          0.028265961069813352,
          0.030228135867964495
         ]
        }
       ],
       "layout": {
        "autosize": true,
        "template": {
         "data": {
          "bar": [
           {
            "error_x": {
             "color": "#2a3f5f"
            },
            "error_y": {
             "color": "#2a3f5f"
            },
            "marker": {
             "line": {
              "color": "#E5ECF6",
              "width": 0.5
             }
            },
            "type": "bar"
           }
          ],
          "barpolar": [
           {
            "marker": {
             "line": {
              "color": "#E5ECF6",
              "width": 0.5
             }
            },
            "type": "barpolar"
           }
          ],
          "carpet": [
           {
            "aaxis": {
             "endlinecolor": "#2a3f5f",
             "gridcolor": "white",
             "linecolor": "white",
             "minorgridcolor": "white",
             "startlinecolor": "#2a3f5f"
            },
            "baxis": {
             "endlinecolor": "#2a3f5f",
             "gridcolor": "white",
             "linecolor": "white",
             "minorgridcolor": "white",
             "startlinecolor": "#2a3f5f"
            },
            "type": "carpet"
           }
          ],
          "choropleth": [
           {
            "colorbar": {
             "outlinewidth": 0,
             "ticks": ""
            },
            "type": "choropleth"
           }
          ],
          "contour": [
           {
            "colorbar": {
             "outlinewidth": 0,
             "ticks": ""
            },
            "colorscale": [
             [
              0,
              "#0d0887"
             ],
             [
              0.1111111111111111,
              "#46039f"
             ],
             [
              0.2222222222222222,
              "#7201a8"
             ],
             [
              0.3333333333333333,
              "#9c179e"
             ],
             [
              0.4444444444444444,
              "#bd3786"
             ],
             [
              0.5555555555555556,
              "#d8576b"
             ],
             [
              0.6666666666666666,
              "#ed7953"
             ],
             [
              0.7777777777777778,
              "#fb9f3a"
             ],
             [
              0.8888888888888888,
              "#fdca26"
             ],
             [
              1,
              "#f0f921"
             ]
            ],
            "type": "contour"
           }
          ],
          "contourcarpet": [
           {
            "colorbar": {
             "outlinewidth": 0,
             "ticks": ""
            },
            "type": "contourcarpet"
           }
          ],
          "heatmap": [
           {
            "colorbar": {
             "outlinewidth": 0,
             "ticks": ""
            },
            "colorscale": [
             [
              0,
              "#0d0887"
             ],
             [
              0.1111111111111111,
              "#46039f"
             ],
             [
              0.2222222222222222,
              "#7201a8"
             ],
             [
              0.3333333333333333,
              "#9c179e"
             ],
             [
              0.4444444444444444,
              "#bd3786"
             ],
             [
              0.5555555555555556,
              "#d8576b"
             ],
             [
              0.6666666666666666,
              "#ed7953"
             ],
             [
              0.7777777777777778,
              "#fb9f3a"
             ],
             [
              0.8888888888888888,
              "#fdca26"
             ],
             [
              1,
              "#f0f921"
             ]
            ],
            "type": "heatmap"
           }
          ],
          "heatmapgl": [
           {
            "colorbar": {
             "outlinewidth": 0,
             "ticks": ""
            },
            "colorscale": [
             [
              0,
              "#0d0887"
             ],
             [
              0.1111111111111111,
              "#46039f"
             ],
             [
              0.2222222222222222,
              "#7201a8"
             ],
             [
              0.3333333333333333,
              "#9c179e"
             ],
             [
              0.4444444444444444,
              "#bd3786"
             ],
             [
              0.5555555555555556,
              "#d8576b"
             ],
             [
              0.6666666666666666,
              "#ed7953"
             ],
             [
              0.7777777777777778,
              "#fb9f3a"
             ],
             [
              0.8888888888888888,
              "#fdca26"
             ],
             [
              1,
              "#f0f921"
             ]
            ],
            "type": "heatmapgl"
           }
          ],
          "histogram": [
           {
            "marker": {
             "colorbar": {
              "outlinewidth": 0,
              "ticks": ""
             }
            },
            "type": "histogram"
           }
          ],
          "histogram2d": [
           {
            "colorbar": {
             "outlinewidth": 0,
             "ticks": ""
            },
            "colorscale": [
             [
              0,
              "#0d0887"
             ],
             [
              0.1111111111111111,
              "#46039f"
             ],
             [
              0.2222222222222222,
              "#7201a8"
             ],
             [
              0.3333333333333333,
              "#9c179e"
             ],
             [
              0.4444444444444444,
              "#bd3786"
             ],
             [
              0.5555555555555556,
              "#d8576b"
             ],
             [
              0.6666666666666666,
              "#ed7953"
             ],
             [
              0.7777777777777778,
              "#fb9f3a"
             ],
             [
              0.8888888888888888,
              "#fdca26"
             ],
             [
              1,
              "#f0f921"
             ]
            ],
            "type": "histogram2d"
           }
          ],
          "histogram2dcontour": [
           {
            "colorbar": {
             "outlinewidth": 0,
             "ticks": ""
            },
            "colorscale": [
             [
              0,
              "#0d0887"
             ],
             [
              0.1111111111111111,
              "#46039f"
             ],
             [
              0.2222222222222222,
              "#7201a8"
             ],
             [
              0.3333333333333333,
              "#9c179e"
             ],
             [
              0.4444444444444444,
              "#bd3786"
             ],
             [
              0.5555555555555556,
              "#d8576b"
             ],
             [
              0.6666666666666666,
              "#ed7953"
             ],
             [
              0.7777777777777778,
              "#fb9f3a"
             ],
             [
              0.8888888888888888,
              "#fdca26"
             ],
             [
              1,
              "#f0f921"
             ]
            ],
            "type": "histogram2dcontour"
           }
          ],
          "mesh3d": [
           {
            "colorbar": {
             "outlinewidth": 0,
             "ticks": ""
            },
            "type": "mesh3d"
           }
          ],
          "parcoords": [
           {
            "line": {
             "colorbar": {
              "outlinewidth": 0,
              "ticks": ""
             }
            },
            "type": "parcoords"
           }
          ],
          "pie": [
           {
            "automargin": true,
            "type": "pie"
           }
          ],
          "scatter": [
           {
            "marker": {
             "colorbar": {
              "outlinewidth": 0,
              "ticks": ""
             }
            },
            "type": "scatter"
           }
          ],
          "scatter3d": [
           {
            "line": {
             "colorbar": {
              "outlinewidth": 0,
              "ticks": ""
             }
            },
            "marker": {
             "colorbar": {
              "outlinewidth": 0,
              "ticks": ""
             }
            },
            "type": "scatter3d"
           }
          ],
          "scattercarpet": [
           {
            "marker": {
             "colorbar": {
              "outlinewidth": 0,
              "ticks": ""
             }
            },
            "type": "scattercarpet"
           }
          ],
          "scattergeo": [
           {
            "marker": {
             "colorbar": {
              "outlinewidth": 0,
              "ticks": ""
             }
            },
            "type": "scattergeo"
           }
          ],
          "scattergl": [
           {
            "marker": {
             "colorbar": {
              "outlinewidth": 0,
              "ticks": ""
             }
            },
            "type": "scattergl"
           }
          ],
          "scattermapbox": [
           {
            "marker": {
             "colorbar": {
              "outlinewidth": 0,
              "ticks": ""
             }
            },
            "type": "scattermapbox"
           }
          ],
          "scatterpolar": [
           {
            "marker": {
             "colorbar": {
              "outlinewidth": 0,
              "ticks": ""
             }
            },
            "type": "scatterpolar"
           }
          ],
          "scatterpolargl": [
           {
            "marker": {
             "colorbar": {
              "outlinewidth": 0,
              "ticks": ""
             }
            },
            "type": "scatterpolargl"
           }
          ],
          "scatterternary": [
           {
            "marker": {
             "colorbar": {
              "outlinewidth": 0,
              "ticks": ""
             }
            },
            "type": "scatterternary"
           }
          ],
          "surface": [
           {
            "colorbar": {
             "outlinewidth": 0,
             "ticks": ""
            },
            "colorscale": [
             [
              0,
              "#0d0887"
             ],
             [
              0.1111111111111111,
              "#46039f"
             ],
             [
              0.2222222222222222,
              "#7201a8"
             ],
             [
              0.3333333333333333,
              "#9c179e"
             ],
             [
              0.4444444444444444,
              "#bd3786"
             ],
             [
              0.5555555555555556,
              "#d8576b"
             ],
             [
              0.6666666666666666,
              "#ed7953"
             ],
             [
              0.7777777777777778,
              "#fb9f3a"
             ],
             [
              0.8888888888888888,
              "#fdca26"
             ],
             [
              1,
              "#f0f921"
             ]
            ],
            "type": "surface"
           }
          ],
          "table": [
           {
            "cells": {
             "fill": {
              "color": "#EBF0F8"
             },
             "line": {
              "color": "white"
             }
            },
            "header": {
             "fill": {
              "color": "#C8D4E3"
             },
             "line": {
              "color": "white"
             }
            },
            "type": "table"
           }
          ]
         },
         "layout": {
          "annotationdefaults": {
           "arrowcolor": "#2a3f5f",
           "arrowhead": 0,
           "arrowwidth": 1
          },
          "coloraxis": {
           "colorbar": {
            "outlinewidth": 0,
            "ticks": ""
           }
          },
          "colorscale": {
           "diverging": [
            [
             0,
             "#8e0152"
            ],
            [
             0.1,
             "#c51b7d"
            ],
            [
             0.2,
             "#de77ae"
            ],
            [
             0.3,
             "#f1b6da"
            ],
            [
             0.4,
             "#fde0ef"
            ],
            [
             0.5,
             "#f7f7f7"
            ],
            [
             0.6,
             "#e6f5d0"
            ],
            [
             0.7,
             "#b8e186"
            ],
            [
             0.8,
             "#7fbc41"
            ],
            [
             0.9,
             "#4d9221"
            ],
            [
             1,
             "#276419"
            ]
           ],
           "sequential": [
            [
             0,
             "#0d0887"
            ],
            [
             0.1111111111111111,
             "#46039f"
            ],
            [
             0.2222222222222222,
             "#7201a8"
            ],
            [
             0.3333333333333333,
             "#9c179e"
            ],
            [
             0.4444444444444444,
             "#bd3786"
            ],
            [
             0.5555555555555556,
             "#d8576b"
            ],
            [
             0.6666666666666666,
             "#ed7953"
            ],
            [
             0.7777777777777778,
             "#fb9f3a"
            ],
            [
             0.8888888888888888,
             "#fdca26"
            ],
            [
             1,
             "#f0f921"
            ]
           ],
           "sequentialminus": [
            [
             0,
             "#0d0887"
            ],
            [
             0.1111111111111111,
             "#46039f"
            ],
            [
             0.2222222222222222,
             "#7201a8"
            ],
            [
             0.3333333333333333,
             "#9c179e"
            ],
            [
             0.4444444444444444,
             "#bd3786"
            ],
            [
             0.5555555555555556,
             "#d8576b"
            ],
            [
             0.6666666666666666,
             "#ed7953"
            ],
            [
             0.7777777777777778,
             "#fb9f3a"
            ],
            [
             0.8888888888888888,
             "#fdca26"
            ],
            [
             1,
             "#f0f921"
            ]
           ]
          },
          "colorway": [
           "#636efa",
           "#EF553B",
           "#00cc96",
           "#ab63fa",
           "#FFA15A",
           "#19d3f3",
           "#FF6692",
           "#B6E880",
           "#FF97FF",
           "#FECB52"
          ],
          "font": {
           "color": "#2a3f5f"
          },
          "geo": {
           "bgcolor": "white",
           "lakecolor": "white",
           "landcolor": "#E5ECF6",
           "showlakes": true,
           "showland": true,
           "subunitcolor": "white"
          },
          "hoverlabel": {
           "align": "left"
          },
          "hovermode": "closest",
          "mapbox": {
           "style": "light"
          },
          "paper_bgcolor": "white",
          "plot_bgcolor": "#E5ECF6",
          "polar": {
           "angularaxis": {
            "gridcolor": "white",
            "linecolor": "white",
            "ticks": ""
           },
           "bgcolor": "#E5ECF6",
           "radialaxis": {
            "gridcolor": "white",
            "linecolor": "white",
            "ticks": ""
           }
          },
          "scene": {
           "xaxis": {
            "backgroundcolor": "#E5ECF6",
            "gridcolor": "white",
            "gridwidth": 2,
            "linecolor": "white",
            "showbackground": true,
            "ticks": "",
            "zerolinecolor": "white"
           },
           "yaxis": {
            "backgroundcolor": "#E5ECF6",
            "gridcolor": "white",
            "gridwidth": 2,
            "linecolor": "white",
            "showbackground": true,
            "ticks": "",
            "zerolinecolor": "white"
           },
           "zaxis": {
            "backgroundcolor": "#E5ECF6",
            "gridcolor": "white",
            "gridwidth": 2,
            "linecolor": "white",
            "showbackground": true,
            "ticks": "",
            "zerolinecolor": "white"
           }
          },
          "shapedefaults": {
           "line": {
            "color": "#2a3f5f"
           }
          },
          "ternary": {
           "aaxis": {
            "gridcolor": "white",
            "linecolor": "white",
            "ticks": ""
           },
           "baxis": {
            "gridcolor": "white",
            "linecolor": "white",
            "ticks": ""
           },
           "bgcolor": "#E5ECF6",
           "caxis": {
            "gridcolor": "white",
            "linecolor": "white",
            "ticks": ""
           }
          },
          "title": {
           "x": 0.05
          },
          "xaxis": {
           "automargin": true,
           "gridcolor": "white",
           "linecolor": "white",
           "ticks": "",
           "title": {
            "standoff": 15
           },
           "zerolinecolor": "white",
           "zerolinewidth": 2
          },
          "yaxis": {
           "automargin": true,
           "gridcolor": "white",
           "linecolor": "white",
           "ticks": "",
           "title": {
            "standoff": 15
           },
           "zerolinecolor": "white",
           "zerolinewidth": 2
          }
         }
        },
        "title": {
         "text": ""
        },
        "xaxis": {
         "autorange": true,
         "range": [
          2,
          4
         ],
         "type": "log",
         "zeroline": false
        },
        "yaxis": {
         "autorange": true,
         "range": [
          -0.09392749320914794,
          0.03676264266149673
         ],
         "type": "linear",
         "zeroline": false
        }
       }
      },
      "image/png": "[encoded data removed]",
      "text/html": [
       "<div>\n",
       "        \n",
       "        \n",
       "            <div id=\"09014680-7926-4a00-9ee2-d61cf5091545\" class=\"plotly-graph-div\" style=\"height:525px; width:100%;\"></div>\n",
       "            <script type=\"text/javascript\">\n",
       "                require([\"plotly\"], function(Plotly) {\n",
       "                    window.PLOTLYENV=window.PLOTLYENV || {};\n",
       "                    \n",
       "                if (document.getElementById(\"09014680-7926-4a00-9ee2-d61cf5091545\")) {\n",
       "                    Plotly.newPlot(\n",
       "                        '09014680-7926-4a00-9ee2-d61cf5091545',\n",
       "                        [{\"mode\": \"lines\", \"name\": \"EXP3948.csv\", \"type\": \"scatter\", \"x\": [100.0, 112.2018, 125.8925, 141.2538, 158.4893, 177.8279, 199.5262, 223.8721, 251.1886, 281.8383, 316.2278, 354.8134, 398.1072, 446.6836, 501.1872, 562.3413, 630.9573, 707.9458, 794.3282, 891.2509, 1000.0, 1122.018, 1258.925, 1412.538, 1584.893, 1778.28, 1995.262, 2238.721, 2511.886, 2818.383, 3162.278, 3548.134, 3981.072, 4466.836, 5011.873, 5623.413, 6309.573, 7079.458, 7943.282, 8912.509, 10000.0], \"y\": [-0.0873929864156157, -0.07768610515144767, -0.06807870184220562, -0.059989352698555085, -0.05303884023442523, -0.04641606237213519, -0.04083909045670285, -0.03555711339626566, -0.030759032641162733, -0.026565908923517713, -0.02240902382904482, -0.018810901025568125, -0.015523460058172409, -0.01245793205945276, -0.00973138519635474, -0.006979393101422578, -0.00437817794535758, -0.0021339087443965014, 0.00019685467528900312, 0.002214228969011235, 0.004128180447190324, 0.006006306256970039, 0.007612106244862381, 0.009208901177446214, 0.01068521790428731, 0.012133767782592314, 0.013537843354914989, 0.014798036127540538, 0.016176452919449868, 0.017346589466452164, 0.0184762762577153, 0.01962492696021979, 0.0207302843704523, 0.021628786169562784, 0.022581961736849548, 0.023337045540674974, 0.023867954582300448, 0.024646910156403464, 0.025162344519695803, 0.025570673409331, 0.026074448617219765]}, {\"mode\": \"lines\", \"name\": \"EXPm316p2.csv\", \"type\": \"scatter\", \"x\": [100.0, 112.2018, 125.8925, 141.2538, 158.4893, 177.8279, 199.5262, 223.8721, 251.1886, 281.8383, 316.2278, 354.8134, 398.1072, 446.6836, 501.1872, 562.3413, 630.9573, 707.9458, 794.3282, 891.2509, 1000.0, 1122.018, 1258.925, 1412.538, 1584.893, 1778.28, 1995.262, 2238.721, 2511.886, 2818.383, 3162.278, 3548.134, 3981.072, 4466.836, 5011.873, 5623.413, 6309.573, 7079.458, 7943.282, 8912.509, 10000.0], \"y\": [-0.0458897162503365, -0.04091660663147846, -0.03609576962815604, -0.03155848483942676, -0.027743759098751732, -0.02472542407818203, -0.021828266311488743, -0.019369918289899153, -0.01708441246013764, -0.015108901100760335, -0.012919378794015073, -0.011396988985269932, -0.009946317698364338, -0.00835717823425051, -0.0072089453568071555, -0.00593240136628764, -0.004578062975188526, -0.003501234911206871, -0.0023745755357406917, -0.0013617416064464738, -0.00033498233769362203, 0.0007440102366561013, 0.0017919177015249664, 0.002769801254728158, 0.003902970761360792, 0.004931902532088231, 0.0062025940967057845, 0.007429722107590775, 0.008832728649488917, 0.0102108991148294, 0.011717190052011545, 0.013331306201714643, 0.015142748576045598, 0.016925047180744494, 0.018741310149380123, 0.02059126933585221, 0.02250766021089785, 0.02434801777029886, 0.026383713894961722, 0.028265961069813352, 0.030228135867964495]}],\n",
       "                        {\"template\": {\"data\": {\"bar\": [{\"error_x\": {\"color\": \"#2a3f5f\"}, \"error_y\": {\"color\": \"#2a3f5f\"}, \"marker\": {\"line\": {\"color\": \"#E5ECF6\", \"width\": 0.5}}, \"type\": \"bar\"}], \"barpolar\": [{\"marker\": {\"line\": {\"color\": \"#E5ECF6\", \"width\": 0.5}}, \"type\": \"barpolar\"}], \"carpet\": [{\"aaxis\": {\"endlinecolor\": \"#2a3f5f\", \"gridcolor\": \"white\", \"linecolor\": \"white\", \"minorgridcolor\": \"white\", \"startlinecolor\": \"#2a3f5f\"}, \"baxis\": {\"endlinecolor\": \"#2a3f5f\", \"gridcolor\": \"white\", \"linecolor\": \"white\", \"minorgridcolor\": \"white\", \"startlinecolor\": \"#2a3f5f\"}, \"type\": \"carpet\"}], \"choropleth\": [{\"colorbar\": {\"outlinewidth\": 0, \"ticks\": \"\"}, \"type\": \"choropleth\"}], \"contour\": [{\"colorbar\": {\"outlinewidth\": 0, \"ticks\": \"\"}, \"colorscale\": [[0.0, \"#0d0887\"], [0.1111111111111111, \"#46039f\"], [0.2222222222222222, \"#7201a8\"], [0.3333333333333333, \"#9c179e\"], [0.4444444444444444, \"#bd3786\"], [0.5555555555555556, \"#d8576b\"], [0.6666666666666666, \"#ed7953\"], [0.7777777777777778, \"#fb9f3a\"], [0.8888888888888888, \"#fdca26\"], [1.0, \"#f0f921\"]], \"type\": \"contour\"}], \"contourcarpet\": [{\"colorbar\": {\"outlinewidth\": 0, \"ticks\": \"\"}, \"type\": \"contourcarpet\"}], \"heatmap\": [{\"colorbar\": {\"outlinewidth\": 0, \"ticks\": \"\"}, \"colorscale\": [[0.0, \"#0d0887\"], [0.1111111111111111, \"#46039f\"], [0.2222222222222222, \"#7201a8\"], [0.3333333333333333, \"#9c179e\"], [0.4444444444444444, \"#bd3786\"], [0.5555555555555556, \"#d8576b\"], [0.6666666666666666, \"#ed7953\"], [0.7777777777777778, \"#fb9f3a\"], [0.8888888888888888, \"#fdca26\"], [1.0, \"#f0f921\"]], \"type\": \"heatmap\"}], \"heatmapgl\": [{\"colorbar\": {\"outlinewidth\": 0, \"ticks\": \"\"}, \"colorscale\": [[0.0, \"#0d0887\"], [0.1111111111111111, \"#46039f\"], [0.2222222222222222, \"#7201a8\"], [0.3333333333333333, \"#9c179e\"], [0.4444444444444444, \"#bd3786\"], [0.5555555555555556, \"#d8576b\"], [0.6666666666666666, \"#ed7953\"], [0.7777777777777778, \"#fb9f3a\"], [0.8888888888888888, \"#fdca26\"], [1.0, \"#f0f921\"]], \"type\": \"heatmapgl\"}], \"histogram\": [{\"marker\": {\"colorbar\": {\"outlinewidth\": 0, \"ticks\": \"\"}}, \"type\": \"histogram\"}], \"histogram2d\": [{\"colorbar\": {\"outlinewidth\": 0, \"ticks\": \"\"}, \"colorscale\": [[0.0, \"#0d0887\"], [0.1111111111111111, \"#46039f\"], [0.2222222222222222, \"#7201a8\"], [0.3333333333333333, \"#9c179e\"], [0.4444444444444444, \"#bd3786\"], [0.5555555555555556, \"#d8576b\"], [0.6666666666666666, \"#ed7953\"], [0.7777777777777778, \"#fb9f3a\"], [0.8888888888888888, \"#fdca26\"], [1.0, \"#f0f921\"]], \"type\": \"histogram2d\"}], \"histogram2dcontour\": [{\"colorbar\": {\"outlinewidth\": 0, \"ticks\": \"\"}, \"colorscale\": [[0.0, \"#0d0887\"], [0.1111111111111111, \"#46039f\"], [0.2222222222222222, \"#7201a8\"], [0.3333333333333333, \"#9c179e\"], [0.4444444444444444, \"#bd3786\"], [0.5555555555555556, \"#d8576b\"], [0.6666666666666666, \"#ed7953\"], [0.7777777777777778, \"#fb9f3a\"], [0.8888888888888888, \"#fdca26\"], [1.0, \"#f0f921\"]], \"type\": \"histogram2dcontour\"}], \"mesh3d\": [{\"colorbar\": {\"outlinewidth\": 0, \"ticks\": \"\"}, \"type\": \"mesh3d\"}], \"parcoords\": [{\"line\": {\"colorbar\": {\"outlinewidth\": 0, \"ticks\": \"\"}}, \"type\": \"parcoords\"}], \"pie\": [{\"automargin\": true, \"type\": \"pie\"}], \"scatter\": [{\"marker\": {\"colorbar\": {\"outlinewidth\": 0, \"ticks\": \"\"}}, \"type\": \"scatter\"}], \"scatter3d\": [{\"line\": {\"colorbar\": {\"outlinewidth\": 0, \"ticks\": \"\"}}, \"marker\": {\"colorbar\": {\"outlinewidth\": 0, \"ticks\": \"\"}}, \"type\": \"scatter3d\"}], \"scattercarpet\": [{\"marker\": {\"colorbar\": {\"outlinewidth\": 0, \"ticks\": \"\"}}, \"type\": \"scattercarpet\"}], \"scattergeo\": [{\"marker\": {\"colorbar\": {\"outlinewidth\": 0, \"ticks\": \"\"}}, \"type\": \"scattergeo\"}], \"scattergl\": [{\"marker\": {\"colorbar\": {\"outlinewidth\": 0, \"ticks\": \"\"}}, \"type\": \"scattergl\"}], \"scattermapbox\": [{\"marker\": {\"colorbar\": {\"outlinewidth\": 0, \"ticks\": \"\"}}, \"type\": \"scattermapbox\"}], \"scatterpolar\": [{\"marker\": {\"colorbar\": {\"outlinewidth\": 0, \"ticks\": \"\"}}, \"type\": \"scatterpolar\"}], \"scatterpolargl\": [{\"marker\": {\"colorbar\": {\"outlinewidth\": 0, \"ticks\": \"\"}}, \"type\": \"scatterpolargl\"}], \"scatterternary\": [{\"marker\": {\"colorbar\": {\"outlinewidth\": 0, \"ticks\": \"\"}}, \"type\": \"scatterternary\"}], \"surface\": [{\"colorbar\": {\"outlinewidth\": 0, \"ticks\": \"\"}, \"colorscale\": [[0.0, \"#0d0887\"], [0.1111111111111111, \"#46039f\"], [0.2222222222222222, \"#7201a8\"], [0.3333333333333333, \"#9c179e\"], [0.4444444444444444, \"#bd3786\"], [0.5555555555555556, \"#d8576b\"], [0.6666666666666666, \"#ed7953\"], [0.7777777777777778, \"#fb9f3a\"], [0.8888888888888888, \"#fdca26\"], [1.0, \"#f0f921\"]], \"type\": \"surface\"}], \"table\": [{\"cells\": {\"fill\": {\"color\": \"#EBF0F8\"}, \"line\": {\"color\": \"white\"}}, \"header\": {\"fill\": {\"color\": \"#C8D4E3\"}, \"line\": {\"color\": \"white\"}}, \"type\": \"table\"}]}, \"layout\": {\"annotationdefaults\": {\"arrowcolor\": \"#2a3f5f\", \"arrowhead\": 0, \"arrowwidth\": 1}, \"coloraxis\": {\"colorbar\": {\"outlinewidth\": 0, \"ticks\": \"\"}}, \"colorscale\": {\"diverging\": [[0, \"#8e0152\"], [0.1, \"#c51b7d\"], [0.2, \"#de77ae\"], [0.3, \"#f1b6da\"], [0.4, \"#fde0ef\"], [0.5, \"#f7f7f7\"], [0.6, \"#e6f5d0\"], [0.7, \"#b8e186\"], [0.8, \"#7fbc41\"], [0.9, \"#4d9221\"], [1, \"#276419\"]], \"sequential\": [[0.0, \"#0d0887\"], [0.1111111111111111, \"#46039f\"], [0.2222222222222222, \"#7201a8\"], [0.3333333333333333, \"#9c179e\"], [0.4444444444444444, \"#bd3786\"], [0.5555555555555556, \"#d8576b\"], [0.6666666666666666, \"#ed7953\"], [0.7777777777777778, \"#fb9f3a\"], [0.8888888888888888, \"#fdca26\"], [1.0, \"#f0f921\"]], \"sequentialminus\": [[0.0, \"#0d0887\"], [0.1111111111111111, \"#46039f\"], [0.2222222222222222, \"#7201a8\"], [0.3333333333333333, \"#9c179e\"], [0.4444444444444444, \"#bd3786\"], [0.5555555555555556, \"#d8576b\"], [0.6666666666666666, \"#ed7953\"], [0.7777777777777778, \"#fb9f3a\"], [0.8888888888888888, \"#fdca26\"], [1.0, \"#f0f921\"]]}, \"colorway\": [\"#636efa\", \"#EF553B\", \"#00cc96\", \"#ab63fa\", \"#FFA15A\", \"#19d3f3\", \"#FF6692\", \"#B6E880\", \"#FF97FF\", \"#FECB52\"], \"font\": {\"color\": \"#2a3f5f\"}, \"geo\": {\"bgcolor\": \"white\", \"lakecolor\": \"white\", \"landcolor\": \"#E5ECF6\", \"showlakes\": true, \"showland\": true, \"subunitcolor\": \"white\"}, \"hoverlabel\": {\"align\": \"left\"}, \"hovermode\": \"closest\", \"mapbox\": {\"style\": \"light\"}, \"paper_bgcolor\": \"white\", \"plot_bgcolor\": \"#E5ECF6\", \"polar\": {\"angularaxis\": {\"gridcolor\": \"white\", \"linecolor\": \"white\", \"ticks\": \"\"}, \"bgcolor\": \"#E5ECF6\", \"radialaxis\": {\"gridcolor\": \"white\", \"linecolor\": \"white\", \"ticks\": \"\"}}, \"scene\": {\"xaxis\": {\"backgroundcolor\": \"#E5ECF6\", \"gridcolor\": \"white\", \"gridwidth\": 2, \"linecolor\": \"white\", \"showbackground\": true, \"ticks\": \"\", \"zerolinecolor\": \"white\"}, \"yaxis\": {\"backgroundcolor\": \"#E5ECF6\", \"gridcolor\": \"white\", \"gridwidth\": 2, \"linecolor\": \"white\", \"showbackground\": true, \"ticks\": \"\", \"zerolinecolor\": \"white\"}, \"zaxis\": {\"backgroundcolor\": \"#E5ECF6\", \"gridcolor\": \"white\", \"gridwidth\": 2, \"linecolor\": \"white\", \"showbackground\": true, \"ticks\": \"\", \"zerolinecolor\": \"white\"}}, \"shapedefaults\": {\"line\": {\"color\": \"#2a3f5f\"}}, \"ternary\": {\"aaxis\": {\"gridcolor\": \"white\", \"linecolor\": \"white\", \"ticks\": \"\"}, \"baxis\": {\"gridcolor\": \"white\", \"linecolor\": \"white\", \"ticks\": \"\"}, \"bgcolor\": \"#E5ECF6\", \"caxis\": {\"gridcolor\": \"white\", \"linecolor\": \"white\", \"ticks\": \"\"}}, \"title\": {\"x\": 0.05}, \"xaxis\": {\"automargin\": true, \"gridcolor\": \"white\", \"linecolor\": \"white\", \"ticks\": \"\", \"title\": {\"standoff\": 15}, \"zerolinecolor\": \"white\", \"zerolinewidth\": 2}, \"yaxis\": {\"automargin\": true, \"gridcolor\": \"white\", \"linecolor\": \"white\", \"ticks\": \"\", \"title\": {\"standoff\": 15}, \"zerolinecolor\": \"white\", \"zerolinewidth\": 2}}}, \"title\": {\"text\": \"\"}, \"xaxis\": {\"autorange\": true, \"type\": \"log\", \"zeroline\": false}, \"yaxis\": {\"autorange\": true, \"type\": \"linear\", \"zeroline\": false}},\n",
       "                        {\"responsive\": true}\n",
       "                    ).then(function(){\n",
       "                            \n",
       "var gd = document.getElementById('09014680-7926-4a00-9ee2-d61cf5091545');\n",
       "var x = new MutationObserver(function (mutations, observer) {{\n",
       "        var display = window.getComputedStyle(gd).display;\n",
       "        if (!display || display === 'none') {{\n",
       "            console.log([gd, 'removed!']);\n",
       "            Plotly.purge(gd);\n",
       "            observer.disconnect();\n",
       "        }}\n",
       "}});\n",
       "\n",
       "// Listen for the removal of the full notebook cells\n",
       "var notebookContainer = gd.closest('#notebook-container');\n",
       "if (notebookContainer) {{\n",
       "    x.observe(notebookContainer, {childList: true});\n",
       "}}\n",
       "\n",
       "// Listen for the clearing of the current output cell\n",
       "var outputEl = gd.closest('.output');\n",
       "if (outputEl) {{\n",
       "    x.observe(outputEl, {childList: true});\n",
       "}}\n",
       "\n",
       "                        })\n",
       "                };\n",
       "                });\n",
       "            </script>\n",
       "        </div>"
      ]
     },
     "metadata": {},
     "output_type": "display_data"
    }
   ],
   "source": [
    "cn.plt.res(f,datacorr)"
   ]
  },
  {
   "cell_type": "code",
   "execution_count": 6,
   "metadata": {},
   "outputs": [
    {
     "data": {
      "application/vnd.plotly.v1+json": {
       "config": {
        "linkText": "Export to plot.ly",
        "plotlyServerURL": "https://plot.ly",
        "showLink": false
       },
       "data": [
        {
         "mode": "lines",
         "name": "0",
         "type": "scatter",
         "x": [
          100,
          112.2018,
          125.8925,
          141.2538,
          158.4893,
          177.8279,
          199.5262,
          223.8721,
          251.1886,
          281.8383,
          316.2278,
          354.8134,
          398.1072,
          446.6836,
          501.1872,
          562.3413,
          630.9573,
          707.9458,
          794.3282,
          891.2509,
          1000,
          1122.018,
          1258.925,
          1412.538,
          1584.893,
          1778.28,
          1995.262,
          2238.721,
          2511.886,
          2818.383,
          3162.278,
          3548.134,
          3981.072,
          4466.836,
          5011.873,
          5623.413,
          6309.573,
          7079.458,
          7943.282,
          8912.509,
          10000
         ],
         "y": [
          5.551836,
          5.55135,
          5.550457,
          5.549809,
          5.549378,
          5.54919,
          5.548908,
          5.549416,
          5.5488,
          5.548093,
          5.547707,
          5.54884,
          5.549688,
          5.550925,
          5.552169,
          5.553744,
          5.556036,
          5.558591,
          5.561122,
          5.56508,
          5.56957,
          5.57487,
          5.580716,
          5.588723,
          5.596613,
          5.606394,
          5.617544,
          5.631613,
          5.647053,
          5.666049,
          5.686756,
          5.711302,
          5.740463,
          5.769555,
          5.806217,
          5.846903,
          5.893913,
          5.943218,
          6.003705,
          6.071098,
          6.135796
         ]
        },
        {
         "mode": "lines",
         "name": "1",
         "type": "scatter",
         "x": [
          100,
          112.2018,
          125.8925,
          141.2538,
          158.4893,
          177.8279,
          199.5262,
          223.8721,
          251.1886,
          281.8383,
          316.2278,
          354.8134,
          398.1072,
          446.6836,
          501.1872,
          562.3413,
          630.9573,
          707.9458,
          794.3282,
          891.2509,
          1000,
          1122.018,
          1258.925,
          1412.538,
          1584.893,
          1778.28,
          1995.262,
          2238.721,
          2511.886,
          2818.383,
          3162.278,
          3548.134,
          3981.072,
          4466.836,
          5011.873,
          5623.413,
          6309.573,
          7079.458,
          7943.282,
          8912.509,
          10000
         ],
         "y": [
          5.537836,
          5.538912,
          5.539487,
          5.539782,
          5.540259,
          5.540688,
          5.540819,
          5.541582,
          5.54152,
          5.541306,
          5.541786,
          5.542898,
          5.544033,
          5.545141,
          5.546688,
          5.548644,
          5.550928,
          5.55336,
          5.556705,
          5.56047,
          5.565197,
          5.570566,
          5.576108,
          5.584074,
          5.591892,
          5.602129,
          5.61414,
          5.627293,
          5.642766,
          5.661335,
          5.682061,
          5.706401,
          5.734463,
          5.766201,
          5.804097,
          5.843009,
          5.88594,
          5.940722,
          5.99999,
          6.066041,
          6.144332
         ]
        },
        {
         "mode": "lines",
         "name": "2",
         "type": "scatter",
         "x": [
          100,
          112.2018,
          125.8925,
          141.2538,
          158.4893,
          177.8279,
          199.5262,
          223.8721,
          251.1886,
          281.8383,
          316.2278,
          354.8134,
          398.1072,
          446.6836,
          501.1872,
          562.3413,
          630.9573,
          707.9458,
          794.3282,
          891.2509,
          1000,
          1122.018,
          1258.925,
          1412.538,
          1584.893,
          1778.28,
          1995.262,
          2238.721,
          2511.886,
          2818.383,
          3162.278,
          3548.134,
          3981.072,
          4466.836,
          5011.873,
          5623.413,
          6309.573,
          7079.458,
          7943.282,
          8912.509,
          10000
         ],
         "y": [
          5.533166,
          5.534813,
          5.535536,
          5.535989,
          5.536944,
          5.537422,
          5.537624,
          5.538575,
          5.53852,
          5.537929,
          5.538996,
          5.540186,
          5.541199,
          5.542556,
          5.544058,
          5.546014,
          5.548136,
          5.550741,
          5.553713,
          5.557915,
          5.562467,
          5.567647,
          5.574143,
          5.58151,
          5.589354,
          5.599679,
          5.611682,
          5.625045,
          5.640511,
          5.658341,
          5.680541,
          5.705608,
          5.732689,
          5.763407,
          5.799135,
          5.840672,
          5.888087,
          5.93976,
          5.997588,
          6.057666,
          6.133148
         ]
        },
        {
         "mode": "lines",
         "name": "3",
         "type": "scatter",
         "x": [
          100,
          112.2018,
          125.8925,
          141.2538,
          158.4893,
          177.8279,
          199.5262,
          223.8721,
          251.1886,
          281.8383,
          316.2278,
          354.8134,
          398.1072,
          446.6836,
          501.1872,
          562.3413,
          630.9573,
          707.9458,
          794.3282,
          891.2509,
          1000,
          1122.018,
          1258.925,
          1412.538,
          1584.893,
          1778.28,
          1995.262,
          2238.721,
          2511.886,
          2818.383,
          3162.278,
          3548.134,
          3981.072,
          4466.836,
          5011.873,
          5623.413,
          6309.573,
          7079.458,
          7943.282,
          8912.509,
          10000
         ],
         "y": [
          5.531196,
          5.53282,
          5.533557,
          5.534493,
          5.53506,
          5.535798,
          5.536084,
          5.536996,
          5.53701,
          5.536461,
          5.537223,
          5.538696,
          5.53984,
          5.541272,
          5.5428,
          5.544594,
          5.546802,
          5.54944,
          5.553106,
          5.556807,
          5.561627,
          5.566757,
          5.573433,
          5.579875,
          5.588678,
          5.599049,
          5.610245,
          5.623673,
          5.640504,
          5.658631,
          5.679933,
          5.704148,
          5.729895,
          5.762346,
          5.799063,
          5.839884,
          5.887349,
          5.937664,
          5.997626,
          6.056015,
          6.130421
         ]
        },
        {
         "mode": "lines",
         "name": "4",
         "type": "scatter",
         "x": [
          100,
          112.2018,
          125.8925,
          141.2538,
          158.4893,
          177.8279,
          199.5262,
          223.8721,
          251.1886,
          281.8383,
          316.2278,
          354.8134,
          398.1072,
          446.6836,
          501.1872,
          562.3413,
          630.9573,
          707.9458,
          794.3282,
          891.2509,
          1000,
          1122.018,
          1258.925,
          1412.538,
          1584.893,
          1778.28,
          1995.262,
          2238.721,
          2511.886,
          2818.383,
          3162.278,
          3548.134,
          3981.072,
          4466.836,
          5011.873,
          5623.413,
          6309.573,
          7079.458,
          7943.282,
          8912.509,
          10000
         ],
         "y": [
          5.530376,
          5.531963,
          5.532893,
          5.533159,
          5.53391,
          5.534638,
          5.534791,
          5.535911,
          5.53573,
          5.535463,
          5.536241,
          5.537822,
          5.539051,
          5.54038,
          5.541872,
          5.543725,
          5.546354,
          5.548584,
          5.552248,
          5.555855,
          5.560072,
          5.566141,
          5.571798,
          5.57922,
          5.587744,
          5.597555,
          5.609386,
          5.623079,
          5.638315,
          5.656701,
          5.677926,
          5.701862,
          5.731843,
          5.761102,
          5.799617,
          5.838951,
          5.879953,
          5.939792,
          5.994345,
          6.065468,
          6.126478
         ]
        },
        {
         "mode": "lines",
         "name": "5",
         "type": "scatter",
         "x": [
          100,
          112.2018,
          125.8925,
          141.2538,
          158.4893,
          177.8279,
          199.5262,
          223.8721,
          251.1886,
          281.8383,
          316.2278,
          354.8134,
          398.1072,
          446.6836,
          501.1872,
          562.3413,
          630.9573,
          707.9458,
          794.3282,
          891.2509,
          1000,
          1122.018,
          1258.925,
          1412.538,
          1584.893,
          1778.28,
          1995.262,
          2238.721,
          2511.886,
          2818.383,
          3162.278,
          3548.134,
          3981.072,
          4466.836,
          5011.873,
          5623.413,
          6309.573,
          7079.458,
          7943.282,
          8912.509,
          10000
         ],
         "y": [
          5.529375,
          5.531108,
          5.532014,
          5.532681,
          5.533579,
          5.533947,
          5.534301,
          5.53517,
          5.535305,
          5.535028,
          5.535652,
          5.536995,
          5.538471,
          5.539475,
          5.541238,
          5.543097,
          5.545529,
          5.547961,
          5.551623,
          5.555246,
          5.559569,
          5.565007,
          5.570885,
          5.578379,
          5.586742,
          5.597173,
          5.608549,
          5.622397,
          5.638585,
          5.656685,
          5.678123,
          5.703166,
          5.729057,
          5.760318,
          5.798149,
          5.837326,
          5.883522,
          5.940136,
          5.992917,
          6.056387,
          6.133847
         ]
        },
        {
         "mode": "lines",
         "name": "6",
         "type": "scatter",
         "x": [
          100,
          112.2018,
          125.8925,
          141.2538,
          158.4893,
          177.8279,
          199.5262,
          223.8721,
          251.1886,
          281.8383,
          316.2278,
          354.8134,
          398.1072,
          446.6836,
          501.1872,
          562.3413,
          630.9573,
          707.9458,
          794.3282,
          891.2509,
          1000,
          1122.018,
          1258.925,
          1412.538,
          1584.893,
          1778.28,
          1995.262,
          2238.721,
          2511.886,
          2818.383,
          3162.278,
          3548.134,
          3981.072,
          4466.836,
          5011.873,
          5623.413,
          6309.573,
          7079.458,
          7943.282,
          8912.509,
          10000
         ],
         "y": [
          5.530432,
          5.532172,
          5.53234,
          5.532687,
          5.533223,
          5.533717,
          5.533984,
          5.535056,
          5.535006,
          5.534915,
          5.535424,
          5.536868,
          5.537894,
          5.539242,
          5.540933,
          5.542707,
          5.544867,
          5.547322,
          5.550544,
          5.554351,
          5.55882,
          5.56421,
          5.570494,
          5.577993,
          5.586484,
          5.596598,
          5.60764,
          5.621488,
          5.636745,
          5.65591,
          5.676598,
          5.700186,
          5.730075,
          5.759759,
          5.796636,
          5.837153,
          5.881832,
          5.939645,
          5.993181,
          6.057585,
          6.140506
         ]
        },
        {
         "mode": "lines",
         "name": "7",
         "type": "scatter",
         "x": [
          100,
          112.2018,
          125.8925,
          141.2538,
          158.4893,
          177.8279,
          199.5262,
          223.8721,
          251.1886,
          281.8383,
          316.2278,
          354.8134,
          398.1072,
          446.6836,
          501.1872,
          562.3413,
          630.9573,
          707.9458,
          794.3282,
          891.2509,
          1000,
          1122.018,
          1258.925,
          1412.538,
          1584.893,
          1778.28,
          1995.262,
          2238.721,
          2511.886,
          2818.383,
          3162.278,
          3548.134,
          3981.072,
          4466.836,
          5011.873,
          5623.413,
          6309.573,
          7079.458,
          7943.282,
          8912.509,
          10000
         ],
         "y": [
          5.528231,
          5.530218,
          5.53121,
          5.531891,
          5.532533,
          5.533011,
          5.533294,
          5.534338,
          5.534414,
          5.53418,
          5.534974,
          5.536449,
          5.537364,
          5.538912,
          5.540781,
          5.542634,
          5.544892,
          5.547495,
          5.550644,
          5.554706,
          5.559241,
          5.56481,
          5.571368,
          5.578125,
          5.586107,
          5.596964,
          5.608472,
          5.622486,
          5.637786,
          5.655879,
          5.676998,
          5.701598,
          5.731634,
          5.761465,
          5.797722,
          5.839852,
          5.881714,
          5.934834,
          5.995309,
          6.060161,
          6.138128
         ]
        },
        {
         "mode": "lines",
         "name": "8",
         "type": "scatter",
         "x": [
          100,
          112.2018,
          125.8925,
          141.2538,
          158.4893,
          177.8279,
          199.5262,
          223.8721,
          251.1886,
          281.8383,
          316.2278,
          354.8134,
          398.1072,
          446.6836,
          501.1872,
          562.3413,
          630.9573,
          707.9458,
          794.3282,
          891.2509,
          1000,
          1122.018,
          1258.925,
          1412.538,
          1584.893,
          1778.28,
          1995.262,
          2238.721,
          2511.886,
          2818.383,
          3162.278,
          3548.134,
          3981.072,
          4466.836,
          5011.873,
          5623.413,
          6309.573,
          7079.458,
          7943.282,
          8912.509,
          10000
         ],
         "y": [
          5.528496,
          5.530449,
          5.531512,
          5.53219,
          5.532825,
          5.533571,
          5.533658,
          5.534784,
          5.534854,
          5.534763,
          5.535229,
          5.53667,
          5.538016,
          5.539331,
          5.540668,
          5.54274,
          5.544819,
          5.547541,
          5.55078,
          5.55475,
          5.559543,
          5.565279,
          5.571196,
          5.578419,
          5.586767,
          5.597178,
          5.608855,
          5.6215,
          5.638517,
          5.656537,
          5.676707,
          5.702977,
          5.730651,
          5.760982,
          5.796487,
          5.839473,
          5.887577,
          5.93512,
          5.99398,
          6.060902,
          6.137676
         ]
        },
        {
         "mode": "lines",
         "name": "9",
         "type": "scatter",
         "x": [
          100,
          112.2018,
          125.8925,
          141.2538,
          158.4893,
          177.8279,
          199.5262,
          223.8721,
          251.1886,
          281.8383,
          316.2278,
          354.8134,
          398.1072,
          446.6836,
          501.1872,
          562.3413,
          630.9573,
          707.9458,
          794.3282,
          891.2509,
          1000,
          1122.018,
          1258.925,
          1412.538,
          1584.893,
          1778.28,
          1995.262,
          2238.721,
          2511.886,
          2818.383,
          3162.278,
          3548.134,
          3981.072,
          4466.836,
          5011.873,
          5623.413,
          6309.573,
          7079.458,
          7943.282,
          8912.509,
          10000
         ],
         "y": [
          5.528587,
          5.53035,
          5.531398,
          5.531961,
          5.532701,
          5.53314,
          5.533608,
          5.534649,
          5.534629,
          5.534774,
          5.535065,
          5.536354,
          5.537855,
          5.539042,
          5.54041,
          5.542347,
          5.544763,
          5.547262,
          5.550553,
          5.554624,
          5.559196,
          5.564878,
          5.570674,
          5.578249,
          5.586524,
          5.596985,
          5.608828,
          5.621632,
          5.637697,
          5.657173,
          5.677656,
          5.70111,
          5.730354,
          5.760903,
          5.795278,
          5.839932,
          5.882139,
          5.931834,
          5.994541,
          6.059506,
          6.131807
         ]
        },
        {
         "mode": "lines",
         "name": "10",
         "type": "scatter",
         "x": [
          100,
          112.2018,
          125.8925,
          141.2538,
          158.4893,
          177.8279,
          199.5262,
          223.8721,
          251.1886,
          281.8383,
          316.2278,
          354.8134,
          398.1072,
          446.6836,
          501.1872,
          562.3413,
          630.9573,
          707.9458,
          794.3282,
          891.2509,
          1000,
          1122.018,
          1258.925,
          1412.538,
          1584.893,
          1778.28,
          1995.262,
          2238.721,
          2511.886,
          2818.383,
          3162.278,
          3548.134,
          3981.072,
          4466.836,
          5011.873,
          5623.413,
          6309.573,
          7079.458,
          7943.282,
          8912.509,
          10000
         ],
         "y": [
          5.52877,
          5.530572,
          5.53124,
          5.531856,
          5.532819,
          5.533362,
          5.533764,
          5.53491,
          5.535015,
          5.534582,
          5.535541,
          5.536644,
          5.538078,
          5.539165,
          5.540912,
          5.542859,
          5.54516,
          5.547867,
          5.550555,
          5.554465,
          5.559307,
          5.564935,
          5.571075,
          5.57842,
          5.5869,
          5.597294,
          5.608582,
          5.621842,
          5.639108,
          5.656108,
          5.675704,
          5.701654,
          5.729625,
          5.761517,
          5.798095,
          5.838382,
          5.883069,
          5.938822,
          5.994652,
          6.061018,
          6.126345
         ]
        }
       ],
       "layout": {
        "autosize": true,
        "template": {
         "data": {
          "bar": [
           {
            "error_x": {
             "color": "#2a3f5f"
            },
            "error_y": {
             "color": "#2a3f5f"
            },
            "marker": {
             "line": {
              "color": "#E5ECF6",
              "width": 0.5
             }
            },
            "type": "bar"
           }
          ],
          "barpolar": [
           {
            "marker": {
             "line": {
              "color": "#E5ECF6",
              "width": 0.5
             }
            },
            "type": "barpolar"
           }
          ],
          "carpet": [
           {
            "aaxis": {
             "endlinecolor": "#2a3f5f",
             "gridcolor": "white",
             "linecolor": "white",
             "minorgridcolor": "white",
             "startlinecolor": "#2a3f5f"
            },
            "baxis": {
             "endlinecolor": "#2a3f5f",
             "gridcolor": "white",
             "linecolor": "white",
             "minorgridcolor": "white",
             "startlinecolor": "#2a3f5f"
            },
            "type": "carpet"
           }
          ],
          "choropleth": [
           {
            "colorbar": {
             "outlinewidth": 0,
             "ticks": ""
            },
            "type": "choropleth"
           }
          ],
          "contour": [
           {
            "colorbar": {
             "outlinewidth": 0,
             "ticks": ""
            },
            "colorscale": [
             [
              0,
              "#0d0887"
             ],
             [
              0.1111111111111111,
              "#46039f"
             ],
             [
              0.2222222222222222,
              "#7201a8"
             ],
             [
              0.3333333333333333,
              "#9c179e"
             ],
             [
              0.4444444444444444,
              "#bd3786"
             ],
             [
              0.5555555555555556,
              "#d8576b"
             ],
             [
              0.6666666666666666,
              "#ed7953"
             ],
             [
              0.7777777777777778,
              "#fb9f3a"
             ],
             [
              0.8888888888888888,
              "#fdca26"
             ],
             [
              1,
              "#f0f921"
             ]
            ],
            "type": "contour"
           }
          ],
          "contourcarpet": [
           {
            "colorbar": {
             "outlinewidth": 0,
             "ticks": ""
            },
            "type": "contourcarpet"
           }
          ],
          "heatmap": [
           {
            "colorbar": {
             "outlinewidth": 0,
             "ticks": ""
            },
            "colorscale": [
             [
              0,
              "#0d0887"
             ],
             [
              0.1111111111111111,
              "#46039f"
             ],
             [
              0.2222222222222222,
              "#7201a8"
             ],
             [
              0.3333333333333333,
              "#9c179e"
             ],
             [
              0.4444444444444444,
              "#bd3786"
             ],
             [
              0.5555555555555556,
              "#d8576b"
             ],
             [
              0.6666666666666666,
              "#ed7953"
             ],
             [
              0.7777777777777778,
              "#fb9f3a"
             ],
             [
              0.8888888888888888,
              "#fdca26"
             ],
             [
              1,
              "#f0f921"
             ]
            ],
            "type": "heatmap"
           }
          ],
          "heatmapgl": [
           {
            "colorbar": {
             "outlinewidth": 0,
             "ticks": ""
            },
            "colorscale": [
             [
              0,
              "#0d0887"
             ],
             [
              0.1111111111111111,
              "#46039f"
             ],
             [
              0.2222222222222222,
              "#7201a8"
             ],
             [
              0.3333333333333333,
              "#9c179e"
             ],
             [
              0.4444444444444444,
              "#bd3786"
             ],
             [
              0.5555555555555556,
              "#d8576b"
             ],
             [
              0.6666666666666666,
              "#ed7953"
             ],
             [
              0.7777777777777778,
              "#fb9f3a"
             ],
             [
              0.8888888888888888,
              "#fdca26"
             ],
             [
              1,
              "#f0f921"
             ]
            ],
            "type": "heatmapgl"
           }
          ],
          "histogram": [
           {
            "marker": {
             "colorbar": {
              "outlinewidth": 0,
              "ticks": ""
             }
            },
            "type": "histogram"
           }
          ],
          "histogram2d": [
           {
            "colorbar": {
             "outlinewidth": 0,
             "ticks": ""
            },
            "colorscale": [
             [
              0,
              "#0d0887"
             ],
             [
              0.1111111111111111,
              "#46039f"
             ],
             [
              0.2222222222222222,
              "#7201a8"
             ],
             [
              0.3333333333333333,
              "#9c179e"
             ],
             [
              0.4444444444444444,
              "#bd3786"
             ],
             [
              0.5555555555555556,
              "#d8576b"
             ],
             [
              0.6666666666666666,
              "#ed7953"
             ],
             [
              0.7777777777777778,
              "#fb9f3a"
             ],
             [
              0.8888888888888888,
              "#fdca26"
             ],
             [
              1,
              "#f0f921"
             ]
            ],
            "type": "histogram2d"
           }
          ],
          "histogram2dcontour": [
           {
            "colorbar": {
             "outlinewidth": 0,
             "ticks": ""
            },
            "colorscale": [
             [
              0,
              "#0d0887"
             ],
             [
              0.1111111111111111,
              "#46039f"
             ],
             [
              0.2222222222222222,
              "#7201a8"
             ],
             [
              0.3333333333333333,
              "#9c179e"
             ],
             [
              0.4444444444444444,
              "#bd3786"
             ],
             [
              0.5555555555555556,
              "#d8576b"
             ],
             [
              0.6666666666666666,
              "#ed7953"
             ],
             [
              0.7777777777777778,
              "#fb9f3a"
             ],
             [
              0.8888888888888888,
              "#fdca26"
             ],
             [
              1,
              "#f0f921"
             ]
            ],
            "type": "histogram2dcontour"
           }
          ],
          "mesh3d": [
           {
            "colorbar": {
             "outlinewidth": 0,
             "ticks": ""
            },
            "type": "mesh3d"
           }
          ],
          "parcoords": [
           {
            "line": {
             "colorbar": {
              "outlinewidth": 0,
              "ticks": ""
             }
            },
            "type": "parcoords"
           }
          ],
          "pie": [
           {
            "automargin": true,
            "type": "pie"
           }
          ],
          "scatter": [
           {
            "marker": {
             "colorbar": {
              "outlinewidth": 0,
              "ticks": ""
             }
            },
            "type": "scatter"
           }
          ],
          "scatter3d": [
           {
            "line": {
             "colorbar": {
              "outlinewidth": 0,
              "ticks": ""
             }
            },
            "marker": {
             "colorbar": {
              "outlinewidth": 0,
              "ticks": ""
             }
            },
            "type": "scatter3d"
           }
          ],
          "scattercarpet": [
           {
            "marker": {
             "colorbar": {
              "outlinewidth": 0,
              "ticks": ""
             }
            },
            "type": "scattercarpet"
           }
          ],
          "scattergeo": [
           {
            "marker": {
             "colorbar": {
              "outlinewidth": 0,
              "ticks": ""
             }
            },
            "type": "scattergeo"
           }
          ],
          "scattergl": [
           {
            "marker": {
             "colorbar": {
              "outlinewidth": 0,
              "ticks": ""
             }
            },
            "type": "scattergl"
           }
          ],
          "scattermapbox": [
           {
            "marker": {
             "colorbar": {
              "outlinewidth": 0,
              "ticks": ""
             }
            },
            "type": "scattermapbox"
           }
          ],
          "scatterpolar": [
           {
            "marker": {
             "colorbar": {
              "outlinewidth": 0,
              "ticks": ""
             }
            },
            "type": "scatterpolar"
           }
          ],
          "scatterpolargl": [
           {
            "marker": {
             "colorbar": {
              "outlinewidth": 0,
              "ticks": ""
             }
            },
            "type": "scatterpolargl"
           }
          ],
          "scatterternary": [
           {
            "marker": {
             "colorbar": {
              "outlinewidth": 0,
              "ticks": ""
             }
            },
            "type": "scatterternary"
           }
          ],
          "surface": [
           {
            "colorbar": {
             "outlinewidth": 0,
             "ticks": ""
            },
            "colorscale": [
             [
              0,
              "#0d0887"
             ],
             [
              0.1111111111111111,
              "#46039f"
             ],
             [
              0.2222222222222222,
              "#7201a8"
             ],
             [
              0.3333333333333333,
              "#9c179e"
             ],
             [
              0.4444444444444444,
              "#bd3786"
             ],
             [
              0.5555555555555556,
              "#d8576b"
             ],
             [
              0.6666666666666666,
              "#ed7953"
             ],
             [
              0.7777777777777778,
              "#fb9f3a"
             ],
             [
              0.8888888888888888,
              "#fdca26"
             ],
             [
              1,
              "#f0f921"
             ]
            ],
            "type": "surface"
           }
          ],
          "table": [
           {
            "cells": {
             "fill": {
              "color": "#EBF0F8"
             },
             "line": {
              "color": "white"
             }
            },
            "header": {
             "fill": {
              "color": "#C8D4E3"
             },
             "line": {
              "color": "white"
             }
            },
            "type": "table"
           }
          ]
         },
         "layout": {
          "annotationdefaults": {
           "arrowcolor": "#2a3f5f",
           "arrowhead": 0,
           "arrowwidth": 1
          },
          "coloraxis": {
           "colorbar": {
            "outlinewidth": 0,
            "ticks": ""
           }
          },
          "colorscale": {
           "diverging": [
            [
             0,
             "#8e0152"
            ],
            [
             0.1,
             "#c51b7d"
            ],
            [
             0.2,
             "#de77ae"
            ],
            [
             0.3,
             "#f1b6da"
            ],
            [
             0.4,
             "#fde0ef"
            ],
            [
             0.5,
             "#f7f7f7"
            ],
            [
             0.6,
             "#e6f5d0"
            ],
            [
             0.7,
             "#b8e186"
            ],
            [
             0.8,
             "#7fbc41"
            ],
            [
             0.9,
             "#4d9221"
            ],
            [
             1,
             "#276419"
            ]
           ],
           "sequential": [
            [
             0,
             "#0d0887"
            ],
            [
             0.1111111111111111,
             "#46039f"
            ],
            [
             0.2222222222222222,
             "#7201a8"
            ],
            [
             0.3333333333333333,
             "#9c179e"
            ],
            [
             0.4444444444444444,
             "#bd3786"
            ],
            [
             0.5555555555555556,
             "#d8576b"
            ],
            [
             0.6666666666666666,
             "#ed7953"
            ],
            [
             0.7777777777777778,
             "#fb9f3a"
            ],
            [
             0.8888888888888888,
             "#fdca26"
            ],
            [
             1,
             "#f0f921"
            ]
           ],
           "sequentialminus": [
            [
             0,
             "#0d0887"
            ],
            [
             0.1111111111111111,
             "#46039f"
            ],
            [
             0.2222222222222222,
             "#7201a8"
            ],
            [
             0.3333333333333333,
             "#9c179e"
            ],
            [
             0.4444444444444444,
             "#bd3786"
            ],
            [
             0.5555555555555556,
             "#d8576b"
            ],
            [
             0.6666666666666666,
             "#ed7953"
            ],
            [
             0.7777777777777778,
             "#fb9f3a"
            ],
            [
             0.8888888888888888,
             "#fdca26"
            ],
            [
             1,
             "#f0f921"
            ]
           ]
          },
          "colorway": [
           "#636efa",
           "#EF553B",
           "#00cc96",
           "#ab63fa",
           "#FFA15A",
           "#19d3f3",
           "#FF6692",
           "#B6E880",
           "#FF97FF",
           "#FECB52"
          ],
          "font": {
           "color": "#2a3f5f"
          },
          "geo": {
           "bgcolor": "white",
           "lakecolor": "white",
           "landcolor": "#E5ECF6",
           "showlakes": true,
           "showland": true,
           "subunitcolor": "white"
          },
          "hoverlabel": {
           "align": "left"
          },
          "hovermode": "closest",
          "mapbox": {
           "style": "light"
          },
          "paper_bgcolor": "white",
          "plot_bgcolor": "#E5ECF6",
          "polar": {
           "angularaxis": {
            "gridcolor": "white",
            "linecolor": "white",
            "ticks": ""
           },
           "bgcolor": "#E5ECF6",
           "radialaxis": {
            "gridcolor": "white",
            "linecolor": "white",
            "ticks": ""
           }
          },
          "scene": {
           "xaxis": {
            "backgroundcolor": "#E5ECF6",
            "gridcolor": "white",
            "gridwidth": 2,
            "linecolor": "white",
            "showbackground": true,
            "ticks": "",
            "zerolinecolor": "white"
           },
           "yaxis": {
            "backgroundcolor": "#E5ECF6",
            "gridcolor": "white",
            "gridwidth": 2,
            "linecolor": "white",
            "showbackground": true,
            "ticks": "",
            "zerolinecolor": "white"
           },
           "zaxis": {
            "backgroundcolor": "#E5ECF6",
            "gridcolor": "white",
            "gridwidth": 2,
            "linecolor": "white",
            "showbackground": true,
            "ticks": "",
            "zerolinecolor": "white"
           }
          },
          "shapedefaults": {
           "line": {
            "color": "#2a3f5f"
           }
          },
          "ternary": {
           "aaxis": {
            "gridcolor": "white",
            "linecolor": "white",
            "ticks": ""
           },
           "baxis": {
            "gridcolor": "white",
            "linecolor": "white",
            "ticks": ""
           },
           "bgcolor": "#E5ECF6",
           "caxis": {
            "gridcolor": "white",
            "linecolor": "white",
            "ticks": ""
           }
          },
          "title": {
           "x": 0.05
          },
          "xaxis": {
           "automargin": true,
           "gridcolor": "white",
           "linecolor": "white",
           "ticks": "",
           "title": {
            "standoff": 15
           },
           "zerolinecolor": "white",
           "zerolinewidth": 2
          },
          "yaxis": {
           "automargin": true,
           "gridcolor": "white",
           "linecolor": "white",
           "ticks": "",
           "title": {
            "standoff": 15
           },
           "zerolinecolor": "white",
           "zerolinewidth": 2
          }
         }
        },
        "title": {
         "text": "Re(z)EXP3948.csv"
        },
        "xaxis": {
         "autorange": true,
         "range": [
          2,
          4
         ],
         "type": "log",
         "zeroline": false
        },
        "yaxis": {
         "autorange": true,
         "range": [
          5.494003166666666,
          6.178559833333334
         ],
         "type": "linear",
         "zeroline": false
        }
       }
      },
      "image/png": "[encoded data removed]",
      "text/html": [
       "<div>\n",
       "        \n",
       "        \n",
       "            <div id=\"b391e774-eda9-4152-be6a-c5489ce3ed4f\" class=\"plotly-graph-div\" style=\"height:525px; width:100%;\"></div>\n",
       "            <script type=\"text/javascript\">\n",
       "                require([\"plotly\"], function(Plotly) {\n",
       "                    window.PLOTLYENV=window.PLOTLYENV || {};\n",
       "                    \n",
       "                if (document.getElementById(\"b391e774-eda9-4152-be6a-c5489ce3ed4f\")) {\n",
       "                    Plotly.newPlot(\n",
       "                        'b391e774-eda9-4152-be6a-c5489ce3ed4f',\n",
       "                        [{\"mode\": \"lines\", \"name\": \"0\", \"type\": \"scatter\", \"x\": [100.0, 112.2018, 125.8925, 141.2538, 158.4893, 177.8279, 199.5262, 223.8721, 251.1886, 281.8383, 316.2278, 354.8134, 398.1072, 446.6836, 501.1872, 562.3413, 630.9573, 707.9458, 794.3282, 891.2509, 1000.0, 1122.018, 1258.925, 1412.538, 1584.893, 1778.28, 1995.262, 2238.721, 2511.886, 2818.383, 3162.278, 3548.134, 3981.072, 4466.836, 5011.873, 5623.413, 6309.573, 7079.458, 7943.282, 8912.509, 10000.0], \"y\": [5.551836, 5.55135, 5.550457, 5.549809, 5.549378, 5.54919, 5.548908, 5.549416, 5.5488, 5.548093, 5.547707, 5.54884, 5.549688, 5.550925, 5.552169, 5.553744, 5.556036, 5.558591, 5.561122, 5.56508, 5.56957, 5.57487, 5.580716, 5.588723, 5.596613, 5.606394, 5.617544, 5.631613, 5.647053, 5.666049, 5.686756, 5.711302, 5.740463, 5.769555, 5.806217, 5.846903, 5.893913, 5.943218, 6.003705, 6.071098, 6.135796]}, {\"mode\": \"lines\", \"name\": \"1\", \"type\": \"scatter\", \"x\": [100.0, 112.2018, 125.8925, 141.2538, 158.4893, 177.8279, 199.5262, 223.8721, 251.1886, 281.8383, 316.2278, 354.8134, 398.1072, 446.6836, 501.1872, 562.3413, 630.9573, 707.9458, 794.3282, 891.2509, 1000.0, 1122.018, 1258.925, 1412.538, 1584.893, 1778.28, 1995.262, 2238.721, 2511.886, 2818.383, 3162.278, 3548.134, 3981.072, 4466.836, 5011.873, 5623.413, 6309.573, 7079.458, 7943.282, 8912.509, 10000.0], \"y\": [5.537836, 5.538912, 5.539487, 5.539782, 5.540259, 5.540688, 5.540819, 5.541582, 5.54152, 5.541306, 5.541786, 5.542898, 5.544033, 5.545141, 5.546688, 5.548644, 5.550928, 5.55336, 5.556705, 5.56047, 5.565197, 5.570566, 5.576108, 5.584074, 5.591892, 5.602129, 5.61414, 5.627293, 5.642766, 5.661335, 5.682061, 5.706401, 5.734463, 5.766201, 5.804097, 5.843009, 5.88594, 5.940722, 5.99999, 6.066041, 6.144332]}, {\"mode\": \"lines\", \"name\": \"2\", \"type\": \"scatter\", \"x\": [100.0, 112.2018, 125.8925, 141.2538, 158.4893, 177.8279, 199.5262, 223.8721, 251.1886, 281.8383, 316.2278, 354.8134, 398.1072, 446.6836, 501.1872, 562.3413, 630.9573, 707.9458, 794.3282, 891.2509, 1000.0, 1122.018, 1258.925, 1412.538, 1584.893, 1778.28, 1995.262, 2238.721, 2511.886, 2818.383, 3162.278, 3548.134, 3981.072, 4466.836, 5011.873, 5623.413, 6309.573, 7079.458, 7943.282, 8912.509, 10000.0], \"y\": [5.533166, 5.534813, 5.535536, 5.535989, 5.536944, 5.537422, 5.537624, 5.538575, 5.53852, 5.537929, 5.538996, 5.540186, 5.541199, 5.542556, 5.544058, 5.546014, 5.548136, 5.550741, 5.553713, 5.557915, 5.562467, 5.567647, 5.574143, 5.58151, 5.589354, 5.599679, 5.611682, 5.625045, 5.640511, 5.658341, 5.680541, 5.705608, 5.732689, 5.763407, 5.799135, 5.840672, 5.888087, 5.93976, 5.997588, 6.057666, 6.133148]}, {\"mode\": \"lines\", \"name\": \"3\", \"type\": \"scatter\", \"x\": [100.0, 112.2018, 125.8925, 141.2538, 158.4893, 177.8279, 199.5262, 223.8721, 251.1886, 281.8383, 316.2278, 354.8134, 398.1072, 446.6836, 501.1872, 562.3413, 630.9573, 707.9458, 794.3282, 891.2509, 1000.0, 1122.018, 1258.925, 1412.538, 1584.893, 1778.28, 1995.262, 2238.721, 2511.886, 2818.383, 3162.278, 3548.134, 3981.072, 4466.836, 5011.873, 5623.413, 6309.573, 7079.458, 7943.282, 8912.509, 10000.0], \"y\": [5.531196, 5.53282, 5.533557, 5.534493, 5.53506, 5.535798, 5.536084, 5.536996, 5.53701, 5.536461, 5.537223, 5.538696, 5.53984, 5.541272, 5.5428, 5.544594, 5.546802, 5.54944, 5.553106, 5.556807, 5.561627, 5.566757, 5.573433, 5.579875, 5.588678, 5.599049, 5.610245, 5.623673, 5.640504, 5.658631, 5.679933, 5.704148, 5.729895, 5.762346, 5.799063, 5.839884, 5.887349, 5.937664, 5.997626, 6.056015, 6.130421]}, {\"mode\": \"lines\", \"name\": \"4\", \"type\": \"scatter\", \"x\": [100.0, 112.2018, 125.8925, 141.2538, 158.4893, 177.8279, 199.5262, 223.8721, 251.1886, 281.8383, 316.2278, 354.8134, 398.1072, 446.6836, 501.1872, 562.3413, 630.9573, 707.9458, 794.3282, 891.2509, 1000.0, 1122.018, 1258.925, 1412.538, 1584.893, 1778.28, 1995.262, 2238.721, 2511.886, 2818.383, 3162.278, 3548.134, 3981.072, 4466.836, 5011.873, 5623.413, 6309.573, 7079.458, 7943.282, 8912.509, 10000.0], \"y\": [5.530376, 5.531963, 5.532893, 5.533159, 5.53391, 5.534638, 5.534791, 5.535911, 5.53573, 5.535463, 5.536241, 5.537822, 5.539051, 5.54038, 5.541872, 5.543725, 5.546354, 5.548584, 5.552248, 5.555855, 5.560072, 5.566141, 5.571798, 5.57922, 5.587744, 5.597555, 5.609386, 5.623079, 5.638315, 5.656701, 5.677926, 5.701862, 5.731843, 5.761102, 5.799617, 5.838951, 5.879953, 5.939792, 5.994345, 6.065468, 6.126478]}, {\"mode\": \"lines\", \"name\": \"5\", \"type\": \"scatter\", \"x\": [100.0, 112.2018, 125.8925, 141.2538, 158.4893, 177.8279, 199.5262, 223.8721, 251.1886, 281.8383, 316.2278, 354.8134, 398.1072, 446.6836, 501.1872, 562.3413, 630.9573, 707.9458, 794.3282, 891.2509, 1000.0, 1122.018, 1258.925, 1412.538, 1584.893, 1778.28, 1995.262, 2238.721, 2511.886, 2818.383, 3162.278, 3548.134, 3981.072, 4466.836, 5011.873, 5623.413, 6309.573, 7079.458, 7943.282, 8912.509, 10000.0], \"y\": [5.529375, 5.531108, 5.532014, 5.532681, 5.533579, 5.533947, 5.534301, 5.53517, 5.535305, 5.535028, 5.535652, 5.536995, 5.538471, 5.539475, 5.541238, 5.543097, 5.545529, 5.547961, 5.551623, 5.555246, 5.559569, 5.565007, 5.570885, 5.578379, 5.586742, 5.597173, 5.608549, 5.622397, 5.638585, 5.656685, 5.678123, 5.703166, 5.729057, 5.760318, 5.798149, 5.837326, 5.883522, 5.940136, 5.992917, 6.056387, 6.133847]}, {\"mode\": \"lines\", \"name\": \"6\", \"type\": \"scatter\", \"x\": [100.0, 112.2018, 125.8925, 141.2538, 158.4893, 177.8279, 199.5262, 223.8721, 251.1886, 281.8383, 316.2278, 354.8134, 398.1072, 446.6836, 501.1872, 562.3413, 630.9573, 707.9458, 794.3282, 891.2509, 1000.0, 1122.018, 1258.925, 1412.538, 1584.893, 1778.28, 1995.262, 2238.721, 2511.886, 2818.383, 3162.278, 3548.134, 3981.072, 4466.836, 5011.873, 5623.413, 6309.573, 7079.458, 7943.282, 8912.509, 10000.0], \"y\": [5.530432, 5.532172, 5.53234, 5.532687, 5.533223, 5.533717, 5.533984, 5.535056, 5.535006, 5.534915, 5.535424, 5.536868, 5.537894, 5.539242, 5.540933, 5.542707, 5.544867, 5.547322, 5.550544, 5.554351, 5.55882, 5.56421, 5.570494, 5.577993, 5.586484, 5.596598, 5.60764, 5.621488, 5.636745, 5.65591, 5.676598, 5.700186, 5.730075, 5.759759, 5.796636, 5.837153, 5.881832, 5.939645, 5.993181, 6.057585, 6.140506]}, {\"mode\": \"lines\", \"name\": \"7\", \"type\": \"scatter\", \"x\": [100.0, 112.2018, 125.8925, 141.2538, 158.4893, 177.8279, 199.5262, 223.8721, 251.1886, 281.8383, 316.2278, 354.8134, 398.1072, 446.6836, 501.1872, 562.3413, 630.9573, 707.9458, 794.3282, 891.2509, 1000.0, 1122.018, 1258.925, 1412.538, 1584.893, 1778.28, 1995.262, 2238.721, 2511.886, 2818.383, 3162.278, 3548.134, 3981.072, 4466.836, 5011.873, 5623.413, 6309.573, 7079.458, 7943.282, 8912.509, 10000.0], \"y\": [5.528231, 5.530218, 5.53121, 5.531891, 5.532533, 5.533011, 5.533294, 5.534338, 5.534414, 5.53418, 5.534974, 5.536449, 5.537364, 5.538912, 5.540781, 5.542634, 5.544892, 5.547495, 5.550644, 5.554706, 5.559241, 5.56481, 5.571368, 5.578125, 5.586107, 5.596964, 5.608472, 5.622486, 5.637786, 5.655879, 5.676998, 5.701598, 5.731634, 5.761465, 5.797722, 5.839852, 5.881714, 5.934834, 5.995309, 6.060161, 6.138128]}, {\"mode\": \"lines\", \"name\": \"8\", \"type\": \"scatter\", \"x\": [100.0, 112.2018, 125.8925, 141.2538, 158.4893, 177.8279, 199.5262, 223.8721, 251.1886, 281.8383, 316.2278, 354.8134, 398.1072, 446.6836, 501.1872, 562.3413, 630.9573, 707.9458, 794.3282, 891.2509, 1000.0, 1122.018, 1258.925, 1412.538, 1584.893, 1778.28, 1995.262, 2238.721, 2511.886, 2818.383, 3162.278, 3548.134, 3981.072, 4466.836, 5011.873, 5623.413, 6309.573, 7079.458, 7943.282, 8912.509, 10000.0], \"y\": [5.528496, 5.530449, 5.531512, 5.53219, 5.532825, 5.533571, 5.533658, 5.534784, 5.534854, 5.534763, 5.535229, 5.53667, 5.538016, 5.539331, 5.540668, 5.54274, 5.544819, 5.547541, 5.55078, 5.55475, 5.559543, 5.565279, 5.571196, 5.578419, 5.586767, 5.597178, 5.608855, 5.6215, 5.638517, 5.656537, 5.676707, 5.702977, 5.730651, 5.760982, 5.796487, 5.839473, 5.887577, 5.93512, 5.99398, 6.060902, 6.137676]}, {\"mode\": \"lines\", \"name\": \"9\", \"type\": \"scatter\", \"x\": [100.0, 112.2018, 125.8925, 141.2538, 158.4893, 177.8279, 199.5262, 223.8721, 251.1886, 281.8383, 316.2278, 354.8134, 398.1072, 446.6836, 501.1872, 562.3413, 630.9573, 707.9458, 794.3282, 891.2509, 1000.0, 1122.018, 1258.925, 1412.538, 1584.893, 1778.28, 1995.262, 2238.721, 2511.886, 2818.383, 3162.278, 3548.134, 3981.072, 4466.836, 5011.873, 5623.413, 6309.573, 7079.458, 7943.282, 8912.509, 10000.0], \"y\": [5.528587, 5.53035, 5.531398, 5.531961, 5.532701, 5.53314, 5.533608, 5.534649, 5.534629, 5.534774, 5.535065, 5.536354, 5.537855, 5.539042, 5.54041, 5.542347, 5.544763, 5.547262, 5.550553, 5.554624, 5.559196, 5.564878, 5.570674, 5.578249, 5.586524, 5.596985, 5.608828, 5.621632, 5.637697, 5.657173, 5.677656, 5.70111, 5.730354, 5.760903, 5.795278, 5.839932, 5.882139, 5.931834, 5.994541, 6.059506, 6.131807]}, {\"mode\": \"lines\", \"name\": \"10\", \"type\": \"scatter\", \"x\": [100.0, 112.2018, 125.8925, 141.2538, 158.4893, 177.8279, 199.5262, 223.8721, 251.1886, 281.8383, 316.2278, 354.8134, 398.1072, 446.6836, 501.1872, 562.3413, 630.9573, 707.9458, 794.3282, 891.2509, 1000.0, 1122.018, 1258.925, 1412.538, 1584.893, 1778.28, 1995.262, 2238.721, 2511.886, 2818.383, 3162.278, 3548.134, 3981.072, 4466.836, 5011.873, 5623.413, 6309.573, 7079.458, 7943.282, 8912.509, 10000.0], \"y\": [5.52877, 5.530572, 5.53124, 5.531856, 5.532819, 5.533362, 5.533764, 5.53491, 5.535015, 5.534582, 5.535541, 5.536644, 5.538078, 5.539165, 5.540912, 5.542859, 5.54516, 5.547867, 5.550555, 5.554465, 5.559307, 5.564935, 5.571075, 5.57842, 5.5869, 5.597294, 5.608582, 5.621842, 5.639108, 5.656108, 5.675704, 5.701654, 5.729625, 5.761517, 5.798095, 5.838382, 5.883069, 5.938822, 5.994652, 6.061018, 6.126345]}],\n",
       "                        {\"template\": {\"data\": {\"bar\": [{\"error_x\": {\"color\": \"#2a3f5f\"}, \"error_y\": {\"color\": \"#2a3f5f\"}, \"marker\": {\"line\": {\"color\": \"#E5ECF6\", \"width\": 0.5}}, \"type\": \"bar\"}], \"barpolar\": [{\"marker\": {\"line\": {\"color\": \"#E5ECF6\", \"width\": 0.5}}, \"type\": \"barpolar\"}], \"carpet\": [{\"aaxis\": {\"endlinecolor\": \"#2a3f5f\", \"gridcolor\": \"white\", \"linecolor\": \"white\", \"minorgridcolor\": \"white\", \"startlinecolor\": \"#2a3f5f\"}, \"baxis\": {\"endlinecolor\": \"#2a3f5f\", \"gridcolor\": \"white\", \"linecolor\": \"white\", \"minorgridcolor\": \"white\", \"startlinecolor\": \"#2a3f5f\"}, \"type\": \"carpet\"}], \"choropleth\": [{\"colorbar\": {\"outlinewidth\": 0, \"ticks\": \"\"}, \"type\": \"choropleth\"}], \"contour\": [{\"colorbar\": {\"outlinewidth\": 0, \"ticks\": \"\"}, \"colorscale\": [[0.0, \"#0d0887\"], [0.1111111111111111, \"#46039f\"], [0.2222222222222222, \"#7201a8\"], [0.3333333333333333, \"#9c179e\"], [0.4444444444444444, \"#bd3786\"], [0.5555555555555556, \"#d8576b\"], [0.6666666666666666, \"#ed7953\"], [0.7777777777777778, \"#fb9f3a\"], [0.8888888888888888, \"#fdca26\"], [1.0, \"#f0f921\"]], \"type\": \"contour\"}], \"contourcarpet\": [{\"colorbar\": {\"outlinewidth\": 0, \"ticks\": \"\"}, \"type\": \"contourcarpet\"}], \"heatmap\": [{\"colorbar\": {\"outlinewidth\": 0, \"ticks\": \"\"}, \"colorscale\": [[0.0, \"#0d0887\"], [0.1111111111111111, \"#46039f\"], [0.2222222222222222, \"#7201a8\"], [0.3333333333333333, \"#9c179e\"], [0.4444444444444444, \"#bd3786\"], [0.5555555555555556, \"#d8576b\"], [0.6666666666666666, \"#ed7953\"], [0.7777777777777778, \"#fb9f3a\"], [0.8888888888888888, \"#fdca26\"], [1.0, \"#f0f921\"]], \"type\": \"heatmap\"}], \"heatmapgl\": [{\"colorbar\": {\"outlinewidth\": 0, \"ticks\": \"\"}, \"colorscale\": [[0.0, \"#0d0887\"], [0.1111111111111111, \"#46039f\"], [0.2222222222222222, \"#7201a8\"], [0.3333333333333333, \"#9c179e\"], [0.4444444444444444, \"#bd3786\"], [0.5555555555555556, \"#d8576b\"], [0.6666666666666666, \"#ed7953\"], [0.7777777777777778, \"#fb9f3a\"], [0.8888888888888888, \"#fdca26\"], [1.0, \"#f0f921\"]], \"type\": \"heatmapgl\"}], \"histogram\": [{\"marker\": {\"colorbar\": {\"outlinewidth\": 0, \"ticks\": \"\"}}, \"type\": \"histogram\"}], \"histogram2d\": [{\"colorbar\": {\"outlinewidth\": 0, \"ticks\": \"\"}, \"colorscale\": [[0.0, \"#0d0887\"], [0.1111111111111111, \"#46039f\"], [0.2222222222222222, \"#7201a8\"], [0.3333333333333333, \"#9c179e\"], [0.4444444444444444, \"#bd3786\"], [0.5555555555555556, \"#d8576b\"], [0.6666666666666666, \"#ed7953\"], [0.7777777777777778, \"#fb9f3a\"], [0.8888888888888888, \"#fdca26\"], [1.0, \"#f0f921\"]], \"type\": \"histogram2d\"}], \"histogram2dcontour\": [{\"colorbar\": {\"outlinewidth\": 0, \"ticks\": \"\"}, \"colorscale\": [[0.0, \"#0d0887\"], [0.1111111111111111, \"#46039f\"], [0.2222222222222222, \"#7201a8\"], [0.3333333333333333, \"#9c179e\"], [0.4444444444444444, \"#bd3786\"], [0.5555555555555556, \"#d8576b\"], [0.6666666666666666, \"#ed7953\"], [0.7777777777777778, \"#fb9f3a\"], [0.8888888888888888, \"#fdca26\"], [1.0, \"#f0f921\"]], \"type\": \"histogram2dcontour\"}], \"mesh3d\": [{\"colorbar\": {\"outlinewidth\": 0, \"ticks\": \"\"}, \"type\": \"mesh3d\"}], \"parcoords\": [{\"line\": {\"colorbar\": {\"outlinewidth\": 0, \"ticks\": \"\"}}, \"type\": \"parcoords\"}], \"pie\": [{\"automargin\": true, \"type\": \"pie\"}], \"scatter\": [{\"marker\": {\"colorbar\": {\"outlinewidth\": 0, \"ticks\": \"\"}}, \"type\": \"scatter\"}], \"scatter3d\": [{\"line\": {\"colorbar\": {\"outlinewidth\": 0, \"ticks\": \"\"}}, \"marker\": {\"colorbar\": {\"outlinewidth\": 0, \"ticks\": \"\"}}, \"type\": \"scatter3d\"}], \"scattercarpet\": [{\"marker\": {\"colorbar\": {\"outlinewidth\": 0, \"ticks\": \"\"}}, \"type\": \"scattercarpet\"}], \"scattergeo\": [{\"marker\": {\"colorbar\": {\"outlinewidth\": 0, \"ticks\": \"\"}}, \"type\": \"scattergeo\"}], \"scattergl\": [{\"marker\": {\"colorbar\": {\"outlinewidth\": 0, \"ticks\": \"\"}}, \"type\": \"scattergl\"}], \"scattermapbox\": [{\"marker\": {\"colorbar\": {\"outlinewidth\": 0, \"ticks\": \"\"}}, \"type\": \"scattermapbox\"}], \"scatterpolar\": [{\"marker\": {\"colorbar\": {\"outlinewidth\": 0, \"ticks\": \"\"}}, \"type\": \"scatterpolar\"}], \"scatterpolargl\": [{\"marker\": {\"colorbar\": {\"outlinewidth\": 0, \"ticks\": \"\"}}, \"type\": \"scatterpolargl\"}], \"scatterternary\": [{\"marker\": {\"colorbar\": {\"outlinewidth\": 0, \"ticks\": \"\"}}, \"type\": \"scatterternary\"}], \"surface\": [{\"colorbar\": {\"outlinewidth\": 0, \"ticks\": \"\"}, \"colorscale\": [[0.0, \"#0d0887\"], [0.1111111111111111, \"#46039f\"], [0.2222222222222222, \"#7201a8\"], [0.3333333333333333, \"#9c179e\"], [0.4444444444444444, \"#bd3786\"], [0.5555555555555556, \"#d8576b\"], [0.6666666666666666, \"#ed7953\"], [0.7777777777777778, \"#fb9f3a\"], [0.8888888888888888, \"#fdca26\"], [1.0, \"#f0f921\"]], \"type\": \"surface\"}], \"table\": [{\"cells\": {\"fill\": {\"color\": \"#EBF0F8\"}, \"line\": {\"color\": \"white\"}}, \"header\": {\"fill\": {\"color\": \"#C8D4E3\"}, \"line\": {\"color\": \"white\"}}, \"type\": \"table\"}]}, \"layout\": {\"annotationdefaults\": {\"arrowcolor\": \"#2a3f5f\", \"arrowhead\": 0, \"arrowwidth\": 1}, \"coloraxis\": {\"colorbar\": {\"outlinewidth\": 0, \"ticks\": \"\"}}, \"colorscale\": {\"diverging\": [[0, \"#8e0152\"], [0.1, \"#c51b7d\"], [0.2, \"#de77ae\"], [0.3, \"#f1b6da\"], [0.4, \"#fde0ef\"], [0.5, \"#f7f7f7\"], [0.6, \"#e6f5d0\"], [0.7, \"#b8e186\"], [0.8, \"#7fbc41\"], [0.9, \"#4d9221\"], [1, \"#276419\"]], \"sequential\": [[0.0, \"#0d0887\"], [0.1111111111111111, \"#46039f\"], [0.2222222222222222, \"#7201a8\"], [0.3333333333333333, \"#9c179e\"], [0.4444444444444444, \"#bd3786\"], [0.5555555555555556, \"#d8576b\"], [0.6666666666666666, \"#ed7953\"], [0.7777777777777778, \"#fb9f3a\"], [0.8888888888888888, \"#fdca26\"], [1.0, \"#f0f921\"]], \"sequentialminus\": [[0.0, \"#0d0887\"], [0.1111111111111111, \"#46039f\"], [0.2222222222222222, \"#7201a8\"], [0.3333333333333333, \"#9c179e\"], [0.4444444444444444, \"#bd3786\"], [0.5555555555555556, \"#d8576b\"], [0.6666666666666666, \"#ed7953\"], [0.7777777777777778, \"#fb9f3a\"], [0.8888888888888888, \"#fdca26\"], [1.0, \"#f0f921\"]]}, \"colorway\": [\"#636efa\", \"#EF553B\", \"#00cc96\", \"#ab63fa\", \"#FFA15A\", \"#19d3f3\", \"#FF6692\", \"#B6E880\", \"#FF97FF\", \"#FECB52\"], \"font\": {\"color\": \"#2a3f5f\"}, \"geo\": {\"bgcolor\": \"white\", \"lakecolor\": \"white\", \"landcolor\": \"#E5ECF6\", \"showlakes\": true, \"showland\": true, \"subunitcolor\": \"white\"}, \"hoverlabel\": {\"align\": \"left\"}, \"hovermode\": \"closest\", \"mapbox\": {\"style\": \"light\"}, \"paper_bgcolor\": \"white\", \"plot_bgcolor\": \"#E5ECF6\", \"polar\": {\"angularaxis\": {\"gridcolor\": \"white\", \"linecolor\": \"white\", \"ticks\": \"\"}, \"bgcolor\": \"#E5ECF6\", \"radialaxis\": {\"gridcolor\": \"white\", \"linecolor\": \"white\", \"ticks\": \"\"}}, \"scene\": {\"xaxis\": {\"backgroundcolor\": \"#E5ECF6\", \"gridcolor\": \"white\", \"gridwidth\": 2, \"linecolor\": \"white\", \"showbackground\": true, \"ticks\": \"\", \"zerolinecolor\": \"white\"}, \"yaxis\": {\"backgroundcolor\": \"#E5ECF6\", \"gridcolor\": \"white\", \"gridwidth\": 2, \"linecolor\": \"white\", \"showbackground\": true, \"ticks\": \"\", \"zerolinecolor\": \"white\"}, \"zaxis\": {\"backgroundcolor\": \"#E5ECF6\", \"gridcolor\": \"white\", \"gridwidth\": 2, \"linecolor\": \"white\", \"showbackground\": true, \"ticks\": \"\", \"zerolinecolor\": \"white\"}}, \"shapedefaults\": {\"line\": {\"color\": \"#2a3f5f\"}}, \"ternary\": {\"aaxis\": {\"gridcolor\": \"white\", \"linecolor\": \"white\", \"ticks\": \"\"}, \"baxis\": {\"gridcolor\": \"white\", \"linecolor\": \"white\", \"ticks\": \"\"}, \"bgcolor\": \"#E5ECF6\", \"caxis\": {\"gridcolor\": \"white\", \"linecolor\": \"white\", \"ticks\": \"\"}}, \"title\": {\"x\": 0.05}, \"xaxis\": {\"automargin\": true, \"gridcolor\": \"white\", \"linecolor\": \"white\", \"ticks\": \"\", \"title\": {\"standoff\": 15}, \"zerolinecolor\": \"white\", \"zerolinewidth\": 2}, \"yaxis\": {\"automargin\": true, \"gridcolor\": \"white\", \"linecolor\": \"white\", \"ticks\": \"\", \"title\": {\"standoff\": 15}, \"zerolinecolor\": \"white\", \"zerolinewidth\": 2}}}, \"title\": {\"text\": \"Re(z)EXP3948.csv\"}, \"xaxis\": {\"autorange\": true, \"type\": \"log\", \"zeroline\": false}, \"yaxis\": {\"autorange\": true, \"type\": \"linear\", \"zeroline\": false}},\n",
       "                        {\"responsive\": true}\n",
       "                    ).then(function(){\n",
       "                            \n",
       "var gd = document.getElementById('b391e774-eda9-4152-be6a-c5489ce3ed4f');\n",
       "var x = new MutationObserver(function (mutations, observer) {{\n",
       "        var display = window.getComputedStyle(gd).display;\n",
       "        if (!display || display === 'none') {{\n",
       "            console.log([gd, 'removed!']);\n",
       "            Plotly.purge(gd);\n",
       "            observer.disconnect();\n",
       "        }}\n",
       "}});\n",
       "\n",
       "// Listen for the removal of the full notebook cells\n",
       "var notebookContainer = gd.closest('#notebook-container');\n",
       "if (notebookContainer) {{\n",
       "    x.observe(notebookContainer, {childList: true});\n",
       "}}\n",
       "\n",
       "// Listen for the clearing of the current output cell\n",
       "var outputEl = gd.closest('.output');\n",
       "if (outputEl) {{\n",
       "    x.observe(outputEl, {childList: true});\n",
       "}}\n",
       "\n",
       "                        })\n",
       "                };\n",
       "                });\n",
       "            </script>\n",
       "        </div>"
      ]
     },
     "metadata": {},
     "output_type": "display_data"
    },
    {
     "data": {
      "application/vnd.plotly.v1+json": {
       "config": {
        "linkText": "Export to plot.ly",
        "plotlyServerURL": "https://plot.ly",
        "showLink": false
       },
       "data": [
        {
         "mode": "lines",
         "name": "0",
         "type": "scatter",
         "x": [
          100,
          112.2018,
          125.8925,
          141.2538,
          158.4893,
          177.8279,
          199.5262,
          223.8721,
          251.1886,
          281.8383,
          316.2278,
          354.8134,
          398.1072,
          446.6836,
          501.1872,
          562.3413,
          630.9573,
          707.9458,
          794.3282,
          891.2509,
          1000,
          1122.018,
          1258.925,
          1412.538,
          1584.893,
          1778.28,
          1995.262,
          2238.721,
          2511.886,
          2818.383,
          3162.278,
          3548.134,
          3981.072,
          4466.836,
          5011.873,
          5623.413,
          6309.573,
          7079.458,
          7943.282,
          8912.509,
          10000
         ],
         "y": [
          0.0003459980716334877,
          0.00034611261717449395,
          0.0003460583515563318,
          0.0003459757357975547,
          0.00034623347264399793,
          0.0003458905651395996,
          0.0003459578908743867,
          0.00034622383874208647,
          0.0003460919844447065,
          0.0003458774459543099,
          0.00034544200920910316,
          0.00034532205326092286,
          0.00034524268516895483,
          0.0003451745309350897,
          0.00034502922858662517,
          0.00034478755384407693,
          0.0003445945273108241,
          0.00034432840602778813,
          0.00034393558717200163,
          0.00034368325678575006,
          0.0003433050108414298,
          0.000342901483661739,
          0.0003425183021360254,
          0.00034230800317193525,
          0.00034194885282619195,
          0.00034138013928273906,
          0.00034084007619702804,
          0.00034023761588175235,
          0.00033989403735106883,
          0.0003391575363206681,
          0.0003385271788427402,
          0.00033775090613553385,
          0.0003373247800007108,
          0.0003367774900333395,
          0.00033637385836508225,
          0.0003353592429246757,
          0.0003341899831480821,
          0.00033400839613065557,
          0.00033300531873189205,
          0.00033196517900799954,
          0.0003318237324017235
         ]
        },
        {
         "mode": "lines",
         "name": "1",
         "type": "scatter",
         "x": [
          100,
          112.2018,
          125.8925,
          141.2538,
          158.4893,
          177.8279,
          199.5262,
          223.8721,
          251.1886,
          281.8383,
          316.2278,
          354.8134,
          398.1072,
          446.6836,
          501.1872,
          562.3413,
          630.9573,
          707.9458,
          794.3282,
          891.2509,
          1000,
          1122.018,
          1258.925,
          1412.538,
          1584.893,
          1778.28,
          1995.262,
          2238.721,
          2511.886,
          2818.383,
          3162.278,
          3548.134,
          3981.072,
          4466.836,
          5011.873,
          5623.413,
          6309.573,
          7079.458,
          7943.282,
          8912.509,
          10000
         ],
         "y": [
          0.0003454518518687963,
          0.00034552026389464305,
          0.00034551195867030347,
          0.00034555602874328977,
          0.0003457207281625552,
          0.0003455449183708862,
          0.00034570519079804834,
          0.0003458196101640633,
          0.00034584380044587416,
          0.00034570747034109246,
          0.00034526057241896445,
          0.00034520305040927667,
          0.0003450718995320991,
          0.0003449702977521828,
          0.00034478947389609367,
          0.0003446508542320915,
          0.00034448581031765744,
          0.00034411213656866516,
          0.0003438951136013735,
          0.0003435080749158937,
          0.0003431993319592168,
          0.00034288900112135895,
          0.0003425102111724192,
          0.00034214000767719455,
          0.0003415486791562841,
          0.00034127488802136507,
          0.0003408403154963428,
          0.00034015138139966615,
          0.00033968900201274317,
          0.00033925223701946066,
          0.00033849245169012,
          0.0003375793769592447,
          0.00033765891538292995,
          0.00033673020855502176,
          0.0003357054033679017,
          0.00033527546842126435,
          0.0003348009171560864,
          0.0003336810693817127,
          0.0003329820764834125,
          0.0003321523253888451,
          0.0003312192619278605
         ]
        },
        {
         "mode": "lines",
         "name": "2",
         "type": "scatter",
         "x": [
          100,
          112.2018,
          125.8925,
          141.2538,
          158.4893,
          177.8279,
          199.5262,
          223.8721,
          251.1886,
          281.8383,
          316.2278,
          354.8134,
          398.1072,
          446.6836,
          501.1872,
          562.3413,
          630.9573,
          707.9458,
          794.3282,
          891.2509,
          1000,
          1122.018,
          1258.925,
          1412.538,
          1584.893,
          1778.28,
          1995.262,
          2238.721,
          2511.886,
          2818.383,
          3162.278,
          3548.134,
          3981.072,
          4466.836,
          5011.873,
          5623.413,
          6309.573,
          7079.458,
          7943.282,
          8912.509,
          10000
         ],
         "y": [
          0.00034511889972784805,
          0.00034530919548458124,
          0.0003454804797650233,
          0.0003454403135366508,
          0.00034570255214392203,
          0.0003455115350863885,
          0.00034565270448168767,
          0.00034583653003771253,
          0.00034580578400489906,
          0.00034568493869003805,
          0.00034524627892426287,
          0.00034518044300738083,
          0.0003450820539215563,
          0.00034489732678941366,
          0.0003447799472196487,
          0.0003445922686840977,
          0.00034438920101746516,
          0.000344119555375475,
          0.0003437454415357341,
          0.00034356343310106745,
          0.0003431729122386635,
          0.0003427508420948804,
          0.00034239946610806,
          0.00034209347371386264,
          0.0003417410838618157,
          0.000341283569460441,
          0.0003406700141507044,
          0.0003402099611302836,
          0.00033976142333280073,
          0.0003391326329168711,
          0.00033838268369031625,
          0.00033760189464922827,
          0.0003372505010416101,
          0.0003366939012254017,
          0.000336035026307129,
          0.00033524037369686224,
          0.00033430904212899785,
          0.0003336624099585243,
          0.00033288830603265044,
          0.00033252233235555483,
          0.00033160473520002905
         ]
        },
        {
         "mode": "lines",
         "name": "3",
         "type": "scatter",
         "x": [
          100,
          112.2018,
          125.8925,
          141.2538,
          158.4893,
          177.8279,
          199.5262,
          223.8721,
          251.1886,
          281.8383,
          316.2278,
          354.8134,
          398.1072,
          446.6836,
          501.1872,
          562.3413,
          630.9573,
          707.9458,
          794.3282,
          891.2509,
          1000,
          1122.018,
          1258.925,
          1412.538,
          1584.893,
          1778.28,
          1995.262,
          2238.721,
          2511.886,
          2818.383,
          3162.278,
          3548.134,
          3981.072,
          4466.836,
          5011.873,
          5623.413,
          6309.573,
          7079.458,
          7943.282,
          8912.509,
          10000
         ],
         "y": [
          0.0003452357194560775,
          0.0003453079188611333,
          0.0003454342095669006,
          0.0003454395248254079,
          0.0003457414146809996,
          0.00034550956609909916,
          0.00034557636800029376,
          0.0003457649404882807,
          0.00034573741777187887,
          0.0003455441582236756,
          0.00034516232980749407,
          0.00034517842448935444,
          0.000345014571207368,
          0.00034493637765620807,
          0.00034474850918738033,
          0.00034459651401366244,
          0.00034443006448125406,
          0.0003439747762365195,
          0.00034390232671297063,
          0.00034355986160524983,
          0.0003432254333698838,
          0.0003427989282447533,
          0.0003425335991140933,
          0.0003419444072889519,
          0.00034161083913160985,
          0.0003411745592254466,
          0.00034071268919516173,
          0.00034016368029941954,
          0.0003398149631538406,
          0.000339228237140518,
          0.00033844559519868617,
          0.0003376558115085116,
          0.00033754709716516643,
          0.00033647919271873804,
          0.00033628716562673054,
          0.0003352386755650364,
          0.0003341937668021366,
          0.0003338816019779057,
          0.0003330506010435848,
          0.0003325660831793212,
          0.00033167173943107075
         ]
        },
        {
         "mode": "lines",
         "name": "4",
         "type": "scatter",
         "x": [
          100,
          112.2018,
          125.8925,
          141.2538,
          158.4893,
          177.8279,
          199.5262,
          223.8721,
          251.1886,
          281.8383,
          316.2278,
          354.8134,
          398.1072,
          446.6836,
          501.1872,
          562.3413,
          630.9573,
          707.9458,
          794.3282,
          891.2509,
          1000,
          1122.018,
          1258.925,
          1412.538,
          1584.893,
          1778.28,
          1995.262,
          2238.721,
          2511.886,
          2818.383,
          3162.278,
          3548.134,
          3981.072,
          4466.836,
          5011.873,
          5623.413,
          6309.573,
          7079.458,
          7943.282,
          8912.509,
          10000
         ],
         "y": [
          0.0003450510997220909,
          0.00034530479822603827,
          0.0003455129700407543,
          0.0003453900613631737,
          0.000345671221106278,
          0.00034549793117420713,
          0.00034562845548446325,
          0.0003457527126804334,
          0.0003457026327283867,
          0.0003455634145971331,
          0.0003452100922246485,
          0.00034514989610124773,
          0.0003450374385726024,
          0.0003449698701879479,
          0.0003447215169374529,
          0.00034460868395841474,
          0.0003444131641598105,
          0.00034398174541867415,
          0.0003438682647970955,
          0.0003435411112522071,
          0.0003431676601255415,
          0.000342842191594934,
          0.0003425019937875067,
          0.00034199240600173495,
          0.0003416804301863767,
          0.000341129004045141,
          0.0003407711579943903,
          0.000340024553439203,
          0.0003397571781635585,
          0.00033923766768118485,
          0.0003384371398919612,
          0.0003376561255002046,
          0.00033700387730711503,
          0.0003366982481284573,
          0.0003356539593253633,
          0.00033520810919217004,
          0.00033475324311499935,
          0.00033358934595206384,
          0.0003330345719067024,
          0.0003319305354985682,
          0.0003316473887247777
         ]
        },
        {
         "mode": "lines",
         "name": "5",
         "type": "scatter",
         "x": [
          100,
          112.2018,
          125.8925,
          141.2538,
          158.4893,
          177.8279,
          199.5262,
          223.8721,
          251.1886,
          281.8383,
          316.2278,
          354.8134,
          398.1072,
          446.6836,
          501.1872,
          562.3413,
          630.9573,
          707.9458,
          794.3282,
          891.2509,
          1000,
          1122.018,
          1258.925,
          1412.538,
          1584.893,
          1778.28,
          1995.262,
          2238.721,
          2511.886,
          2818.383,
          3162.278,
          3548.134,
          3981.072,
          4466.836,
          5011.873,
          5623.413,
          6309.573,
          7079.458,
          7943.282,
          8912.509,
          10000
         ],
         "y": [
          0.0003450574659198146,
          0.00034528323747447286,
          0.00034543509451604506,
          0.00034547636890775547,
          0.00034570446012377855,
          0.00034554652936048667,
          0.00034554876881266337,
          0.00034586155438865595,
          0.00034577999618577097,
          0.000345652581206193,
          0.00034520078132140974,
          0.00034517129239232776,
          0.0003450371587272237,
          0.0003449208784526902,
          0.0003447285031668459,
          0.0003446341559358034,
          0.00034438062473494155,
          0.0003439887146008288,
          0.00034382698976962334,
          0.0003435282538672635,
          0.00034315254040594774,
          0.0003428393546539385,
          0.00034242057846621977,
          0.0003419486888642706,
          0.00034154898041626147,
          0.0003412351503002341,
          0.00034078918520943213,
          0.00034025076788437886,
          0.0003397928502573401,
          0.00033923416652237445,
          0.00033846909893821313,
          0.0003375679835463845,
          0.0003376263733631732,
          0.00033671688280303166,
          0.000335713024707537,
          0.00033527999677280005,
          0.000334732054652294,
          0.00033332991252604723,
          0.00033304759558041934,
          0.0003323714366572586,
          0.0003313585225030659
         ]
        },
        {
         "mode": "lines",
         "name": "6",
         "type": "scatter",
         "x": [
          100,
          112.2018,
          125.8925,
          141.2538,
          158.4893,
          177.8279,
          199.5262,
          223.8721,
          251.1886,
          281.8383,
          316.2278,
          354.8134,
          398.1072,
          446.6836,
          501.1872,
          562.3413,
          630.9573,
          707.9458,
          794.3282,
          891.2509,
          1000,
          1122.018,
          1258.925,
          1412.538,
          1584.893,
          1778.28,
          1995.262,
          2238.721,
          2511.886,
          2818.383,
          3162.278,
          3548.134,
          3981.072,
          4466.836,
          5011.873,
          5623.413,
          6309.573,
          7079.458,
          7943.282,
          8912.509,
          10000
         ],
         "y": [
          0.00034508340817553855,
          0.00034541657370125916,
          0.0003454045005599092,
          0.00034551535377776236,
          0.0003457001420641032,
          0.0003454022562918264,
          0.00034555203923663114,
          0.0003457911734016276,
          0.0003457217676703442,
          0.0003456853339821618,
          0.0003451991707867955,
          0.0003450907759510519,
          0.00034507078015058406,
          0.0003449187050011624,
          0.0003448174188136655,
          0.0003445967970356334,
          0.00034440988499296325,
          0.00034405728236073786,
          0.0003438079551695755,
          0.00034347057420980824,
          0.0003431931249164362,
          0.00034272942319036465,
          0.0003424434607226684,
          0.00034194080175184145,
          0.00034165201132851377,
          0.00034112766155456226,
          0.0003406587670829128,
          0.00034010645131501776,
          0.0003396137294596125,
          0.00033904674158540806,
          0.0003384143910905347,
          0.00033815833278517666,
          0.00033698780618679285,
          0.0003366754447025919,
          0.00033560092750373427,
          0.00033521348660961876,
          0.0003348112591438354,
          0.00033337442536690625,
          0.0003329003278853123,
          0.00033224482713052253,
          0.0003309677971177753
         ]
        },
        {
         "mode": "lines",
         "name": "7",
         "type": "scatter",
         "x": [
          100,
          112.2018,
          125.8925,
          141.2538,
          158.4893,
          177.8279,
          199.5262,
          223.8721,
          251.1886,
          281.8383,
          316.2278,
          354.8134,
          398.1072,
          446.6836,
          501.1872,
          562.3413,
          630.9573,
          707.9458,
          794.3282,
          891.2509,
          1000,
          1122.018,
          1258.925,
          1412.538,
          1584.893,
          1778.28,
          1995.262,
          2238.721,
          2511.886,
          2818.383,
          3162.278,
          3548.134,
          3981.072,
          4466.836,
          5011.873,
          5623.413,
          6309.573,
          7079.458,
          7943.282,
          8912.509,
          10000
         ],
         "y": [
          0.00034518367578968646,
          0.0003453520332936126,
          0.0003454929954743516,
          0.00034551546645079706,
          0.00034561629137040863,
          0.00034543966705032514,
          0.00034551295368189444,
          0.0003457559829081135,
          0.00034571904315874093,
          0.00034546843154682354,
          0.0003451281059469409,
          0.00034510948088476334,
          0.00034506058578321556,
          0.0003448951177075329,
          0.00034478566322551564,
          0.00034457132505824487,
          0.0003444199747371086,
          0.00034412832305625023,
          0.00034378571474215114,
          0.0003435389683547165,
          0.0003431784826616717,
          0.0003429263068954492,
          0.0003424124875026136,
          0.0003418996760941752,
          0.00034162017819090756,
          0.0003411854781488204,
          0.0003407670101396019,
          0.00034004133112904006,
          0.00033966137673230133,
          0.00033906644972129277,
          0.00033842334968932656,
          0.0003378868645386019,
          0.00033697477338772574,
          0.000336611951413698,
          0.0003362449307029182,
          0.0003353371672109389,
          0.0003348082322205918,
          0.0003339811938390195,
          0.0003329397996348852,
          0.000332163039876298,
          0.00033103909853228047
         ]
        },
        {
         "mode": "lines",
         "name": "8",
         "type": "scatter",
         "x": [
          100,
          112.2018,
          125.8925,
          141.2538,
          158.4893,
          177.8279,
          199.5262,
          223.8721,
          251.1886,
          281.8383,
          316.2278,
          354.8134,
          398.1072,
          446.6836,
          501.1872,
          562.3413,
          630.9573,
          707.9458,
          794.3282,
          891.2509,
          1000,
          1122.018,
          1258.925,
          1412.538,
          1584.893,
          1778.28,
          1995.262,
          2238.721,
          2511.886,
          2818.383,
          3162.278,
          3548.134,
          3981.072,
          4466.836,
          5011.873,
          5623.413,
          6309.573,
          7079.458,
          7943.282,
          8912.509,
          10000
         ],
         "y": [
          0.00034505667014509913,
          0.0003452864999566176,
          0.00034548427240421373,
          0.0003453618931044982,
          0.0003455958056919491,
          0.000345410848236362,
          0.00034553768127774823,
          0.0003458537342789861,
          0.00034576466288791104,
          0.00034564055303156995,
          0.00034521004189544174,
          0.00034515729733401127,
          0.00034505302995798954,
          0.00034491613961575257,
          0.0003447758189931892,
          0.00034465226934194635,
          0.0003444149298650359,
          0.0003440570575484103,
          0.00034386425751287494,
          0.0003435220037495826,
          0.0003432120643546641,
          0.00034273665738990305,
          0.00034248505333245636,
          0.0003420729672215469,
          0.00034154024387691843,
          0.00034117813920032323,
          0.00034068421257671074,
          0.0003401589171417116,
          0.00033977675663066065,
          0.0003392474370436721,
          0.00033844116622849693,
          0.0003381724624113615,
          0.0003371823786808418,
          0.0003365265810881145,
          0.0003362220666840122,
          0.0003353017894645659,
          0.00033419427128934386,
          0.0003336001369437872,
          0.0003329828779402567,
          0.00033221946951021713,
          0.00033114143516068854
         ]
        },
        {
         "mode": "lines",
         "name": "9",
         "type": "scatter",
         "x": [
          100,
          112.2018,
          125.8925,
          141.2538,
          158.4893,
          177.8279,
          199.5262,
          223.8721,
          251.1886,
          281.8383,
          316.2278,
          354.8134,
          398.1072,
          446.6836,
          501.1872,
          562.3413,
          630.9573,
          707.9458,
          794.3282,
          891.2509,
          1000,
          1122.018,
          1258.925,
          1412.538,
          1584.893,
          1778.28,
          1995.262,
          2238.721,
          2511.886,
          2818.383,
          3162.278,
          3548.134,
          3981.072,
          4466.836,
          5011.873,
          5623.413,
          6309.573,
          7079.458,
          7943.282,
          8912.509,
          10000
         ],
         "y": [
          0.0003450533278912942,
          0.0003452276334309619,
          0.0003454286470294213,
          0.0003454262294073131,
          0.00034563858460873225,
          0.0003454297326144559,
          0.00034560412672080063,
          0.0003457474518793828,
          0.00034574058580862685,
          0.0003455704733850574,
          0.00034513253491713007,
          0.00034511836236407955,
          0.0003450292431007964,
          0.0003449327077298579,
          0.000344706274255141,
          0.0003445634004430573,
          0.00034442073146791956,
          0.0003440224364499644,
          0.0003436837293587369,
          0.0003434545024786288,
          0.0003431571558992974,
          0.00034276304094116083,
          0.0003424663429791171,
          0.00034210924793872093,
          0.00034152377499815684,
          0.00034112560306900815,
          0.00034068668533629616,
          0.00034028723803220255,
          0.0003397164372109802,
          0.00033924399235516503,
          0.0003385476125006587,
          0.00033809427847980507,
          0.00033727048999723455,
          0.00033658839975042143,
          0.0003362423902563731,
          0.00033528367605842286,
          0.00033482210561879173,
          0.00033415092714633536,
          0.0003328660656052262,
          0.00033224125563470486,
          0.0003314778887103848
         ]
        },
        {
         "mode": "lines",
         "name": "10",
         "type": "scatter",
         "x": [
          100,
          112.2018,
          125.8925,
          141.2538,
          158.4893,
          177.8279,
          199.5262,
          223.8721,
          251.1886,
          281.8383,
          316.2278,
          354.8134,
          398.1072,
          446.6836,
          501.1872,
          562.3413,
          630.9573,
          707.9458,
          794.3282,
          891.2509,
          1000,
          1122.018,
          1258.925,
          1412.538,
          1584.893,
          1778.28,
          1995.262,
          2238.721,
          2511.886,
          2818.383,
          3162.278,
          3548.134,
          3981.072,
          4466.836,
          5011.873,
          5623.413,
          6309.573,
          7079.458,
          7943.282,
          8912.509,
          10000
         ],
         "y": [
          0.0003450913659226932,
          0.0003453422458471783,
          0.000345395651068465,
          0.0003454185676409533,
          0.00034553354529663096,
          0.0003454505859798391,
          0.0003456962569569656,
          0.00034578896955253887,
          0.00034573228555234725,
          0.0003455821062675567,
          0.0003451889036286295,
          0.000345150299804853,
          0.00034502188716512656,
          0.0003448986451124715,
          0.0003447364420638834,
          0.00034457896665146147,
          0.00034436397665710164,
          0.00034412112906176797,
          0.00034378571474215114,
          0.00034344485943992107,
          0.0003432106319601763,
          0.000342859638782056,
          0.00034236748151755434,
          0.00034189832401775874,
          0.0003414641255226424,
          0.0003412960098731374,
          0.00034071021643557637,
          0.0003401287030816237,
          0.00033962836578938795,
          0.00033918035032323945,
          0.00033838318698238323,
          0.00033834085167072067,
          0.0003376180979355447,
          0.00033669229785952056,
          0.00033564951354390937,
          0.00033516678798440637,
          0.00033472045144652675,
          0.0003334184885831101,
          0.0003330904735215798,
          0.00033215643260903536,
          0.0003317965169064548
         ]
        }
       ],
       "layout": {
        "autosize": true,
        "template": {
         "data": {
          "bar": [
           {
            "error_x": {
             "color": "#2a3f5f"
            },
            "error_y": {
             "color": "#2a3f5f"
            },
            "marker": {
             "line": {
              "color": "#E5ECF6",
              "width": 0.5
             }
            },
            "type": "bar"
           }
          ],
          "barpolar": [
           {
            "marker": {
             "line": {
              "color": "#E5ECF6",
              "width": 0.5
             }
            },
            "type": "barpolar"
           }
          ],
          "carpet": [
           {
            "aaxis": {
             "endlinecolor": "#2a3f5f",
             "gridcolor": "white",
             "linecolor": "white",
             "minorgridcolor": "white",
             "startlinecolor": "#2a3f5f"
            },
            "baxis": {
             "endlinecolor": "#2a3f5f",
             "gridcolor": "white",
             "linecolor": "white",
             "minorgridcolor": "white",
             "startlinecolor": "#2a3f5f"
            },
            "type": "carpet"
           }
          ],
          "choropleth": [
           {
            "colorbar": {
             "outlinewidth": 0,
             "ticks": ""
            },
            "type": "choropleth"
           }
          ],
          "contour": [
           {
            "colorbar": {
             "outlinewidth": 0,
             "ticks": ""
            },
            "colorscale": [
             [
              0,
              "#0d0887"
             ],
             [
              0.1111111111111111,
              "#46039f"
             ],
             [
              0.2222222222222222,
              "#7201a8"
             ],
             [
              0.3333333333333333,
              "#9c179e"
             ],
             [
              0.4444444444444444,
              "#bd3786"
             ],
             [
              0.5555555555555556,
              "#d8576b"
             ],
             [
              0.6666666666666666,
              "#ed7953"
             ],
             [
              0.7777777777777778,
              "#fb9f3a"
             ],
             [
              0.8888888888888888,
              "#fdca26"
             ],
             [
              1,
              "#f0f921"
             ]
            ],
            "type": "contour"
           }
          ],
          "contourcarpet": [
           {
            "colorbar": {
             "outlinewidth": 0,
             "ticks": ""
            },
            "type": "contourcarpet"
           }
          ],
          "heatmap": [
           {
            "colorbar": {
             "outlinewidth": 0,
             "ticks": ""
            },
            "colorscale": [
             [
              0,
              "#0d0887"
             ],
             [
              0.1111111111111111,
              "#46039f"
             ],
             [
              0.2222222222222222,
              "#7201a8"
             ],
             [
              0.3333333333333333,
              "#9c179e"
             ],
             [
              0.4444444444444444,
              "#bd3786"
             ],
             [
              0.5555555555555556,
              "#d8576b"
             ],
             [
              0.6666666666666666,
              "#ed7953"
             ],
             [
              0.7777777777777778,
              "#fb9f3a"
             ],
             [
              0.8888888888888888,
              "#fdca26"
             ],
             [
              1,
              "#f0f921"
             ]
            ],
            "type": "heatmap"
           }
          ],
          "heatmapgl": [
           {
            "colorbar": {
             "outlinewidth": 0,
             "ticks": ""
            },
            "colorscale": [
             [
              0,
              "#0d0887"
             ],
             [
              0.1111111111111111,
              "#46039f"
             ],
             [
              0.2222222222222222,
              "#7201a8"
             ],
             [
              0.3333333333333333,
              "#9c179e"
             ],
             [
              0.4444444444444444,
              "#bd3786"
             ],
             [
              0.5555555555555556,
              "#d8576b"
             ],
             [
              0.6666666666666666,
              "#ed7953"
             ],
             [
              0.7777777777777778,
              "#fb9f3a"
             ],
             [
              0.8888888888888888,
              "#fdca26"
             ],
             [
              1,
              "#f0f921"
             ]
            ],
            "type": "heatmapgl"
           }
          ],
          "histogram": [
           {
            "marker": {
             "colorbar": {
              "outlinewidth": 0,
              "ticks": ""
             }
            },
            "type": "histogram"
           }
          ],
          "histogram2d": [
           {
            "colorbar": {
             "outlinewidth": 0,
             "ticks": ""
            },
            "colorscale": [
             [
              0,
              "#0d0887"
             ],
             [
              0.1111111111111111,
              "#46039f"
             ],
             [
              0.2222222222222222,
              "#7201a8"
             ],
             [
              0.3333333333333333,
              "#9c179e"
             ],
             [
              0.4444444444444444,
              "#bd3786"
             ],
             [
              0.5555555555555556,
              "#d8576b"
             ],
             [
              0.6666666666666666,
              "#ed7953"
             ],
             [
              0.7777777777777778,
              "#fb9f3a"
             ],
             [
              0.8888888888888888,
              "#fdca26"
             ],
             [
              1,
              "#f0f921"
             ]
            ],
            "type": "histogram2d"
           }
          ],
          "histogram2dcontour": [
           {
            "colorbar": {
             "outlinewidth": 0,
             "ticks": ""
            },
            "colorscale": [
             [
              0,
              "#0d0887"
             ],
             [
              0.1111111111111111,
              "#46039f"
             ],
             [
              0.2222222222222222,
              "#7201a8"
             ],
             [
              0.3333333333333333,
              "#9c179e"
             ],
             [
              0.4444444444444444,
              "#bd3786"
             ],
             [
              0.5555555555555556,
              "#d8576b"
             ],
             [
              0.6666666666666666,
              "#ed7953"
             ],
             [
              0.7777777777777778,
              "#fb9f3a"
             ],
             [
              0.8888888888888888,
              "#fdca26"
             ],
             [
              1,
              "#f0f921"
             ]
            ],
            "type": "histogram2dcontour"
           }
          ],
          "mesh3d": [
           {
            "colorbar": {
             "outlinewidth": 0,
             "ticks": ""
            },
            "type": "mesh3d"
           }
          ],
          "parcoords": [
           {
            "line": {
             "colorbar": {
              "outlinewidth": 0,
              "ticks": ""
             }
            },
            "type": "parcoords"
           }
          ],
          "pie": [
           {
            "automargin": true,
            "type": "pie"
           }
          ],
          "scatter": [
           {
            "marker": {
             "colorbar": {
              "outlinewidth": 0,
              "ticks": ""
             }
            },
            "type": "scatter"
           }
          ],
          "scatter3d": [
           {
            "line": {
             "colorbar": {
              "outlinewidth": 0,
              "ticks": ""
             }
            },
            "marker": {
             "colorbar": {
              "outlinewidth": 0,
              "ticks": ""
             }
            },
            "type": "scatter3d"
           }
          ],
          "scattercarpet": [
           {
            "marker": {
             "colorbar": {
              "outlinewidth": 0,
              "ticks": ""
             }
            },
            "type": "scattercarpet"
           }
          ],
          "scattergeo": [
           {
            "marker": {
             "colorbar": {
              "outlinewidth": 0,
              "ticks": ""
             }
            },
            "type": "scattergeo"
           }
          ],
          "scattergl": [
           {
            "marker": {
             "colorbar": {
              "outlinewidth": 0,
              "ticks": ""
             }
            },
            "type": "scattergl"
           }
          ],
          "scattermapbox": [
           {
            "marker": {
             "colorbar": {
              "outlinewidth": 0,
              "ticks": ""
             }
            },
            "type": "scattermapbox"
           }
          ],
          "scatterpolar": [
           {
            "marker": {
             "colorbar": {
              "outlinewidth": 0,
              "ticks": ""
             }
            },
            "type": "scatterpolar"
           }
          ],
          "scatterpolargl": [
           {
            "marker": {
             "colorbar": {
              "outlinewidth": 0,
              "ticks": ""
             }
            },
            "type": "scatterpolargl"
           }
          ],
          "scatterternary": [
           {
            "marker": {
             "colorbar": {
              "outlinewidth": 0,
              "ticks": ""
             }
            },
            "type": "scatterternary"
           }
          ],
          "surface": [
           {
            "colorbar": {
             "outlinewidth": 0,
             "ticks": ""
            },
            "colorscale": [
             [
              0,
              "#0d0887"
             ],
             [
              0.1111111111111111,
              "#46039f"
             ],
             [
              0.2222222222222222,
              "#7201a8"
             ],
             [
              0.3333333333333333,
              "#9c179e"
             ],
             [
              0.4444444444444444,
              "#bd3786"
             ],
             [
              0.5555555555555556,
              "#d8576b"
             ],
             [
              0.6666666666666666,
              "#ed7953"
             ],
             [
              0.7777777777777778,
              "#fb9f3a"
             ],
             [
              0.8888888888888888,
              "#fdca26"
             ],
             [
              1,
              "#f0f921"
             ]
            ],
            "type": "surface"
           }
          ],
          "table": [
           {
            "cells": {
             "fill": {
              "color": "#EBF0F8"
             },
             "line": {
              "color": "white"
             }
            },
            "header": {
             "fill": {
              "color": "#C8D4E3"
             },
             "line": {
              "color": "white"
             }
            },
            "type": "table"
           }
          ]
         },
         "layout": {
          "annotationdefaults": {
           "arrowcolor": "#2a3f5f",
           "arrowhead": 0,
           "arrowwidth": 1
          },
          "coloraxis": {
           "colorbar": {
            "outlinewidth": 0,
            "ticks": ""
           }
          },
          "colorscale": {
           "diverging": [
            [
             0,
             "#8e0152"
            ],
            [
             0.1,
             "#c51b7d"
            ],
            [
             0.2,
             "#de77ae"
            ],
            [
             0.3,
             "#f1b6da"
            ],
            [
             0.4,
             "#fde0ef"
            ],
            [
             0.5,
             "#f7f7f7"
            ],
            [
             0.6,
             "#e6f5d0"
            ],
            [
             0.7,
             "#b8e186"
            ],
            [
             0.8,
             "#7fbc41"
            ],
            [
             0.9,
             "#4d9221"
            ],
            [
             1,
             "#276419"
            ]
           ],
           "sequential": [
            [
             0,
             "#0d0887"
            ],
            [
             0.1111111111111111,
             "#46039f"
            ],
            [
             0.2222222222222222,
             "#7201a8"
            ],
            [
             0.3333333333333333,
             "#9c179e"
            ],
            [
             0.4444444444444444,
             "#bd3786"
            ],
            [
             0.5555555555555556,
             "#d8576b"
            ],
            [
             0.6666666666666666,
             "#ed7953"
            ],
            [
             0.7777777777777778,
             "#fb9f3a"
            ],
            [
             0.8888888888888888,
             "#fdca26"
            ],
            [
             1,
             "#f0f921"
            ]
           ],
           "sequentialminus": [
            [
             0,
             "#0d0887"
            ],
            [
             0.1111111111111111,
             "#46039f"
            ],
            [
             0.2222222222222222,
             "#7201a8"
            ],
            [
             0.3333333333333333,
             "#9c179e"
            ],
            [
             0.4444444444444444,
             "#bd3786"
            ],
            [
             0.5555555555555556,
             "#d8576b"
            ],
            [
             0.6666666666666666,
             "#ed7953"
            ],
            [
             0.7777777777777778,
             "#fb9f3a"
            ],
            [
             0.8888888888888888,
             "#fdca26"
            ],
            [
             1,
             "#f0f921"
            ]
           ]
          },
          "colorway": [
           "#636efa",
           "#EF553B",
           "#00cc96",
           "#ab63fa",
           "#FFA15A",
           "#19d3f3",
           "#FF6692",
           "#B6E880",
           "#FF97FF",
           "#FECB52"
          ],
          "font": {
           "color": "#2a3f5f"
          },
          "geo": {
           "bgcolor": "white",
           "lakecolor": "white",
           "landcolor": "#E5ECF6",
           "showlakes": true,
           "showland": true,
           "subunitcolor": "white"
          },
          "hoverlabel": {
           "align": "left"
          },
          "hovermode": "closest",
          "mapbox": {
           "style": "light"
          },
          "paper_bgcolor": "white",
          "plot_bgcolor": "#E5ECF6",
          "polar": {
           "angularaxis": {
            "gridcolor": "white",
            "linecolor": "white",
            "ticks": ""
           },
           "bgcolor": "#E5ECF6",
           "radialaxis": {
            "gridcolor": "white",
            "linecolor": "white",
            "ticks": ""
           }
          },
          "scene": {
           "xaxis": {
            "backgroundcolor": "#E5ECF6",
            "gridcolor": "white",
            "gridwidth": 2,
            "linecolor": "white",
            "showbackground": true,
            "ticks": "",
            "zerolinecolor": "white"
           },
           "yaxis": {
            "backgroundcolor": "#E5ECF6",
            "gridcolor": "white",
            "gridwidth": 2,
            "linecolor": "white",
            "showbackground": true,
            "ticks": "",
            "zerolinecolor": "white"
           },
           "zaxis": {
            "backgroundcolor": "#E5ECF6",
            "gridcolor": "white",
            "gridwidth": 2,
            "linecolor": "white",
            "showbackground": true,
            "ticks": "",
            "zerolinecolor": "white"
           }
          },
          "shapedefaults": {
           "line": {
            "color": "#2a3f5f"
           }
          },
          "ternary": {
           "aaxis": {
            "gridcolor": "white",
            "linecolor": "white",
            "ticks": ""
           },
           "baxis": {
            "gridcolor": "white",
            "linecolor": "white",
            "ticks": ""
           },
           "bgcolor": "#E5ECF6",
           "caxis": {
            "gridcolor": "white",
            "linecolor": "white",
            "ticks": ""
           }
          },
          "title": {
           "x": 0.05
          },
          "xaxis": {
           "automargin": true,
           "gridcolor": "white",
           "linecolor": "white",
           "ticks": "",
           "title": {
            "standoff": 15
           },
           "zerolinecolor": "white",
           "zerolinewidth": 2
          },
          "yaxis": {
           "automargin": true,
           "gridcolor": "white",
           "linecolor": "white",
           "ticks": "",
           "title": {
            "standoff": 15
           },
           "zerolinecolor": "white",
           "zerolinewidth": 2
          }
         }
        },
        "title": {
         "text": "Im(z)EXP3948.csv"
        },
        "xaxis": {
         "autorange": true,
         "range": [
          2,
          4
         ],
         "type": "log",
         "zeroline": false
        },
        "yaxis": {
         "autorange": true,
         "range": [
          0.00033011970403298515,
          0.0003470815657287881
         ],
         "type": "linear",
         "zeroline": false
        }
       }
      },
      "image/png": "[encoded data removed]",
      "text/html": [
       "<div>\n",
       "        \n",
       "        \n",
       "            <div id=\"f6362e80-4db4-4cca-b944-fde13467e680\" class=\"plotly-graph-div\" style=\"height:525px; width:100%;\"></div>\n",
       "            <script type=\"text/javascript\">\n",
       "                require([\"plotly\"], function(Plotly) {\n",
       "                    window.PLOTLYENV=window.PLOTLYENV || {};\n",
       "                    \n",
       "                if (document.getElementById(\"f6362e80-4db4-4cca-b944-fde13467e680\")) {\n",
       "                    Plotly.newPlot(\n",
       "                        'f6362e80-4db4-4cca-b944-fde13467e680',\n",
       "                        [{\"mode\": \"lines\", \"name\": \"0\", \"type\": \"scatter\", \"x\": [100.0, 112.2018, 125.8925, 141.2538, 158.4893, 177.8279, 199.5262, 223.8721, 251.1886, 281.8383, 316.2278, 354.8134, 398.1072, 446.6836, 501.1872, 562.3413, 630.9573, 707.9458, 794.3282, 891.2509, 1000.0, 1122.018, 1258.925, 1412.538, 1584.893, 1778.28, 1995.262, 2238.721, 2511.886, 2818.383, 3162.278, 3548.134, 3981.072, 4466.836, 5011.873, 5623.413, 6309.573, 7079.458, 7943.282, 8912.509, 10000.0], \"y\": [0.0003459980716334877, 0.00034611261717449395, 0.0003460583515563318, 0.0003459757357975547, 0.00034623347264399793, 0.0003458905651395996, 0.0003459578908743867, 0.00034622383874208647, 0.0003460919844447065, 0.0003458774459543099, 0.00034544200920910316, 0.00034532205326092286, 0.00034524268516895483, 0.0003451745309350897, 0.00034502922858662517, 0.00034478755384407693, 0.0003445945273108241, 0.00034432840602778813, 0.00034393558717200163, 0.00034368325678575006, 0.0003433050108414298, 0.000342901483661739, 0.0003425183021360254, 0.00034230800317193525, 0.00034194885282619195, 0.00034138013928273906, 0.00034084007619702804, 0.00034023761588175235, 0.00033989403735106883, 0.0003391575363206681, 0.0003385271788427402, 0.00033775090613553385, 0.0003373247800007108, 0.0003367774900333395, 0.00033637385836508225, 0.0003353592429246757, 0.0003341899831480821, 0.00033400839613065557, 0.00033300531873189205, 0.00033196517900799954, 0.0003318237324017235]}, {\"mode\": \"lines\", \"name\": \"1\", \"type\": \"scatter\", \"x\": [100.0, 112.2018, 125.8925, 141.2538, 158.4893, 177.8279, 199.5262, 223.8721, 251.1886, 281.8383, 316.2278, 354.8134, 398.1072, 446.6836, 501.1872, 562.3413, 630.9573, 707.9458, 794.3282, 891.2509, 1000.0, 1122.018, 1258.925, 1412.538, 1584.893, 1778.28, 1995.262, 2238.721, 2511.886, 2818.383, 3162.278, 3548.134, 3981.072, 4466.836, 5011.873, 5623.413, 6309.573, 7079.458, 7943.282, 8912.509, 10000.0], \"y\": [0.0003454518518687963, 0.00034552026389464305, 0.00034551195867030347, 0.00034555602874328977, 0.0003457207281625552, 0.0003455449183708862, 0.00034570519079804834, 0.0003458196101640633, 0.00034584380044587416, 0.00034570747034109246, 0.00034526057241896445, 0.00034520305040927667, 0.0003450718995320991, 0.0003449702977521828, 0.00034478947389609367, 0.0003446508542320915, 0.00034448581031765744, 0.00034411213656866516, 0.0003438951136013735, 0.0003435080749158937, 0.0003431993319592168, 0.00034288900112135895, 0.0003425102111724192, 0.00034214000767719455, 0.0003415486791562841, 0.00034127488802136507, 0.0003408403154963428, 0.00034015138139966615, 0.00033968900201274317, 0.00033925223701946066, 0.00033849245169012, 0.0003375793769592447, 0.00033765891538292995, 0.00033673020855502176, 0.0003357054033679017, 0.00033527546842126435, 0.0003348009171560864, 0.0003336810693817127, 0.0003329820764834125, 0.0003321523253888451, 0.0003312192619278605]}, {\"mode\": \"lines\", \"name\": \"2\", \"type\": \"scatter\", \"x\": [100.0, 112.2018, 125.8925, 141.2538, 158.4893, 177.8279, 199.5262, 223.8721, 251.1886, 281.8383, 316.2278, 354.8134, 398.1072, 446.6836, 501.1872, 562.3413, 630.9573, 707.9458, 794.3282, 891.2509, 1000.0, 1122.018, 1258.925, 1412.538, 1584.893, 1778.28, 1995.262, 2238.721, 2511.886, 2818.383, 3162.278, 3548.134, 3981.072, 4466.836, 5011.873, 5623.413, 6309.573, 7079.458, 7943.282, 8912.509, 10000.0], \"y\": [0.00034511889972784805, 0.00034530919548458124, 0.0003454804797650233, 0.0003454403135366508, 0.00034570255214392203, 0.0003455115350863885, 0.00034565270448168767, 0.00034583653003771253, 0.00034580578400489906, 0.00034568493869003805, 0.00034524627892426287, 0.00034518044300738083, 0.0003450820539215563, 0.00034489732678941366, 0.0003447799472196487, 0.0003445922686840977, 0.00034438920101746516, 0.000344119555375475, 0.0003437454415357341, 0.00034356343310106745, 0.0003431729122386635, 0.0003427508420948804, 0.00034239946610806, 0.00034209347371386264, 0.0003417410838618157, 0.000341283569460441, 0.0003406700141507044, 0.0003402099611302836, 0.00033976142333280073, 0.0003391326329168711, 0.00033838268369031625, 0.00033760189464922827, 0.0003372505010416101, 0.0003366939012254017, 0.000336035026307129, 0.00033524037369686224, 0.00033430904212899785, 0.0003336624099585243, 0.00033288830603265044, 0.00033252233235555483, 0.00033160473520002905]}, {\"mode\": \"lines\", \"name\": \"3\", \"type\": \"scatter\", \"x\": [100.0, 112.2018, 125.8925, 141.2538, 158.4893, 177.8279, 199.5262, 223.8721, 251.1886, 281.8383, 316.2278, 354.8134, 398.1072, 446.6836, 501.1872, 562.3413, 630.9573, 707.9458, 794.3282, 891.2509, 1000.0, 1122.018, 1258.925, 1412.538, 1584.893, 1778.28, 1995.262, 2238.721, 2511.886, 2818.383, 3162.278, 3548.134, 3981.072, 4466.836, 5011.873, 5623.413, 6309.573, 7079.458, 7943.282, 8912.509, 10000.0], \"y\": [0.0003452357194560775, 0.0003453079188611333, 0.0003454342095669006, 0.0003454395248254079, 0.0003457414146809996, 0.00034550956609909916, 0.00034557636800029376, 0.0003457649404882807, 0.00034573741777187887, 0.0003455441582236756, 0.00034516232980749407, 0.00034517842448935444, 0.000345014571207368, 0.00034493637765620807, 0.00034474850918738033, 0.00034459651401366244, 0.00034443006448125406, 0.0003439747762365195, 0.00034390232671297063, 0.00034355986160524983, 0.0003432254333698838, 0.0003427989282447533, 0.0003425335991140933, 0.0003419444072889519, 0.00034161083913160985, 0.0003411745592254466, 0.00034071268919516173, 0.00034016368029941954, 0.0003398149631538406, 0.000339228237140518, 0.00033844559519868617, 0.0003376558115085116, 0.00033754709716516643, 0.00033647919271873804, 0.00033628716562673054, 0.0003352386755650364, 0.0003341937668021366, 0.0003338816019779057, 0.0003330506010435848, 0.0003325660831793212, 0.00033167173943107075]}, {\"mode\": \"lines\", \"name\": \"4\", \"type\": \"scatter\", \"x\": [100.0, 112.2018, 125.8925, 141.2538, 158.4893, 177.8279, 199.5262, 223.8721, 251.1886, 281.8383, 316.2278, 354.8134, 398.1072, 446.6836, 501.1872, 562.3413, 630.9573, 707.9458, 794.3282, 891.2509, 1000.0, 1122.018, 1258.925, 1412.538, 1584.893, 1778.28, 1995.262, 2238.721, 2511.886, 2818.383, 3162.278, 3548.134, 3981.072, 4466.836, 5011.873, 5623.413, 6309.573, 7079.458, 7943.282, 8912.509, 10000.0], \"y\": [0.0003450510997220909, 0.00034530479822603827, 0.0003455129700407543, 0.0003453900613631737, 0.000345671221106278, 0.00034549793117420713, 0.00034562845548446325, 0.0003457527126804334, 0.0003457026327283867, 0.0003455634145971331, 0.0003452100922246485, 0.00034514989610124773, 0.0003450374385726024, 0.0003449698701879479, 0.0003447215169374529, 0.00034460868395841474, 0.0003444131641598105, 0.00034398174541867415, 0.0003438682647970955, 0.0003435411112522071, 0.0003431676601255415, 0.000342842191594934, 0.0003425019937875067, 0.00034199240600173495, 0.0003416804301863767, 0.000341129004045141, 0.0003407711579943903, 0.000340024553439203, 0.0003397571781635585, 0.00033923766768118485, 0.0003384371398919612, 0.0003376561255002046, 0.00033700387730711503, 0.0003366982481284573, 0.0003356539593253633, 0.00033520810919217004, 0.00033475324311499935, 0.00033358934595206384, 0.0003330345719067024, 0.0003319305354985682, 0.0003316473887247777]}, {\"mode\": \"lines\", \"name\": \"5\", \"type\": \"scatter\", \"x\": [100.0, 112.2018, 125.8925, 141.2538, 158.4893, 177.8279, 199.5262, 223.8721, 251.1886, 281.8383, 316.2278, 354.8134, 398.1072, 446.6836, 501.1872, 562.3413, 630.9573, 707.9458, 794.3282, 891.2509, 1000.0, 1122.018, 1258.925, 1412.538, 1584.893, 1778.28, 1995.262, 2238.721, 2511.886, 2818.383, 3162.278, 3548.134, 3981.072, 4466.836, 5011.873, 5623.413, 6309.573, 7079.458, 7943.282, 8912.509, 10000.0], \"y\": [0.0003450574659198146, 0.00034528323747447286, 0.00034543509451604506, 0.00034547636890775547, 0.00034570446012377855, 0.00034554652936048667, 0.00034554876881266337, 0.00034586155438865595, 0.00034577999618577097, 0.000345652581206193, 0.00034520078132140974, 0.00034517129239232776, 0.0003450371587272237, 0.0003449208784526902, 0.0003447285031668459, 0.0003446341559358034, 0.00034438062473494155, 0.0003439887146008288, 0.00034382698976962334, 0.0003435282538672635, 0.00034315254040594774, 0.0003428393546539385, 0.00034242057846621977, 0.0003419486888642706, 0.00034154898041626147, 0.0003412351503002341, 0.00034078918520943213, 0.00034025076788437886, 0.0003397928502573401, 0.00033923416652237445, 0.00033846909893821313, 0.0003375679835463845, 0.0003376263733631732, 0.00033671688280303166, 0.000335713024707537, 0.00033527999677280005, 0.000334732054652294, 0.00033332991252604723, 0.00033304759558041934, 0.0003323714366572586, 0.0003313585225030659]}, {\"mode\": \"lines\", \"name\": \"6\", \"type\": \"scatter\", \"x\": [100.0, 112.2018, 125.8925, 141.2538, 158.4893, 177.8279, 199.5262, 223.8721, 251.1886, 281.8383, 316.2278, 354.8134, 398.1072, 446.6836, 501.1872, 562.3413, 630.9573, 707.9458, 794.3282, 891.2509, 1000.0, 1122.018, 1258.925, 1412.538, 1584.893, 1778.28, 1995.262, 2238.721, 2511.886, 2818.383, 3162.278, 3548.134, 3981.072, 4466.836, 5011.873, 5623.413, 6309.573, 7079.458, 7943.282, 8912.509, 10000.0], \"y\": [0.00034508340817553855, 0.00034541657370125916, 0.0003454045005599092, 0.00034551535377776236, 0.0003457001420641032, 0.0003454022562918264, 0.00034555203923663114, 0.0003457911734016276, 0.0003457217676703442, 0.0003456853339821618, 0.0003451991707867955, 0.0003450907759510519, 0.00034507078015058406, 0.0003449187050011624, 0.0003448174188136655, 0.0003445967970356334, 0.00034440988499296325, 0.00034405728236073786, 0.0003438079551695755, 0.00034347057420980824, 0.0003431931249164362, 0.00034272942319036465, 0.0003424434607226684, 0.00034194080175184145, 0.00034165201132851377, 0.00034112766155456226, 0.0003406587670829128, 0.00034010645131501776, 0.0003396137294596125, 0.00033904674158540806, 0.0003384143910905347, 0.00033815833278517666, 0.00033698780618679285, 0.0003366754447025919, 0.00033560092750373427, 0.00033521348660961876, 0.0003348112591438354, 0.00033337442536690625, 0.0003329003278853123, 0.00033224482713052253, 0.0003309677971177753]}, {\"mode\": \"lines\", \"name\": \"7\", \"type\": \"scatter\", \"x\": [100.0, 112.2018, 125.8925, 141.2538, 158.4893, 177.8279, 199.5262, 223.8721, 251.1886, 281.8383, 316.2278, 354.8134, 398.1072, 446.6836, 501.1872, 562.3413, 630.9573, 707.9458, 794.3282, 891.2509, 1000.0, 1122.018, 1258.925, 1412.538, 1584.893, 1778.28, 1995.262, 2238.721, 2511.886, 2818.383, 3162.278, 3548.134, 3981.072, 4466.836, 5011.873, 5623.413, 6309.573, 7079.458, 7943.282, 8912.509, 10000.0], \"y\": [0.00034518367578968646, 0.0003453520332936126, 0.0003454929954743516, 0.00034551546645079706, 0.00034561629137040863, 0.00034543966705032514, 0.00034551295368189444, 0.0003457559829081135, 0.00034571904315874093, 0.00034546843154682354, 0.0003451281059469409, 0.00034510948088476334, 0.00034506058578321556, 0.0003448951177075329, 0.00034478566322551564, 0.00034457132505824487, 0.0003444199747371086, 0.00034412832305625023, 0.00034378571474215114, 0.0003435389683547165, 0.0003431784826616717, 0.0003429263068954492, 0.0003424124875026136, 0.0003418996760941752, 0.00034162017819090756, 0.0003411854781488204, 0.0003407670101396019, 0.00034004133112904006, 0.00033966137673230133, 0.00033906644972129277, 0.00033842334968932656, 0.0003378868645386019, 0.00033697477338772574, 0.000336611951413698, 0.0003362449307029182, 0.0003353371672109389, 0.0003348082322205918, 0.0003339811938390195, 0.0003329397996348852, 0.000332163039876298, 0.00033103909853228047]}, {\"mode\": \"lines\", \"name\": \"8\", \"type\": \"scatter\", \"x\": [100.0, 112.2018, 125.8925, 141.2538, 158.4893, 177.8279, 199.5262, 223.8721, 251.1886, 281.8383, 316.2278, 354.8134, 398.1072, 446.6836, 501.1872, 562.3413, 630.9573, 707.9458, 794.3282, 891.2509, 1000.0, 1122.018, 1258.925, 1412.538, 1584.893, 1778.28, 1995.262, 2238.721, 2511.886, 2818.383, 3162.278, 3548.134, 3981.072, 4466.836, 5011.873, 5623.413, 6309.573, 7079.458, 7943.282, 8912.509, 10000.0], \"y\": [0.00034505667014509913, 0.0003452864999566176, 0.00034548427240421373, 0.0003453618931044982, 0.0003455958056919491, 0.000345410848236362, 0.00034553768127774823, 0.0003458537342789861, 0.00034576466288791104, 0.00034564055303156995, 0.00034521004189544174, 0.00034515729733401127, 0.00034505302995798954, 0.00034491613961575257, 0.0003447758189931892, 0.00034465226934194635, 0.0003444149298650359, 0.0003440570575484103, 0.00034386425751287494, 0.0003435220037495826, 0.0003432120643546641, 0.00034273665738990305, 0.00034248505333245636, 0.0003420729672215469, 0.00034154024387691843, 0.00034117813920032323, 0.00034068421257671074, 0.0003401589171417116, 0.00033977675663066065, 0.0003392474370436721, 0.00033844116622849693, 0.0003381724624113615, 0.0003371823786808418, 0.0003365265810881145, 0.0003362220666840122, 0.0003353017894645659, 0.00033419427128934386, 0.0003336001369437872, 0.0003329828779402567, 0.00033221946951021713, 0.00033114143516068854]}, {\"mode\": \"lines\", \"name\": \"9\", \"type\": \"scatter\", \"x\": [100.0, 112.2018, 125.8925, 141.2538, 158.4893, 177.8279, 199.5262, 223.8721, 251.1886, 281.8383, 316.2278, 354.8134, 398.1072, 446.6836, 501.1872, 562.3413, 630.9573, 707.9458, 794.3282, 891.2509, 1000.0, 1122.018, 1258.925, 1412.538, 1584.893, 1778.28, 1995.262, 2238.721, 2511.886, 2818.383, 3162.278, 3548.134, 3981.072, 4466.836, 5011.873, 5623.413, 6309.573, 7079.458, 7943.282, 8912.509, 10000.0], \"y\": [0.0003450533278912942, 0.0003452276334309619, 0.0003454286470294213, 0.0003454262294073131, 0.00034563858460873225, 0.0003454297326144559, 0.00034560412672080063, 0.0003457474518793828, 0.00034574058580862685, 0.0003455704733850574, 0.00034513253491713007, 0.00034511836236407955, 0.0003450292431007964, 0.0003449327077298579, 0.000344706274255141, 0.0003445634004430573, 0.00034442073146791956, 0.0003440224364499644, 0.0003436837293587369, 0.0003434545024786288, 0.0003431571558992974, 0.00034276304094116083, 0.0003424663429791171, 0.00034210924793872093, 0.00034152377499815684, 0.00034112560306900815, 0.00034068668533629616, 0.00034028723803220255, 0.0003397164372109802, 0.00033924399235516503, 0.0003385476125006587, 0.00033809427847980507, 0.00033727048999723455, 0.00033658839975042143, 0.0003362423902563731, 0.00033528367605842286, 0.00033482210561879173, 0.00033415092714633536, 0.0003328660656052262, 0.00033224125563470486, 0.0003314778887103848]}, {\"mode\": \"lines\", \"name\": \"10\", \"type\": \"scatter\", \"x\": [100.0, 112.2018, 125.8925, 141.2538, 158.4893, 177.8279, 199.5262, 223.8721, 251.1886, 281.8383, 316.2278, 354.8134, 398.1072, 446.6836, 501.1872, 562.3413, 630.9573, 707.9458, 794.3282, 891.2509, 1000.0, 1122.018, 1258.925, 1412.538, 1584.893, 1778.28, 1995.262, 2238.721, 2511.886, 2818.383, 3162.278, 3548.134, 3981.072, 4466.836, 5011.873, 5623.413, 6309.573, 7079.458, 7943.282, 8912.509, 10000.0], \"y\": [0.0003450913659226932, 0.0003453422458471783, 0.000345395651068465, 0.0003454185676409533, 0.00034553354529663096, 0.0003454505859798391, 0.0003456962569569656, 0.00034578896955253887, 0.00034573228555234725, 0.0003455821062675567, 0.0003451889036286295, 0.000345150299804853, 0.00034502188716512656, 0.0003448986451124715, 0.0003447364420638834, 0.00034457896665146147, 0.00034436397665710164, 0.00034412112906176797, 0.00034378571474215114, 0.00034344485943992107, 0.0003432106319601763, 0.000342859638782056, 0.00034236748151755434, 0.00034189832401775874, 0.0003414641255226424, 0.0003412960098731374, 0.00034071021643557637, 0.0003401287030816237, 0.00033962836578938795, 0.00033918035032323945, 0.00033838318698238323, 0.00033834085167072067, 0.0003376180979355447, 0.00033669229785952056, 0.00033564951354390937, 0.00033516678798440637, 0.00033472045144652675, 0.0003334184885831101, 0.0003330904735215798, 0.00033215643260903536, 0.0003317965169064548]}],\n",
       "                        {\"template\": {\"data\": {\"bar\": [{\"error_x\": {\"color\": \"#2a3f5f\"}, \"error_y\": {\"color\": \"#2a3f5f\"}, \"marker\": {\"line\": {\"color\": \"#E5ECF6\", \"width\": 0.5}}, \"type\": \"bar\"}], \"barpolar\": [{\"marker\": {\"line\": {\"color\": \"#E5ECF6\", \"width\": 0.5}}, \"type\": \"barpolar\"}], \"carpet\": [{\"aaxis\": {\"endlinecolor\": \"#2a3f5f\", \"gridcolor\": \"white\", \"linecolor\": \"white\", \"minorgridcolor\": \"white\", \"startlinecolor\": \"#2a3f5f\"}, \"baxis\": {\"endlinecolor\": \"#2a3f5f\", \"gridcolor\": \"white\", \"linecolor\": \"white\", \"minorgridcolor\": \"white\", \"startlinecolor\": \"#2a3f5f\"}, \"type\": \"carpet\"}], \"choropleth\": [{\"colorbar\": {\"outlinewidth\": 0, \"ticks\": \"\"}, \"type\": \"choropleth\"}], \"contour\": [{\"colorbar\": {\"outlinewidth\": 0, \"ticks\": \"\"}, \"colorscale\": [[0.0, \"#0d0887\"], [0.1111111111111111, \"#46039f\"], [0.2222222222222222, \"#7201a8\"], [0.3333333333333333, \"#9c179e\"], [0.4444444444444444, \"#bd3786\"], [0.5555555555555556, \"#d8576b\"], [0.6666666666666666, \"#ed7953\"], [0.7777777777777778, \"#fb9f3a\"], [0.8888888888888888, \"#fdca26\"], [1.0, \"#f0f921\"]], \"type\": \"contour\"}], \"contourcarpet\": [{\"colorbar\": {\"outlinewidth\": 0, \"ticks\": \"\"}, \"type\": \"contourcarpet\"}], \"heatmap\": [{\"colorbar\": {\"outlinewidth\": 0, \"ticks\": \"\"}, \"colorscale\": [[0.0, \"#0d0887\"], [0.1111111111111111, \"#46039f\"], [0.2222222222222222, \"#7201a8\"], [0.3333333333333333, \"#9c179e\"], [0.4444444444444444, \"#bd3786\"], [0.5555555555555556, \"#d8576b\"], [0.6666666666666666, \"#ed7953\"], [0.7777777777777778, \"#fb9f3a\"], [0.8888888888888888, \"#fdca26\"], [1.0, \"#f0f921\"]], \"type\": \"heatmap\"}], \"heatmapgl\": [{\"colorbar\": {\"outlinewidth\": 0, \"ticks\": \"\"}, \"colorscale\": [[0.0, \"#0d0887\"], [0.1111111111111111, \"#46039f\"], [0.2222222222222222, \"#7201a8\"], [0.3333333333333333, \"#9c179e\"], [0.4444444444444444, \"#bd3786\"], [0.5555555555555556, \"#d8576b\"], [0.6666666666666666, \"#ed7953\"], [0.7777777777777778, \"#fb9f3a\"], [0.8888888888888888, \"#fdca26\"], [1.0, \"#f0f921\"]], \"type\": \"heatmapgl\"}], \"histogram\": [{\"marker\": {\"colorbar\": {\"outlinewidth\": 0, \"ticks\": \"\"}}, \"type\": \"histogram\"}], \"histogram2d\": [{\"colorbar\": {\"outlinewidth\": 0, \"ticks\": \"\"}, \"colorscale\": [[0.0, \"#0d0887\"], [0.1111111111111111, \"#46039f\"], [0.2222222222222222, \"#7201a8\"], [0.3333333333333333, \"#9c179e\"], [0.4444444444444444, \"#bd3786\"], [0.5555555555555556, \"#d8576b\"], [0.6666666666666666, \"#ed7953\"], [0.7777777777777778, \"#fb9f3a\"], [0.8888888888888888, \"#fdca26\"], [1.0, \"#f0f921\"]], \"type\": \"histogram2d\"}], \"histogram2dcontour\": [{\"colorbar\": {\"outlinewidth\": 0, \"ticks\": \"\"}, \"colorscale\": [[0.0, \"#0d0887\"], [0.1111111111111111, \"#46039f\"], [0.2222222222222222, \"#7201a8\"], [0.3333333333333333, \"#9c179e\"], [0.4444444444444444, \"#bd3786\"], [0.5555555555555556, \"#d8576b\"], [0.6666666666666666, \"#ed7953\"], [0.7777777777777778, \"#fb9f3a\"], [0.8888888888888888, \"#fdca26\"], [1.0, \"#f0f921\"]], \"type\": \"histogram2dcontour\"}], \"mesh3d\": [{\"colorbar\": {\"outlinewidth\": 0, \"ticks\": \"\"}, \"type\": \"mesh3d\"}], \"parcoords\": [{\"line\": {\"colorbar\": {\"outlinewidth\": 0, \"ticks\": \"\"}}, \"type\": \"parcoords\"}], \"pie\": [{\"automargin\": true, \"type\": \"pie\"}], \"scatter\": [{\"marker\": {\"colorbar\": {\"outlinewidth\": 0, \"ticks\": \"\"}}, \"type\": \"scatter\"}], \"scatter3d\": [{\"line\": {\"colorbar\": {\"outlinewidth\": 0, \"ticks\": \"\"}}, \"marker\": {\"colorbar\": {\"outlinewidth\": 0, \"ticks\": \"\"}}, \"type\": \"scatter3d\"}], \"scattercarpet\": [{\"marker\": {\"colorbar\": {\"outlinewidth\": 0, \"ticks\": \"\"}}, \"type\": \"scattercarpet\"}], \"scattergeo\": [{\"marker\": {\"colorbar\": {\"outlinewidth\": 0, \"ticks\": \"\"}}, \"type\": \"scattergeo\"}], \"scattergl\": [{\"marker\": {\"colorbar\": {\"outlinewidth\": 0, \"ticks\": \"\"}}, \"type\": \"scattergl\"}], \"scattermapbox\": [{\"marker\": {\"colorbar\": {\"outlinewidth\": 0, \"ticks\": \"\"}}, \"type\": \"scattermapbox\"}], \"scatterpolar\": [{\"marker\": {\"colorbar\": {\"outlinewidth\": 0, \"ticks\": \"\"}}, \"type\": \"scatterpolar\"}], \"scatterpolargl\": [{\"marker\": {\"colorbar\": {\"outlinewidth\": 0, \"ticks\": \"\"}}, \"type\": \"scatterpolargl\"}], \"scatterternary\": [{\"marker\": {\"colorbar\": {\"outlinewidth\": 0, \"ticks\": \"\"}}, \"type\": \"scatterternary\"}], \"surface\": [{\"colorbar\": {\"outlinewidth\": 0, \"ticks\": \"\"}, \"colorscale\": [[0.0, \"#0d0887\"], [0.1111111111111111, \"#46039f\"], [0.2222222222222222, \"#7201a8\"], [0.3333333333333333, \"#9c179e\"], [0.4444444444444444, \"#bd3786\"], [0.5555555555555556, \"#d8576b\"], [0.6666666666666666, \"#ed7953\"], [0.7777777777777778, \"#fb9f3a\"], [0.8888888888888888, \"#fdca26\"], [1.0, \"#f0f921\"]], \"type\": \"surface\"}], \"table\": [{\"cells\": {\"fill\": {\"color\": \"#EBF0F8\"}, \"line\": {\"color\": \"white\"}}, \"header\": {\"fill\": {\"color\": \"#C8D4E3\"}, \"line\": {\"color\": \"white\"}}, \"type\": \"table\"}]}, \"layout\": {\"annotationdefaults\": {\"arrowcolor\": \"#2a3f5f\", \"arrowhead\": 0, \"arrowwidth\": 1}, \"coloraxis\": {\"colorbar\": {\"outlinewidth\": 0, \"ticks\": \"\"}}, \"colorscale\": {\"diverging\": [[0, \"#8e0152\"], [0.1, \"#c51b7d\"], [0.2, \"#de77ae\"], [0.3, \"#f1b6da\"], [0.4, \"#fde0ef\"], [0.5, \"#f7f7f7\"], [0.6, \"#e6f5d0\"], [0.7, \"#b8e186\"], [0.8, \"#7fbc41\"], [0.9, \"#4d9221\"], [1, \"#276419\"]], \"sequential\": [[0.0, \"#0d0887\"], [0.1111111111111111, \"#46039f\"], [0.2222222222222222, \"#7201a8\"], [0.3333333333333333, \"#9c179e\"], [0.4444444444444444, \"#bd3786\"], [0.5555555555555556, \"#d8576b\"], [0.6666666666666666, \"#ed7953\"], [0.7777777777777778, \"#fb9f3a\"], [0.8888888888888888, \"#fdca26\"], [1.0, \"#f0f921\"]], \"sequentialminus\": [[0.0, \"#0d0887\"], [0.1111111111111111, \"#46039f\"], [0.2222222222222222, \"#7201a8\"], [0.3333333333333333, \"#9c179e\"], [0.4444444444444444, \"#bd3786\"], [0.5555555555555556, \"#d8576b\"], [0.6666666666666666, \"#ed7953\"], [0.7777777777777778, \"#fb9f3a\"], [0.8888888888888888, \"#fdca26\"], [1.0, \"#f0f921\"]]}, \"colorway\": [\"#636efa\", \"#EF553B\", \"#00cc96\", \"#ab63fa\", \"#FFA15A\", \"#19d3f3\", \"#FF6692\", \"#B6E880\", \"#FF97FF\", \"#FECB52\"], \"font\": {\"color\": \"#2a3f5f\"}, \"geo\": {\"bgcolor\": \"white\", \"lakecolor\": \"white\", \"landcolor\": \"#E5ECF6\", \"showlakes\": true, \"showland\": true, \"subunitcolor\": \"white\"}, \"hoverlabel\": {\"align\": \"left\"}, \"hovermode\": \"closest\", \"mapbox\": {\"style\": \"light\"}, \"paper_bgcolor\": \"white\", \"plot_bgcolor\": \"#E5ECF6\", \"polar\": {\"angularaxis\": {\"gridcolor\": \"white\", \"linecolor\": \"white\", \"ticks\": \"\"}, \"bgcolor\": \"#E5ECF6\", \"radialaxis\": {\"gridcolor\": \"white\", \"linecolor\": \"white\", \"ticks\": \"\"}}, \"scene\": {\"xaxis\": {\"backgroundcolor\": \"#E5ECF6\", \"gridcolor\": \"white\", \"gridwidth\": 2, \"linecolor\": \"white\", \"showbackground\": true, \"ticks\": \"\", \"zerolinecolor\": \"white\"}, \"yaxis\": {\"backgroundcolor\": \"#E5ECF6\", \"gridcolor\": \"white\", \"gridwidth\": 2, \"linecolor\": \"white\", \"showbackground\": true, \"ticks\": \"\", \"zerolinecolor\": \"white\"}, \"zaxis\": {\"backgroundcolor\": \"#E5ECF6\", \"gridcolor\": \"white\", \"gridwidth\": 2, \"linecolor\": \"white\", \"showbackground\": true, \"ticks\": \"\", \"zerolinecolor\": \"white\"}}, \"shapedefaults\": {\"line\": {\"color\": \"#2a3f5f\"}}, \"ternary\": {\"aaxis\": {\"gridcolor\": \"white\", \"linecolor\": \"white\", \"ticks\": \"\"}, \"baxis\": {\"gridcolor\": \"white\", \"linecolor\": \"white\", \"ticks\": \"\"}, \"bgcolor\": \"#E5ECF6\", \"caxis\": {\"gridcolor\": \"white\", \"linecolor\": \"white\", \"ticks\": \"\"}}, \"title\": {\"x\": 0.05}, \"xaxis\": {\"automargin\": true, \"gridcolor\": \"white\", \"linecolor\": \"white\", \"ticks\": \"\", \"title\": {\"standoff\": 15}, \"zerolinecolor\": \"white\", \"zerolinewidth\": 2}, \"yaxis\": {\"automargin\": true, \"gridcolor\": \"white\", \"linecolor\": \"white\", \"ticks\": \"\", \"title\": {\"standoff\": 15}, \"zerolinecolor\": \"white\", \"zerolinewidth\": 2}}}, \"title\": {\"text\": \"Im(z)EXP3948.csv\"}, \"xaxis\": {\"autorange\": true, \"type\": \"log\", \"zeroline\": false}, \"yaxis\": {\"autorange\": true, \"type\": \"linear\", \"zeroline\": false}},\n",
       "                        {\"responsive\": true}\n",
       "                    ).then(function(){\n",
       "                            \n",
       "var gd = document.getElementById('f6362e80-4db4-4cca-b944-fde13467e680');\n",
       "var x = new MutationObserver(function (mutations, observer) {{\n",
       "        var display = window.getComputedStyle(gd).display;\n",
       "        if (!display || display === 'none') {{\n",
       "            console.log([gd, 'removed!']);\n",
       "            Plotly.purge(gd);\n",
       "            observer.disconnect();\n",
       "        }}\n",
       "}});\n",
       "\n",
       "// Listen for the removal of the full notebook cells\n",
       "var notebookContainer = gd.closest('#notebook-container');\n",
       "if (notebookContainer) {{\n",
       "    x.observe(notebookContainer, {childList: true});\n",
       "}}\n",
       "\n",
       "// Listen for the clearing of the current output cell\n",
       "var outputEl = gd.closest('.output');\n",
       "if (outputEl) {{\n",
       "    x.observe(outputEl, {childList: true});\n",
       "}}\n",
       "\n",
       "                        })\n",
       "                };\n",
       "                });\n",
       "            </script>\n",
       "        </div>"
      ]
     },
     "metadata": {},
     "output_type": "display_data"
    }
   ],
   "source": [
    "cn.plt.rawplot(data,1)"
   ]
  },
  {
   "cell_type": "code",
   "execution_count": null,
   "metadata": {},
   "outputs": [],
   "source": []
  },
  {
   "cell_type": "code",
   "execution_count": 49,
   "metadata": {},
   "outputs": [],
   "source": []
  },
  {
   "cell_type": "code",
   "execution_count": 78,
   "metadata": {},
   "outputs": [],
   "source": []
  },
  {
   "cell_type": "code",
   "execution_count": null,
   "metadata": {},
   "outputs": [],
   "source": []
  },
  {
   "cell_type": "code",
   "execution_count": null,
   "metadata": {},
   "outputs": [],
   "source": []
  },
  {
   "cell_type": "code",
   "execution_count": null,
   "metadata": {},
   "outputs": [],
   "source": []
  }
 ],
 "metadata": {
  "kernelspec": {
   "display_name": "Python 3",
   "language": "python",
   "name": "python3"
  },
  "language_info": {
   "codemirror_mode": {
    "name": "ipython",
    "version": 3
   },
   "file_extension": ".py",
   "mimetype": "text/x-python",
   "name": "python",
   "nbconvert_exporter": "python",
   "pygments_lexer": "ipython3",
   "version": "3.7.4"
  }
 },
 "nbformat": 4,
 "nbformat_minor": 4
}
